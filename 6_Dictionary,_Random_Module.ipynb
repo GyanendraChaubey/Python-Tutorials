{
  "cells": [
    {
      "cell_type": "markdown",
      "metadata": {
        "id": "view-in-github",
        "colab_type": "text"
      },
      "source": [
        "<a href=\"https://colab.research.google.com/github/GyanendraChaubey/Python-Tutorials/blob/main/6_Dictionary%2C_Random_Module.ipynb\" target=\"_parent\"><img src=\"https://colab.research.google.com/assets/colab-badge.svg\" alt=\"Open In Colab\"/></a>"
      ]
    },
    {
      "cell_type": "markdown",
      "metadata": {
        "id": "APtUeBmAFcAy"
      },
      "source": [
        "Dictionary/Associative Array:\n",
        "--\n",
        "\n",
        "> Python provides a dictionary structure to deal with unordered set of key value pairs.\n",
        "\n",
        "> The key and value pair is called as item.\n",
        "\n",
        "> The values in the dictionary are mutable i.e can be changed\n",
        "\n",
        "> The keys in the dictionary are immutable i.e cannot be changed\n",
        "\n",
        "> It is also called as an Associative array because the key works as an Index and they are decided by the user."
      ]
    },
    {
      "cell_type": "code",
      "execution_count": null,
      "metadata": {
        "id": "VocvZC-QFcA2",
        "outputId": "30b737fe-b776-4ad2-82a7-d870e6b25c75"
      },
      "outputs": [
        {
          "name": "stdout",
          "output_type": "stream",
          "text": [
            "{1: 'COMP', 12: 'IT', 31: 'EXTC'}\n",
            "<class 'dict'>\n",
            "COMP\n",
            "IT\n",
            "EXTC\n"
          ]
        },
        {
          "ename": "KeyError",
          "evalue": "0",
          "output_type": "error",
          "traceback": [
            "\u001b[1;31m---------------------------------------------------------------------------\u001b[0m",
            "\u001b[1;31mKeyError\u001b[0m                                  Traceback (most recent call last)",
            "\u001b[1;32m<ipython-input-5-2d688ef47fc3>\u001b[0m in \u001b[0;36m<module>\u001b[1;34m\u001b[0m\n\u001b[0;32m      5\u001b[0m \u001b[0mprint\u001b[0m\u001b[1;33m(\u001b[0m\u001b[0md\u001b[0m\u001b[1;33m[\u001b[0m\u001b[1;36m12\u001b[0m\u001b[1;33m]\u001b[0m\u001b[1;33m)\u001b[0m\u001b[1;33m\u001b[0m\u001b[1;33m\u001b[0m\u001b[0m\n\u001b[0;32m      6\u001b[0m \u001b[0mprint\u001b[0m\u001b[1;33m(\u001b[0m\u001b[0md\u001b[0m\u001b[1;33m[\u001b[0m\u001b[1;36m31\u001b[0m\u001b[1;33m]\u001b[0m\u001b[1;33m)\u001b[0m\u001b[1;33m\u001b[0m\u001b[1;33m\u001b[0m\u001b[0m\n\u001b[1;32m----> 7\u001b[1;33m \u001b[0mprint\u001b[0m\u001b[1;33m(\u001b[0m\u001b[0md\u001b[0m\u001b[1;33m[\u001b[0m\u001b[1;36m0\u001b[0m\u001b[1;33m]\u001b[0m\u001b[1;33m)\u001b[0m\u001b[1;33m\u001b[0m\u001b[1;33m\u001b[0m\u001b[0m\n\u001b[0m",
            "\u001b[1;31mKeyError\u001b[0m: 0"
          ]
        }
      ],
      "source": [
        "d = { 1:\"COMP\" , 12:\"IT\" , 31:\"EXTC\" }\n",
        "print(d)\n",
        "print(type(d))\n",
        "print(d[1])\n",
        "print(d[12])\n",
        "print(d[31])\n",
        "# print(d[0]) # KeyError"
      ]
    },
    {
      "cell_type": "code",
      "execution_count": null,
      "metadata": {
        "id": "XRgZhF1QFcA4",
        "outputId": "4421af51-f500-4039-9801-3a7eb5535c0b"
      },
      "outputs": [
        {
          "name": "stdout",
          "output_type": "stream",
          "text": [
            "{'COMP': 3, 'IT': 1, 'EXTC': 2}\n",
            "3\n",
            "2\n"
          ]
        }
      ],
      "source": [
        "d1 = {\"COMP\" : 3, \"IT\": 1, \"EXTC\":2}\n",
        "print(d1)\n",
        "print(d1[\"COMP\"])\n",
        "print(d1[\"EXTC\"])"
      ]
    },
    {
      "cell_type": "code",
      "execution_count": null,
      "metadata": {
        "id": "IFMCgbzqFcA5",
        "outputId": "f85ed102-2ce3-4e1b-fd96-e55a148b6ce9"
      },
      "outputs": [
        {
          "name": "stdout",
          "output_type": "stream",
          "text": [
            "{1: 100, 1.2: 150, 'Darshan': 'Ingle', 'BoardInfinity': 1256.236, 12.2456: 'Learners'}\n",
            "100\n",
            "Ingle\n",
            "Learners\n"
          ]
        }
      ],
      "source": [
        "d = { 1:100 , 1.2:150 , \"Darshan\":\"Ingle\" , \"BoardInfinity\":1256.236 ,\n",
        "    12.2456:\"Learners\"}\n",
        "print(d)\n",
        "print(d[1])\n",
        "print(d[\"Darshan\"])\n",
        "print(d[12.2456])"
      ]
    },
    {
      "cell_type": "code",
      "execution_count": null,
      "metadata": {
        "id": "-bxuufeUFcA5",
        "outputId": "81f93581-4217-4231-fdf5-f5f06bdc5565"
      },
      "outputs": [
        {
          "name": "stdout",
          "output_type": "stream",
          "text": [
            "{1: 100, 5.6: [1, 2, 3, 4, 5], 12: (55, 66, 77), 13: {'a', 'e'}}\n",
            "100\n",
            "(55, 66, 77)\n",
            "<class 'tuple'>\n",
            "66\n"
          ]
        }
      ],
      "source": [
        "d = { 1:100 , 5.6:[1,2,3,4,5] , 12:(55,66,77), 13:{'a','e'}}\n",
        "print(d)\n",
        "print(d[1])\n",
        "print(d[12])\n",
        "print(type(d[12]))\n",
        "print(d[12][1])"
      ]
    },
    {
      "cell_type": "code",
      "execution_count": null,
      "metadata": {
        "id": "MR4F_4wAFcA6",
        "outputId": "84e2f375-e66c-4b0d-a7c7-953e286ab30d"
      },
      "outputs": [
        {
          "name": "stdout",
          "output_type": "stream",
          "text": [
            "True\n",
            "False\n",
            "{1: 'COMP', 2: 'IT', 3: 'EXTC'}\n",
            "<class 'str'>\n",
            "dict_keys([1, 2, 3])\n",
            "[1, 2, 3]\n",
            "dict_values(['COMP', 'IT', 'EXTC'])\n"
          ]
        }
      ],
      "source": [
        "d = {1:\"COMP\", 2: \"IT\", 3:\"EXTC\"}\n",
        "print(3 in d)\n",
        "print(\"EXTC\" in d)\n",
        "print(str(d))\n",
        "print(type(str(d)))\n",
        "print(d.keys())\n",
        "print(list(d.keys()))\n",
        "print(d.values())"
      ]
    },
    {
      "cell_type": "code",
      "execution_count": null,
      "metadata": {
        "id": "5WAnKd3uFcA6",
        "outputId": "d126dfa8-796d-4081-ed76-1f5e16bb8568"
      },
      "outputs": [
        {
          "name": "stdout",
          "output_type": "stream",
          "text": [
            "{1: 'COMP', 2: 'IT', 3: 'EXTC'}\n",
            "{100: 'CHEM'}\n",
            "{1: 'COMP', 2: 'IT', 3: 'EXTC', 100: 'CHEM'}\n",
            "{100: 'CHEM'}\n"
          ]
        }
      ],
      "source": [
        "d1 = {1:\"COMP\", 2: \"IT\", 3:\"EXTC\"}\n",
        "d2 = {100:\"CHEM\"}\n",
        "print(d1)\n",
        "print(d2)\n",
        "d1.update(d2)\n",
        "print(d1)\n",
        "print(d2)"
      ]
    },
    {
      "cell_type": "code",
      "execution_count": null,
      "metadata": {
        "id": "5n4wZX9FFcA7",
        "outputId": "9ba00fc2-ad91-4129-af22-36459baa35b8"
      },
      "outputs": [
        {
          "name": "stdout",
          "output_type": "stream",
          "text": [
            "1\n",
            "1\n"
          ]
        }
      ],
      "source": [
        "d1 = {\"COMP\" : 3, \"IT\": 1, \"EXTC\":2}\n",
        "print(d1.get(\"IT\"))\n",
        "print(d1['IT'])"
      ]
    },
    {
      "cell_type": "code",
      "execution_count": null,
      "metadata": {
        "id": "_zU2dpN1FcA7",
        "outputId": "b33f2c52-92a6-4900-be3a-0fdfd812a145"
      },
      "outputs": [
        {
          "name": "stdout",
          "output_type": "stream",
          "text": [
            "{1: 300, 2: 100, 3: 150, 4: 200, 5: 250}\n"
          ]
        }
      ],
      "source": [
        "d = { 1:50, 2:100, 3:150, 4:200, 5:250, 1:300 }\n",
        "print(d)"
      ]
    },
    {
      "cell_type": "code",
      "execution_count": null,
      "metadata": {
        "id": "RySrW4YxFcA9",
        "outputId": "0c50b07c-c594-45e2-e691-af7b95732576"
      },
      "outputs": [
        {
          "name": "stdout",
          "output_type": "stream",
          "text": [
            "{1: 50, 2: 100, 3: 150, 4: 200, 5: 250}\n",
            "50\n",
            "{1: 'Darshan', 2: 100, 3: 150, 4: 200, 5: 250}\n"
          ]
        }
      ],
      "source": [
        "d = { 1:50, 2:100, 3:150, 4:200, 5:250 }\n",
        "print(d)\n",
        "print(d[1])\n",
        "d[1] = \"Darshan\"\n",
        "print(d)"
      ]
    },
    {
      "cell_type": "code",
      "execution_count": null,
      "metadata": {
        "id": "NhOQF787FcA-",
        "outputId": "30f4a4cc-5997-4cd5-e904-1c294d423dc1"
      },
      "outputs": [
        {
          "name": "stdout",
          "output_type": "stream",
          "text": [
            "{1: 50, 2: 100, 3: 150, 4: 200, 5: 250}\n",
            "{1: 50, 2: 100, 4: 200, 5: 250}\n"
          ]
        }
      ],
      "source": [
        "d = { 1:50, 2:100, 3:150, 4:200, 5:250 }\n",
        "print(d)\n",
        "del d[3]\n",
        "print(d)"
      ]
    },
    {
      "cell_type": "markdown",
      "metadata": {
        "id": "WwFyYoKSFcA-"
      },
      "source": [
        "Random Module\n",
        "--\n",
        "\n",
        "It is used to deal with numbers in random manner."
      ]
    },
    {
      "cell_type": "code",
      "execution_count": null,
      "metadata": {
        "id": "hT39qWiIFcA_",
        "outputId": "2d27aa0d-28b3-4312-d734-64aa5cb42322"
      },
      "outputs": [
        {
          "name": "stdout",
          "output_type": "stream",
          "text": [
            "6\n",
            "66\n",
            "s\n",
            "1\n",
            "3\n",
            "0.3347504513703603\n"
          ]
        }
      ],
      "source": [
        "import random\n",
        "print(random.choice((1,2,3,4,5,6)))\n",
        "print(random.choice([11,22,33,44,55,66]))\n",
        "print(random.choice('Darshan'))\n",
        "print(random.randrange(1,10))\n",
        "print(random.randrange(1,10,2))\n",
        "print(random.random())"
      ]
    },
    {
      "cell_type": "code",
      "execution_count": null,
      "metadata": {
        "id": "bzeJFL0TFcA_",
        "outputId": "d1b41924-26b9-417f-a25f-c8f04a49dd86"
      },
      "outputs": [
        {
          "name": "stdout",
          "output_type": "stream",
          "text": [
            "[3, 2, 6, 1]\n",
            "7.225553489670043\n"
          ]
        }
      ],
      "source": [
        "st=[1,3,2,6]\n",
        "random.shuffle(st)\n",
        "print(st)\n",
        "#Try executing\n",
        "#print(random.shuffle(st))\n",
        "print(random.uniform(7,14)) # uniform(x,y) gives a number n such that x <= n < y\n",
        "# print(random.uniform(7,14))"
      ]
    },
    {
      "cell_type": "code",
      "execution_count": null,
      "metadata": {
        "id": "We3WYahbFcBA",
        "outputId": "34ef3a03-ecb8-4c54-a7e8-26ea491ecea5"
      },
      "outputs": [
        {
          "name": "stdout",
          "output_type": "stream",
          "text": [
            "{1: [11, 12], 2: [44, 55]}\n",
            "<class 'dict'>\n"
          ]
        }
      ],
      "source": [
        "# Dictionary can contain lists\n",
        "# type your code here\n",
        "l = { 1:[11,12] , 2:[44,55] }\n",
        "print(l)\n",
        "print(type(l))"
      ]
    },
    {
      "cell_type": "code",
      "execution_count": null,
      "metadata": {
        "id": "IXwZO9E-FcBB",
        "outputId": "93c1a931-6217-40a8-9b91-f6fb7d36d7fb"
      },
      "outputs": [
        {
          "name": "stdout",
          "output_type": "stream",
          "text": [
            "{1: (11, 12), 2: [44, 55]}\n",
            "<class 'dict'>\n",
            "<class 'tuple'>\n"
          ]
        }
      ],
      "source": [
        "# Dictionary can contain tuples\n",
        "# type your code here\n",
        "l = { 1:(11,12) , 2:[44,55] }\n",
        "print(l)\n",
        "print(type(l))\n",
        "print(type(l[1]))"
      ]
    },
    {
      "cell_type": "code",
      "execution_count": null,
      "metadata": {
        "id": "e0ne5srAFcBB"
      },
      "outputs": [],
      "source": [
        "# Dictionary can contain tuples\n",
        "# type your code here\n",
        "\n",
        "print(l)\n",
        "print(type(l))\n",
        "print(type(l[4]))"
      ]
    },
    {
      "cell_type": "code",
      "execution_count": null,
      "metadata": {
        "id": "r_tKPfZhFcBB",
        "outputId": "a14e9a95-fb1b-40bf-ead1-1c1c5a04d557"
      },
      "outputs": [
        {
          "name": "stdout",
          "output_type": "stream",
          "text": [
            "{1: ('1', 2), 2: ('1', '2'), 100: {444: ('1', 2), 445: ('1', '2'), 446: ('2', '3')}, 3: ('2', '3'), 4: '3'}\n",
            "<class 'dict'>\n",
            "l[1]=  ('1', 2)\n",
            "l[100]=  {444: ('1', 2), 445: ('1', '2'), 446: ('2', '3')}\n"
          ]
        }
      ],
      "source": [
        "# Dictionary can contain dictionaries\n",
        "l = {1: ('1',2), 2: ('1', '2'), 100:{444: ('1',2), 445: ('1', '2'), 446: ('2', '3')},3: ('2', '3'), 4: ('3')}\n",
        "print(l)\n",
        "print(type(l))\n",
        "print(\"l[1]= \",l[1])\n",
        "print(\"l[100]= \",l[100])"
      ]
    }
  ],
  "metadata": {
    "kernelspec": {
      "display_name": "Python 3",
      "language": "python",
      "name": "python3"
    },
    "language_info": {
      "codemirror_mode": {
        "name": "ipython",
        "version": 3
      },
      "file_extension": ".py",
      "mimetype": "text/x-python",
      "name": "python",
      "nbconvert_exporter": "python",
      "pygments_lexer": "ipython3",
      "version": "3.8.3"
    },
    "toc": {
      "base_numbering": 1,
      "nav_menu": {},
      "number_sections": true,
      "sideBar": true,
      "skip_h1_title": false,
      "title_cell": "Table of Contents",
      "title_sidebar": "Contents",
      "toc_cell": false,
      "toc_position": {},
      "toc_section_display": true,
      "toc_window_display": false
    },
    "colab": {
      "name": "6 Dictionary, Random Module.ipynb",
      "provenance": [],
      "include_colab_link": true
    }
  },
  "nbformat": 4,
  "nbformat_minor": 0
}