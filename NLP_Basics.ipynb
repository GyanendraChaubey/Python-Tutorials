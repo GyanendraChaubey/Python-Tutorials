{
  "nbformat": 4,
  "nbformat_minor": 0,
  "metadata": {
    "colab": {
      "name": "NLP Basics.ipynb",
      "provenance": [],
      "collapsed_sections": [],
      "authorship_tag": "ABX9TyMS13iieIxLi2gW06ZNbF7V",
      "include_colab_link": true
    },
    "kernelspec": {
      "name": "python3",
      "display_name": "Python 3"
    },
    "language_info": {
      "name": "python"
    }
  },
  "cells": [
    {
      "cell_type": "markdown",
      "metadata": {
        "id": "view-in-github",
        "colab_type": "text"
      },
      "source": [
        "<a href=\"https://colab.research.google.com/github/GyanendraChaubey/Python-Tutorials/blob/main/NLP_Basics.ipynb\" target=\"_parent\"><img src=\"https://colab.research.google.com/assets/colab-badge.svg\" alt=\"Open In Colab\"/></a>"
      ]
    },
    {
      "cell_type": "markdown",
      "source": [
        "Steps of NLP:\n",
        "1. Load Data\n",
        "2. Text  Preprocessing Level 1 -> Normal Preprocessing\n",
        "    1. Stop words -> removing stop words\n",
        "    2. Stemming -> Shorten the word but meaning of the word may change\n",
        "    3. Lemmitization-> take out the root form of word but gives meaningful word\n",
        "    4. Tokenisation -> Seprate each words\n",
        "3. Text Preprocessing Level 2 -> Word to vectors\n",
        "    1. One hot encoding words ( A 2D array)\n",
        "       1. Advantages\n",
        "          1. Simple to implement\n",
        "      2. Disadvantages\n",
        "          1. Sparse Matrix is created hence create overfitting\n",
        "          2. Takes lot of memory\n",
        "          3. out of vocabulary\n",
        "          4. I/P size issue\n",
        "          5. No capturing of semantics\n",
        "    2. Bag of Words (Bow) -> Sentiment Analysis and Text Classification\n",
        "        1. Steps:\n",
        "          1. Tokenize words\n",
        "          2. Remove Stop words\n",
        "          3. Stemm the worrds\n",
        "          4. Calculate the frequency of each word\n",
        "          5. Sort the frequency in descending order\n",
        "          6. Create vector for each word\n",
        "        2. Advantages\n",
        "              1. Simple to implement\n",
        "        3. Disadvantages\n",
        "              1. Sparsity Exists but reduced as compared to one hot\n",
        "              2. Out of vocabulary issue  because input size fixed\n",
        "              3. Sematic relationship is not captured\n",
        "    3. N-grams\n",
        "      1. Steps:\n",
        "        1. Tokenize words\n",
        "        2. Remove Stop words\n",
        "        3. Stemm the words\n",
        "        4. Calculate the frequency of each word\n",
        "        5. Sort the frequency in descending order\n",
        "        6. Take the combination of words\n",
        "        7. create the vector now for each term\n",
        "    4. Tf-idf:\n",
        "        1. steps:\n",
        "            1. Tokenize words\n",
        "            2. Remove Stop words\n",
        "            3. Stemm the words\n",
        "            4. Calculate Term Frequency=\n",
        "                  No. repition of words in sentence/ No. of words in sentence\n",
        "            5. Calculate idf= \n",
        "                  ln(No. of sentences/ No. of senetnces containing words)\n",
        "            6. Calculate tf-idf\n",
        "        2. Advantages:\n",
        "            1. Semantic meaning is\n",
        "                  captured to some extent\n",
        "            2. Intuitive\n",
        "        3. Disadvantages:\n",
        "            1. Sparsity\n",
        "            2. Out of vacublary\n",
        "\n",
        "4. Modelling\n",
        "5. Evaluation\n"
      ],
      "metadata": {
        "id": "vNbyeR_lZNwA"
      }
    },
    {
      "cell_type": "code",
      "execution_count": 1,
      "metadata": {
        "id": "FxeiIkm1ZLDz"
      },
      "outputs": [],
      "source": [
        "paragraph=\"This is the NLP Class. I love to read NLP. Ineuron is a company where all people study\""
      ]
    },
    {
      "cell_type": "code",
      "source": [
        "import nltk"
      ],
      "metadata": {
        "id": "WjEYOqvGaMpb"
      },
      "execution_count": 2,
      "outputs": []
    },
    {
      "cell_type": "code",
      "source": [
        "nltk.download('punkt')"
      ],
      "metadata": {
        "colab": {
          "base_uri": "https://localhost:8080/"
        },
        "id": "O7B5DDQ1ams8",
        "outputId": "e823bae6-8174-4a4c-b106-1807647516af"
      },
      "execution_count": 3,
      "outputs": [
        {
          "output_type": "stream",
          "name": "stderr",
          "text": [
            "[nltk_data] Downloading package punkt to /root/nltk_data...\n",
            "[nltk_data]   Unzipping tokenizers/punkt.zip.\n"
          ]
        },
        {
          "output_type": "execute_result",
          "data": {
            "text/plain": [
              "True"
            ]
          },
          "metadata": {},
          "execution_count": 3
        }
      ]
    },
    {
      "cell_type": "code",
      "source": [
        "sentences=nltk.sent_tokenize(paragraph)\n",
        "sentences"
      ],
      "metadata": {
        "colab": {
          "base_uri": "https://localhost:8080/"
        },
        "id": "QwnFOueuaN60",
        "outputId": "57cd6bf8-ab94-4497-c80c-422e79e19f31"
      },
      "execution_count": 4,
      "outputs": [
        {
          "output_type": "execute_result",
          "data": {
            "text/plain": [
              "['This is the NLP Class.',\n",
              " 'I love to read NLP.',\n",
              " 'Ineuron is a company where all people study']"
            ]
          },
          "metadata": {},
          "execution_count": 4
        }
      ]
    },
    {
      "cell_type": "code",
      "source": [
        "words=nltk.word_tokenize(paragraph)\n",
        "words"
      ],
      "metadata": {
        "colab": {
          "base_uri": "https://localhost:8080/"
        },
        "id": "BwH0eA1KahAl",
        "outputId": "eba8af14-61fc-4267-aac3-175b9307c124"
      },
      "execution_count": 5,
      "outputs": [
        {
          "output_type": "execute_result",
          "data": {
            "text/plain": [
              "['This',\n",
              " 'is',\n",
              " 'the',\n",
              " 'NLP',\n",
              " 'Class',\n",
              " '.',\n",
              " 'I',\n",
              " 'love',\n",
              " 'to',\n",
              " 'read',\n",
              " 'NLP',\n",
              " '.',\n",
              " 'Ineuron',\n",
              " 'is',\n",
              " 'a',\n",
              " 'company',\n",
              " 'where',\n",
              " 'all',\n",
              " 'people',\n",
              " 'study']"
            ]
          },
          "metadata": {},
          "execution_count": 5
        }
      ]
    },
    {
      "cell_type": "code",
      "source": [
        "from nltk.stem import PorterStemmer"
      ],
      "metadata": {
        "id": "Rnr1bWpcbRiD"
      },
      "execution_count": 6,
      "outputs": []
    },
    {
      "cell_type": "code",
      "source": [
        "stemmer=PorterStemmer()"
      ],
      "metadata": {
        "id": "AmM-dXX5bs9R"
      },
      "execution_count": 7,
      "outputs": []
    },
    {
      "cell_type": "code",
      "source": [
        "stemmer.stem('final')"
      ],
      "metadata": {
        "colab": {
          "base_uri": "https://localhost:8080/",
          "height": 35
        },
        "id": "7NBRZobbbxrE",
        "outputId": "2aefa5cb-0a76-4ecf-92fd-2779cf209377"
      },
      "execution_count": 8,
      "outputs": [
        {
          "output_type": "execute_result",
          "data": {
            "text/plain": [
              "'final'"
            ],
            "application/vnd.google.colaboratory.intrinsic+json": {
              "type": "string"
            }
          },
          "metadata": {},
          "execution_count": 8
        }
      ]
    },
    {
      "cell_type": "code",
      "source": [
        "stemmer.stem('finally')"
      ],
      "metadata": {
        "colab": {
          "base_uri": "https://localhost:8080/",
          "height": 35
        },
        "id": "TLXcEtUHb0Jh",
        "outputId": "0a590d9d-a3ae-4c8e-8107-0e679ac9ee41"
      },
      "execution_count": 9,
      "outputs": [
        {
          "output_type": "execute_result",
          "data": {
            "text/plain": [
              "'final'"
            ],
            "application/vnd.google.colaboratory.intrinsic+json": {
              "type": "string"
            }
          },
          "metadata": {},
          "execution_count": 9
        }
      ]
    },
    {
      "cell_type": "code",
      "source": [
        "stemmer.stem('history')"
      ],
      "metadata": {
        "colab": {
          "base_uri": "https://localhost:8080/",
          "height": 35
        },
        "id": "CpZWFoYIb2sD",
        "outputId": "3231325b-71a0-4b3c-a2cf-cdfcc7c4c281"
      },
      "execution_count": 10,
      "outputs": [
        {
          "output_type": "execute_result",
          "data": {
            "text/plain": [
              "'histori'"
            ],
            "application/vnd.google.colaboratory.intrinsic+json": {
              "type": "string"
            }
          },
          "metadata": {},
          "execution_count": 10
        }
      ]
    },
    {
      "cell_type": "code",
      "source": [
        "stemmer.stem('organization')"
      ],
      "metadata": {
        "colab": {
          "base_uri": "https://localhost:8080/",
          "height": 35
        },
        "id": "7SI9HzeSb6r1",
        "outputId": "3dac401d-4d0b-4312-fe50-2760f4a6e591"
      },
      "execution_count": 11,
      "outputs": [
        {
          "output_type": "execute_result",
          "data": {
            "text/plain": [
              "'organ'"
            ],
            "application/vnd.google.colaboratory.intrinsic+json": {
              "type": "string"
            }
          },
          "metadata": {},
          "execution_count": 11
        }
      ]
    },
    {
      "cell_type": "code",
      "source": [
        "stemmer.stem('happy')"
      ],
      "metadata": {
        "colab": {
          "base_uri": "https://localhost:8080/",
          "height": 35
        },
        "id": "supWypS0cGqg",
        "outputId": "e5b59310-db5f-420a-f637-544a8bd1bde5"
      },
      "execution_count": 12,
      "outputs": [
        {
          "output_type": "execute_result",
          "data": {
            "text/plain": [
              "'happi'"
            ],
            "application/vnd.google.colaboratory.intrinsic+json": {
              "type": "string"
            }
          },
          "metadata": {},
          "execution_count": 12
        }
      ]
    },
    {
      "cell_type": "code",
      "source": [
        "stemmer.stem('eating')"
      ],
      "metadata": {
        "colab": {
          "base_uri": "https://localhost:8080/",
          "height": 35
        },
        "id": "thmdVfBMeUt5",
        "outputId": "a5294a7a-1d96-4a30-b05f-71a432fbd9fa"
      },
      "execution_count": 13,
      "outputs": [
        {
          "output_type": "execute_result",
          "data": {
            "text/plain": [
              "'eat'"
            ],
            "application/vnd.google.colaboratory.intrinsic+json": {
              "type": "string"
            }
          },
          "metadata": {},
          "execution_count": 13
        }
      ]
    },
    {
      "cell_type": "code",
      "source": [
        "from nltk.stem import WordNetLemmatizer"
      ],
      "metadata": {
        "id": "wpphMTQlcIzm"
      },
      "execution_count": 14,
      "outputs": []
    },
    {
      "cell_type": "code",
      "source": [
        "lemmatizer=WordNetLemmatizer()"
      ],
      "metadata": {
        "id": "ZSzFO4-zdt9P"
      },
      "execution_count": 15,
      "outputs": []
    },
    {
      "cell_type": "code",
      "source": [
        "nltk.download('wordnet')\n",
        "nltk.download('omw-1.4')"
      ],
      "metadata": {
        "colab": {
          "base_uri": "https://localhost:8080/"
        },
        "id": "Q3i93oGbd8pB",
        "outputId": "01d5f8db-7a59-4cec-852e-9c4ebd73f809"
      },
      "execution_count": 16,
      "outputs": [
        {
          "output_type": "stream",
          "name": "stderr",
          "text": [
            "[nltk_data] Downloading package wordnet to /root/nltk_data...\n",
            "[nltk_data] Downloading package omw-1.4 to /root/nltk_data...\n"
          ]
        },
        {
          "output_type": "execute_result",
          "data": {
            "text/plain": [
              "True"
            ]
          },
          "metadata": {},
          "execution_count": 16
        }
      ]
    },
    {
      "cell_type": "code",
      "source": [
        "lemmatizer.lemmatize('eating')"
      ],
      "metadata": {
        "colab": {
          "base_uri": "https://localhost:8080/",
          "height": 35
        },
        "id": "ChfNTD0pdzfk",
        "outputId": "208e069a-17c1-4861-8ca8-0f3db6869bad"
      },
      "execution_count": 17,
      "outputs": [
        {
          "output_type": "execute_result",
          "data": {
            "text/plain": [
              "'eating'"
            ],
            "application/vnd.google.colaboratory.intrinsic+json": {
              "type": "string"
            }
          },
          "metadata": {},
          "execution_count": 17
        }
      ]
    },
    {
      "cell_type": "code",
      "source": [
        "lemmatizer.lemmatize('going')"
      ],
      "metadata": {
        "colab": {
          "base_uri": "https://localhost:8080/",
          "height": 35
        },
        "id": "k0zsQxm8d4lp",
        "outputId": "c882c369-e15f-40af-d6a2-cddda1bb3395"
      },
      "execution_count": 18,
      "outputs": [
        {
          "output_type": "execute_result",
          "data": {
            "text/plain": [
              "'going'"
            ],
            "application/vnd.google.colaboratory.intrinsic+json": {
              "type": "string"
            }
          },
          "metadata": {},
          "execution_count": 18
        }
      ]
    },
    {
      "cell_type": "code",
      "source": [
        "lemmatizer.lemmatize('wellness')"
      ],
      "metadata": {
        "colab": {
          "base_uri": "https://localhost:8080/",
          "height": 35
        },
        "id": "IksHJPlqeGGv",
        "outputId": "96a3296c-ac9f-45c1-9535-86b3d9080e70"
      },
      "execution_count": 19,
      "outputs": [
        {
          "output_type": "execute_result",
          "data": {
            "text/plain": [
              "'wellness'"
            ],
            "application/vnd.google.colaboratory.intrinsic+json": {
              "type": "string"
            }
          },
          "metadata": {},
          "execution_count": 19
        }
      ]
    },
    {
      "cell_type": "code",
      "source": [
        "lemmatizer.lemmatize(paragraph)"
      ],
      "metadata": {
        "colab": {
          "base_uri": "https://localhost:8080/",
          "height": 35
        },
        "id": "In-FlSV0ecXF",
        "outputId": "1be59eb7-a015-441a-d581-115580ef6ab5"
      },
      "execution_count": 20,
      "outputs": [
        {
          "output_type": "execute_result",
          "data": {
            "text/plain": [
              "'This is the NLP Class. I love to read NLP. Ineuron is a company where all people study'"
            ],
            "application/vnd.google.colaboratory.intrinsic+json": {
              "type": "string"
            }
          },
          "metadata": {},
          "execution_count": 20
        }
      ]
    },
    {
      "cell_type": "code",
      "source": [
        "corpus=[]\n",
        "for i in range(len(sentences)):\n",
        "  words=nltk.word_tokenize(sentences[i])\n",
        "  words=[stemmer.stem(word) for word in words]\n",
        "  print(words)\n",
        "  corpus.append(' '.join(words))"
      ],
      "metadata": {
        "colab": {
          "base_uri": "https://localhost:8080/"
        },
        "id": "Sk290cWwegZL",
        "outputId": "332a3596-2a8b-444c-8b6a-7a48d94368c9"
      },
      "execution_count": 21,
      "outputs": [
        {
          "output_type": "stream",
          "name": "stdout",
          "text": [
            "['thi', 'is', 'the', 'nlp', 'class', '.']\n",
            "['i', 'love', 'to', 'read', 'nlp', '.']\n",
            "['ineuron', 'is', 'a', 'compani', 'where', 'all', 'peopl', 'studi']\n"
          ]
        }
      ]
    },
    {
      "cell_type": "code",
      "source": [
        "corpus=[]\n",
        "for i in range(len(sentences)):\n",
        "  words=nltk.word_tokenize(sentences[i])\n",
        "  words=[lemmatizer.lemmatize(word) for word in words]\n",
        "  print(words)\n",
        "  corpus.append(' '.join(words))"
      ],
      "metadata": {
        "colab": {
          "base_uri": "https://localhost:8080/"
        },
        "id": "dNqN2RxbfL7i",
        "outputId": "5b394dea-b4f2-44cc-efff-386740e5abe1"
      },
      "execution_count": 22,
      "outputs": [
        {
          "output_type": "stream",
          "name": "stdout",
          "text": [
            "['This', 'is', 'the', 'NLP', 'Class', '.']\n",
            "['I', 'love', 'to', 'read', 'NLP', '.']\n",
            "['Ineuron', 'is', 'a', 'company', 'where', 'all', 'people', 'study']\n"
          ]
        }
      ]
    },
    {
      "cell_type": "code",
      "source": [
        "paragraph=\"Ratan Naval Tata (Ratan Ṭāṭā, born 28 December 1937) is an Indian industrialist, philanthropist, and a former chairman of Tata Sons. He was the chairman of Tata Group, from 1990 to 2012, and again, as interim chairman, from October 2016 through February 2017, and continues to head its charitable trusts.[3][4] He is the recipient of two civilian awards of India, the Padma Vibhushan (2008), the second highest civilian honour, and the Padma Bhushan (2000), the third highest civilian honour. Born in 1937, he is a heir of the Tata family, and son of Naval Tata who was later adopted by Ratanji Tata, son of Jamsetji Tata, the founder of Tata Group. He is an alumnus of the Cornell University College of Architecture and Harvard Business School through the Advanced Management Program that he completed in 1975.[6] He joined his company in 1961 when he used to work on the shop floor of Tata Steel, and was the apparent successor to J. R. D. Tata upon the latter's retirement in 1991. He got Tata Tea to acquire Tetley, Tata Motors to acquire Jaguar Land Rover, and Tata Steel to acquire Corus, in an attempt to turn Tata from a largely India-centrist group into a global business. Around 60-65% of his profits are donated to charity making him one of the most significant philanthropists in the world.\""
      ],
      "metadata": {
        "id": "IyRVIXROfzTO"
      },
      "execution_count": 23,
      "outputs": []
    },
    {
      "cell_type": "code",
      "source": [
        "paragraph"
      ],
      "metadata": {
        "colab": {
          "base_uri": "https://localhost:8080/",
          "height": 174
        },
        "id": "ZUl4IiLfgkd9",
        "outputId": "284ae395-fd36-4d25-8793-63e4ee6b0b6e"
      },
      "execution_count": 24,
      "outputs": [
        {
          "output_type": "execute_result",
          "data": {
            "text/plain": [
              "\"Ratan Naval Tata (Ratan Ṭāṭā, born 28 December 1937) is an Indian industrialist, philanthropist, and a former chairman of Tata Sons. He was the chairman of Tata Group, from 1990 to 2012, and again, as interim chairman, from October 2016 through February 2017, and continues to head its charitable trusts.[3][4] He is the recipient of two civilian awards of India, the Padma Vibhushan (2008), the second highest civilian honour, and the Padma Bhushan (2000), the third highest civilian honour. Born in 1937, he is a heir of the Tata family, and son of Naval Tata who was later adopted by Ratanji Tata, son of Jamsetji Tata, the founder of Tata Group. He is an alumnus of the Cornell University College of Architecture and Harvard Business School through the Advanced Management Program that he completed in 1975.[6] He joined his company in 1961 when he used to work on the shop floor of Tata Steel, and was the apparent successor to J. R. D. Tata upon the latter's retirement in 1991. He got Tata Tea to acquire Tetley, Tata Motors to acquire Jaguar Land Rover, and Tata Steel to acquire Corus, in an attempt to turn Tata from a largely India-centrist group into a global business. Around 60-65% of his profits are donated to charity making him one of the most significant philanthropists in the world.\""
            ],
            "application/vnd.google.colaboratory.intrinsic+json": {
              "type": "string"
            }
          },
          "metadata": {},
          "execution_count": 24
        }
      ]
    },
    {
      "cell_type": "code",
      "source": [
        "sentences=nltk.sent_tokenize(paragraph)"
      ],
      "metadata": {
        "id": "i8_2hynrhSQU"
      },
      "execution_count": 25,
      "outputs": []
    },
    {
      "cell_type": "code",
      "source": [
        "corpus=[]\n",
        "for i in range(len(sentences)):\n",
        "  words=nltk.word_tokenize(sentences[i])\n",
        "  words=[lemmatizer.lemmatize(word) for word in words]\n",
        "  print(words)\n",
        "  corpus.append(' '.join(words))"
      ],
      "metadata": {
        "colab": {
          "base_uri": "https://localhost:8080/"
        },
        "id": "xTDytjWehHaE",
        "outputId": "261a41ea-4aca-437f-afb0-0b98fe9e754c"
      },
      "execution_count": 26,
      "outputs": [
        {
          "output_type": "stream",
          "name": "stdout",
          "text": [
            "['Ratan', 'Naval', 'Tata', '(', 'Ratan', 'Ṭāṭā', ',', 'born', '28', 'December', '1937', ')', 'is', 'an', 'Indian', 'industrialist', ',', 'philanthropist', ',', 'and', 'a', 'former', 'chairman', 'of', 'Tata', 'Sons', '.']\n",
            "['He', 'wa', 'the', 'chairman', 'of', 'Tata', 'Group', ',', 'from', '1990', 'to', '2012', ',', 'and', 'again', ',', 'a', 'interim', 'chairman', ',', 'from', 'October', '2016', 'through', 'February', '2017', ',', 'and', 'continues', 'to', 'head', 'it', 'charitable', 'trust', '.']\n",
            "['[', '3', ']', '[', '4', ']', 'He', 'is', 'the', 'recipient', 'of', 'two', 'civilian', 'award', 'of', 'India', ',', 'the', 'Padma', 'Vibhushan', '(', '2008', ')', ',', 'the', 'second', 'highest', 'civilian', 'honour', ',', 'and', 'the', 'Padma', 'Bhushan', '(', '2000', ')', ',', 'the', 'third', 'highest', 'civilian', 'honour', '.']\n",
            "['Born', 'in', '1937', ',', 'he', 'is', 'a', 'heir', 'of', 'the', 'Tata', 'family', ',', 'and', 'son', 'of', 'Naval', 'Tata', 'who', 'wa', 'later', 'adopted', 'by', 'Ratanji', 'Tata', ',', 'son', 'of', 'Jamsetji', 'Tata', ',', 'the', 'founder', 'of', 'Tata', 'Group', '.']\n",
            "['He', 'is', 'an', 'alumnus', 'of', 'the', 'Cornell', 'University', 'College', 'of', 'Architecture', 'and', 'Harvard', 'Business', 'School', 'through', 'the', 'Advanced', 'Management', 'Program', 'that', 'he', 'completed', 'in', '1975', '.']\n",
            "['[', '6', ']', 'He', 'joined', 'his', 'company', 'in', '1961', 'when', 'he', 'used', 'to', 'work', 'on', 'the', 'shop', 'floor', 'of', 'Tata', 'Steel', ',', 'and', 'wa', 'the', 'apparent', 'successor', 'to', 'J.', 'R.', 'D.', 'Tata', 'upon', 'the', 'latter', \"'s\", 'retirement', 'in', '1991', '.']\n",
            "['He', 'got', 'Tata', 'Tea', 'to', 'acquire', 'Tetley', ',', 'Tata', 'Motors', 'to', 'acquire', 'Jaguar', 'Land', 'Rover', ',', 'and', 'Tata', 'Steel', 'to', 'acquire', 'Corus', ',', 'in', 'an', 'attempt', 'to', 'turn', 'Tata', 'from', 'a', 'largely', 'India-centrist', 'group', 'into', 'a', 'global', 'business', '.']\n",
            "['Around', '60-65', '%', 'of', 'his', 'profit', 'are', 'donated', 'to', 'charity', 'making', 'him', 'one', 'of', 'the', 'most', 'significant', 'philanthropist', 'in', 'the', 'world', '.']\n"
          ]
        }
      ]
    },
    {
      "cell_type": "code",
      "source": [
        "corpus"
      ],
      "metadata": {
        "colab": {
          "base_uri": "https://localhost:8080/"
        },
        "id": "W8RBoizzhO5q",
        "outputId": "c4870290-8dd4-4acc-db8d-2fccd4176811"
      },
      "execution_count": 27,
      "outputs": [
        {
          "output_type": "execute_result",
          "data": {
            "text/plain": [
              "['Ratan Naval Tata ( Ratan Ṭāṭā , born 28 December 1937 ) is an Indian industrialist , philanthropist , and a former chairman of Tata Sons .',\n",
              " 'He wa the chairman of Tata Group , from 1990 to 2012 , and again , a interim chairman , from October 2016 through February 2017 , and continues to head it charitable trust .',\n",
              " '[ 3 ] [ 4 ] He is the recipient of two civilian award of India , the Padma Vibhushan ( 2008 ) , the second highest civilian honour , and the Padma Bhushan ( 2000 ) , the third highest civilian honour .',\n",
              " 'Born in 1937 , he is a heir of the Tata family , and son of Naval Tata who wa later adopted by Ratanji Tata , son of Jamsetji Tata , the founder of Tata Group .',\n",
              " 'He is an alumnus of the Cornell University College of Architecture and Harvard Business School through the Advanced Management Program that he completed in 1975 .',\n",
              " \"[ 6 ] He joined his company in 1961 when he used to work on the shop floor of Tata Steel , and wa the apparent successor to J. R. D. Tata upon the latter 's retirement in 1991 .\",\n",
              " 'He got Tata Tea to acquire Tetley , Tata Motors to acquire Jaguar Land Rover , and Tata Steel to acquire Corus , in an attempt to turn Tata from a largely India-centrist group into a global business .',\n",
              " 'Around 60-65 % of his profit are donated to charity making him one of the most significant philanthropist in the world .']"
            ]
          },
          "metadata": {},
          "execution_count": 27
        }
      ]
    },
    {
      "cell_type": "code",
      "source": [
        "corpus=[]\n",
        "for i in range(len(sentences)):\n",
        "  words=nltk.word_tokenize(sentences[i])\n",
        "  words=[stemmer.stem(word) for word in words]\n",
        "  print(words)\n",
        "  corpus.append(' '.join(words))"
      ],
      "metadata": {
        "colab": {
          "base_uri": "https://localhost:8080/"
        },
        "id": "eT98sX_ThcoE",
        "outputId": "342b0abc-2354-4aea-ff12-c765deb52883"
      },
      "execution_count": 28,
      "outputs": [
        {
          "output_type": "stream",
          "name": "stdout",
          "text": [
            "['ratan', 'naval', 'tata', '(', 'ratan', 'ṭāṭā', ',', 'born', '28', 'decemb', '1937', ')', 'is', 'an', 'indian', 'industrialist', ',', 'philanthropist', ',', 'and', 'a', 'former', 'chairman', 'of', 'tata', 'son', '.']\n",
            "['he', 'wa', 'the', 'chairman', 'of', 'tata', 'group', ',', 'from', '1990', 'to', '2012', ',', 'and', 'again', ',', 'as', 'interim', 'chairman', ',', 'from', 'octob', '2016', 'through', 'februari', '2017', ',', 'and', 'continu', 'to', 'head', 'it', 'charit', 'trust', '.']\n",
            "['[', '3', ']', '[', '4', ']', 'he', 'is', 'the', 'recipi', 'of', 'two', 'civilian', 'award', 'of', 'india', ',', 'the', 'padma', 'vibhushan', '(', '2008', ')', ',', 'the', 'second', 'highest', 'civilian', 'honour', ',', 'and', 'the', 'padma', 'bhushan', '(', '2000', ')', ',', 'the', 'third', 'highest', 'civilian', 'honour', '.']\n",
            "['born', 'in', '1937', ',', 'he', 'is', 'a', 'heir', 'of', 'the', 'tata', 'famili', ',', 'and', 'son', 'of', 'naval', 'tata', 'who', 'wa', 'later', 'adopt', 'by', 'ratanji', 'tata', ',', 'son', 'of', 'jamsetji', 'tata', ',', 'the', 'founder', 'of', 'tata', 'group', '.']\n",
            "['he', 'is', 'an', 'alumnu', 'of', 'the', 'cornel', 'univers', 'colleg', 'of', 'architectur', 'and', 'harvard', 'busi', 'school', 'through', 'the', 'advanc', 'manag', 'program', 'that', 'he', 'complet', 'in', '1975', '.']\n",
            "['[', '6', ']', 'he', 'join', 'hi', 'compani', 'in', '1961', 'when', 'he', 'use', 'to', 'work', 'on', 'the', 'shop', 'floor', 'of', 'tata', 'steel', ',', 'and', 'wa', 'the', 'appar', 'successor', 'to', 'j.', 'r.', 'd.', 'tata', 'upon', 'the', 'latter', \"'s\", 'retir', 'in', '1991', '.']\n",
            "['he', 'got', 'tata', 'tea', 'to', 'acquir', 'tetley', ',', 'tata', 'motor', 'to', 'acquir', 'jaguar', 'land', 'rover', ',', 'and', 'tata', 'steel', 'to', 'acquir', 'coru', ',', 'in', 'an', 'attempt', 'to', 'turn', 'tata', 'from', 'a', 'larg', 'india-centrist', 'group', 'into', 'a', 'global', 'busi', '.']\n",
            "['around', '60-65', '%', 'of', 'hi', 'profit', 'are', 'donat', 'to', 'chariti', 'make', 'him', 'one', 'of', 'the', 'most', 'signific', 'philanthropist', 'in', 'the', 'world', '.']\n"
          ]
        }
      ]
    },
    {
      "cell_type": "code",
      "source": [
        "corpus"
      ],
      "metadata": {
        "colab": {
          "base_uri": "https://localhost:8080/"
        },
        "id": "yv6TgqbVhmdj",
        "outputId": "c46b786e-901b-470c-b039-20fb28b0a84b"
      },
      "execution_count": 29,
      "outputs": [
        {
          "output_type": "execute_result",
          "data": {
            "text/plain": [
              "['ratan naval tata ( ratan ṭāṭā , born 28 decemb 1937 ) is an indian industrialist , philanthropist , and a former chairman of tata son .',\n",
              " 'he wa the chairman of tata group , from 1990 to 2012 , and again , as interim chairman , from octob 2016 through februari 2017 , and continu to head it charit trust .',\n",
              " '[ 3 ] [ 4 ] he is the recipi of two civilian award of india , the padma vibhushan ( 2008 ) , the second highest civilian honour , and the padma bhushan ( 2000 ) , the third highest civilian honour .',\n",
              " 'born in 1937 , he is a heir of the tata famili , and son of naval tata who wa later adopt by ratanji tata , son of jamsetji tata , the founder of tata group .',\n",
              " 'he is an alumnu of the cornel univers colleg of architectur and harvard busi school through the advanc manag program that he complet in 1975 .',\n",
              " \"[ 6 ] he join hi compani in 1961 when he use to work on the shop floor of tata steel , and wa the appar successor to j. r. d. tata upon the latter 's retir in 1991 .\",\n",
              " 'he got tata tea to acquir tetley , tata motor to acquir jaguar land rover , and tata steel to acquir coru , in an attempt to turn tata from a larg india-centrist group into a global busi .',\n",
              " 'around 60-65 % of hi profit are donat to chariti make him one of the most signific philanthropist in the world .']"
            ]
          },
          "metadata": {},
          "execution_count": 29
        }
      ]
    },
    {
      "cell_type": "code",
      "source": [
        "nltk.download('stopwords')"
      ],
      "metadata": {
        "colab": {
          "base_uri": "https://localhost:8080/"
        },
        "id": "YgI5lc3xhpK2",
        "outputId": "c0d67b38-05bf-461b-c850-9106d139efbe"
      },
      "execution_count": 30,
      "outputs": [
        {
          "output_type": "stream",
          "name": "stderr",
          "text": [
            "[nltk_data] Downloading package stopwords to /root/nltk_data...\n",
            "[nltk_data]   Unzipping corpora/stopwords.zip.\n"
          ]
        },
        {
          "output_type": "execute_result",
          "data": {
            "text/plain": [
              "True"
            ]
          },
          "metadata": {},
          "execution_count": 30
        }
      ]
    },
    {
      "cell_type": "code",
      "source": [
        "lemmatizer.lemmatize('changes')"
      ],
      "metadata": {
        "colab": {
          "base_uri": "https://localhost:8080/",
          "height": 35
        },
        "id": "O5wed5o5iUco",
        "outputId": "d65259db-fb77-4da8-d50f-23b1c5d1cc3c"
      },
      "execution_count": 31,
      "outputs": [
        {
          "output_type": "execute_result",
          "data": {
            "text/plain": [
              "'change'"
            ],
            "application/vnd.google.colaboratory.intrinsic+json": {
              "type": "string"
            }
          },
          "metadata": {},
          "execution_count": 31
        }
      ]
    },
    {
      "cell_type": "code",
      "source": [
        "lemmatizer.lemmatize('changer')"
      ],
      "metadata": {
        "colab": {
          "base_uri": "https://localhost:8080/",
          "height": 35
        },
        "id": "kQr8J0HzkUZE",
        "outputId": "da255591-975c-420a-b0b3-86eb6d097d4a"
      },
      "execution_count": 32,
      "outputs": [
        {
          "output_type": "execute_result",
          "data": {
            "text/plain": [
              "'changer'"
            ],
            "application/vnd.google.colaboratory.intrinsic+json": {
              "type": "string"
            }
          },
          "metadata": {},
          "execution_count": 32
        }
      ]
    },
    {
      "cell_type": "code",
      "source": [
        "lemmatizer.lemmatize('changing')"
      ],
      "metadata": {
        "colab": {
          "base_uri": "https://localhost:8080/",
          "height": 35
        },
        "id": "9pefqHDIipAe",
        "outputId": "a2a1f54e-4f14-4b5f-977f-6fd01f60c031"
      },
      "execution_count": 33,
      "outputs": [
        {
          "output_type": "execute_result",
          "data": {
            "text/plain": [
              "'changing'"
            ],
            "application/vnd.google.colaboratory.intrinsic+json": {
              "type": "string"
            }
          },
          "metadata": {},
          "execution_count": 33
        }
      ]
    },
    {
      "cell_type": "code",
      "source": [
        "from nltk.corpus import stopwords\n",
        "stop=stopwords.words('english')"
      ],
      "metadata": {
        "id": "6GJV1An8i2_g"
      },
      "execution_count": 34,
      "outputs": []
    },
    {
      "cell_type": "code",
      "source": [
        "req_words=[word for word in words if word not in stop]"
      ],
      "metadata": {
        "id": "Xivyx6awjCfy"
      },
      "execution_count": 35,
      "outputs": []
    },
    {
      "cell_type": "code",
      "source": [
        "corpus"
      ],
      "metadata": {
        "colab": {
          "base_uri": "https://localhost:8080/"
        },
        "id": "mYphcIyBlBdO",
        "outputId": "4896c9e5-51ea-46e3-9b2a-64b7ea3ead16"
      },
      "execution_count": 36,
      "outputs": [
        {
          "output_type": "execute_result",
          "data": {
            "text/plain": [
              "['ratan naval tata ( ratan ṭāṭā , born 28 decemb 1937 ) is an indian industrialist , philanthropist , and a former chairman of tata son .',\n",
              " 'he wa the chairman of tata group , from 1990 to 2012 , and again , as interim chairman , from octob 2016 through februari 2017 , and continu to head it charit trust .',\n",
              " '[ 3 ] [ 4 ] he is the recipi of two civilian award of india , the padma vibhushan ( 2008 ) , the second highest civilian honour , and the padma bhushan ( 2000 ) , the third highest civilian honour .',\n",
              " 'born in 1937 , he is a heir of the tata famili , and son of naval tata who wa later adopt by ratanji tata , son of jamsetji tata , the founder of tata group .',\n",
              " 'he is an alumnu of the cornel univers colleg of architectur and harvard busi school through the advanc manag program that he complet in 1975 .',\n",
              " \"[ 6 ] he join hi compani in 1961 when he use to work on the shop floor of tata steel , and wa the appar successor to j. r. d. tata upon the latter 's retir in 1991 .\",\n",
              " 'he got tata tea to acquir tetley , tata motor to acquir jaguar land rover , and tata steel to acquir coru , in an attempt to turn tata from a larg india-centrist group into a global busi .',\n",
              " 'around 60-65 % of hi profit are donat to chariti make him one of the most signific philanthropist in the world .']"
            ]
          },
          "metadata": {},
          "execution_count": 36
        }
      ]
    },
    {
      "cell_type": "code",
      "source": [
        "req_words"
      ],
      "metadata": {
        "colab": {
          "base_uri": "https://localhost:8080/"
        },
        "id": "za49I1yZjoD0",
        "outputId": "9fc97513-7be1-4bb0-b962-29426ca0ecd8"
      },
      "execution_count": 37,
      "outputs": [
        {
          "output_type": "execute_result",
          "data": {
            "text/plain": [
              "['around',\n",
              " '60-65',\n",
              " '%',\n",
              " 'hi',\n",
              " 'profit',\n",
              " 'donat',\n",
              " 'chariti',\n",
              " 'make',\n",
              " 'one',\n",
              " 'signific',\n",
              " 'philanthropist',\n",
              " 'world',\n",
              " '.']"
            ]
          },
          "metadata": {},
          "execution_count": 37
        }
      ]
    },
    {
      "cell_type": "code",
      "source": [
        "corpus=[]\n",
        "for i in range(len(sentences)):\n",
        "  words=nltk.word_tokenize(sentences[i].lower())\n",
        "  words=[stemmer.stem(word) for word in words if not word in stop]\n",
        "  print(words)\n",
        "  corpus.append(' '.join(words))"
      ],
      "metadata": {
        "colab": {
          "base_uri": "https://localhost:8080/"
        },
        "id": "y7ODYvTqjp_F",
        "outputId": "7f3d2e2f-2004-4dd3-99b1-1da6a096c2a3"
      },
      "execution_count": 38,
      "outputs": [
        {
          "output_type": "stream",
          "name": "stdout",
          "text": [
            "['ratan', 'naval', 'tata', '(', 'ratan', 'ṭāṭā', ',', 'born', '28', 'decemb', '1937', ')', 'indian', 'industrialist', ',', 'philanthropist', ',', 'former', 'chairman', 'tata', 'son', '.']\n",
            "['chairman', 'tata', 'group', ',', '1990', '2012', ',', ',', 'interim', 'chairman', ',', 'octob', '2016', 'februari', '2017', ',', 'continu', 'head', 'charit', 'trust', '.']\n",
            "['[', '3', ']', '[', '4', ']', 'recipi', 'two', 'civilian', 'award', 'india', ',', 'padma', 'vibhushan', '(', '2008', ')', ',', 'second', 'highest', 'civilian', 'honour', ',', 'padma', 'bhushan', '(', '2000', ')', ',', 'third', 'highest', 'civilian', 'honour', '.']\n",
            "['born', '1937', ',', 'heir', 'tata', 'famili', ',', 'son', 'naval', 'tata', 'later', 'adopt', 'ratanji', 'tata', ',', 'son', 'jamsetji', 'tata', ',', 'founder', 'tata', 'group', '.']\n",
            "['alumnu', 'cornel', 'univers', 'colleg', 'architectur', 'harvard', 'busi', 'school', 'advanc', 'manag', 'program', 'complet', '1975', '.']\n",
            "['[', '6', ']', 'join', 'compani', '1961', 'use', 'work', 'shop', 'floor', 'tata', 'steel', ',', 'appar', 'successor', 'j.', 'r.', 'd.', 'tata', 'upon', 'latter', \"'s\", 'retir', '1991', '.']\n",
            "['got', 'tata', 'tea', 'acquir', 'tetley', ',', 'tata', 'motor', 'acquir', 'jaguar', 'land', 'rover', ',', 'tata', 'steel', 'acquir', 'coru', ',', 'attempt', 'turn', 'tata', 'larg', 'india-centrist', 'group', 'global', 'busi', '.']\n",
            "['around', '60-65', '%', 'profit', 'donat', 'chariti', 'make', 'one', 'signific', 'philanthropist', 'world', '.']\n"
          ]
        }
      ]
    },
    {
      "cell_type": "code",
      "source": [
        "paragraph=\"Droupadi Murmu (born 20 June 1958) is an Indian politician who is the president-elect of India. She is a member of the BJP.[1] She is the first person belonging to a Scheduled Tribe (ST) community to be elected President of India. Prior to her presidency she served as the ninth Governor of Jharkhand between 2015 and 2021, and held various portfolios in the cabinet of Government of Odisha between 2000 to 2004. Before entering politics, she worked as a junior assistant in the State Irrigation and Power Department from 1979 to 1983, and then as a teacher at Sri Aurobindo Integral Education Centre at Rairangpur until 1997. In June 2022, the BJP nominated Murmu as the National Democratic Alliance (NDA)'s presidential candidate for the 2022 election.[3] She was elected president in July 2022, becoming the country's youngest president, the first to be born after India's independence and the first person belonging to India’s scheduled tribes to become the President\""
      ],
      "metadata": {
        "id": "cBpUN6bvlx-B"
      },
      "execution_count": 39,
      "outputs": []
    },
    {
      "cell_type": "code",
      "source": [
        "#Step 1 - Tokenisation\n",
        "words=nltk.word_tokenize(paragraph)\n",
        "sentences=nltk.sent_tokenize(paragraph)"
      ],
      "metadata": {
        "id": "EfHjepXSmWrz"
      },
      "execution_count": 40,
      "outputs": []
    },
    {
      "cell_type": "code",
      "source": [
        "words"
      ],
      "metadata": {
        "colab": {
          "base_uri": "https://localhost:8080/"
        },
        "id": "_H4forxwnH5f",
        "outputId": "8afc9e55-09e1-40d3-a617-43eede33eb55"
      },
      "execution_count": 41,
      "outputs": [
        {
          "output_type": "execute_result",
          "data": {
            "text/plain": [
              "['Droupadi',\n",
              " 'Murmu',\n",
              " '(',\n",
              " 'born',\n",
              " '20',\n",
              " 'June',\n",
              " '1958',\n",
              " ')',\n",
              " 'is',\n",
              " 'an',\n",
              " 'Indian',\n",
              " 'politician',\n",
              " 'who',\n",
              " 'is',\n",
              " 'the',\n",
              " 'president-elect',\n",
              " 'of',\n",
              " 'India',\n",
              " '.',\n",
              " 'She',\n",
              " 'is',\n",
              " 'a',\n",
              " 'member',\n",
              " 'of',\n",
              " 'the',\n",
              " 'BJP',\n",
              " '.',\n",
              " '[',\n",
              " '1',\n",
              " ']',\n",
              " 'She',\n",
              " 'is',\n",
              " 'the',\n",
              " 'first',\n",
              " 'person',\n",
              " 'belonging',\n",
              " 'to',\n",
              " 'a',\n",
              " 'Scheduled',\n",
              " 'Tribe',\n",
              " '(',\n",
              " 'ST',\n",
              " ')',\n",
              " 'community',\n",
              " 'to',\n",
              " 'be',\n",
              " 'elected',\n",
              " 'President',\n",
              " 'of',\n",
              " 'India',\n",
              " '.',\n",
              " 'Prior',\n",
              " 'to',\n",
              " 'her',\n",
              " 'presidency',\n",
              " 'she',\n",
              " 'served',\n",
              " 'as',\n",
              " 'the',\n",
              " 'ninth',\n",
              " 'Governor',\n",
              " 'of',\n",
              " 'Jharkhand',\n",
              " 'between',\n",
              " '2015',\n",
              " 'and',\n",
              " '2021',\n",
              " ',',\n",
              " 'and',\n",
              " 'held',\n",
              " 'various',\n",
              " 'portfolios',\n",
              " 'in',\n",
              " 'the',\n",
              " 'cabinet',\n",
              " 'of',\n",
              " 'Government',\n",
              " 'of',\n",
              " 'Odisha',\n",
              " 'between',\n",
              " '2000',\n",
              " 'to',\n",
              " '2004',\n",
              " '.',\n",
              " 'Before',\n",
              " 'entering',\n",
              " 'politics',\n",
              " ',',\n",
              " 'she',\n",
              " 'worked',\n",
              " 'as',\n",
              " 'a',\n",
              " 'junior',\n",
              " 'assistant',\n",
              " 'in',\n",
              " 'the',\n",
              " 'State',\n",
              " 'Irrigation',\n",
              " 'and',\n",
              " 'Power',\n",
              " 'Department',\n",
              " 'from',\n",
              " '1979',\n",
              " 'to',\n",
              " '1983',\n",
              " ',',\n",
              " 'and',\n",
              " 'then',\n",
              " 'as',\n",
              " 'a',\n",
              " 'teacher',\n",
              " 'at',\n",
              " 'Sri',\n",
              " 'Aurobindo',\n",
              " 'Integral',\n",
              " 'Education',\n",
              " 'Centre',\n",
              " 'at',\n",
              " 'Rairangpur',\n",
              " 'until',\n",
              " '1997',\n",
              " '.',\n",
              " 'In',\n",
              " 'June',\n",
              " '2022',\n",
              " ',',\n",
              " 'the',\n",
              " 'BJP',\n",
              " 'nominated',\n",
              " 'Murmu',\n",
              " 'as',\n",
              " 'the',\n",
              " 'National',\n",
              " 'Democratic',\n",
              " 'Alliance',\n",
              " '(',\n",
              " 'NDA',\n",
              " ')',\n",
              " \"'s\",\n",
              " 'presidential',\n",
              " 'candidate',\n",
              " 'for',\n",
              " 'the',\n",
              " '2022',\n",
              " 'election',\n",
              " '.',\n",
              " '[',\n",
              " '3',\n",
              " ']',\n",
              " 'She',\n",
              " 'was',\n",
              " 'elected',\n",
              " 'president',\n",
              " 'in',\n",
              " 'July',\n",
              " '2022',\n",
              " ',',\n",
              " 'becoming',\n",
              " 'the',\n",
              " 'country',\n",
              " \"'s\",\n",
              " 'youngest',\n",
              " 'president',\n",
              " ',',\n",
              " 'the',\n",
              " 'first',\n",
              " 'to',\n",
              " 'be',\n",
              " 'born',\n",
              " 'after',\n",
              " 'India',\n",
              " \"'s\",\n",
              " 'independence',\n",
              " 'and',\n",
              " 'the',\n",
              " 'first',\n",
              " 'person',\n",
              " 'belonging',\n",
              " 'to',\n",
              " 'India',\n",
              " '’',\n",
              " 's',\n",
              " 'scheduled',\n",
              " 'tribes',\n",
              " 'to',\n",
              " 'become',\n",
              " 'the',\n",
              " 'President']"
            ]
          },
          "metadata": {},
          "execution_count": 41
        }
      ]
    },
    {
      "cell_type": "code",
      "source": [
        "sentences"
      ],
      "metadata": {
        "colab": {
          "base_uri": "https://localhost:8080/"
        },
        "id": "g1HMyn2FnJAB",
        "outputId": "5eff93c5-7eb6-4b38-ac10-93c43ce481f1"
      },
      "execution_count": 42,
      "outputs": [
        {
          "output_type": "execute_result",
          "data": {
            "text/plain": [
              "['Droupadi Murmu (born 20 June 1958) is an Indian politician who is the president-elect of India.',\n",
              " 'She is a member of the BJP.',\n",
              " '[1] She is the first person belonging to a Scheduled Tribe (ST) community to be elected President of India.',\n",
              " 'Prior to her presidency she served as the ninth Governor of Jharkhand between 2015 and 2021, and held various portfolios in the cabinet of Government of Odisha between 2000 to 2004.',\n",
              " 'Before entering politics, she worked as a junior assistant in the State Irrigation and Power Department from 1979 to 1983, and then as a teacher at Sri Aurobindo Integral Education Centre at Rairangpur until 1997.',\n",
              " \"In June 2022, the BJP nominated Murmu as the National Democratic Alliance (NDA)'s presidential candidate for the 2022 election.\",\n",
              " \"[3] She was elected president in July 2022, becoming the country's youngest president, the first to be born after India's independence and the first person belonging to India’s scheduled tribes to become the President\"]"
            ]
          },
          "metadata": {},
          "execution_count": 42
        }
      ]
    },
    {
      "cell_type": "code",
      "source": [
        "\n",
        "corpus=[]\n",
        "for i in range(len(sentences)):\n",
        "  #step 2 - Stemming or Lemmatization\n",
        "  words=nltk.word_tokenize(sentences[i])\n",
        "  words=[stemmer.stem(word) for word in words]\n",
        "  print(words)\n",
        "  corpus.append(' '.join(words))"
      ],
      "metadata": {
        "colab": {
          "base_uri": "https://localhost:8080/"
        },
        "id": "_Deos0uUntys",
        "outputId": "8dd5e0f7-32de-4432-ac5a-359703c71a97"
      },
      "execution_count": 43,
      "outputs": [
        {
          "output_type": "stream",
          "name": "stdout",
          "text": [
            "['droupadi', 'murmu', '(', 'born', '20', 'june', '1958', ')', 'is', 'an', 'indian', 'politician', 'who', 'is', 'the', 'president-elect', 'of', 'india', '.']\n",
            "['she', 'is', 'a', 'member', 'of', 'the', 'bjp', '.']\n",
            "['[', '1', ']', 'she', 'is', 'the', 'first', 'person', 'belong', 'to', 'a', 'schedul', 'tribe', '(', 'st', ')', 'commun', 'to', 'be', 'elect', 'presid', 'of', 'india', '.']\n",
            "['prior', 'to', 'her', 'presid', 'she', 'serv', 'as', 'the', 'ninth', 'governor', 'of', 'jharkhand', 'between', '2015', 'and', '2021', ',', 'and', 'held', 'variou', 'portfolio', 'in', 'the', 'cabinet', 'of', 'govern', 'of', 'odisha', 'between', '2000', 'to', '2004', '.']\n",
            "['befor', 'enter', 'polit', ',', 'she', 'work', 'as', 'a', 'junior', 'assist', 'in', 'the', 'state', 'irrig', 'and', 'power', 'depart', 'from', '1979', 'to', '1983', ',', 'and', 'then', 'as', 'a', 'teacher', 'at', 'sri', 'aurobindo', 'integr', 'educ', 'centr', 'at', 'rairangpur', 'until', '1997', '.']\n",
            "['in', 'june', '2022', ',', 'the', 'bjp', 'nomin', 'murmu', 'as', 'the', 'nation', 'democrat', 'allianc', '(', 'nda', ')', \"'s\", 'presidenti', 'candid', 'for', 'the', '2022', 'elect', '.']\n",
            "['[', '3', ']', 'she', 'wa', 'elect', 'presid', 'in', 'juli', '2022', ',', 'becom', 'the', 'countri', \"'s\", 'youngest', 'presid', ',', 'the', 'first', 'to', 'be', 'born', 'after', 'india', \"'s\", 'independ', 'and', 'the', 'first', 'person', 'belong', 'to', 'india', '’', 's', 'schedul', 'tribe', 'to', 'becom', 'the', 'presid']\n"
          ]
        }
      ]
    },
    {
      "cell_type": "code",
      "source": [
        "corpus"
      ],
      "metadata": {
        "colab": {
          "base_uri": "https://localhost:8080/"
        },
        "id": "6ToDeLSgn8jm",
        "outputId": "4beb2b2b-3850-44a2-dffc-401dac9ba6e3"
      },
      "execution_count": 44,
      "outputs": [
        {
          "output_type": "execute_result",
          "data": {
            "text/plain": [
              "['droupadi murmu ( born 20 june 1958 ) is an indian politician who is the president-elect of india .',\n",
              " 'she is a member of the bjp .',\n",
              " '[ 1 ] she is the first person belong to a schedul tribe ( st ) commun to be elect presid of india .',\n",
              " 'prior to her presid she serv as the ninth governor of jharkhand between 2015 and 2021 , and held variou portfolio in the cabinet of govern of odisha between 2000 to 2004 .',\n",
              " 'befor enter polit , she work as a junior assist in the state irrig and power depart from 1979 to 1983 , and then as a teacher at sri aurobindo integr educ centr at rairangpur until 1997 .',\n",
              " \"in june 2022 , the bjp nomin murmu as the nation democrat allianc ( nda ) 's presidenti candid for the 2022 elect .\",\n",
              " \"[ 3 ] she wa elect presid in juli 2022 , becom the countri 's youngest presid , the first to be born after india 's independ and the first person belong to india ’ s schedul tribe to becom the presid\"]"
            ]
          },
          "metadata": {},
          "execution_count": 44
        }
      ]
    },
    {
      "cell_type": "code",
      "source": [
        "corpus=[]\n",
        "for i in range(len(sentences)):\n",
        "  words=nltk.word_tokenize(sentences[i].lower())\n",
        "  #Step 3 - Removing Stop words\n",
        "  words=[stemmer.stem(word) for word in words if not word in stop]\n",
        "  print(words)\n",
        "  corpus.append(' '.join(words))"
      ],
      "metadata": {
        "colab": {
          "base_uri": "https://localhost:8080/"
        },
        "id": "Oivr7EF5n_Hl",
        "outputId": "852b60fc-1df0-4748-bc1e-b2c216eaeebe"
      },
      "execution_count": 45,
      "outputs": [
        {
          "output_type": "stream",
          "name": "stdout",
          "text": [
            "['droupadi', 'murmu', '(', 'born', '20', 'june', '1958', ')', 'indian', 'politician', 'president-elect', 'india', '.']\n",
            "['member', 'bjp', '.']\n",
            "['[', '1', ']', 'first', 'person', 'belong', 'schedul', 'tribe', '(', 'st', ')', 'commun', 'elect', 'presid', 'india', '.']\n",
            "['prior', 'presid', 'serv', 'ninth', 'governor', 'jharkhand', '2015', '2021', ',', 'held', 'variou', 'portfolio', 'cabinet', 'govern', 'odisha', '2000', '2004', '.']\n",
            "['enter', 'polit', ',', 'work', 'junior', 'assist', 'state', 'irrig', 'power', 'depart', '1979', '1983', ',', 'teacher', 'sri', 'aurobindo', 'integr', 'educ', 'centr', 'rairangpur', '1997', '.']\n",
            "['june', '2022', ',', 'bjp', 'nomin', 'murmu', 'nation', 'democrat', 'allianc', '(', 'nda', ')', \"'s\", 'presidenti', 'candid', '2022', 'elect', '.']\n",
            "['[', '3', ']', 'elect', 'presid', 'juli', '2022', ',', 'becom', 'countri', \"'s\", 'youngest', 'presid', ',', 'first', 'born', 'india', \"'s\", 'independ', 'first', 'person', 'belong', 'india', '’', 'schedul', 'tribe', 'becom', 'presid']\n"
          ]
        }
      ]
    },
    {
      "cell_type": "code",
      "source": [
        "corpus"
      ],
      "metadata": {
        "colab": {
          "base_uri": "https://localhost:8080/"
        },
        "id": "ptqzFl0uoIwb",
        "outputId": "0566571a-4068-4b9f-e6ba-6db4c5687e5d"
      },
      "execution_count": 46,
      "outputs": [
        {
          "output_type": "execute_result",
          "data": {
            "text/plain": [
              "['droupadi murmu ( born 20 june 1958 ) indian politician president-elect india .',\n",
              " 'member bjp .',\n",
              " '[ 1 ] first person belong schedul tribe ( st ) commun elect presid india .',\n",
              " 'prior presid serv ninth governor jharkhand 2015 2021 , held variou portfolio cabinet govern odisha 2000 2004 .',\n",
              " 'enter polit , work junior assist state irrig power depart 1979 1983 , teacher sri aurobindo integr educ centr rairangpur 1997 .',\n",
              " \"june 2022 , bjp nomin murmu nation democrat allianc ( nda ) 's presidenti candid 2022 elect .\",\n",
              " \"[ 3 ] elect presid juli 2022 , becom countri 's youngest presid , first born india 's independ first person belong india ’ schedul tribe becom presid\"]"
            ]
          },
          "metadata": {},
          "execution_count": 46
        }
      ]
    },
    {
      "cell_type": "markdown",
      "source": [
        "#Bag of words"
      ],
      "metadata": {
        "id": "_bcwB26xyBVN"
      }
    },
    {
      "cell_type": "code",
      "source": [
        "from sklearn.feature_extraction.text import CountVectorizer"
      ],
      "metadata": {
        "id": "En1ruUsYoQPc"
      },
      "execution_count": 47,
      "outputs": []
    },
    {
      "cell_type": "code",
      "source": [
        "sentences"
      ],
      "metadata": {
        "colab": {
          "base_uri": "https://localhost:8080/"
        },
        "id": "MmH-0TP17TFq",
        "outputId": "bc8ec8a3-2a2d-42a9-f186-885221f3d4de"
      },
      "execution_count": 48,
      "outputs": [
        {
          "output_type": "execute_result",
          "data": {
            "text/plain": [
              "['Droupadi Murmu (born 20 June 1958) is an Indian politician who is the president-elect of India.',\n",
              " 'She is a member of the BJP.',\n",
              " '[1] She is the first person belonging to a Scheduled Tribe (ST) community to be elected President of India.',\n",
              " 'Prior to her presidency she served as the ninth Governor of Jharkhand between 2015 and 2021, and held various portfolios in the cabinet of Government of Odisha between 2000 to 2004.',\n",
              " 'Before entering politics, she worked as a junior assistant in the State Irrigation and Power Department from 1979 to 1983, and then as a teacher at Sri Aurobindo Integral Education Centre at Rairangpur until 1997.',\n",
              " \"In June 2022, the BJP nominated Murmu as the National Democratic Alliance (NDA)'s presidential candidate for the 2022 election.\",\n",
              " \"[3] She was elected president in July 2022, becoming the country's youngest president, the first to be born after India's independence and the first person belonging to India’s scheduled tribes to become the President\"]"
            ]
          },
          "metadata": {},
          "execution_count": 48
        }
      ]
    },
    {
      "cell_type": "code",
      "source": [
        "import re\n",
        "corpus\n",
        "for i in range(len(sentences)):\n",
        "  text=re.sub('[^a-zA-Z1-9]',' ',sentences[i])\n",
        "  text=text.lower()\n",
        "  words=text.split()\n",
        "  words=[stemmer.stem(word) for word in words if not word in stop]\n",
        "  print(words)\n",
        "  corpus.append(' '.join(words))"
      ],
      "metadata": {
        "colab": {
          "base_uri": "https://localhost:8080/"
        },
        "id": "JfcuA0Yn7aXG",
        "outputId": "9e2c82b4-7ad0-4513-8c21-6a69db8b9f9a"
      },
      "execution_count": 50,
      "outputs": [
        {
          "output_type": "stream",
          "name": "stdout",
          "text": [
            "['droupadi', 'murmu', 'born', '2', 'june', '1958', 'indian', 'politician', 'presid', 'elect', 'india']\n",
            "['member', 'bjp']\n",
            "['1', 'first', 'person', 'belong', 'schedul', 'tribe', 'st', 'commun', 'elect', 'presid', 'india']\n",
            "['prior', 'presid', 'serv', 'ninth', 'governor', 'jharkhand', '2', '15', '2', '21', 'held', 'variou', 'portfolio', 'cabinet', 'govern', 'odisha', '2', '2', '4']\n",
            "['enter', 'polit', 'work', 'junior', 'assist', 'state', 'irrig', 'power', 'depart', '1979', '1983', 'teacher', 'sri', 'aurobindo', 'integr', 'educ', 'centr', 'rairangpur', '1997']\n",
            "['june', '2', '22', 'bjp', 'nomin', 'murmu', 'nation', 'democrat', 'allianc', 'nda', 'presidenti', 'candid', '2', '22', 'elect']\n",
            "['3', 'elect', 'presid', 'juli', '2', '22', 'becom', 'countri', 'youngest', 'presid', 'first', 'born', 'india', 'independ', 'first', 'person', 'belong', 'india', 'schedul', 'tribe', 'becom', 'presid']\n"
          ]
        }
      ]
    },
    {
      "cell_type": "code",
      "source": [
        "cv=CountVectorizer()"
      ],
      "metadata": {
        "id": "QMO9Xu8x8MXg"
      },
      "execution_count": 51,
      "outputs": []
    },
    {
      "cell_type": "code",
      "source": [
        "cv.fit_transform(corpus).toarray()"
      ],
      "metadata": {
        "colab": {
          "base_uri": "https://localhost:8080/"
        },
        "id": "uFUF_Qjx8WFz",
        "outputId": "f82073c1-d4f1-4dab-ea21-76b8d0243b43"
      },
      "execution_count": 52,
      "outputs": [
        {
          "output_type": "execute_result",
          "data": {
            "text/plain": [
              "array([[0, 1, 0, 0, 0, 1, 0, 0, 0, 0, 0, 0, 0, 0, 0, 0, 0, 0, 0, 1, 0, 0,\n",
              "        0, 0, 0, 0, 0, 1, 0, 1, 0, 0, 0, 0, 0, 0, 1, 1, 0, 0, 0, 0, 1, 0,\n",
              "        0, 1, 0, 0, 0, 0, 0, 0, 0, 1, 0, 0, 0, 1, 0, 0, 0, 0, 0, 0, 0, 0,\n",
              "        0, 0, 0, 0, 0],\n",
              "       [0, 0, 0, 0, 0, 0, 0, 0, 0, 0, 0, 0, 0, 0, 0, 0, 0, 0, 1, 0, 0, 0,\n",
              "        0, 0, 0, 0, 0, 0, 0, 0, 0, 0, 0, 0, 0, 0, 0, 0, 0, 0, 0, 0, 0, 0,\n",
              "        1, 0, 0, 0, 0, 0, 0, 0, 0, 0, 0, 0, 0, 0, 0, 0, 0, 0, 0, 0, 0, 0,\n",
              "        0, 0, 0, 0, 0],\n",
              "       [0, 0, 0, 0, 0, 0, 0, 0, 0, 0, 0, 0, 0, 0, 0, 0, 0, 1, 0, 0, 0, 0,\n",
              "        0, 1, 0, 0, 0, 0, 0, 1, 0, 1, 0, 0, 0, 0, 1, 0, 0, 0, 0, 0, 0, 0,\n",
              "        0, 0, 0, 0, 0, 0, 0, 1, 0, 0, 0, 0, 1, 0, 0, 0, 0, 1, 0, 0, 1, 0,\n",
              "        0, 1, 0, 0, 0],\n",
              "       [0, 0, 0, 0, 0, 0, 1, 1, 1, 1, 0, 0, 0, 0, 0, 0, 0, 0, 0, 0, 1, 0,\n",
              "        0, 0, 0, 0, 0, 0, 0, 0, 0, 0, 1, 1, 1, 0, 0, 0, 0, 0, 1, 0, 0, 0,\n",
              "        0, 0, 0, 0, 1, 0, 1, 0, 0, 0, 1, 0, 1, 0, 0, 1, 0, 0, 1, 0, 0, 0,\n",
              "        0, 0, 1, 0, 0],\n",
              "       [0, 0, 1, 1, 1, 0, 0, 0, 0, 0, 0, 0, 0, 0, 1, 1, 0, 0, 0, 0, 0, 0,\n",
              "        1, 0, 0, 0, 1, 0, 1, 0, 1, 0, 0, 0, 0, 0, 0, 0, 1, 1, 0, 0, 0, 1,\n",
              "        0, 0, 0, 0, 0, 0, 0, 0, 1, 0, 0, 1, 0, 0, 0, 0, 1, 0, 0, 1, 0, 1,\n",
              "        1, 0, 0, 1, 0],\n",
              "       [0, 0, 0, 0, 0, 0, 0, 0, 0, 0, 2, 0, 0, 1, 0, 0, 0, 0, 1, 0, 0, 1,\n",
              "        0, 0, 0, 1, 0, 0, 0, 1, 0, 0, 0, 0, 0, 0, 0, 0, 0, 0, 0, 0, 1, 0,\n",
              "        0, 1, 1, 1, 0, 1, 0, 0, 0, 0, 0, 0, 0, 0, 1, 0, 0, 0, 0, 0, 0, 0,\n",
              "        0, 0, 0, 0, 0],\n",
              "       [0, 0, 0, 0, 0, 0, 0, 0, 0, 0, 1, 0, 0, 0, 0, 0, 2, 1, 0, 1, 0, 0,\n",
              "        0, 0, 1, 0, 0, 0, 0, 1, 0, 2, 0, 0, 0, 1, 2, 0, 0, 0, 0, 1, 0, 0,\n",
              "        0, 0, 0, 0, 0, 0, 0, 1, 0, 0, 0, 0, 3, 0, 0, 0, 0, 1, 0, 0, 0, 0,\n",
              "        0, 1, 0, 0, 1],\n",
              "       [0, 1, 0, 0, 0, 0, 0, 0, 0, 0, 0, 0, 0, 0, 0, 0, 0, 0, 0, 1, 0, 0,\n",
              "        0, 0, 0, 0, 0, 1, 0, 1, 0, 0, 0, 0, 0, 0, 1, 1, 0, 0, 0, 0, 1, 0,\n",
              "        0, 1, 0, 0, 0, 0, 0, 0, 0, 1, 0, 0, 1, 0, 0, 0, 0, 0, 0, 0, 0, 0,\n",
              "        0, 0, 0, 0, 0],\n",
              "       [0, 0, 0, 0, 0, 0, 0, 0, 0, 0, 0, 0, 0, 0, 0, 0, 0, 0, 1, 0, 0, 0,\n",
              "        0, 0, 0, 0, 0, 0, 0, 0, 0, 0, 0, 0, 0, 0, 0, 0, 0, 0, 0, 0, 0, 0,\n",
              "        1, 0, 0, 0, 0, 0, 0, 0, 0, 0, 0, 0, 0, 0, 0, 0, 0, 0, 0, 0, 0, 0,\n",
              "        0, 0, 0, 0, 0],\n",
              "       [0, 0, 0, 0, 0, 0, 0, 0, 0, 0, 0, 0, 0, 0, 0, 0, 0, 1, 0, 0, 0, 0,\n",
              "        0, 1, 0, 0, 0, 0, 0, 1, 0, 1, 0, 0, 0, 0, 1, 0, 0, 0, 0, 0, 0, 0,\n",
              "        0, 0, 0, 0, 0, 0, 0, 1, 0, 0, 0, 0, 1, 0, 0, 0, 0, 1, 0, 0, 1, 0,\n",
              "        0, 1, 0, 0, 0],\n",
              "       [1, 0, 0, 0, 0, 0, 0, 0, 0, 0, 0, 1, 0, 0, 0, 0, 0, 0, 0, 0, 1, 0,\n",
              "        0, 0, 0, 0, 0, 0, 0, 0, 0, 0, 1, 1, 1, 0, 0, 0, 0, 0, 1, 0, 0, 0,\n",
              "        0, 0, 0, 0, 1, 0, 1, 0, 0, 0, 1, 0, 1, 0, 0, 1, 0, 0, 1, 0, 0, 0,\n",
              "        0, 0, 1, 0, 0],\n",
              "       [0, 0, 1, 1, 1, 0, 0, 0, 0, 0, 0, 0, 0, 0, 1, 1, 0, 0, 0, 0, 0, 0,\n",
              "        1, 0, 0, 0, 1, 0, 1, 0, 1, 0, 0, 0, 0, 0, 0, 0, 1, 1, 0, 0, 0, 1,\n",
              "        0, 0, 0, 0, 0, 0, 0, 0, 1, 0, 0, 1, 0, 0, 0, 0, 1, 0, 0, 1, 0, 1,\n",
              "        1, 0, 0, 1, 0],\n",
              "       [0, 0, 0, 0, 0, 0, 0, 0, 0, 0, 0, 0, 2, 1, 0, 0, 0, 0, 1, 0, 0, 1,\n",
              "        0, 0, 0, 1, 0, 0, 0, 1, 0, 0, 0, 0, 0, 0, 0, 0, 0, 0, 0, 0, 1, 0,\n",
              "        0, 1, 1, 1, 0, 1, 0, 0, 0, 0, 0, 0, 0, 0, 1, 0, 0, 0, 0, 0, 0, 0,\n",
              "        0, 0, 0, 0, 0],\n",
              "       [0, 0, 0, 0, 0, 0, 0, 0, 0, 0, 0, 0, 1, 0, 0, 0, 2, 1, 0, 1, 0, 0,\n",
              "        0, 0, 1, 0, 0, 0, 0, 1, 0, 2, 0, 0, 0, 1, 2, 0, 0, 0, 0, 1, 0, 0,\n",
              "        0, 0, 0, 0, 0, 0, 0, 1, 0, 0, 0, 0, 3, 0, 0, 0, 0, 1, 0, 0, 0, 0,\n",
              "        0, 1, 0, 0, 1]])"
            ]
          },
          "metadata": {},
          "execution_count": 52
        }
      ]
    },
    {
      "cell_type": "code",
      "source": [
        "cv.fit_transform(corpus).toarray().shape"
      ],
      "metadata": {
        "colab": {
          "base_uri": "https://localhost:8080/"
        },
        "id": "S8S19Z-39ZoX",
        "outputId": "e9efe24f-aeb9-41b2-ecd7-a70c05da1d98"
      },
      "execution_count": 53,
      "outputs": [
        {
          "output_type": "execute_result",
          "data": {
            "text/plain": [
              "(14, 71)"
            ]
          },
          "metadata": {},
          "execution_count": 53
        }
      ]
    },
    {
      "cell_type": "code",
      "source": [
        "cv.vocabulary_"
      ],
      "metadata": {
        "colab": {
          "base_uri": "https://localhost:8080/"
        },
        "id": "Xip1_dNS8eGg",
        "outputId": "a879cd98-0fa5-4da5-e6bc-6468d353b106"
      },
      "execution_count": 54,
      "outputs": [
        {
          "output_type": "execute_result",
          "data": {
            "text/plain": [
              "{'15': 0,\n",
              " '1958': 1,\n",
              " '1979': 2,\n",
              " '1983': 3,\n",
              " '1997': 4,\n",
              " '20': 5,\n",
              " '2000': 6,\n",
              " '2004': 7,\n",
              " '2015': 8,\n",
              " '2021': 9,\n",
              " '2022': 10,\n",
              " '21': 11,\n",
              " '22': 12,\n",
              " 'allianc': 13,\n",
              " 'assist': 14,\n",
              " 'aurobindo': 15,\n",
              " 'becom': 16,\n",
              " 'belong': 17,\n",
              " 'bjp': 18,\n",
              " 'born': 19,\n",
              " 'cabinet': 20,\n",
              " 'candid': 21,\n",
              " 'centr': 22,\n",
              " 'commun': 23,\n",
              " 'countri': 24,\n",
              " 'democrat': 25,\n",
              " 'depart': 26,\n",
              " 'droupadi': 27,\n",
              " 'educ': 28,\n",
              " 'elect': 29,\n",
              " 'enter': 30,\n",
              " 'first': 31,\n",
              " 'govern': 32,\n",
              " 'governor': 33,\n",
              " 'held': 34,\n",
              " 'independ': 35,\n",
              " 'india': 36,\n",
              " 'indian': 37,\n",
              " 'integr': 38,\n",
              " 'irrig': 39,\n",
              " 'jharkhand': 40,\n",
              " 'juli': 41,\n",
              " 'june': 42,\n",
              " 'junior': 43,\n",
              " 'member': 44,\n",
              " 'murmu': 45,\n",
              " 'nation': 46,\n",
              " 'nda': 47,\n",
              " 'ninth': 48,\n",
              " 'nomin': 49,\n",
              " 'odisha': 50,\n",
              " 'person': 51,\n",
              " 'polit': 52,\n",
              " 'politician': 53,\n",
              " 'portfolio': 54,\n",
              " 'power': 55,\n",
              " 'presid': 56,\n",
              " 'president': 57,\n",
              " 'presidenti': 58,\n",
              " 'prior': 59,\n",
              " 'rairangpur': 60,\n",
              " 'schedul': 61,\n",
              " 'serv': 62,\n",
              " 'sri': 63,\n",
              " 'st': 64,\n",
              " 'state': 65,\n",
              " 'teacher': 66,\n",
              " 'tribe': 67,\n",
              " 'variou': 68,\n",
              " 'work': 69,\n",
              " 'youngest': 70}"
            ]
          },
          "metadata": {},
          "execution_count": 54
        }
      ]
    },
    {
      "cell_type": "markdown",
      "source": [
        "#Bigram"
      ],
      "metadata": {
        "id": "BPbYGiOOyiGy"
      }
    },
    {
      "cell_type": "code",
      "source": [
        "cv=CountVectorizer(binary=True,ngram_range=(1,2))"
      ],
      "metadata": {
        "id": "vGC7DXg9FgBT"
      },
      "execution_count": 55,
      "outputs": []
    },
    {
      "cell_type": "code",
      "source": [
        "cv.fit_transform(corpus).toarray()"
      ],
      "metadata": {
        "colab": {
          "base_uri": "https://localhost:8080/"
        },
        "id": "WasJsyOoFrKr",
        "outputId": "33c39290-0a1d-4c03-f526-ce5ae6bd9a3d"
      },
      "execution_count": 56,
      "outputs": [
        {
          "output_type": "execute_result",
          "data": {
            "text/plain": [
              "array([[0, 0, 1, ..., 0, 0, 0],\n",
              "       [0, 0, 0, ..., 0, 0, 0],\n",
              "       [0, 0, 0, ..., 0, 0, 0],\n",
              "       ...,\n",
              "       [0, 0, 0, ..., 1, 0, 0],\n",
              "       [0, 0, 0, ..., 0, 0, 0],\n",
              "       [0, 0, 0, ..., 0, 1, 1]])"
            ]
          },
          "metadata": {},
          "execution_count": 56
        }
      ]
    },
    {
      "cell_type": "code",
      "source": [
        "cv.vocabulary_"
      ],
      "metadata": {
        "colab": {
          "base_uri": "https://localhost:8080/"
        },
        "id": "1V9wOMn2FtAH",
        "outputId": "1091c64f-51e7-4533-9092-492f18a7104f"
      },
      "execution_count": 57,
      "outputs": [
        {
          "output_type": "execute_result",
          "data": {
            "text/plain": [
              "{'15': 0,\n",
              " '15 21': 1,\n",
              " '1958': 2,\n",
              " '1958 indian': 3,\n",
              " '1979': 4,\n",
              " '1979 1983': 5,\n",
              " '1983': 6,\n",
              " '1983 teacher': 7,\n",
              " '1997': 8,\n",
              " '20': 9,\n",
              " '20 june': 10,\n",
              " '2000': 11,\n",
              " '2000 2004': 12,\n",
              " '2004': 13,\n",
              " '2015': 14,\n",
              " '2015 2021': 15,\n",
              " '2021': 16,\n",
              " '2021 held': 17,\n",
              " '2022': 18,\n",
              " '2022 becom': 19,\n",
              " '2022 bjp': 20,\n",
              " '2022 elect': 21,\n",
              " '21': 22,\n",
              " '21 held': 23,\n",
              " '22': 24,\n",
              " '22 becom': 25,\n",
              " '22 bjp': 26,\n",
              " '22 elect': 27,\n",
              " 'allianc': 28,\n",
              " 'allianc nda': 29,\n",
              " 'assist': 30,\n",
              " 'assist state': 31,\n",
              " 'aurobindo': 32,\n",
              " 'aurobindo integr': 33,\n",
              " 'becom': 34,\n",
              " 'becom countri': 35,\n",
              " 'becom presid': 36,\n",
              " 'belong': 37,\n",
              " 'belong india': 38,\n",
              " 'belong schedul': 39,\n",
              " 'bjp': 40,\n",
              " 'bjp nomin': 41,\n",
              " 'born': 42,\n",
              " 'born 20': 43,\n",
              " 'born india': 44,\n",
              " 'born june': 45,\n",
              " 'cabinet': 46,\n",
              " 'cabinet govern': 47,\n",
              " 'candid': 48,\n",
              " 'candid 2022': 49,\n",
              " 'candid 22': 50,\n",
              " 'centr': 51,\n",
              " 'centr rairangpur': 52,\n",
              " 'commun': 53,\n",
              " 'commun elect': 54,\n",
              " 'countri': 55,\n",
              " 'countri youngest': 56,\n",
              " 'democrat': 57,\n",
              " 'democrat allianc': 58,\n",
              " 'depart': 59,\n",
              " 'depart 1979': 60,\n",
              " 'droupadi': 61,\n",
              " 'droupadi murmu': 62,\n",
              " 'educ': 63,\n",
              " 'educ centr': 64,\n",
              " 'elect': 65,\n",
              " 'elect india': 66,\n",
              " 'elect presid': 67,\n",
              " 'enter': 68,\n",
              " 'enter polit': 69,\n",
              " 'first': 70,\n",
              " 'first born': 71,\n",
              " 'first person': 72,\n",
              " 'govern': 73,\n",
              " 'govern odisha': 74,\n",
              " 'governor': 75,\n",
              " 'governor jharkhand': 76,\n",
              " 'held': 77,\n",
              " 'held variou': 78,\n",
              " 'independ': 79,\n",
              " 'independ first': 80,\n",
              " 'india': 81,\n",
              " 'india independ': 82,\n",
              " 'india schedul': 83,\n",
              " 'indian': 84,\n",
              " 'indian politician': 85,\n",
              " 'integr': 86,\n",
              " 'integr educ': 87,\n",
              " 'irrig': 88,\n",
              " 'irrig power': 89,\n",
              " 'jharkhand': 90,\n",
              " 'jharkhand 15': 91,\n",
              " 'jharkhand 2015': 92,\n",
              " 'juli': 93,\n",
              " 'juli 2022': 94,\n",
              " 'juli 22': 95,\n",
              " 'june': 96,\n",
              " 'june 1958': 97,\n",
              " 'june 2022': 98,\n",
              " 'june 22': 99,\n",
              " 'junior': 100,\n",
              " 'junior assist': 101,\n",
              " 'member': 102,\n",
              " 'member bjp': 103,\n",
              " 'murmu': 104,\n",
              " 'murmu born': 105,\n",
              " 'murmu nation': 106,\n",
              " 'nation': 107,\n",
              " 'nation democrat': 108,\n",
              " 'nda': 109,\n",
              " 'nda presidenti': 110,\n",
              " 'ninth': 111,\n",
              " 'ninth governor': 112,\n",
              " 'nomin': 113,\n",
              " 'nomin murmu': 114,\n",
              " 'odisha': 115,\n",
              " 'odisha 2000': 116,\n",
              " 'person': 117,\n",
              " 'person belong': 118,\n",
              " 'polit': 119,\n",
              " 'polit work': 120,\n",
              " 'politician': 121,\n",
              " 'politician presid': 122,\n",
              " 'politician president': 123,\n",
              " 'portfolio': 124,\n",
              " 'portfolio cabinet': 125,\n",
              " 'power': 126,\n",
              " 'power depart': 127,\n",
              " 'presid': 128,\n",
              " 'presid elect': 129,\n",
              " 'presid first': 130,\n",
              " 'presid india': 131,\n",
              " 'presid juli': 132,\n",
              " 'presid serv': 133,\n",
              " 'president': 134,\n",
              " 'president elect': 135,\n",
              " 'presidenti': 136,\n",
              " 'presidenti candid': 137,\n",
              " 'prior': 138,\n",
              " 'prior presid': 139,\n",
              " 'rairangpur': 140,\n",
              " 'rairangpur 1997': 141,\n",
              " 'schedul': 142,\n",
              " 'schedul tribe': 143,\n",
              " 'serv': 144,\n",
              " 'serv ninth': 145,\n",
              " 'sri': 146,\n",
              " 'sri aurobindo': 147,\n",
              " 'st': 148,\n",
              " 'st commun': 149,\n",
              " 'state': 150,\n",
              " 'state irrig': 151,\n",
              " 'teacher': 152,\n",
              " 'teacher sri': 153,\n",
              " 'tribe': 154,\n",
              " 'tribe becom': 155,\n",
              " 'tribe st': 156,\n",
              " 'variou': 157,\n",
              " 'variou portfolio': 158,\n",
              " 'work': 159,\n",
              " 'work junior': 160,\n",
              " 'youngest': 161,\n",
              " 'youngest presid': 162}"
            ]
          },
          "metadata": {},
          "execution_count": 57
        }
      ]
    },
    {
      "cell_type": "markdown",
      "source": [
        "#Tf_idf"
      ],
      "metadata": {
        "id": "GMP-pB30yltt"
      }
    },
    {
      "cell_type": "code",
      "source": [
        "from sklearn.feature_extraction.text import TfidfVectorizer"
      ],
      "metadata": {
        "id": "F3lZXCxo8pbz"
      },
      "execution_count": 58,
      "outputs": []
    },
    {
      "cell_type": "code",
      "source": [
        "tf_idf=TfidfVectorizer()"
      ],
      "metadata": {
        "id": "J4g7l7Tz9ngm"
      },
      "execution_count": 59,
      "outputs": []
    },
    {
      "cell_type": "code",
      "source": [
        "tf_idf.fit_transform(corpus).toarray()"
      ],
      "metadata": {
        "colab": {
          "base_uri": "https://localhost:8080/"
        },
        "id": "m-zIgsix9saP",
        "outputId": "bdc18b7f-4015-4086-c083-6425bcc63339"
      },
      "execution_count": 60,
      "outputs": [
        {
          "output_type": "execute_result",
          "data": {
            "text/plain": [
              "array([[0.        , 0.32613847, 0.        , 0.        , 0.        ,\n",
              "        0.3768152 , 0.        , 0.        , 0.        , 0.        ,\n",
              "        0.        , 0.        , 0.        , 0.        , 0.        ,\n",
              "        0.        , 0.        , 0.        , 0.        , 0.26229335,\n",
              "        0.        , 0.        , 0.        , 0.        , 0.        ,\n",
              "        0.        , 0.        , 0.32613847, 0.        , 0.18882931,\n",
              "        0.        , 0.        , 0.        , 0.        , 0.        ,\n",
              "        0.        , 0.22023964, 0.32613847, 0.        , 0.        ,\n",
              "        0.        , 0.        , 0.26229335, 0.        , 0.        ,\n",
              "        0.26229335, 0.        , 0.        , 0.        , 0.        ,\n",
              "        0.        , 0.        , 0.        , 0.32613847, 0.        ,\n",
              "        0.        , 0.        , 0.3768152 , 0.        , 0.        ,\n",
              "        0.        , 0.        , 0.        , 0.        , 0.        ,\n",
              "        0.        , 0.        , 0.        , 0.        , 0.        ,\n",
              "        0.        ],\n",
              "       [0.        , 0.        , 0.        , 0.        , 0.        ,\n",
              "        0.        , 0.        , 0.        , 0.        , 0.        ,\n",
              "        0.        , 0.        , 0.        , 0.        , 0.        ,\n",
              "        0.        , 0.        , 0.        , 0.62670725, 0.        ,\n",
              "        0.        , 0.        , 0.        , 0.        , 0.        ,\n",
              "        0.        , 0.        , 0.        , 0.        , 0.        ,\n",
              "        0.        , 0.        , 0.        , 0.        , 0.        ,\n",
              "        0.        , 0.        , 0.        , 0.        , 0.        ,\n",
              "        0.        , 0.        , 0.        , 0.        , 0.77925478,\n",
              "        0.        , 0.        , 0.        , 0.        , 0.        ,\n",
              "        0.        , 0.        , 0.        , 0.        , 0.        ,\n",
              "        0.        , 0.        , 0.        , 0.        , 0.        ,\n",
              "        0.        , 0.        , 0.        , 0.        , 0.        ,\n",
              "        0.        , 0.        , 0.        , 0.        , 0.        ,\n",
              "        0.        ],\n",
              "       [0.        , 0.        , 0.        , 0.        , 0.        ,\n",
              "        0.        , 0.        , 0.        , 0.        , 0.        ,\n",
              "        0.        , 0.        , 0.        , 0.        , 0.        ,\n",
              "        0.        , 0.        , 0.31753704, 0.        , 0.        ,\n",
              "        0.        , 0.        , 0.        , 0.39482909, 0.        ,\n",
              "        0.        , 0.        , 0.        , 0.        , 0.22860015,\n",
              "        0.        , 0.31753704, 0.        , 0.        , 0.        ,\n",
              "        0.        , 0.26662606, 0.        , 0.        , 0.        ,\n",
              "        0.        , 0.        , 0.        , 0.        , 0.        ,\n",
              "        0.        , 0.        , 0.        , 0.        , 0.        ,\n",
              "        0.        , 0.31753704, 0.        , 0.        , 0.        ,\n",
              "        0.        , 0.24642168, 0.        , 0.        , 0.        ,\n",
              "        0.        , 0.31753704, 0.        , 0.        , 0.39482909,\n",
              "        0.        , 0.        , 0.31753704, 0.        , 0.        ,\n",
              "        0.        ],\n",
              "       [0.        , 0.        , 0.        , 0.        , 0.        ,\n",
              "        0.        , 0.28248089, 0.28248089, 0.28248089, 0.28248089,\n",
              "        0.        , 0.        , 0.        , 0.        , 0.        ,\n",
              "        0.        , 0.        , 0.        , 0.        , 0.        ,\n",
              "        0.2444909 , 0.        , 0.        , 0.        , 0.        ,\n",
              "        0.        , 0.        , 0.        , 0.        , 0.        ,\n",
              "        0.        , 0.        , 0.2444909 , 0.2444909 , 0.2444909 ,\n",
              "        0.        , 0.        , 0.        , 0.        , 0.        ,\n",
              "        0.2444909 , 0.        , 0.        , 0.        , 0.        ,\n",
              "        0.        , 0.        , 0.        , 0.2444909 , 0.        ,\n",
              "        0.2444909 , 0.        , 0.        , 0.        , 0.2444909 ,\n",
              "        0.        , 0.15259225, 0.        , 0.        , 0.2444909 ,\n",
              "        0.        , 0.        , 0.2444909 , 0.        , 0.        ,\n",
              "        0.        , 0.        , 0.        , 0.2444909 , 0.        ,\n",
              "        0.        ],\n",
              "       [0.        , 0.        , 0.22941573, 0.22941573, 0.22941573,\n",
              "        0.        , 0.        , 0.        , 0.        , 0.        ,\n",
              "        0.        , 0.        , 0.        , 0.        , 0.22941573,\n",
              "        0.22941573, 0.        , 0.        , 0.        , 0.        ,\n",
              "        0.        , 0.        , 0.22941573, 0.        , 0.        ,\n",
              "        0.        , 0.22941573, 0.        , 0.22941573, 0.        ,\n",
              "        0.22941573, 0.        , 0.        , 0.        , 0.        ,\n",
              "        0.        , 0.        , 0.        , 0.22941573, 0.22941573,\n",
              "        0.        , 0.        , 0.        , 0.22941573, 0.        ,\n",
              "        0.        , 0.        , 0.        , 0.        , 0.        ,\n",
              "        0.        , 0.        , 0.22941573, 0.        , 0.        ,\n",
              "        0.22941573, 0.        , 0.        , 0.        , 0.        ,\n",
              "        0.22941573, 0.        , 0.        , 0.22941573, 0.        ,\n",
              "        0.22941573, 0.22941573, 0.        , 0.        , 0.22941573,\n",
              "        0.        ],\n",
              "       [0.        , 0.        , 0.        , 0.        , 0.        ,\n",
              "        0.        , 0.        , 0.        , 0.        , 0.        ,\n",
              "        0.54891171, 0.        , 0.        , 0.27445585, 0.        ,\n",
              "        0.        , 0.        , 0.        , 0.22072816, 0.        ,\n",
              "        0.        , 0.27445585, 0.        , 0.        , 0.        ,\n",
              "        0.27445585, 0.        , 0.        , 0.        , 0.15890584,\n",
              "        0.        , 0.        , 0.        , 0.        , 0.        ,\n",
              "        0.        , 0.        , 0.        , 0.        , 0.        ,\n",
              "        0.        , 0.        , 0.22072816, 0.        , 0.        ,\n",
              "        0.22072816, 0.27445585, 0.27445585, 0.        , 0.27445585,\n",
              "        0.        , 0.        , 0.        , 0.        , 0.        ,\n",
              "        0.        , 0.        , 0.        , 0.27445585, 0.        ,\n",
              "        0.        , 0.        , 0.        , 0.        , 0.        ,\n",
              "        0.        , 0.        , 0.        , 0.        , 0.        ,\n",
              "        0.        ],\n",
              "       [0.        , 0.        , 0.        , 0.        , 0.        ,\n",
              "        0.        , 0.        , 0.        , 0.        , 0.        ,\n",
              "        0.22093699, 0.        , 0.        , 0.        , 0.        ,\n",
              "        0.        , 0.44187398, 0.17768619, 0.        , 0.17768619,\n",
              "        0.        , 0.        , 0.        , 0.        , 0.22093699,\n",
              "        0.        , 0.        , 0.        , 0.        , 0.12791922,\n",
              "        0.        , 0.35537238, 0.        , 0.        , 0.        ,\n",
              "        0.22093699, 0.29839523, 0.        , 0.        , 0.        ,\n",
              "        0.        , 0.22093699, 0.        , 0.        , 0.        ,\n",
              "        0.        , 0.        , 0.        , 0.        , 0.        ,\n",
              "        0.        , 0.17768619, 0.        , 0.        , 0.        ,\n",
              "        0.        , 0.41367517, 0.        , 0.        , 0.        ,\n",
              "        0.        , 0.17768619, 0.        , 0.        , 0.        ,\n",
              "        0.        , 0.        , 0.17768619, 0.        , 0.        ,\n",
              "        0.22093699],\n",
              "       [0.        , 0.37473485, 0.        , 0.        , 0.        ,\n",
              "        0.        , 0.        , 0.        , 0.        , 0.        ,\n",
              "        0.        , 0.        , 0.        , 0.        , 0.        ,\n",
              "        0.        , 0.        , 0.        , 0.        , 0.30137646,\n",
              "        0.        , 0.        , 0.        , 0.        , 0.        ,\n",
              "        0.        , 0.        , 0.37473485, 0.        , 0.21696589,\n",
              "        0.        , 0.        , 0.        , 0.        , 0.        ,\n",
              "        0.        , 0.25305653, 0.37473485, 0.        , 0.        ,\n",
              "        0.        , 0.        , 0.30137646, 0.        , 0.        ,\n",
              "        0.30137646, 0.        , 0.        , 0.        , 0.        ,\n",
              "        0.        , 0.        , 0.        , 0.37473485, 0.        ,\n",
              "        0.        , 0.23388042, 0.        , 0.        , 0.        ,\n",
              "        0.        , 0.        , 0.        , 0.        , 0.        ,\n",
              "        0.        , 0.        , 0.        , 0.        , 0.        ,\n",
              "        0.        ],\n",
              "       [0.        , 0.        , 0.        , 0.        , 0.        ,\n",
              "        0.        , 0.        , 0.        , 0.        , 0.        ,\n",
              "        0.        , 0.        , 0.        , 0.        , 0.        ,\n",
              "        0.        , 0.        , 0.        , 0.62670725, 0.        ,\n",
              "        0.        , 0.        , 0.        , 0.        , 0.        ,\n",
              "        0.        , 0.        , 0.        , 0.        , 0.        ,\n",
              "        0.        , 0.        , 0.        , 0.        , 0.        ,\n",
              "        0.        , 0.        , 0.        , 0.        , 0.        ,\n",
              "        0.        , 0.        , 0.        , 0.        , 0.77925478,\n",
              "        0.        , 0.        , 0.        , 0.        , 0.        ,\n",
              "        0.        , 0.        , 0.        , 0.        , 0.        ,\n",
              "        0.        , 0.        , 0.        , 0.        , 0.        ,\n",
              "        0.        , 0.        , 0.        , 0.        , 0.        ,\n",
              "        0.        , 0.        , 0.        , 0.        , 0.        ,\n",
              "        0.        ],\n",
              "       [0.        , 0.        , 0.        , 0.        , 0.        ,\n",
              "        0.        , 0.        , 0.        , 0.        , 0.        ,\n",
              "        0.        , 0.        , 0.        , 0.        , 0.        ,\n",
              "        0.        , 0.        , 0.31753704, 0.        , 0.        ,\n",
              "        0.        , 0.        , 0.        , 0.39482909, 0.        ,\n",
              "        0.        , 0.        , 0.        , 0.        , 0.22860015,\n",
              "        0.        , 0.31753704, 0.        , 0.        , 0.        ,\n",
              "        0.        , 0.26662606, 0.        , 0.        , 0.        ,\n",
              "        0.        , 0.        , 0.        , 0.        , 0.        ,\n",
              "        0.        , 0.        , 0.        , 0.        , 0.        ,\n",
              "        0.        , 0.31753704, 0.        , 0.        , 0.        ,\n",
              "        0.        , 0.24642168, 0.        , 0.        , 0.        ,\n",
              "        0.        , 0.31753704, 0.        , 0.        , 0.39482909,\n",
              "        0.        , 0.        , 0.31753704, 0.        , 0.        ,\n",
              "        0.        ],\n",
              "       [0.3081369 , 0.        , 0.        , 0.        , 0.        ,\n",
              "        0.        , 0.        , 0.        , 0.        , 0.        ,\n",
              "        0.        , 0.3081369 , 0.        , 0.        , 0.        ,\n",
              "        0.        , 0.        , 0.        , 0.        , 0.        ,\n",
              "        0.26669651, 0.        , 0.        , 0.        , 0.        ,\n",
              "        0.        , 0.        , 0.        , 0.        , 0.        ,\n",
              "        0.        , 0.        , 0.26669651, 0.26669651, 0.26669651,\n",
              "        0.        , 0.        , 0.        , 0.        , 0.        ,\n",
              "        0.26669651, 0.        , 0.        , 0.        , 0.        ,\n",
              "        0.        , 0.        , 0.        , 0.26669651, 0.        ,\n",
              "        0.26669651, 0.        , 0.        , 0.        , 0.26669651,\n",
              "        0.        , 0.16645126, 0.        , 0.        , 0.26669651,\n",
              "        0.        , 0.        , 0.26669651, 0.        , 0.        ,\n",
              "        0.        , 0.        , 0.        , 0.26669651, 0.        ,\n",
              "        0.        ],\n",
              "       [0.        , 0.        , 0.22941573, 0.22941573, 0.22941573,\n",
              "        0.        , 0.        , 0.        , 0.        , 0.        ,\n",
              "        0.        , 0.        , 0.        , 0.        , 0.22941573,\n",
              "        0.22941573, 0.        , 0.        , 0.        , 0.        ,\n",
              "        0.        , 0.        , 0.22941573, 0.        , 0.        ,\n",
              "        0.        , 0.22941573, 0.        , 0.22941573, 0.        ,\n",
              "        0.22941573, 0.        , 0.        , 0.        , 0.        ,\n",
              "        0.        , 0.        , 0.        , 0.22941573, 0.22941573,\n",
              "        0.        , 0.        , 0.        , 0.22941573, 0.        ,\n",
              "        0.        , 0.        , 0.        , 0.        , 0.        ,\n",
              "        0.        , 0.        , 0.22941573, 0.        , 0.        ,\n",
              "        0.22941573, 0.        , 0.        , 0.        , 0.        ,\n",
              "        0.22941573, 0.        , 0.        , 0.22941573, 0.        ,\n",
              "        0.22941573, 0.22941573, 0.        , 0.        , 0.22941573,\n",
              "        0.        ],\n",
              "       [0.        , 0.        , 0.        , 0.        , 0.        ,\n",
              "        0.        , 0.        , 0.        , 0.        , 0.        ,\n",
              "        0.        , 0.        , 0.54891171, 0.27445585, 0.        ,\n",
              "        0.        , 0.        , 0.        , 0.22072816, 0.        ,\n",
              "        0.        , 0.27445585, 0.        , 0.        , 0.        ,\n",
              "        0.27445585, 0.        , 0.        , 0.        , 0.15890584,\n",
              "        0.        , 0.        , 0.        , 0.        , 0.        ,\n",
              "        0.        , 0.        , 0.        , 0.        , 0.        ,\n",
              "        0.        , 0.        , 0.22072816, 0.        , 0.        ,\n",
              "        0.22072816, 0.27445585, 0.27445585, 0.        , 0.27445585,\n",
              "        0.        , 0.        , 0.        , 0.        , 0.        ,\n",
              "        0.        , 0.        , 0.        , 0.27445585, 0.        ,\n",
              "        0.        , 0.        , 0.        , 0.        , 0.        ,\n",
              "        0.        , 0.        , 0.        , 0.        , 0.        ,\n",
              "        0.        ],\n",
              "       [0.        , 0.        , 0.        , 0.        , 0.        ,\n",
              "        0.        , 0.        , 0.        , 0.        , 0.        ,\n",
              "        0.        , 0.        , 0.22093699, 0.        , 0.        ,\n",
              "        0.        , 0.44187398, 0.17768619, 0.        , 0.17768619,\n",
              "        0.        , 0.        , 0.        , 0.        , 0.22093699,\n",
              "        0.        , 0.        , 0.        , 0.        , 0.12791922,\n",
              "        0.        , 0.35537238, 0.        , 0.        , 0.        ,\n",
              "        0.22093699, 0.29839523, 0.        , 0.        , 0.        ,\n",
              "        0.        , 0.22093699, 0.        , 0.        , 0.        ,\n",
              "        0.        , 0.        , 0.        , 0.        , 0.        ,\n",
              "        0.        , 0.17768619, 0.        , 0.        , 0.        ,\n",
              "        0.        , 0.41367517, 0.        , 0.        , 0.        ,\n",
              "        0.        , 0.17768619, 0.        , 0.        , 0.        ,\n",
              "        0.        , 0.        , 0.17768619, 0.        , 0.        ,\n",
              "        0.22093699]])"
            ]
          },
          "metadata": {},
          "execution_count": 60
        }
      ]
    },
    {
      "cell_type": "code",
      "source": [
        "tf_idf.vocabulary_"
      ],
      "metadata": {
        "colab": {
          "base_uri": "https://localhost:8080/"
        },
        "id": "Rdp5kyH2GGAf",
        "outputId": "abc80ed4-d004-454d-f4fc-9b6e23b96b6a"
      },
      "execution_count": 61,
      "outputs": [
        {
          "output_type": "execute_result",
          "data": {
            "text/plain": [
              "{'15': 0,\n",
              " '1958': 1,\n",
              " '1979': 2,\n",
              " '1983': 3,\n",
              " '1997': 4,\n",
              " '20': 5,\n",
              " '2000': 6,\n",
              " '2004': 7,\n",
              " '2015': 8,\n",
              " '2021': 9,\n",
              " '2022': 10,\n",
              " '21': 11,\n",
              " '22': 12,\n",
              " 'allianc': 13,\n",
              " 'assist': 14,\n",
              " 'aurobindo': 15,\n",
              " 'becom': 16,\n",
              " 'belong': 17,\n",
              " 'bjp': 18,\n",
              " 'born': 19,\n",
              " 'cabinet': 20,\n",
              " 'candid': 21,\n",
              " 'centr': 22,\n",
              " 'commun': 23,\n",
              " 'countri': 24,\n",
              " 'democrat': 25,\n",
              " 'depart': 26,\n",
              " 'droupadi': 27,\n",
              " 'educ': 28,\n",
              " 'elect': 29,\n",
              " 'enter': 30,\n",
              " 'first': 31,\n",
              " 'govern': 32,\n",
              " 'governor': 33,\n",
              " 'held': 34,\n",
              " 'independ': 35,\n",
              " 'india': 36,\n",
              " 'indian': 37,\n",
              " 'integr': 38,\n",
              " 'irrig': 39,\n",
              " 'jharkhand': 40,\n",
              " 'juli': 41,\n",
              " 'june': 42,\n",
              " 'junior': 43,\n",
              " 'member': 44,\n",
              " 'murmu': 45,\n",
              " 'nation': 46,\n",
              " 'nda': 47,\n",
              " 'ninth': 48,\n",
              " 'nomin': 49,\n",
              " 'odisha': 50,\n",
              " 'person': 51,\n",
              " 'polit': 52,\n",
              " 'politician': 53,\n",
              " 'portfolio': 54,\n",
              " 'power': 55,\n",
              " 'presid': 56,\n",
              " 'president': 57,\n",
              " 'presidenti': 58,\n",
              " 'prior': 59,\n",
              " 'rairangpur': 60,\n",
              " 'schedul': 61,\n",
              " 'serv': 62,\n",
              " 'sri': 63,\n",
              " 'st': 64,\n",
              " 'state': 65,\n",
              " 'teacher': 66,\n",
              " 'tribe': 67,\n",
              " 'variou': 68,\n",
              " 'work': 69,\n",
              " 'youngest': 70}"
            ]
          },
          "metadata": {},
          "execution_count": 61
        }
      ]
    },
    {
      "cell_type": "code",
      "source": [
        "import pickle\n",
        "pickle.dump(tf_idf,open('tfidf.pkl','wb'))"
      ],
      "metadata": {
        "id": "dAW16_w7-59H"
      },
      "execution_count": 63,
      "outputs": []
    },
    {
      "cell_type": "code",
      "source": [
        ""
      ],
      "metadata": {
        "id": "OC8eY5g_A3Ye"
      },
      "execution_count": 63,
      "outputs": []
    },
    {
      "cell_type": "code",
      "source": [
        ""
      ],
      "metadata": {
        "id": "K5l4X3X1BTQ-"
      },
      "execution_count": 63,
      "outputs": []
    },
    {
      "cell_type": "code",
      "source": [
        ""
      ],
      "metadata": {
        "id": "ez_sMO8bBeXW"
      },
      "execution_count": 63,
      "outputs": []
    }
  ]
}