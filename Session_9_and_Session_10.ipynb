{
  "nbformat": 4,
  "nbformat_minor": 0,
  "metadata": {
    "colab": {
      "name": "Session 9 and Session 10.ipynb",
      "provenance": [],
      "authorship_tag": "ABX9TyPno58kCdz1agTJuqOxNLdj",
      "include_colab_link": true
    },
    "kernelspec": {
      "name": "python3",
      "display_name": "Python 3"
    },
    "language_info": {
      "name": "python"
    }
  },
  "cells": [
    {
      "cell_type": "markdown",
      "metadata": {
        "id": "view-in-github",
        "colab_type": "text"
      },
      "source": [
        "<a href=\"https://colab.research.google.com/github/GyanendraChaubey/Python-Tutorials/blob/main/Session_9_and_Session_10.ipynb\" target=\"_parent\"><img src=\"https://colab.research.google.com/assets/colab-badge.svg\" alt=\"Open In Colab\"/></a>"
      ]
    },
    {
      "cell_type": "markdown",
      "metadata": {
        "id": "oiKUwXbK4K0a"
      },
      "source": [
        "Abstraction and Encapsulation"
      ]
    },
    {
      "cell_type": "code",
      "metadata": {
        "colab": {
          "base_uri": "https://localhost:8080/"
        },
        "id": "q5bWnxuf4BEU",
        "outputId": "2fc7cbbb-99bb-470d-c7c9-dd2bfd524cc0"
      },
      "source": [
        "from abc import ABC, abstractclassmethod\n",
        "class Car(ABC):\n",
        "  def mileage(self):\n",
        "    pass\n",
        "\n",
        "class Tesla(Car):\n",
        "  def mileage(self):\n",
        "    print(\"Mileage is 20km/hr\")\n",
        "\n",
        "class Suzuki(Car):\n",
        "  def mileage(self):\n",
        "    print(\"Mileage is 18km/hr\")\n",
        "\n",
        "class Duster(Car):\n",
        "  def mileage(self):\n",
        "    print(\"Mileage is 19km/hr\")\n",
        "\n",
        "t=Tesla()\n",
        "t.mileage()\n",
        "\n",
        "s=Suzuki()\n",
        "s.mileage()\n",
        "\n",
        "d=Duster()\n",
        "d.mileage()\n",
        "\n"
      ],
      "execution_count": 4,
      "outputs": [
        {
          "output_type": "stream",
          "text": [
            "Mileage is 20km/hr\n",
            "Mileage is 18km/hr\n",
            "Mileage is 19km/hr\n"
          ],
          "name": "stdout"
        }
      ]
    },
    {
      "cell_type": "code",
      "metadata": {
        "colab": {
          "base_uri": "https://localhost:8080/"
        },
        "id": "oAAkSDRl5Lel",
        "outputId": "3f22744c-276a-4c43-f0a7-43bb5c043a36"
      },
      "source": [
        "from abc import ABC, abstractmethod\n",
        "class Polygon(ABC):\n",
        "  @abstractmethod\n",
        "  def sides(self):\n",
        "    pass\n",
        "\n",
        "class Triangle(Polygon):\n",
        "  def sides(self):\n",
        "    print(\"Three sides\")\n",
        "\n",
        "class Quadrilateral(Polygon):\n",
        "  def sides(self):\n",
        "    print(\"Four sides\")\n",
        "\n",
        "class Pentagon(Polygon):\n",
        "  def sides(self):\n",
        "    print(\"five sides\")\n",
        "\n",
        "t=Triangle()\n",
        "t.sides()\n",
        "\n",
        "q=Quadrilateral()\n",
        "q.sides()\n",
        "\n",
        "p=Pentagon()\n",
        "p.sides()\n",
        " "
      ],
      "execution_count": 7,
      "outputs": [
        {
          "output_type": "stream",
          "text": [
            "Three sides\n",
            "Four sides\n",
            "five sides\n"
          ],
          "name": "stdout"
        }
      ]
    },
    {
      "cell_type": "code",
      "metadata": {
        "colab": {
          "base_uri": "https://localhost:8080/"
        },
        "id": "2M3jqCOV_SV6",
        "outputId": "ffe59c42-60b0-439a-cb88-af55f4dd6ee4"
      },
      "source": [
        "import abc\n",
        "class parent:\n",
        "  name=\"gyanendra\"\n",
        "  def test(self):\n",
        "    pass\n",
        "\n",
        "class child(parent):\n",
        "  def test(self):\n",
        "    print(\"Child class\")\n",
        "\n",
        "print(issubclass(child,parent))\n",
        "print(isinstance(child(),parent))"
      ],
      "execution_count": 13,
      "outputs": [
        {
          "output_type": "stream",
          "text": [
            "True\n",
            "True\n"
          ],
          "name": "stdout"
        }
      ]
    },
    {
      "cell_type": "code",
      "metadata": {
        "colab": {
          "base_uri": "https://localhost:8080/",
          "height": 35
        },
        "id": "32iUjmB6Ap7q",
        "outputId": "18168060-9046-4d2c-ea7a-34fb4c1ef955"
      },
      "source": [
        "child.name"
      ],
      "execution_count": 14,
      "outputs": [
        {
          "output_type": "execute_result",
          "data": {
            "application/vnd.google.colaboratory.intrinsic+json": {
              "type": "string"
            },
            "text/plain": [
              "'gyanendra'"
            ]
          },
          "metadata": {
            "tags": []
          },
          "execution_count": 14
        }
      ]
    },
    {
      "cell_type": "code",
      "metadata": {
        "colab": {
          "base_uri": "https://localhost:8080/"
        },
        "id": "2jcyqHKlBFg6",
        "outputId": "289f600c-72ba-4ccd-eb74-69f55f8d3a07"
      },
      "source": [
        "class Ram(ABC):\n",
        "  def walk(self):\n",
        "    print(\"Ram walks\")\n",
        "\n",
        "class Luv(Ram):\n",
        "  def walk(self):\n",
        "    super().walk()\n",
        "    print(\"subclass\")\n",
        "\n",
        "l=Luv()\n",
        "l.walk()"
      ],
      "execution_count": 19,
      "outputs": [
        {
          "output_type": "stream",
          "text": [
            "Ram walks\n",
            "subclass\n"
          ],
          "name": "stdout"
        }
      ]
    },
    {
      "cell_type": "markdown",
      "metadata": {
        "id": "cks1Tu-KGLIB"
      },
      "source": [
        "Encapsulation"
      ]
    },
    {
      "cell_type": "code",
      "metadata": {
        "colab": {
          "base_uri": "https://localhost:8080/"
        },
        "id": "a3s2pemeDsf6",
        "outputId": "0659c839-4644-4b8e-b842-9c720b4fb1d5"
      },
      "source": [
        "#Creating a base class\n",
        "class Base:\n",
        "  def __init__(self):\n",
        "    #protected members\n",
        "    self.a=2\n",
        "\n",
        "#Creating a derived class\n",
        "class  Derived(Base):\n",
        "  def __init__(self):\n",
        "    Base.__init__(self)\n",
        "    print(\"Calling protected member of base\")\n",
        "    print(self.a)\n",
        "\n",
        "d1=Derived()\n",
        "b1=Base()\n",
        "\n",
        "print(b1.a)\n"
      ],
      "execution_count": 30,
      "outputs": [
        {
          "output_type": "stream",
          "text": [
            "Calling protected member of base\n",
            "2\n",
            "2\n"
          ],
          "name": "stdout"
        }
      ]
    },
    {
      "cell_type": "code",
      "metadata": {
        "colab": {
          "base_uri": "https://localhost:8080/",
          "height": 367
        },
        "id": "8Y979bYRIaxT",
        "outputId": "23f6988d-4137-4937-a6d2-ab8287313276"
      },
      "source": [
        "class Base:\n",
        "  def __init__(self):\n",
        "    self.a=\"Mrunal\"\n",
        "    self.__c=\"Sonekar\"\n",
        "\n",
        "class Derived(Base):\n",
        "  def __init__(self):\n",
        "    Base.__init__(self)\n",
        "    print(\"Calling private member of base\")\n",
        "    print(self.__c)\n",
        "\n",
        "d1=Derived()\n",
        "b1=Base()\n",
        "\n",
        "\n",
        "print(b1.a)"
      ],
      "execution_count": 36,
      "outputs": [
        {
          "output_type": "stream",
          "text": [
            "Calling private member of base\n"
          ],
          "name": "stdout"
        },
        {
          "output_type": "error",
          "ename": "AttributeError",
          "evalue": "ignored",
          "traceback": [
            "\u001b[0;31m---------------------------------------------------------------------------\u001b[0m",
            "\u001b[0;31mAttributeError\u001b[0m                            Traceback (most recent call last)",
            "\u001b[0;32m<ipython-input-36-ecbe2d14a7d7>\u001b[0m in \u001b[0;36m<module>\u001b[0;34m()\u001b[0m\n\u001b[1;32m     10\u001b[0m     \u001b[0mprint\u001b[0m\u001b[0;34m(\u001b[0m\u001b[0mself\u001b[0m\u001b[0;34m.\u001b[0m\u001b[0m__c\u001b[0m\u001b[0;34m)\u001b[0m\u001b[0;34m\u001b[0m\u001b[0;34m\u001b[0m\u001b[0m\n\u001b[1;32m     11\u001b[0m \u001b[0;34m\u001b[0m\u001b[0m\n\u001b[0;32m---> 12\u001b[0;31m \u001b[0md1\u001b[0m\u001b[0;34m=\u001b[0m\u001b[0mDerived\u001b[0m\u001b[0;34m(\u001b[0m\u001b[0;34m)\u001b[0m\u001b[0;34m\u001b[0m\u001b[0;34m\u001b[0m\u001b[0m\n\u001b[0m\u001b[1;32m     13\u001b[0m \u001b[0mb1\u001b[0m\u001b[0;34m=\u001b[0m\u001b[0mBase\u001b[0m\u001b[0;34m(\u001b[0m\u001b[0;34m)\u001b[0m\u001b[0;34m\u001b[0m\u001b[0;34m\u001b[0m\u001b[0m\n\u001b[1;32m     14\u001b[0m \u001b[0;34m\u001b[0m\u001b[0m\n",
            "\u001b[0;32m<ipython-input-36-ecbe2d14a7d7>\u001b[0m in \u001b[0;36m__init__\u001b[0;34m(self)\u001b[0m\n\u001b[1;32m      8\u001b[0m     \u001b[0mBase\u001b[0m\u001b[0;34m.\u001b[0m\u001b[0m__init__\u001b[0m\u001b[0;34m(\u001b[0m\u001b[0mself\u001b[0m\u001b[0;34m)\u001b[0m\u001b[0;34m\u001b[0m\u001b[0;34m\u001b[0m\u001b[0m\n\u001b[1;32m      9\u001b[0m     \u001b[0mprint\u001b[0m\u001b[0;34m(\u001b[0m\u001b[0;34m\"Calling private member of base\"\u001b[0m\u001b[0;34m)\u001b[0m\u001b[0;34m\u001b[0m\u001b[0;34m\u001b[0m\u001b[0m\n\u001b[0;32m---> 10\u001b[0;31m     \u001b[0mprint\u001b[0m\u001b[0;34m(\u001b[0m\u001b[0mself\u001b[0m\u001b[0;34m.\u001b[0m\u001b[0m__c\u001b[0m\u001b[0;34m)\u001b[0m\u001b[0;34m\u001b[0m\u001b[0;34m\u001b[0m\u001b[0m\n\u001b[0m\u001b[1;32m     11\u001b[0m \u001b[0;34m\u001b[0m\u001b[0m\n\u001b[1;32m     12\u001b[0m \u001b[0md1\u001b[0m\u001b[0;34m=\u001b[0m\u001b[0mDerived\u001b[0m\u001b[0;34m(\u001b[0m\u001b[0;34m)\u001b[0m\u001b[0;34m\u001b[0m\u001b[0;34m\u001b[0m\u001b[0m\n",
            "\u001b[0;31mAttributeError\u001b[0m: 'Derived' object has no attribute '_Derived__c'"
          ]
        }
      ]
    },
    {
      "cell_type": "markdown",
      "metadata": {
        "id": "lnTdwBxVL3UN"
      },
      "source": [
        "Inheritance"
      ]
    },
    {
      "cell_type": "code",
      "metadata": {
        "colab": {
          "base_uri": "https://localhost:8080/"
        },
        "id": "OxvDqL07KwoT",
        "outputId": "60f6f45d-e435-4dca-b117-7256a4c85332"
      },
      "source": [
        "class Person:\n",
        "  def __init__(self,name,lname):\n",
        "    self.firstname=name\n",
        "    self.lastname=lname\n",
        "  def printname(self):\n",
        "    print(self.firstname,self.lastname)\n",
        "\n",
        "class Student(Person):\n",
        "  pass\n",
        "\n",
        "s1=Student(\"Mrunal\",\"Sonekar\")\n",
        "s1.printname()\n"
      ],
      "execution_count": 37,
      "outputs": [
        {
          "output_type": "stream",
          "text": [
            "Mrunal Sonekar\n"
          ],
          "name": "stdout"
        }
      ]
    },
    {
      "cell_type": "code",
      "metadata": {
        "colab": {
          "base_uri": "https://localhost:8080/"
        },
        "id": "kQoRl4wBNfnv",
        "outputId": "55929fcd-1548-408b-e23a-cce59f192802"
      },
      "source": [
        "class Person:\n",
        "  def __init__(self,name,lname):\n",
        "    self.firstname=name\n",
        "    self.lastname=lname\n",
        "  def printname(self):\n",
        "    print(self.firstname,self.lastname)\n",
        "\n",
        "class Student(Person):\n",
        "  def __init__(self,name,lname):\n",
        "    Person.__init__(self,name,lname)\n",
        "    Person.printname(self)\n",
        "\n",
        "s2=Student(\"Vikash\",\"Singh\")\n"
      ],
      "execution_count": 48,
      "outputs": [
        {
          "output_type": "stream",
          "text": [
            "Vikash Singh\n"
          ],
          "name": "stdout"
        }
      ]
    },
    {
      "cell_type": "markdown",
      "metadata": {
        "id": "0R0gqo7CPpF-"
      },
      "source": [
        "Polymorphism"
      ]
    },
    {
      "cell_type": "code",
      "metadata": {
        "colab": {
          "base_uri": "https://localhost:8080/"
        },
        "id": "F-Vr9Ke8N7xF",
        "outputId": "5f604da6-db8f-4f11-d046-ad3553a71590"
      },
      "source": [
        "a=4\n",
        "b=5\n",
        "print(a+b)"
      ],
      "execution_count": 49,
      "outputs": [
        {
          "output_type": "stream",
          "text": [
            "9\n"
          ],
          "name": "stdout"
        }
      ]
    },
    {
      "cell_type": "code",
      "metadata": {
        "colab": {
          "base_uri": "https://localhost:8080/"
        },
        "id": "DgMLusxxQeuc",
        "outputId": "9ef1e8b5-2b10-4e07-f299-fd5fdf9d8383"
      },
      "source": [
        "s=\"hello\"\n",
        "t=\"there\"\n",
        "p=s+t\n",
        "print(p)"
      ],
      "execution_count": 50,
      "outputs": [
        {
          "output_type": "stream",
          "text": [
            "hellothere\n"
          ],
          "name": "stdout"
        }
      ]
    },
    {
      "cell_type": "code",
      "metadata": {
        "colab": {
          "base_uri": "https://localhost:8080/"
        },
        "id": "yhRvWGw2QmZO",
        "outputId": "e06da1f3-4437-43bc-fa61-6feb7e08a9f4"
      },
      "source": [
        "print(len(\"hello\"))\n",
        "print(len(['abc','xyza','adcse']))\n",
        "print(len({\"Name\":\"Gyan\",\"Age\":23}))"
      ],
      "execution_count": 51,
      "outputs": [
        {
          "output_type": "stream",
          "text": [
            "5\n",
            "3\n",
            "2\n"
          ],
          "name": "stdout"
        }
      ]
    },
    {
      "cell_type": "code",
      "metadata": {
        "colab": {
          "base_uri": "https://localhost:8080/"
        },
        "id": "y5EVmYbcRE8y",
        "outputId": "2736235d-2b46-48c2-99ce-e00c24efbb40"
      },
      "source": [
        "class Cat:\n",
        "  def __init__(self,name,age):\n",
        "    self.name=name\n",
        "    self.age=age\n",
        "  def info(self):\n",
        "    print(f\"I am cat. My name is {self.name}. I am {self.age} years old\")\n",
        "  def make_sound(self):\n",
        "    print(\"Meow\")\n",
        "\n",
        "class Dog:\n",
        "  def __init__(self,name,age):\n",
        "    self.name=name\n",
        "    self.age=age\n",
        "  def info(self):\n",
        "    print(f\"I am dog. My name is {self.name}. I am {self.age} years old\")\n",
        "  def make_sound(self):\n",
        "    print(\"BhoBho\")\n",
        "\n",
        "C1=Cat(\"Kitty\",2.5)\n",
        "D1=Dog(\"Dopler\",4)\n",
        "\n",
        "for animal in (C1, D1):\n",
        "  animal.make_sound()\n"
      ],
      "execution_count": 57,
      "outputs": [
        {
          "output_type": "stream",
          "text": [
            "Meow\n",
            "BhoBho\n"
          ],
          "name": "stdout"
        }
      ]
    },
    {
      "cell_type": "code",
      "metadata": {
        "id": "5qyFaj9tSlUM"
      },
      "source": [
        "from math import pi\n",
        "\n",
        "class Shape:\n",
        "  \n",
        "  def __init__(self,name):\n",
        "    self.name=name\n",
        "  \n",
        "  def area(self):\n",
        "    pass\n",
        "  \n",
        "  def fact(self):\n",
        "    return \"I am 2D shape\"\n",
        "  \n",
        "  def __str__(self):\n",
        "    return self.name\n",
        "\n",
        "class Square(Shape):\n",
        "  \n",
        "  def __init__(self,length):\n",
        "    super().__init__(\"Square\")\n",
        "    self.length=length\n",
        "\n",
        "  def area(self):\n",
        "    return self.length**2\n",
        "  \n",
        "  def fact(self):\n",
        "    return \"Square has four angles\"\n",
        "\n",
        "class Circle(Shape):\n",
        "  def __init__(self,radius):\n",
        "    super().__init__(\"Circle\")\n",
        "    self.radius=radius\n",
        "\n",
        "  def area(self):\n",
        "    return(pi*self.radius**2) "
      ],
      "execution_count": 61,
      "outputs": []
    },
    {
      "cell_type": "code",
      "metadata": {
        "colab": {
          "base_uri": "https://localhost:8080/"
        },
        "id": "dXOpJ4zPUq0Z",
        "outputId": "4eeb6ff5-7e31-4a3e-be88-208fe8f72d0d"
      },
      "source": [
        "a=Square(4)\n",
        "b=Circle(7)\n",
        "print(b)\n",
        "print(b.fact())\n",
        "print(a.fact())\n",
        "print(b.area())"
      ],
      "execution_count": 62,
      "outputs": [
        {
          "output_type": "stream",
          "text": [
            "Circle\n",
            "I am 2D shape\n",
            "Square has four angles\n",
            "153.93804002589985\n"
          ],
          "name": "stdout"
        }
      ]
    },
    {
      "cell_type": "code",
      "metadata": {
        "id": "8FPpZiIaUzd_"
      },
      "source": [
        ""
      ],
      "execution_count": null,
      "outputs": []
    }
  ]
}