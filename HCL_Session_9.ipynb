{
  "nbformat": 4,
  "nbformat_minor": 0,
  "metadata": {
    "colab": {
      "name": "HCL Session 9.ipynb",
      "provenance": [],
      "authorship_tag": "ABX9TyPryJ8HcxnnCb4OSNV7X+xM",
      "include_colab_link": true
    },
    "kernelspec": {
      "name": "python3",
      "display_name": "Python 3"
    },
    "language_info": {
      "name": "python"
    }
  },
  "cells": [
    {
      "cell_type": "markdown",
      "metadata": {
        "id": "view-in-github",
        "colab_type": "text"
      },
      "source": [
        "<a href=\"https://colab.research.google.com/github/GyanendraChaubey/Python-Tutorials/blob/main/HCL_Session_9.ipynb\" target=\"_parent\"><img src=\"https://colab.research.google.com/assets/colab-badge.svg\" alt=\"Open In Colab\"/></a>"
      ]
    },
    {
      "cell_type": "markdown",
      "metadata": {
        "id": "SF31UfMHltda"
      },
      "source": [
        "OOPs\n",
        "1. class\n",
        "2. Objects\n",
        "3. Abstraction\n",
        "4. Encapsulation\n",
        "5. Inheritance\n",
        "6. Polymorphism"
      ]
    },
    {
      "cell_type": "markdown",
      "metadata": {
        "id": "L0TwxBSzmZnV"
      },
      "source": [
        "Class: A class is collection of variables and methods"
      ]
    },
    {
      "cell_type": "markdown",
      "metadata": {
        "id": "KSE4V2DDmk7b"
      },
      "source": [
        "Object: Blueprint of Class"
      ]
    },
    {
      "cell_type": "code",
      "metadata": {
        "id": "O1fOY0PflDi4"
      },
      "source": [
        "class Myclass:\n",
        "  x=5"
      ],
      "execution_count": null,
      "outputs": []
    },
    {
      "cell_type": "code",
      "metadata": {
        "id": "b7Y-Ofx7mvJb"
      },
      "source": [
        "c1=Myclass()"
      ],
      "execution_count": null,
      "outputs": []
    },
    {
      "cell_type": "code",
      "metadata": {
        "colab": {
          "base_uri": "https://localhost:8080/"
        },
        "id": "yA0rLn8dm4Xe",
        "outputId": "45f36c27-1a18-472f-cbf5-8c12e1d7abd6"
      },
      "source": [
        "c1.x"
      ],
      "execution_count": null,
      "outputs": [
        {
          "output_type": "execute_result",
          "data": {
            "text/plain": [
              "5"
            ]
          },
          "metadata": {
            "tags": []
          },
          "execution_count": 3
        }
      ]
    },
    {
      "cell_type": "code",
      "metadata": {
        "id": "0lEKJF-fm6Ou"
      },
      "source": [
        "class Car:\n",
        "  def __init__(self,name,milage):\n",
        "    self.name=name\n",
        "    self.milage=milage"
      ],
      "execution_count": null,
      "outputs": []
    },
    {
      "cell_type": "code",
      "metadata": {
        "id": "hs0qaV59nrg6"
      },
      "source": [
        "Car1=Car('Lamborgini',10)"
      ],
      "execution_count": null,
      "outputs": []
    },
    {
      "cell_type": "code",
      "metadata": {
        "colab": {
          "base_uri": "https://localhost:8080/",
          "height": 35
        },
        "id": "ekfndJHMnyPr",
        "outputId": "8860d607-6706-402a-ed7a-d69be804555f"
      },
      "source": [
        "Car1.name"
      ],
      "execution_count": null,
      "outputs": [
        {
          "output_type": "execute_result",
          "data": {
            "application/vnd.google.colaboratory.intrinsic+json": {
              "type": "string"
            },
            "text/plain": [
              "'Lamborgini'"
            ]
          },
          "metadata": {
            "tags": []
          },
          "execution_count": 6
        }
      ]
    },
    {
      "cell_type": "code",
      "metadata": {
        "colab": {
          "base_uri": "https://localhost:8080/"
        },
        "id": "uNEOrxmhn4KN",
        "outputId": "208d4c84-fce9-45ce-94bb-9accdecdd37f"
      },
      "source": [
        "Car1.milage "
      ],
      "execution_count": null,
      "outputs": [
        {
          "output_type": "execute_result",
          "data": {
            "text/plain": [
              "10"
            ]
          },
          "metadata": {
            "tags": []
          },
          "execution_count": 7
        }
      ]
    },
    {
      "cell_type": "code",
      "metadata": {
        "id": "zJ3SWc2SoYOd"
      },
      "source": [
        "class Car:\n",
        "  def __init__(self,name,milage,start):\n",
        "    self.start=start\n",
        "    self.name=name\n",
        "    self.milage=milage\n",
        "  def ON(self):\n",
        "    if self.start==1:\n",
        "      print(\"You ready to go\")\n",
        "    else:\n",
        "      print('Can not be started')\n"
      ],
      "execution_count": null,
      "outputs": []
    },
    {
      "cell_type": "code",
      "metadata": {
        "id": "A2jSz-qMo5kl"
      },
      "source": [
        "car2=Car('Lamborgini',10,0)"
      ],
      "execution_count": null,
      "outputs": []
    },
    {
      "cell_type": "code",
      "metadata": {
        "colab": {
          "base_uri": "https://localhost:8080/"
        },
        "id": "__pSlxSxpANV",
        "outputId": "0ea2904a-607c-44b1-9c2a-169dbf301bb4"
      },
      "source": [
        "car2.ON()"
      ],
      "execution_count": null,
      "outputs": [
        {
          "output_type": "stream",
          "text": [
            "Can not be started\n"
          ],
          "name": "stdout"
        }
      ]
    },
    {
      "cell_type": "code",
      "metadata": {
        "id": "YOUwlDOspCS3"
      },
      "source": [
        "del car2"
      ],
      "execution_count": null,
      "outputs": []
    },
    {
      "cell_type": "code",
      "metadata": {
        "colab": {
          "base_uri": "https://localhost:8080/",
          "height": 167
        },
        "id": "XWRUUMQgp0kH",
        "outputId": "835366cc-be6d-40c5-da96-a4c0a17fb4a1"
      },
      "source": [
        "car2.name"
      ],
      "execution_count": null,
      "outputs": [
        {
          "output_type": "error",
          "ename": "NameError",
          "evalue": "ignored",
          "traceback": [
            "\u001b[0;31m---------------------------------------------------------------------------\u001b[0m",
            "\u001b[0;31mNameError\u001b[0m                                 Traceback (most recent call last)",
            "\u001b[0;32m<ipython-input-21-09f973887ede>\u001b[0m in \u001b[0;36m<module>\u001b[0;34m()\u001b[0m\n\u001b[0;32m----> 1\u001b[0;31m \u001b[0mcar2\u001b[0m\u001b[0;34m.\u001b[0m\u001b[0mname\u001b[0m\u001b[0;34m\u001b[0m\u001b[0;34m\u001b[0m\u001b[0m\n\u001b[0m",
            "\u001b[0;31mNameError\u001b[0m: name 'car2' is not defined"
          ]
        }
      ]
    },
    {
      "cell_type": "code",
      "metadata": {
        "id": "ynzM1Htap2gP"
      },
      "source": [
        "class Test:\n",
        "  pass"
      ],
      "execution_count": null,
      "outputs": []
    },
    {
      "cell_type": "code",
      "metadata": {
        "id": "QkLtb1l_p87U"
      },
      "source": [
        "class Dog:\n",
        "  Breed='Labradog'\n",
        "  Height=3\n",
        "  Weight=40\n",
        "  Name='Danny'\n",
        "  speak='bhobho'\n",
        "  def DogBark(self):\n",
        "    print(self.speak)"
      ],
      "execution_count": null,
      "outputs": []
    },
    {
      "cell_type": "code",
      "metadata": {
        "id": "gD5UazhyqZUx"
      },
      "source": [
        "d1=Dog()"
      ],
      "execution_count": null,
      "outputs": []
    },
    {
      "cell_type": "code",
      "metadata": {
        "colab": {
          "base_uri": "https://localhost:8080/",
          "height": 35
        },
        "id": "F9aL2Jatqcve",
        "outputId": "f56bda14-3075-4ed9-98ee-4b9516d14895"
      },
      "source": [
        "d1.Breed"
      ],
      "execution_count": null,
      "outputs": [
        {
          "output_type": "execute_result",
          "data": {
            "application/vnd.google.colaboratory.intrinsic+json": {
              "type": "string"
            },
            "text/plain": [
              "'Labradog'"
            ]
          },
          "metadata": {
            "tags": []
          },
          "execution_count": 25
        }
      ]
    },
    {
      "cell_type": "code",
      "metadata": {
        "colab": {
          "base_uri": "https://localhost:8080/"
        },
        "id": "0B_tZZYYqey5",
        "outputId": "2195192c-91b4-4932-c3ce-1158b64fdfad"
      },
      "source": [
        "d1.Weight"
      ],
      "execution_count": null,
      "outputs": [
        {
          "output_type": "execute_result",
          "data": {
            "text/plain": [
              "40"
            ]
          },
          "metadata": {
            "tags": []
          },
          "execution_count": 26
        }
      ]
    },
    {
      "cell_type": "code",
      "metadata": {
        "colab": {
          "base_uri": "https://localhost:8080/",
          "height": 35
        },
        "id": "TiFFUmaUqmMv",
        "outputId": "6d961f22-adb5-4be7-e410-a43df4da158f"
      },
      "source": [
        "d1.Name"
      ],
      "execution_count": null,
      "outputs": [
        {
          "output_type": "execute_result",
          "data": {
            "application/vnd.google.colaboratory.intrinsic+json": {
              "type": "string"
            },
            "text/plain": [
              "'Danny'"
            ]
          },
          "metadata": {
            "tags": []
          },
          "execution_count": 27
        }
      ]
    },
    {
      "cell_type": "code",
      "metadata": {
        "colab": {
          "base_uri": "https://localhost:8080/"
        },
        "id": "8Jyp1OTrqoWr",
        "outputId": "800eb7a8-ec4c-4529-f8cf-af467ab2f7d2"
      },
      "source": [
        "d1.DogBark()"
      ],
      "execution_count": null,
      "outputs": [
        {
          "output_type": "stream",
          "text": [
            "bhobho\n"
          ],
          "name": "stdout"
        }
      ]
    },
    {
      "cell_type": "code",
      "metadata": {
        "id": "lNRu2HcfqrDB"
      },
      "source": [
        "class Dog:\n",
        "  animal='Dog'\n",
        "  def __init__(self,breed,color):\n",
        "    self.color=color\n",
        "    self.breed=breed"
      ],
      "execution_count": null,
      "outputs": []
    },
    {
      "cell_type": "code",
      "metadata": {
        "id": "nGdV2U02rN9L"
      },
      "source": [
        "Kalu=Dog('Labradog','brown')\n",
        "berbet=Dog('BullDog','black')"
      ],
      "execution_count": null,
      "outputs": []
    },
    {
      "cell_type": "code",
      "metadata": {
        "colab": {
          "base_uri": "https://localhost:8080/"
        },
        "id": "O8eEKUREraFu",
        "outputId": "dd72f536-3886-4026-c0b0-350c6e76f83b"
      },
      "source": [
        "#Details of Kalu\n",
        "print(Kalu.animal)\n",
        "print(Kalu.breed)\n",
        "print(Kalu.color)"
      ],
      "execution_count": null,
      "outputs": [
        {
          "output_type": "stream",
          "text": [
            "Dog\n",
            "Labradog\n",
            "brown\n"
          ],
          "name": "stdout"
        }
      ]
    },
    {
      "cell_type": "code",
      "metadata": {
        "colab": {
          "base_uri": "https://localhost:8080/"
        },
        "id": "zpueNo9crsWJ",
        "outputId": "534e1453-00ed-4bfe-8b1b-b89b168bdd47"
      },
      "source": [
        "#Details of berbet\n",
        "print(berbet.animal)\n",
        "print(berbet.breed)\n",
        "print(berbet.color)"
      ],
      "execution_count": null,
      "outputs": [
        {
          "output_type": "stream",
          "text": [
            "Dog\n",
            "BullDog\n",
            "black\n"
          ],
          "name": "stdout"
        }
      ]
    },
    {
      "cell_type": "code",
      "metadata": {
        "colab": {
          "base_uri": "https://localhost:8080/",
          "height": 35
        },
        "id": "cBF6kutbtr3Q",
        "outputId": "8bfc7514-face-4b50-957c-7db8f4b82dc5"
      },
      "source": [
        "Dog.animal"
      ],
      "execution_count": null,
      "outputs": [
        {
          "output_type": "execute_result",
          "data": {
            "application/vnd.google.colaboratory.intrinsic+json": {
              "type": "string"
            },
            "text/plain": [
              "'Dog'"
            ]
          },
          "metadata": {
            "tags": []
          },
          "execution_count": 35
        }
      ]
    },
    {
      "cell_type": "code",
      "metadata": {
        "colab": {
          "base_uri": "https://localhost:8080/",
          "height": 167
        },
        "id": "__vrETxTuRsx",
        "outputId": "c446b2a9-ba85-40f0-e768-e7ff9ceb97b5"
      },
      "source": [
        "Dog.color"
      ],
      "execution_count": null,
      "outputs": [
        {
          "output_type": "error",
          "ename": "AttributeError",
          "evalue": "ignored",
          "traceback": [
            "\u001b[0;31m---------------------------------------------------------------------------\u001b[0m",
            "\u001b[0;31mAttributeError\u001b[0m                            Traceback (most recent call last)",
            "\u001b[0;32m<ipython-input-36-9f604c1493d8>\u001b[0m in \u001b[0;36m<module>\u001b[0;34m()\u001b[0m\n\u001b[0;32m----> 1\u001b[0;31m \u001b[0mDog\u001b[0m\u001b[0;34m.\u001b[0m\u001b[0mcolor\u001b[0m\u001b[0;34m\u001b[0m\u001b[0;34m\u001b[0m\u001b[0m\n\u001b[0m",
            "\u001b[0;31mAttributeError\u001b[0m: type object 'Dog' has no attribute 'color'"
          ]
        }
      ]
    },
    {
      "cell_type": "code",
      "metadata": {
        "id": "EegHgenyuT_e"
      },
      "source": [
        ""
      ],
      "execution_count": null,
      "outputs": []
    }
  ]
}