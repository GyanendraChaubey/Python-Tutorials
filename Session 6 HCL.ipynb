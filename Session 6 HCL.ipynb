{
  "nbformat": 4,
  "nbformat_minor": 0,
  "metadata": {
    "colab": {
      "name": "Untitled8.ipynb",
      "provenance": [],
      "authorship_tag": "ABX9TyNwx4YaA+041CzPG+U1wgtZ",
      "include_colab_link": true
    },
    "kernelspec": {
      "name": "python3",
      "display_name": "Python 3"
    },
    "language_info": {
      "name": "python"
    }
  },
  "cells": [
    {
      "cell_type": "markdown",
      "metadata": {
        "id": "view-in-github",
        "colab_type": "text"
      },
      "source": [
        "<a href=\"https://colab.research.google.com/github/GyanendraChaubey/Python-Tutorials/blob/main/Session%206%20HCL.ipynb\" target=\"_parent\"><img src=\"https://colab.research.google.com/assets/colab-badge.svg\" alt=\"Open In Colab\"/></a>"
      ]
    },
    {
      "cell_type": "markdown",
      "metadata": {
        "id": "vhTX0doZw2Qs"
      },
      "source": [
        "More About Functions"
      ]
    },
    {
      "cell_type": "markdown",
      "metadata": {
        "id": "3Lis7jlm-K5m"
      },
      "source": [
        "Lambda Function:\n",
        "\n",
        "lambda arguments:\n",
        "expressions"
      ]
    },
    {
      "cell_type": "code",
      "metadata": {
        "colab": {
          "base_uri": "https://localhost:8080/"
        },
        "id": "-cVa4eCEwTzt",
        "outputId": "e194cd7d-8c8c-4b57-fa17-d81320536736"
      },
      "source": [
        "x=lambda a: a+10\n",
        "x(5)"
      ],
      "execution_count": 1,
      "outputs": [
        {
          "output_type": "execute_result",
          "data": {
            "text/plain": [
              "15"
            ]
          },
          "metadata": {
            "tags": []
          },
          "execution_count": 1
        }
      ]
    },
    {
      "cell_type": "code",
      "metadata": {
        "colab": {
          "base_uri": "https://localhost:8080/"
        },
        "id": "X_wBiSSx-0Tf",
        "outputId": "ad760ecd-48db-42e8-cebc-60e79636a9eb"
      },
      "source": [
        "p= lambda a,b : a*b\n",
        "p(4,5)"
      ],
      "execution_count": 2,
      "outputs": [
        {
          "output_type": "execute_result",
          "data": {
            "text/plain": [
              "20"
            ]
          },
          "metadata": {
            "tags": []
          },
          "execution_count": 2
        }
      ]
    },
    {
      "cell_type": "code",
      "metadata": {
        "colab": {
          "base_uri": "https://localhost:8080/"
        },
        "id": "Z72bmKjw-9nU",
        "outputId": "1f038c08-2c13-4727-c551-767a1af7c627"
      },
      "source": [
        "def myfunction(n):\n",
        "  return lambda a: a*n\n",
        "\n",
        "z=myfunction(2)\n",
        "k=z(11)\n",
        "k"
      ],
      "execution_count": 5,
      "outputs": [
        {
          "output_type": "execute_result",
          "data": {
            "text/plain": [
              "22"
            ]
          },
          "metadata": {
            "tags": []
          },
          "execution_count": 5
        }
      ]
    },
    {
      "cell_type": "markdown",
      "metadata": {
        "id": "trwJzAxc_4S6"
      },
      "source": [
        "Map Function\n"
      ]
    },
    {
      "cell_type": "code",
      "metadata": {
        "colab": {
          "base_uri": "https://localhost:8080/"
        },
        "id": "Uu9aP8aI_P__",
        "outputId": "751176e3-6cef-4501-f217-5cc735df81d8"
      },
      "source": [
        "def add(n):\n",
        "  return n+n\n",
        "\n",
        "numbers=[1,3,4,5]\n",
        "\n",
        "results=list(map(add,numbers))\n",
        "results"
      ],
      "execution_count": 7,
      "outputs": [
        {
          "output_type": "execute_result",
          "data": {
            "text/plain": [
              "[2, 6, 8, 10]"
            ]
          },
          "metadata": {
            "tags": []
          },
          "execution_count": 7
        }
      ]
    },
    {
      "cell_type": "code",
      "metadata": {
        "colab": {
          "base_uri": "https://localhost:8080/"
        },
        "id": "ZwIPd-JhAUHy",
        "outputId": "d8be4e8d-8040-4694-c0c0-fbacaa2dc3a4"
      },
      "source": [
        "numbers=[1,3,4,5]\n",
        "result=list(map(lambda x: x+x, numbers))\n",
        "result\n"
      ],
      "execution_count": 10,
      "outputs": [
        {
          "output_type": "execute_result",
          "data": {
            "text/plain": [
              "[2, 6, 8, 10]"
            ]
          },
          "metadata": {
            "tags": []
          },
          "execution_count": 10
        }
      ]
    },
    {
      "cell_type": "code",
      "metadata": {
        "colab": {
          "base_uri": "https://localhost:8080/"
        },
        "id": "z9C8AK9_BFHE",
        "outputId": "f88f3f8f-bb92-42c5-f049-fbc660d94a46"
      },
      "source": [
        "num1=[1,2,3]\n",
        "num2=[4,5,6]\n",
        "result=list(map(lambda x,y: x+y,num1,num2))\n",
        "result"
      ],
      "execution_count": 11,
      "outputs": [
        {
          "output_type": "execute_result",
          "data": {
            "text/plain": [
              "[5, 7, 9]"
            ]
          },
          "metadata": {
            "tags": []
          },
          "execution_count": 11
        }
      ]
    },
    {
      "cell_type": "code",
      "metadata": {
        "colab": {
          "base_uri": "https://localhost:8080/"
        },
        "id": "GIkyuqyRBlXy",
        "outputId": "b751daff-0d55-496a-fe76-dbf6670f5373"
      },
      "source": [
        "l=['Jan','Feb','March']\n",
        "\n",
        "test=list(map(lambda x:x,l))\n",
        "test"
      ],
      "execution_count": 17,
      "outputs": [
        {
          "output_type": "execute_result",
          "data": {
            "text/plain": [
              "['Jan', 'Feb', 'March']"
            ]
          },
          "metadata": {
            "tags": []
          },
          "execution_count": 17
        }
      ]
    },
    {
      "cell_type": "markdown",
      "metadata": {
        "id": "cxAWOsQoCi4R"
      },
      "source": [
        "Filter Function"
      ]
    },
    {
      "cell_type": "code",
      "metadata": {
        "colab": {
          "base_uri": "https://localhost:8080/"
        },
        "id": "GSLlmHSyDfWD",
        "outputId": "cc033bcc-9078-4cc0-f878-27d509bb5e39"
      },
      "source": [
        "def fun(variable):\n",
        "  letters=['a','e','i','o','u']\n",
        "  if(variable in letters):\n",
        "    return True\n",
        "  else:\n",
        "    return False\n",
        "seq=['h','e','i','p','n']\n",
        "output=list(filter(fun,seq))\n",
        "output"
      ],
      "execution_count": 19,
      "outputs": [
        {
          "output_type": "execute_result",
          "data": {
            "text/plain": [
              "['e', 'i']"
            ]
          },
          "metadata": {
            "tags": []
          },
          "execution_count": 19
        }
      ]
    },
    {
      "cell_type": "code",
      "metadata": {
        "colab": {
          "base_uri": "https://localhost:8080/"
        },
        "id": "j8cz4U2AEVA0",
        "outputId": "b826f73b-0fd8-47da-f777-7550e8c3aeea"
      },
      "source": [
        "seq=[1,3,4,5,6,7,8]\n",
        "result=list(filter(lambda x: x%2==0,seq))\n",
        "result"
      ],
      "execution_count": 20,
      "outputs": [
        {
          "output_type": "execute_result",
          "data": {
            "text/plain": [
              "[4, 6, 8]"
            ]
          },
          "metadata": {
            "tags": []
          },
          "execution_count": 20
        }
      ]
    },
    {
      "cell_type": "code",
      "metadata": {
        "colab": {
          "base_uri": "https://localhost:8080/"
        },
        "id": "7nHBMPGGFqad",
        "outputId": "06c3f8d2-7d86-4161-ad8d-82e362a843b4"
      },
      "source": [
        "seq=[1,3,4,5,6,7,8]\n",
        "result=list(filter(lambda x: x%2!=0,seq))\n",
        "result"
      ],
      "execution_count": 21,
      "outputs": [
        {
          "output_type": "execute_result",
          "data": {
            "text/plain": [
              "[1, 3, 5, 7]"
            ]
          },
          "metadata": {
            "tags": []
          },
          "execution_count": 21
        }
      ]
    },
    {
      "cell_type": "code",
      "metadata": {
        "id": "TMgXYRk7Isyv"
      },
      "source": [
        ""
      ],
      "execution_count": null,
      "outputs": []
    }
  ]
}