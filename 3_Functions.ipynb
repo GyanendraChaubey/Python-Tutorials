{
  "cells": [
    {
      "cell_type": "markdown",
      "metadata": {
        "id": "view-in-github",
        "colab_type": "text"
      },
      "source": [
        "<a href=\"https://colab.research.google.com/github/GyanendraChaubey/Python-Tutorials/blob/main/3_Functions.ipynb\" target=\"_parent\"><img src=\"https://colab.research.google.com/assets/colab-badge.svg\" alt=\"Open In Colab\"/></a>"
      ]
    },
    {
      "cell_type": "markdown",
      "metadata": {
        "id": "ve8P5de7FXbB"
      },
      "source": [
        "Functions:\n",
        "--\n",
        "Function is a named sequence of statements that performs a computation."
      ]
    },
    {
      "cell_type": "code",
      "execution_count": null,
      "metadata": {
        "id": "tpN67yqUFXbH",
        "outputId": "053312de-9603-449a-d462-67cd249e9fba"
      },
      "outputs": [
        {
          "name": "stdout",
          "output_type": "stream",
          "text": [
            "Darshan\n",
            "<class 'str'>\n",
            "7\n",
            "5\n",
            "5\n",
            "1\n"
          ]
        }
      ],
      "source": [
        "# Built-in\n",
        "print(\"Darshan\")\n",
        "print(type(\"Darshan\"))\n",
        "print( len(\"Darshan\") )\n",
        "print( len([1,2,3,4,5]) )\n",
        "print( max([1,2,3,4,5]) )\n",
        "print( min([1,2,3,4,5]) )"
      ]
    },
    {
      "cell_type": "code",
      "execution_count": null,
      "metadata": {
        "scrolled": true,
        "id": "H2aB92ESFXbL",
        "outputId": "c7de5085-f288-4d8d-b7d9-18cd8828595b"
      },
      "outputs": [
        {
          "data": {
            "text/plain": [
              "32"
            ]
          },
          "execution_count": 11,
          "metadata": {},
          "output_type": "execute_result"
        }
      ],
      "source": [
        "# Type Conversion Functions\n",
        "int('32') # convert str to int"
      ]
    },
    {
      "cell_type": "code",
      "execution_count": null,
      "metadata": {
        "id": "iWc0ZrXWFXbO",
        "outputId": "79846189-5785-4d7d-92cf-a15724faa540"
      },
      "outputs": [
        {
          "data": {
            "text/plain": [
              "3"
            ]
          },
          "execution_count": 12,
          "metadata": {},
          "output_type": "execute_result"
        }
      ],
      "source": [
        "int(3.88888)"
      ]
    },
    {
      "cell_type": "code",
      "execution_count": null,
      "metadata": {
        "id": "h_xPDVRcFXbP",
        "outputId": "38571ea4-2ef1-491a-d367-0c781133c058"
      },
      "outputs": [
        {
          "data": {
            "text/plain": [
              "-2"
            ]
          },
          "execution_count": 13,
          "metadata": {},
          "output_type": "execute_result"
        }
      ],
      "source": [
        "int(-2.33)"
      ]
    },
    {
      "cell_type": "code",
      "execution_count": null,
      "metadata": {
        "id": "J_rftLSPFXbQ",
        "outputId": "2d7fc315-aa9f-4e94-df57-c120c93b12cb"
      },
      "outputs": [
        {
          "ename": "ValueError",
          "evalue": "invalid literal for int() with base 10: 'Hello'",
          "output_type": "error",
          "traceback": [
            "\u001b[1;31m---------------------------------------------------------------------------\u001b[0m",
            "\u001b[1;31mValueError\u001b[0m                                Traceback (most recent call last)",
            "\u001b[1;32m<ipython-input-14-6765ce49acfe>\u001b[0m in \u001b[0;36m<module>\u001b[1;34m\u001b[0m\n\u001b[1;32m----> 1\u001b[1;33m \u001b[0mint\u001b[0m\u001b[1;33m(\u001b[0m\u001b[1;34m'Hello'\u001b[0m\u001b[1;33m)\u001b[0m\u001b[1;33m\u001b[0m\u001b[1;33m\u001b[0m\u001b[0m\n\u001b[0m",
            "\u001b[1;31mValueError\u001b[0m: invalid literal for int() with base 10: 'Hello'"
          ]
        }
      ],
      "source": [
        "int('Hello')"
      ]
    },
    {
      "cell_type": "code",
      "execution_count": null,
      "metadata": {
        "id": "fdzRB6TFFXbQ",
        "outputId": "1a8682e6-9689-4d2f-ea4f-2dc5d956a664"
      },
      "outputs": [
        {
          "data": {
            "text/plain": [
              "32.0"
            ]
          },
          "execution_count": 15,
          "metadata": {},
          "output_type": "execute_result"
        }
      ],
      "source": [
        "float(32)"
      ]
    },
    {
      "cell_type": "code",
      "execution_count": null,
      "metadata": {
        "id": "w46TJ8AsFXbS",
        "outputId": "16ffc058-0829-4cbf-96c5-ce51d771836b"
      },
      "outputs": [
        {
          "data": {
            "text/plain": [
              "12.7576"
            ]
          },
          "execution_count": 16,
          "metadata": {},
          "output_type": "execute_result"
        }
      ],
      "source": [
        "float(12.7576)"
      ]
    },
    {
      "cell_type": "code",
      "execution_count": null,
      "metadata": {
        "id": "m0JRJIV_FXbT",
        "outputId": "f3cff874-4872-4148-f9a0-16c932e9a13a"
      },
      "outputs": [
        {
          "data": {
            "text/plain": [
              "'32'"
            ]
          },
          "execution_count": 17,
          "metadata": {},
          "output_type": "execute_result"
        }
      ],
      "source": [
        "str(32)"
      ]
    },
    {
      "cell_type": "markdown",
      "metadata": {
        "id": "OxKu4ECWFXbU"
      },
      "source": [
        "Math Functions:\n",
        "--\n",
        " Import module 'math' for this"
      ]
    },
    {
      "cell_type": "code",
      "execution_count": null,
      "metadata": {
        "id": "4vm-uEUZFXbV",
        "outputId": "3ec0f671-e432-4c47-bbcf-85812f4452b8"
      },
      "outputs": [
        {
          "name": "stdout",
          "output_type": "stream",
          "text": [
            "<module 'math' (built-in)>\n"
          ]
        }
      ],
      "source": [
        "import math\n",
        "print(math)"
      ]
    },
    {
      "cell_type": "code",
      "execution_count": null,
      "metadata": {
        "id": "tFx_cJ-ZFXbW",
        "outputId": "1f3afc2e-a911-44ac-e4e6-b0b068fcd996"
      },
      "outputs": [
        {
          "name": "stdout",
          "output_type": "stream",
          "text": [
            "Help on built-in module math:\n",
            "\n",
            "NAME\n",
            "    math\n",
            "\n",
            "DESCRIPTION\n",
            "    This module provides access to the mathematical functions\n",
            "    defined by the C standard.\n",
            "\n",
            "FUNCTIONS\n",
            "    acos(x, /)\n",
            "        Return the arc cosine (measured in radians) of x.\n",
            "    \n",
            "    acosh(x, /)\n",
            "        Return the inverse hyperbolic cosine of x.\n",
            "    \n",
            "    asin(x, /)\n",
            "        Return the arc sine (measured in radians) of x.\n",
            "    \n",
            "    asinh(x, /)\n",
            "        Return the inverse hyperbolic sine of x.\n",
            "    \n",
            "    atan(x, /)\n",
            "        Return the arc tangent (measured in radians) of x.\n",
            "    \n",
            "    atan2(y, x, /)\n",
            "        Return the arc tangent (measured in radians) of y/x.\n",
            "        \n",
            "        Unlike atan(y/x), the signs of both x and y are considered.\n",
            "    \n",
            "    atanh(x, /)\n",
            "        Return the inverse hyperbolic tangent of x.\n",
            "    \n",
            "    ceil(x, /)\n",
            "        Return the ceiling of x as an Integral.\n",
            "        \n",
            "        This is the smallest integer >= x.\n",
            "    \n",
            "    comb(n, k, /)\n",
            "        Number of ways to choose k items from n items without repetition and without order.\n",
            "        \n",
            "        Evaluates to n! / (k! * (n - k)!) when k <= n and evaluates\n",
            "        to zero when k > n.\n",
            "        \n",
            "        Also called the binomial coefficient because it is equivalent\n",
            "        to the coefficient of k-th term in polynomial expansion of the\n",
            "        expression (1 + x)**n.\n",
            "        \n",
            "        Raises TypeError if either of the arguments are not integers.\n",
            "        Raises ValueError if either of the arguments are negative.\n",
            "    \n",
            "    copysign(x, y, /)\n",
            "        Return a float with the magnitude (absolute value) of x but the sign of y.\n",
            "        \n",
            "        On platforms that support signed zeros, copysign(1.0, -0.0)\n",
            "        returns -1.0.\n",
            "    \n",
            "    cos(x, /)\n",
            "        Return the cosine of x (measured in radians).\n",
            "    \n",
            "    cosh(x, /)\n",
            "        Return the hyperbolic cosine of x.\n",
            "    \n",
            "    degrees(x, /)\n",
            "        Convert angle x from radians to degrees.\n",
            "    \n",
            "    dist(p, q, /)\n",
            "        Return the Euclidean distance between two points p and q.\n",
            "        \n",
            "        The points should be specified as sequences (or iterables) of\n",
            "        coordinates.  Both inputs must have the same dimension.\n",
            "        \n",
            "        Roughly equivalent to:\n",
            "            sqrt(sum((px - qx) ** 2.0 for px, qx in zip(p, q)))\n",
            "    \n",
            "    erf(x, /)\n",
            "        Error function at x.\n",
            "    \n",
            "    erfc(x, /)\n",
            "        Complementary error function at x.\n",
            "    \n",
            "    exp(x, /)\n",
            "        Return e raised to the power of x.\n",
            "    \n",
            "    expm1(x, /)\n",
            "        Return exp(x)-1.\n",
            "        \n",
            "        This function avoids the loss of precision involved in the direct evaluation of exp(x)-1 for small x.\n",
            "    \n",
            "    fabs(x, /)\n",
            "        Return the absolute value of the float x.\n",
            "    \n",
            "    factorial(x, /)\n",
            "        Find x!.\n",
            "        \n",
            "        Raise a ValueError if x is negative or non-integral.\n",
            "    \n",
            "    floor(x, /)\n",
            "        Return the floor of x as an Integral.\n",
            "        \n",
            "        This is the largest integer <= x.\n",
            "    \n",
            "    fmod(x, y, /)\n",
            "        Return fmod(x, y), according to platform C.\n",
            "        \n",
            "        x % y may differ.\n",
            "    \n",
            "    frexp(x, /)\n",
            "        Return the mantissa and exponent of x, as pair (m, e).\n",
            "        \n",
            "        m is a float and e is an int, such that x = m * 2.**e.\n",
            "        If x is 0, m and e are both 0.  Else 0.5 <= abs(m) < 1.0.\n",
            "    \n",
            "    fsum(seq, /)\n",
            "        Return an accurate floating point sum of values in the iterable seq.\n",
            "        \n",
            "        Assumes IEEE-754 floating point arithmetic.\n",
            "    \n",
            "    gamma(x, /)\n",
            "        Gamma function at x.\n",
            "    \n",
            "    gcd(x, y, /)\n",
            "        greatest common divisor of x and y\n",
            "    \n",
            "    hypot(...)\n",
            "        hypot(*coordinates) -> value\n",
            "        \n",
            "        Multidimensional Euclidean distance from the origin to a point.\n",
            "        \n",
            "        Roughly equivalent to:\n",
            "            sqrt(sum(x**2 for x in coordinates))\n",
            "        \n",
            "        For a two dimensional point (x, y), gives the hypotenuse\n",
            "        using the Pythagorean theorem:  sqrt(x*x + y*y).\n",
            "        \n",
            "        For example, the hypotenuse of a 3/4/5 right triangle is:\n",
            "        \n",
            "            >>> hypot(3.0, 4.0)\n",
            "            5.0\n",
            "    \n",
            "    isclose(a, b, *, rel_tol=1e-09, abs_tol=0.0)\n",
            "        Determine whether two floating point numbers are close in value.\n",
            "        \n",
            "          rel_tol\n",
            "            maximum difference for being considered \"close\", relative to the\n",
            "            magnitude of the input values\n",
            "          abs_tol\n",
            "            maximum difference for being considered \"close\", regardless of the\n",
            "            magnitude of the input values\n",
            "        \n",
            "        Return True if a is close in value to b, and False otherwise.\n",
            "        \n",
            "        For the values to be considered close, the difference between them\n",
            "        must be smaller than at least one of the tolerances.\n",
            "        \n",
            "        -inf, inf and NaN behave similarly to the IEEE 754 Standard.  That\n",
            "        is, NaN is not close to anything, even itself.  inf and -inf are\n",
            "        only close to themselves.\n",
            "    \n",
            "    isfinite(x, /)\n",
            "        Return True if x is neither an infinity nor a NaN, and False otherwise.\n",
            "    \n",
            "    isinf(x, /)\n",
            "        Return True if x is a positive or negative infinity, and False otherwise.\n",
            "    \n",
            "    isnan(x, /)\n",
            "        Return True if x is a NaN (not a number), and False otherwise.\n",
            "    \n",
            "    isqrt(n, /)\n",
            "        Return the integer part of the square root of the input.\n",
            "    \n",
            "    ldexp(x, i, /)\n",
            "        Return x * (2**i).\n",
            "        \n",
            "        This is essentially the inverse of frexp().\n",
            "    \n",
            "    lgamma(x, /)\n",
            "        Natural logarithm of absolute value of Gamma function at x.\n",
            "    \n",
            "    log(...)\n",
            "        log(x, [base=math.e])\n",
            "        Return the logarithm of x to the given base.\n",
            "        \n",
            "        If the base not specified, returns the natural logarithm (base e) of x.\n",
            "    \n",
            "    log10(x, /)\n",
            "        Return the base 10 logarithm of x.\n",
            "    \n",
            "    log1p(x, /)\n",
            "        Return the natural logarithm of 1+x (base e).\n",
            "        \n",
            "        The result is computed in a way which is accurate for x near zero.\n",
            "    \n",
            "    log2(x, /)\n",
            "        Return the base 2 logarithm of x.\n",
            "    \n",
            "    modf(x, /)\n",
            "        Return the fractional and integer parts of x.\n",
            "        \n",
            "        Both results carry the sign of x and are floats.\n",
            "    \n",
            "    perm(n, k=None, /)\n",
            "        Number of ways to choose k items from n items without repetition and with order.\n",
            "        \n",
            "        Evaluates to n! / (n - k)! when k <= n and evaluates\n",
            "        to zero when k > n.\n",
            "        \n",
            "        If k is not specified or is None, then k defaults to n\n",
            "        and the function returns n!.\n",
            "        \n",
            "        Raises TypeError if either of the arguments are not integers.\n",
            "        Raises ValueError if either of the arguments are negative.\n",
            "    \n",
            "    pow(x, y, /)\n",
            "        Return x**y (x to the power of y).\n",
            "    \n",
            "    prod(iterable, /, *, start=1)\n",
            "        Calculate the product of all the elements in the input iterable.\n",
            "        \n",
            "        The default start value for the product is 1.\n",
            "        \n",
            "        When the iterable is empty, return the start value.  This function is\n",
            "        intended specifically for use with numeric values and may reject\n",
            "        non-numeric types.\n",
            "    \n",
            "    radians(x, /)\n",
            "        Convert angle x from degrees to radians.\n",
            "    \n",
            "    remainder(x, y, /)\n",
            "        Difference between x and the closest integer multiple of y.\n",
            "        \n",
            "        Return x - n*y where n*y is the closest integer multiple of y.\n",
            "        In the case where x is exactly halfway between two multiples of\n",
            "        y, the nearest even value of n is used. The result is always exact.\n",
            "    \n",
            "    sin(x, /)\n",
            "        Return the sine of x (measured in radians).\n",
            "    \n",
            "    sinh(x, /)\n",
            "        Return the hyperbolic sine of x.\n",
            "    \n",
            "    sqrt(x, /)\n",
            "        Return the square root of x.\n",
            "    \n",
            "    tan(x, /)\n",
            "        Return the tangent of x (measured in radians).\n",
            "    \n",
            "    tanh(x, /)\n",
            "        Return the hyperbolic tangent of x.\n",
            "    \n",
            "    trunc(x, /)\n",
            "        Truncates the Real x to the nearest Integral toward 0.\n",
            "        \n",
            "        Uses the __trunc__ magic method.\n",
            "\n",
            "DATA\n",
            "    e = 2.718281828459045\n",
            "    inf = inf\n",
            "    nan = nan\n",
            "    pi = 3.141592653589793\n",
            "    tau = 6.283185307179586\n",
            "\n",
            "FILE\n",
            "    (built-in)\n",
            "\n",
            "\n"
          ]
        }
      ],
      "source": [
        "help(math)"
      ]
    },
    {
      "cell_type": "code",
      "execution_count": null,
      "metadata": {
        "id": "8Q5flHVvFXbX",
        "outputId": "41a876a0-769b-4203-f4c2-2bd3f559fdf1"
      },
      "outputs": [
        {
          "name": "stdout",
          "output_type": "stream",
          "text": [
            "0.4459230474713877\n"
          ]
        }
      ],
      "source": [
        "# It is used with dot notations\n",
        "# type your code here\n",
        "a = math.sin(90)\n",
        "b = math.cos(90)\n",
        "print(a+b)"
      ]
    },
    {
      "cell_type": "code",
      "execution_count": null,
      "metadata": {
        "id": "bzO_uBLvFXbY",
        "outputId": "2d61bf5d-e0d9-42f6-9432-b6d223266401"
      },
      "outputs": [
        {
          "name": "stdout",
          "output_type": "stream",
          "text": [
            "-3.990400824416484\n"
          ]
        }
      ],
      "source": [
        "# type your code here\n",
        "import math as m\n",
        "a = 2*m.tan(90)\n",
        "print(a)"
      ]
    },
    {
      "cell_type": "code",
      "execution_count": null,
      "metadata": {
        "id": "Se_ZD-SQFXbY",
        "outputId": "22f7612e-4dfb-4a32-f94e-458bf79ebe50"
      },
      "outputs": [
        {
          "name": "stdout",
          "output_type": "stream",
          "text": [
            "2.0\n",
            "6\n",
            "5\n",
            "20.085536923187668\n",
            "1.0986122886681098\n",
            "0.3010299956639812\n",
            "8.0\n"
          ]
        }
      ],
      "source": [
        "print(m.sqrt(4))\n",
        "print(m.ceil(5.1))\n",
        "print(m.floor(5.1))\n",
        "print(m.exp(3.0))\n",
        "print(m.log(3))\n",
        "print(m.log10(2))\n",
        "print(m.pow(2,3))"
      ]
    },
    {
      "cell_type": "code",
      "execution_count": null,
      "metadata": {
        "id": "wNr8FloTFXbZ",
        "outputId": "b9c95368-94c2-470b-cdda-9ed51de79725"
      },
      "outputs": [
        {
          "data": {
            "text/plain": [
              "12.0"
            ]
          },
          "execution_count": 27,
          "metadata": {},
          "output_type": "execute_result"
        }
      ],
      "source": [
        "m.sqrt(144)"
      ]
    },
    {
      "cell_type": "code",
      "execution_count": null,
      "metadata": {
        "id": "9lTIubq4FXba",
        "outputId": "dcb97d60-6336-4ad2-de8a-e5fb8c348854"
      },
      "outputs": [
        {
          "data": {
            "text/plain": [
              "10.0"
            ]
          },
          "execution_count": 28,
          "metadata": {},
          "output_type": "execute_result"
        }
      ],
      "source": [
        "# type your code here\n",
        "# import math\n",
        "from math import *\n",
        "math.sqrt(100)"
      ]
    },
    {
      "cell_type": "code",
      "execution_count": null,
      "metadata": {
        "id": "S2v_flD0FXba",
        "outputId": "55d72754-cb76-4f64-b8ed-284bbf53aa61"
      },
      "outputs": [
        {
          "data": {
            "text/plain": [
              "10.0"
            ]
          },
          "execution_count": 29,
          "metadata": {},
          "output_type": "execute_result"
        }
      ],
      "source": [
        "# type your code here\n",
        "# import math\n",
        "from math import sqrt\n",
        "math.sqrt(100)"
      ]
    },
    {
      "cell_type": "markdown",
      "metadata": {
        "id": "K0Oy2PjfFXbb"
      },
      "source": [
        "Composition\n",
        "--\n",
        "\n",
        ">It is the ability to take small building blocks and compose them. "
      ]
    },
    {
      "cell_type": "code",
      "execution_count": null,
      "metadata": {
        "id": "A0LwyA1CFXbc",
        "outputId": "1b6941c4-8a41-4041-80ba-dd567c44a554"
      },
      "outputs": [
        {
          "name": "stdout",
          "output_type": "stream",
          "text": [
            "1.1101041343168954\n"
          ]
        }
      ],
      "source": [
        "import math as m\n",
        "print(m.pow(3,(m.log10(m.tan( m.sin(90) ))) ))"
      ]
    },
    {
      "cell_type": "code",
      "execution_count": null,
      "metadata": {
        "id": "58tGJ37LFXbe",
        "outputId": "58598520-46d1-4100-f96c-2f6f65d85b86"
      },
      "outputs": [
        {
          "data": {
            "text/plain": [
              "-0.9992995818189946"
            ]
          },
          "execution_count": 32,
          "metadata": {},
          "output_type": "execute_result"
        }
      ],
      "source": [
        "m.sin(m.sinh(30))"
      ]
    },
    {
      "cell_type": "markdown",
      "metadata": {
        "id": "3VUKNxEsFXbe"
      },
      "source": [
        "User Defined Functions:\n",
        "--\n",
        "\n",
        "'def' keyword is used for this"
      ]
    },
    {
      "cell_type": "code",
      "execution_count": null,
      "metadata": {
        "id": "2-vHAMgwFXbf"
      },
      "outputs": [],
      "source": [
        "def greet():\n",
        "    print(\"Hello Learners.\")\n",
        "    print(\"I am your coach.\")\n",
        "    print(\"Myself, Dr. Darshan Ingle\")"
      ]
    },
    {
      "cell_type": "code",
      "execution_count": null,
      "metadata": {
        "id": "xtvxIzU4FXbf",
        "outputId": "5b7d99f9-0f6d-48ca-ddcf-7e84b3fddc1c"
      },
      "outputs": [
        {
          "name": "stdout",
          "output_type": "stream",
          "text": [
            "Hello Learners.\n",
            "I am your coach.\n",
            "Myself, Dr. Darshan Ingle\n",
            "HEY\n"
          ]
        }
      ],
      "source": [
        "greet()\n",
        "print(\"HEY\")"
      ]
    },
    {
      "cell_type": "code",
      "execution_count": null,
      "metadata": {
        "id": "9MkrtUWqFXbg",
        "outputId": "242f354a-fe4a-4b24-d1a1-4dc71e4be29b"
      },
      "outputs": [
        {
          "name": "stdout",
          "output_type": "stream",
          "text": [
            "Hello Learners.\n",
            "I am your coach.\n",
            "Myself, Dr. Darshan Ingle\n",
            "Hello Learners.\n",
            "I am your coach.\n",
            "Myself, Dr. Darshan Ingle\n"
          ]
        }
      ],
      "source": [
        "greet()\n",
        "greet()"
      ]
    },
    {
      "cell_type": "code",
      "execution_count": null,
      "metadata": {
        "id": "Pn2YMe1FFXbg",
        "outputId": "6a333ce3-481b-474c-ef32-62a460f5ac59"
      },
      "outputs": [
        {
          "name": "stdout",
          "output_type": "stream",
          "text": [
            "Hello Learners.\n",
            "I am your coach.\n",
            "Myself, Dr. Darshan Ingle\n",
            "Hello Learners.\n",
            "I am your coach.\n",
            "Myself, Dr. Darshan Ingle\n",
            "Hello Learners.\n",
            "I am your coach.\n",
            "Myself, Dr. Darshan Ingle\n",
            "Hello Learners.\n",
            "I am your coach.\n",
            "Myself, Dr. Darshan Ingle\n",
            "Hello Learners.\n",
            "I am your coach.\n",
            "Myself, Dr. Darshan Ingle\n"
          ]
        }
      ],
      "source": [
        "for i in range(5):\n",
        "    greet()"
      ]
    },
    {
      "cell_type": "code",
      "execution_count": null,
      "metadata": {
        "id": "nP-T4C0vFXbh",
        "outputId": "d136061f-4178-476e-88f0-c3099b93aaf1"
      },
      "outputs": [
        {
          "name": "stdout",
          "output_type": "stream",
          "text": [
            "Hi, I am abc function\n",
            "Hi, I am abc function\n",
            "Hi, I am xyz function\n"
          ]
        }
      ],
      "source": [
        "def abc():\n",
        "    print(\"Hi, I am abc function\")\n",
        "    \n",
        "def xyz():\n",
        "    abc()\n",
        "    print(\"Hi, I am xyz function\")\n",
        "\n",
        "abc()\n",
        "xyz()"
      ]
    },
    {
      "cell_type": "code",
      "execution_count": null,
      "metadata": {
        "id": "SobljDtfFXbh",
        "outputId": "a2353900-a9aa-4e23-ee74-b08aadece3a6"
      },
      "outputs": [
        {
          "name": "stdout",
          "output_type": "stream",
          "text": [
            "DarshanDarshanDarshanDarshanDarshan\n"
          ]
        }
      ],
      "source": [
        "s = \"Darshan\"\n",
        "print(s*5)"
      ]
    },
    {
      "cell_type": "markdown",
      "metadata": {
        "id": "30hrTPV6FXbi"
      },
      "source": [
        "Parameter passing and Arguments:\n",
        "--\n"
      ]
    },
    {
      "cell_type": "code",
      "execution_count": null,
      "metadata": {
        "id": "dPMrgoO1FXbi",
        "outputId": "3c4cac28-0dc0-4a5c-97b7-ddeb992e0a2f"
      },
      "outputs": [
        {
          "name": "stdout",
          "output_type": "stream",
          "text": [
            "10\n",
            "7.5\n",
            "DarshanDarshanDarshanDarshanDarshan\n",
            "999999999999999\n",
            "15.707963267948966\n",
            "3.141592653589793\n"
          ]
        }
      ],
      "source": [
        "def mno(a):\n",
        "    print(a*5)\n",
        "\n",
        "mno(2)\n",
        "mno(1.5)\n",
        "mno(\"Darshan\")\n",
        "mno('999')\n",
        "mno(math.pi)\n",
        "print(math.pi)"
      ]
    },
    {
      "cell_type": "code",
      "execution_count": null,
      "metadata": {
        "id": "dTw6s4uaFXbj",
        "outputId": "49b3b47f-3414-4b0a-9393-4b3366420b47"
      },
      "outputs": [
        {
          "name": "stdout",
          "output_type": "stream",
          "text": [
            "25\n"
          ]
        }
      ],
      "source": [
        "def mno(a):\n",
        "    a = a**2\n",
        "    return a\n",
        "    \n",
        "\n",
        "x = mno(5)\n",
        "print(x)"
      ]
    },
    {
      "cell_type": "code",
      "execution_count": null,
      "metadata": {
        "id": "LgQh3NFRFXbk",
        "outputId": "6e0d0f3a-2284-436d-876f-095bb46746d0"
      },
      "outputs": [
        {
          "name": "stdout",
          "output_type": "stream",
          "text": [
            "2.3333333333333335\n",
            "1\n"
          ]
        }
      ],
      "source": [
        "# Modulus Operator\n",
        "print(7/3)\n",
        "print(7%3)"
      ]
    },
    {
      "cell_type": "code",
      "execution_count": null,
      "metadata": {
        "id": "2aA5UvlKFXbl",
        "outputId": "fc59aaa1-2bb7-46ba-f92e-f45d01b57c46"
      },
      "outputs": [
        {
          "name": "stdout",
          "output_type": "stream",
          "text": [
            "True\n",
            "5==6\n",
            "True\n",
            "False\n",
            "<class 'bool'>\n"
          ]
        }
      ],
      "source": [
        "# Boolean Operator\n",
        "print(5==5)\n",
        "print('5==6')\n",
        "print('Hi'=='Hi')\n",
        "print('hi'=='Hi')\n",
        "print(type(False))"
      ]
    },
    {
      "cell_type": "markdown",
      "metadata": {
        "id": "CKNeTSG_FXbm"
      },
      "source": [
        "Variables and parameters are local.\n",
        "--"
      ]
    },
    {
      "cell_type": "code",
      "execution_count": null,
      "metadata": {
        "id": "n3N9qp_zFXbm",
        "outputId": "75450a36-22f6-43e2-fbb0-1d293f155d26"
      },
      "outputs": [
        {
          "name": "stdout",
          "output_type": "stream",
          "text": [
            "DarshanIngle\n"
          ]
        },
        {
          "ename": "NameError",
          "evalue": "name 'new_var' is not defined",
          "output_type": "error",
          "traceback": [
            "\u001b[1;31m---------------------------------------------------------------------------\u001b[0m",
            "\u001b[1;31mNameError\u001b[0m                                 Traceback (most recent call last)",
            "\u001b[1;32m<ipython-input-52-9b34cdb8f966>\u001b[0m in \u001b[0;36m<module>\u001b[1;34m\u001b[0m\n\u001b[0;32m      6\u001b[0m \u001b[0mb\u001b[0m\u001b[1;33m=\u001b[0m\u001b[1;34m\"Ingle\"\u001b[0m\u001b[1;33m\u001b[0m\u001b[1;33m\u001b[0m\u001b[0m\n\u001b[0;32m      7\u001b[0m \u001b[0mloc_var_ex\u001b[0m\u001b[1;33m(\u001b[0m\u001b[0ma\u001b[0m\u001b[1;33m,\u001b[0m\u001b[0mb\u001b[0m\u001b[1;33m)\u001b[0m\u001b[1;33m\u001b[0m\u001b[1;33m\u001b[0m\u001b[0m\n\u001b[1;32m----> 8\u001b[1;33m \u001b[0mprint\u001b[0m\u001b[1;33m(\u001b[0m\u001b[0mnew_var\u001b[0m\u001b[1;33m)\u001b[0m\u001b[1;33m\u001b[0m\u001b[1;33m\u001b[0m\u001b[0m\n\u001b[0m",
            "\u001b[1;31mNameError\u001b[0m: name 'new_var' is not defined"
          ]
        }
      ],
      "source": [
        "def loc_var_ex(parta,partartb):\n",
        "    new_var=parta+partartb\n",
        "    print(new_var)\n",
        "\n",
        "a=\"Darshan\"\n",
        "b=\"Ingle\"\n",
        "loc_var_ex(a,b)\n",
        "print(new_var)\n"
      ]
    },
    {
      "cell_type": "markdown",
      "metadata": {
        "id": "H7Ok2WUjFXbo"
      },
      "source": [
        "Taking input from the user\n",
        "--"
      ]
    },
    {
      "cell_type": "code",
      "execution_count": null,
      "metadata": {
        "id": "TDNFhgLDFXbp",
        "outputId": "77cae665-54c3-47c6-ebcd-0af7057230c8"
      },
      "outputs": [
        {
          "name": "stdout",
          "output_type": "stream",
          "text": [
            "Enter your input:\n",
            "50\n",
            "Entered data is 50\n",
            "<class 'str'>\n"
          ]
        }
      ],
      "source": [
        "print(\"Enter your input:\")\n",
        "x = input()\n",
        "print(\"Entered data is\",x)\n",
        "print(type(x))"
      ]
    },
    {
      "cell_type": "code",
      "execution_count": null,
      "metadata": {
        "id": "38_GxDDSFXbq",
        "outputId": "c3e8fa83-0aca-4114-ad4f-8f03bb580bdd"
      },
      "outputs": [
        {
          "name": "stdout",
          "output_type": "stream",
          "text": [
            "Enter your input:Darshan Ingle\n",
            "Entered data is Darshan Ingle\n",
            "<class 'str'>\n"
          ]
        }
      ],
      "source": [
        "x = input(\"Enter your input:\")\n",
        "print(\"Entered data is\",x)\n",
        "print(type(x))"
      ]
    },
    {
      "cell_type": "code",
      "execution_count": null,
      "metadata": {
        "scrolled": true,
        "id": "A4bAh0_qFXbr",
        "outputId": "5e335069-f195-4ab5-8ec2-f5e20407f1d8"
      },
      "outputs": [
        {
          "name": "stdout",
          "output_type": "stream",
          "text": [
            "Enter 1st number:25\n",
            "Enter 2nd number:75\n",
            "100\n"
          ]
        }
      ],
      "source": [
        "a = int(input(\"Enter 1st number:\"))\n",
        "b = int(input(\"Enter 2nd number:\"))\n",
        "c = a+b\n",
        "print(c)"
      ]
    },
    {
      "cell_type": "code",
      "execution_count": null,
      "metadata": {
        "id": "4Dtj0J1mFXbr"
      },
      "outputs": [],
      "source": [
        "# Recursion\n",
        "# A function calling itself is called as a recursive function\n",
        "# type your code here\n",
        "# This goes into an infinite loop\n",
        "\n",
        "# def countdown(n):\n",
        "#     print(n)\n",
        "#     countdown(n-1)\n",
        "\n",
        "# countdown(5)"
      ]
    },
    {
      "cell_type": "code",
      "execution_count": null,
      "metadata": {
        "id": "O4smnlbuFXbs",
        "outputId": "21beedc0-17c6-4108-e344-1af00428f5e9"
      },
      "outputs": [
        {
          "name": "stdout",
          "output_type": "stream",
          "text": [
            "5\n",
            "4\n",
            "3\n",
            "2\n",
            "1\n",
            "Blast Off!!!!!\n"
          ]
        }
      ],
      "source": [
        "# Recursion\n",
        "# A function calling itself\n",
        "\n",
        "\n",
        "\n",
        "def countdown(n):\n",
        "    if n<=0:\n",
        "        print(\"Blast Off!!!!!\")\n",
        "    else:\n",
        "        print(n)\n",
        "        countdown(n-1)\n",
        "\n",
        "countdown(5)"
      ]
    },
    {
      "cell_type": "code",
      "execution_count": null,
      "metadata": {
        "id": "yc60GQdJFXbv",
        "outputId": "48213b48-37ec-4f33-9ef7-f6679f260e9e"
      },
      "outputs": [
        {
          "name": "stdout",
          "output_type": "stream",
          "text": [
            "Enter the radius of the circle:2\n",
            "12.566370614359172\n"
          ]
        }
      ],
      "source": [
        "import math as m\n",
        "def area(radius):\n",
        "    a=m.pi*radius*radius\n",
        "    return a\n",
        "\n",
        "r = float(input(\"Enter the radius of the circle:\"))\n",
        "ar = area(r)\n",
        "print(ar)"
      ]
    },
    {
      "cell_type": "code",
      "execution_count": null,
      "metadata": {
        "id": "riU2L_sEFXbv",
        "outputId": "ada3989c-dea2-4300-c9c7-05ef2d68a95e"
      },
      "outputs": [
        {
          "name": "stdout",
          "output_type": "stream",
          "text": [
            "Enter the radius of the circle:2\n",
            "Area of Circle = 12.57\n"
          ]
        }
      ],
      "source": [
        "import math as m\n",
        "def area(radius):\n",
        "    return (m.pi*radius*radius)\n",
        "\n",
        "print(\"Area of Circle =\",round(area(float(input(\"Enter the radius of the circle:\"))),2))"
      ]
    },
    {
      "cell_type": "code",
      "execution_count": null,
      "metadata": {
        "id": "uJbT-aH8FXbx",
        "outputId": "cade112b-dbdf-4d0b-824a-87584ba15f64"
      },
      "outputs": [
        {
          "name": "stdout",
          "output_type": "stream",
          "text": [
            "2.0\n",
            "11.0\n"
          ]
        }
      ],
      "source": [
        "# Program to fing average of 3 numbers\n",
        "def avg(n1, n2, n3):\n",
        "    res = n1+n2+n3\n",
        "    print(res/3)\n",
        "\n",
        "avg(1,2,3)\n",
        "avg(10,11,12)"
      ]
    },
    {
      "cell_type": "code",
      "execution_count": null,
      "metadata": {
        "id": "nHb_3FNRFXbx",
        "outputId": "9ee72867-2ddd-46d9-ff5c-adf6246fb36a"
      },
      "outputs": [
        {
          "name": "stdout",
          "output_type": "stream",
          "text": [
            "1.0\n",
            "0.6666666666666666\n",
            "2.6666666666666665\n",
            "4.333333333333333\n",
            "4.333333333333333\n",
            "Enter the value of n35\n",
            "Enter the value of n16\n",
            "4.0\n"
          ]
        }
      ],
      "source": [
        "def avg(n1=2, n2=1, n3=0):\n",
        "    sum = n1+n2+n3\n",
        "    print(sum/3)\n",
        "\n",
        "avg()\n",
        "avg(1)\n",
        "avg(3,5)\n",
        "avg(n1=5, n3=7)\n",
        "avg( n3=7, n1=5)\n",
        "avg( n3=int(input(\"Enter the value of n3\")), n1=int(input(\"Enter the value of n1\")))"
      ]
    },
    {
      "cell_type": "markdown",
      "metadata": {
        "id": "z9R2wPAkFXby"
      },
      "source": [
        "# Happy Learning"
      ]
    }
  ],
  "metadata": {
    "kernelspec": {
      "display_name": "Python 3",
      "language": "python",
      "name": "python3"
    },
    "language_info": {
      "codemirror_mode": {
        "name": "ipython",
        "version": 3
      },
      "file_extension": ".py",
      "mimetype": "text/x-python",
      "name": "python",
      "nbconvert_exporter": "python",
      "pygments_lexer": "ipython3",
      "version": "3.8.3"
    },
    "toc": {
      "base_numbering": 1,
      "nav_menu": {},
      "number_sections": true,
      "sideBar": true,
      "skip_h1_title": false,
      "title_cell": "Table of Contents",
      "title_sidebar": "Contents",
      "toc_cell": false,
      "toc_position": {
        "height": "calc(100% - 180px)",
        "left": "10px",
        "top": "150px",
        "width": "175.543px"
      },
      "toc_section_display": true,
      "toc_window_display": true
    },
    "colab": {
      "name": "3 Functions.ipynb",
      "provenance": [],
      "include_colab_link": true
    }
  },
  "nbformat": 4,
  "nbformat_minor": 0
}