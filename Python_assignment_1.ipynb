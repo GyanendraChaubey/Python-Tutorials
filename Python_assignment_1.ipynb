{
  "cells": [
    {
      "cell_type": "markdown",
      "metadata": {
        "id": "view-in-github",
        "colab_type": "text"
      },
      "source": [
        "<a href=\"https://colab.research.google.com/github/GyanendraChaubey/Python-Tutorials/blob/main/Python_assignment_1.ipynb\" target=\"_parent\"><img src=\"https://colab.research.google.com/assets/colab-badge.svg\" alt=\"Open In Colab\"/></a>"
      ]
    },
    {
      "cell_type": "code",
      "source": [
        "!pip install pyforest"
      ],
      "metadata": {
        "colab": {
          "base_uri": "https://localhost:8080/"
        },
        "id": "bnfNMu6TwMIk",
        "outputId": "feef7eeb-36a1-45bb-ce03-33dd3f282ff0"
      },
      "execution_count": 61,
      "outputs": [
        {
          "output_type": "stream",
          "name": "stdout",
          "text": [
            "Looking in indexes: https://pypi.org/simple, https://us-python.pkg.dev/colab-wheels/public/simple/\n",
            "Collecting pyforest\n",
            "  Downloading pyforest-1.1.0.tar.gz (15 kB)\n",
            "Building wheels for collected packages: pyforest\n",
            "  Building wheel for pyforest (setup.py) ... \u001b[?25l\u001b[?25hdone\n",
            "  Created wheel for pyforest: filename=pyforest-1.1.0-py2.py3-none-any.whl size=14607 sha256=dbe0cdc73c71282b9f5620770fd55a9c6d8c5aaea5cda3da3728879298932b00\n",
            "  Stored in directory: /root/.cache/pip/wheels/61/1c/da/48e6c884142d485475d852d69d20a096aba5beceb338822893\n",
            "Successfully built pyforest\n",
            "Installing collected packages: pyforest\n",
            "Successfully installed pyforest-1.1.0\n"
          ]
        }
      ]
    },
    {
      "cell_type": "code",
      "execution_count": 62,
      "metadata": {
        "id": "p5oraMdu1nQe"
      },
      "outputs": [],
      "source": [
        "from pyforest import *"
      ]
    },
    {
      "cell_type": "markdown",
      "metadata": {
        "id": "qlLbOeAX1nQo"
      },
      "source": [
        "## Section-A"
      ]
    },
    {
      "cell_type": "markdown",
      "metadata": {
        "id": "ETUNAYTW1nQt"
      },
      "source": [
        "### 1.Write a Python program to make a currency converter. (5 Marks) The currency converter should be able to convert a specific currency to appropriate INR (Indian National Rupee) value. \n",
        "1. USD (U.S Dollars)          \n",
        "(1 USD =71.83 INR) \n",
        "2. YEN (Japanese YEN)       \n",
        "(1 YEN= 0.66 INR\n",
        "3. EURO                               \n",
        "(1 EURO=79.57 INR)  \n",
        "4. U.K POUND                      \n",
        "(1 U.K POUND=93.11 INR) \n",
        " "
      ]
    },
    {
      "cell_type": "code",
      "execution_count": 66,
      "metadata": {
        "id": "MSGjdLTe1nQx",
        "colab": {
          "base_uri": "https://localhost:8080/"
        },
        "outputId": "f05b91a4-48ec-48e7-dcf4-578fce58d832"
      },
      "outputs": [
        {
          "output_type": "stream",
          "name": "stdout",
          "text": [
            "Please Choose the currency as\n",
            " 1. USD\n",
            " 2. YEN\n",
            " 3. EURO\n",
            " 4. U.K.POUND\n",
            "Enter you curreny and amount seprated by space USD 10\n",
            "Your converted currency to INR is: 718.3\n"
          ]
        }
      ],
      "source": [
        "def currency_converter(currency,amount):\n",
        "  if currency=='USD':\n",
        "    return(amount*71.83)\n",
        "  if currency=='YEN':\n",
        "    return(amount*0.66)\n",
        "  if currency=='EURO':\n",
        "    return(amount*79.57)\n",
        "  if currency=='U.K.POUND':\n",
        "    return(amount*93.11)\n",
        "\n",
        "if __name__==\"__main__\":\n",
        "  print(\"Please Choose the currency as\\n 1. USD\\n 2. YEN\\n 3. EURO\\n 4. U.K.POUND\")\n",
        "  input1=input(\"Enter you curreny and amount seprated by space \")\n",
        "  currency=input1.split()[0]\n",
        "  amount=int(input1.split()[1])\n",
        "  final_amount=currency_converter(currency,amount)\n",
        "  print(f\"Your converted currency to INR is: {final_amount}\")\n",
        "\n",
        "\n",
        "\n",
        "\n"
      ]
    },
    {
      "cell_type": "markdown",
      "metadata": {
        "id": "UUtvVNJN1nQy"
      },
      "source": [
        "### 2.Write a Python program which calculates area of various geometrical figures as given below: (5 Marks)                                                      Program should ask the user about the geometrical figure for which he wants to calculate the area. Take the inputs accordingly and calculate the area. (units/metrics like mm, cm can be including as per the programmer’s choice)   \n",
        "1. the formula to calculate area of a square is Area= (Side of a square)**2    \n",
        "2. The formula to calculate area of a circle is Area=(pi)*(radius)**2    \n",
        "3. The formula to calculate area of a triangle is Area=0.5*Base *Height   \n",
        "4. The formula to calculate area of a cylinder is Area=2*pi*radius*height+2*pi*(radius**2) "
      ]
    },
    {
      "cell_type": "code",
      "execution_count": 67,
      "metadata": {
        "id": "lewcEjbT1nQ0",
        "colab": {
          "base_uri": "https://localhost:8080/"
        },
        "outputId": "18647e90-f5b5-4bdc-c45a-1d344b3b80fd"
      },
      "outputs": [
        {
          "output_type": "stream",
          "name": "stdout",
          "text": [
            "Please enter the shape you want to choose:\n",
            " 1. Square\n",
            " 2. Circle\n",
            " 3. Triangle\n",
            " 4. Cycliner\n",
            "Square\n",
            "Enter side of square4\n",
            "Area of the Square is 16.0\n"
          ]
        }
      ],
      "source": [
        "def Square(side):\n",
        "  return side*side\n",
        "\n",
        "def Circle(radius):\n",
        "  return (3.14*radius*radius)\n",
        "\n",
        "def Triangle(base, height):\n",
        "  return (0.5*base*height)\n",
        "\n",
        "def Cylinder(radius, height):\n",
        "  return (2*3.14*radius*height+2*3.14*radius*radius)\n",
        "\n",
        "def main():\n",
        "  print(\"Please enter the shape you want to choose:\\n 1. Square\\n 2. Circle\\n 3. Triangle\\n 4. Cycliner\")\n",
        "  shape=input()\n",
        "  if shape=='Square':\n",
        "    side=float(input(\"Enter side of square\"))\n",
        "    Area=Square(side)\n",
        "    print(f\"Area of the {shape} is {Area}\")\n",
        "  if shape=='Circle':\n",
        "    radius=float(input())\n",
        "    Area=Circle(radius)\n",
        "    print(f\"Area of the {shape} is {Area}\")\n",
        "  if shape=='Triangle':\n",
        "    base=float(input(\"Enter the base of triangle\"))\n",
        "    height=float(input(\"Enter the height of triangle\"))\n",
        "    Area=Triangle(base,height)\n",
        "    print(f\"Area of the {shape} is {Area}\")\n",
        "  if shape=='Cyclinder':\n",
        "    radius=float(input(\"Enter the radius of base of cylinder\"))\n",
        "    height=float(input(\"Enter the height of cylinder\"))\n",
        "    Area=Cylinder(radius,height)\n",
        "    print(f\"Area of the {shape} is {Area}\")\n",
        "\n",
        "if __name__==\"__main__\":\n",
        "  main()\n"
      ]
    },
    {
      "cell_type": "markdown",
      "metadata": {
        "id": "9m0RBTZs1nQ1"
      },
      "source": [
        "## 3. A string is said to be complete if it contains all the characters from a to z. Given a string, check if it completes or not.\n",
        "\n",
        "Input: The first line of the input contains the number of strings N.It is followed by N lines each contains a single string.\n",
        "\n",
        "Output: For each test case print \"YES\" if the string is complete, else print \"NO\" \n",
        "\n",
        "Constraints 1 <= N <= 10 \n",
        "\n",
        "The length of the string is at max 100 and the string contains only the characters a to z "
      ]
    },
    {
      "cell_type": "code",
      "execution_count": 68,
      "metadata": {
        "id": "lvknBjC51nQ4",
        "colab": {
          "base_uri": "https://localhost:8080/"
        },
        "outputId": "d760b86c-48cf-4c29-cc48-6277875a15ed"
      },
      "outputs": [
        {
          "output_type": "stream",
          "name": "stdout",
          "text": [
            "Enter your stringThis deck is actually a list of 52 cards, each card is a dictionary of value and suite. Values 11,12,13,14 represents Joker, Queen, King and Ace cards respectively.  Create a simple card game which repeatedly deal out three cards from this deck of cards after shuffling it and display it. For every iteration of game, Determine the following for these three cards.  A. If the three cards form a flush (all of the same suit), then display a message \"Three cards form a flush\"  B. If there is a three-of-a-kind (all of the same value), then display a message \"there is a three-of-a-kind\"  C. If there is a pair, but not three-of-a-kind, then display a message \"There is a pair\"  D. If the three cards form a straight (all in a row, like (2, 3, 4) or (10, Jack, Queen)), then display a message \"Three cards form a straight\"  E. if none of the above case, then display a message \"Try NEXT!!!\"  F. At the end, ask user whether he/she wants to continue with the game? y/n. If user gives 'n’, then stop playing this game\n",
            "Incomplete String\n"
          ]
        }
      ],
      "source": [
        "str1=input(\"Enter your string\")\n",
        "str2=str1.split()\n",
        "str3=[]\n",
        "for word in str2:\n",
        "  for l in word.lower():\n",
        "    str3.append(l)\n",
        "str3.sort()\n",
        "str3=set(str3)\n",
        "AZ={'a','b','c','d','e','f','g','h','i','j','k','l','m','n','o','p','q','r','s','t','u','v','w','x','y','z'}\n",
        "AZ=list(AZ-str3)\n",
        "if len(AZ)==0:\n",
        "  print('Complete String')\n",
        "else:\n",
        "  print('Incomplete String')"
      ]
    },
    {
      "cell_type": "markdown",
      "metadata": {
        "id": "Fst-YjSE1nQ6"
      },
      "source": [
        "## 4. Given A String S Find The Number Of White Spaces In The Given String S. (5 Marks) \n",
        " \n",
        "Input Format: \n",
        "\n",
        "Take input string: \n",
        "\n",
        "S Output Format Number of White spaces in S \n",
        "\n",
        "Constraints\n",
        "\n",
        "0<S<100001 \n",
        "\n",
        "Sample Input  Hello World \n",
        "\n",
        "Sample Output:   1 "
      ]
    },
    {
      "cell_type": "code",
      "execution_count": 69,
      "metadata": {
        "id": "k_gFumyo1nQ9",
        "colab": {
          "base_uri": "https://localhost:8080/"
        },
        "outputId": "8f96e8f2-e659-4ab0-c20b-fd1eae023682"
      },
      "outputs": [
        {
          "output_type": "stream",
          "name": "stdout",
          "text": [
            "Please enter the stringMy name is ram. ram is a good boy \n",
            "8\n"
          ]
        }
      ],
      "source": [
        "def white_spaces(str1):\n",
        "  str2=str1.split()\n",
        "  return(len(str2)-1)\n",
        "\n",
        "def main():\n",
        "  str1=input(\"Please enter the string \")\n",
        "  no_of_whites=white_spaces(str1)\n",
        "  print(no_of_whites)\n",
        "\n",
        "if __name__==\"__main__\":\n",
        "  main()\n",
        "\n"
      ]
    },
    {
      "cell_type": "markdown",
      "metadata": {
        "id": "ZCxxGokL1nQ9"
      },
      "source": [
        "## Section -B"
      ]
    },
    {
      "cell_type": "markdown",
      "metadata": {
        "id": "YyH8iRNC1nQ_"
      },
      "source": [
        "### 5. A Basket of Halloween candy has an unknown amount of candy and you need to guess exactly how much candy is in the bowl. You ask the person in charge a few questions to make a correct guess. If the candy is divided evenly among 5 people, how many pieces would be leftover? The answer is 2 pieces. You then ask about dividing the candy evenly among 6 people, and the amount left over is 3 pieces. Finally, you ask about dividing the candy evenly among 7 people, and the amount left over is 2 pieces. By looking at the bowl, you can tell that there are less than 200 pieces. Write a program to determine how many pieces are in the bowl. (10 Marks) \n",
        " "
      ]
    },
    {
      "cell_type": "code",
      "execution_count": 70,
      "metadata": {
        "id": "yd_32vn01nRB",
        "colab": {
          "base_uri": "https://localhost:8080/"
        },
        "outputId": "788c159c-5ab1-43e1-c3a3-fd6be25a9730"
      },
      "outputs": [
        {
          "output_type": "stream",
          "name": "stdout",
          "text": [
            "The number of candies are 177\n"
          ]
        }
      ],
      "source": [
        "x=200\n",
        "\n",
        "for i in range(x):\n",
        "    if i % 5 == 2:\n",
        "       if i % 6 == 3:\n",
        "          if i % 7 == 2:\n",
        "             print(f\"The number of candies are {i}\")\n"
      ]
    },
    {
      "cell_type": "markdown",
      "metadata": {
        "id": "or_Pf4W81nRC"
      },
      "source": [
        "### 6.Write a multiplication game program for kids. The program should give the player ten randomly generated multiplication questions to do. After each, the program should tell them whether they got it right or wrong and what the correct answer is and finally it should display the total score out of 10 scored by user. "
      ]
    },
    {
      "cell_type": "code",
      "execution_count": 71,
      "metadata": {
        "id": "vq_Ftth41nRD",
        "colab": {
          "base_uri": "https://localhost:8080/"
        },
        "outputId": "1613febb-cac6-406a-a8a4-ce87f5bbb315"
      },
      "outputs": [
        {
          "output_type": "stream",
          "name": "stdout",
          "text": [
            "Please choose any of the following questions to solve:\n",
            "\n",
            "1. 13*16\n",
            "2. 15*8\n",
            "3. 17*38\n",
            "4. 75*92\n",
            "5. 3*1\n",
            "6. 81*37\n",
            "7. 73*53\n",
            "8. 74*63\n",
            "9. 43*19\n",
            "10. 15*1\n",
            "Enter the question no you have selected5\n",
            "Enter your answer3\n",
            "Your answer is correct. You have got 10 marks\n"
          ]
        }
      ],
      "source": [
        "import random\n",
        "print(f\"Please choose any of the following questions to solve:\\n\")\n",
        "result=[]\n",
        "for i in range(1,11):\n",
        "  a=random.randint(1,100)\n",
        "  b=random.randint(1,100)\n",
        "  print(f\"{i}. {a}*{b}\")\n",
        "  result.append(a*b)\n",
        "quest=int(input(\"Enter the question no you have selected\"))\n",
        "ans=float(input(\"Enter your answer\"))\n",
        "if ans==result[quest-1]:\n",
        "  print(\"Your answer is correct. You have got 10 marks\")\n",
        "else:\n",
        "  print(\"Wrong answer\")"
      ]
    },
    {
      "cell_type": "markdown",
      "metadata": {
        "id": "rFFtCXd-1nRE"
      },
      "source": [
        "## SECTION:- C"
      ]
    },
    {
      "cell_type": "markdown",
      "metadata": {
        "id": "senxC9lL1nRG"
      },
      "source": [
        "###  7. Write a program to have a function called triple_shuffle () that takes three lists of the same size and shuffles them concurrently, so that they are shuffled in the exact same way. For instance, if the lists are [10,20,30,40,50], [11,22,33,44,55], and [19,18,17,16,15], and the first list is shuffled into [40,50,30,20,10], then the second would become [44,55,33,22,11] and the third would become [16,15,17,18,19]. The function should modify the lists and not return anything. "
      ]
    },
    {
      "cell_type": "code",
      "execution_count": 72,
      "metadata": {
        "id": "lJN1zo741nRH",
        "colab": {
          "base_uri": "https://localhost:8080/"
        },
        "outputId": "edef4200-5c57-4ef7-c868-8f9adedd46af"
      },
      "outputs": [
        {
          "output_type": "stream",
          "name": "stdout",
          "text": [
            "[142, 26, 23, 17, 1]\n",
            "[736, 89, 78, 56, 23]\n",
            "[98, 89, 87, 76, 67]\n"
          ]
        }
      ],
      "source": [
        "def triple_shuffle(*args):\n",
        "  for x in args:\n",
        "    x.sort(reverse=True)\n",
        "    print(x)\n",
        "\n",
        "triple_shuffle([1,26,17,23,142],[736,78,56,89,23],[76,87,67,89,98])"
      ]
    },
    {
      "cell_type": "markdown",
      "metadata": {
        "id": "u6KyBeid1nRH"
      },
      "source": [
        "## 8. A dictionary provides a nice way to represent a deck of cards. It can be done by given code.\n",
        "This deck is actually a list of 52 cards, each card is a dictionary of value and suite.  Values 11,12,13,14 represents Joker, Queen, King and Ace cards respectively. \n",
        "\n",
        "Create a simple card game which repeatedly deal out three cards from this deck of cards after shuffling it and display it. \n",
        "For every iteration of game, Determine the following for these three cards. \n",
        "\n",
        "A. If the three cards form a flush (all of the same suit), then display a message \"Three cards form a flush\"\n",
        "\n",
        "B. If there is a three-of-a-kind (all of the same value), then display a message \"there is a three-of-a-kind\" \n",
        "\n",
        "C. If there is a pair, but not three-of-a-kind, then display a message \"There is a pair\"\n",
        "\n",
        "D. If the three cards form a straight (all in a row, like (2, 3, 4) or (10, Jack, Queen)), then display a message \"Three cards form a straight\"\n",
        "\n",
        "E. if none of the above case, then display a message \"Try NEXT!!!\" \n",
        "\n",
        "F. At the end, ask user whether he/she wants to continue with the game? y/n.       If user gives 'n’, then stop playing this game"
      ]
    },
    {
      "cell_type": "code",
      "execution_count": 100,
      "metadata": {
        "id": "Hgm9o4921nRJ",
        "colab": {
          "base_uri": "https://localhost:8080/"
        },
        "outputId": "d418612f-2b00-4496-a8eb-06c46cd0bd0b"
      },
      "outputs": [
        {
          "output_type": "stream",
          "name": "stdout",
          "text": [
            "[Card(value=4, suit='clubs'), Card(value=10, suit='clubs'), Card(value=12, suit='diamonds')]\n"
          ]
        }
      ],
      "source": [
        "from collections import namedtuple\n",
        "\n",
        "Card = namedtuple('Card', ['value', 'suit'])\n",
        "suits = ['hearts', 'diamonds', 'spades', 'clubs']\n",
        "cards = [Card(value, suit) for value in range(1, 14) for suit in suits]\n",
        "import random\n",
        "sample_three=random.sample(cards,3)\n",
        "print(sample_three)\n",
        "if sample_three[0][1]==sample_three[1][1]:\n",
        "  if sample_three[1][1]==sample_three[2][1]:\n",
        "    print(\"A Three cards form a flush\")\n",
        "\n",
        "if sample_three[0][0]==sample_three[1][0]:\n",
        "  if sample_three[1][0]==sample_three[2][0]:\n",
        "    print(\"there is a three-of-a-kind\")\n",
        "\n",
        "if sample_three[0][0]==sample_three[1][0] or sample_three[1][0]==sample_three[2][0] or sample_three[2][0]==sample_three[0][0]:\n",
        "  print(\"There is a pair\")\n",
        "\n",
        "\n",
        "list1=[sample_three[0],sample_three[1],sample_three[2]]\n",
        "list1.sort()\n",
        "if list1[0][0]==list1[1][0]+1 or list1[1][0]==list1[2][0]+1:\n",
        "  print(\"Three cards form a straight\")\n",
        "\n"
      ]
    },
    {
      "cell_type": "markdown",
      "metadata": {
        "id": "VPWR3as51nRK"
      },
      "source": [
        "## Section D"
      ]
    },
    {
      "cell_type": "markdown",
      "metadata": {
        "id": "CoozNgWv1nRL"
      },
      "source": [
        "### 9. Write a Python Program to implement your own myreduce() function which works exactly like Python's built-in function reduce() "
      ]
    },
    {
      "cell_type": "code",
      "execution_count": 73,
      "metadata": {
        "id": "MkPzC44-1nRM",
        "colab": {
          "base_uri": "https://localhost:8080/"
        },
        "outputId": "aa59371a-9eea-4662-c533-fc46fe85a44f"
      },
      "outputs": [
        {
          "output_type": "stream",
          "name": "stdout",
          "text": [
            "[1, 4, 9, 16]\n"
          ]
        }
      ],
      "source": [
        "def myreduce(fun,list1):\n",
        "  result=[]\n",
        "  for a in list1:\n",
        "    result.append(fun(a))\n",
        "  return result\n",
        "\n",
        "fun=lambda x: x**2;\n",
        "\n",
        "list1=[1,2,3,4]\n",
        "result=myreduce(fun,list1)\n",
        "print(result)"
      ]
    },
    {
      "cell_type": "markdown",
      "metadata": {
        "id": "RI8Ch8nW1nRN"
      },
      "source": [
        "### 10. Write a Python Program to implement your own myreduce() function which works exactly like Python's built-in function reduce() and find the sum and product of list values."
      ]
    },
    {
      "cell_type": "code",
      "execution_count": 74,
      "metadata": {
        "id": "IpsSyViv1nRN",
        "colab": {
          "base_uri": "https://localhost:8080/"
        },
        "outputId": "5fd780d7-6c43-4d0e-c82e-19e49bae849f"
      },
      "outputs": [
        {
          "output_type": "stream",
          "name": "stdout",
          "text": [
            "[10, 24]\n"
          ]
        }
      ],
      "source": [
        "def myreduce(fun,list1):\n",
        "  return fun(list1)\n",
        "\n",
        "def product(list1):\n",
        "  a=1\n",
        "  for i in list1:\n",
        "    a=a*i\n",
        "  return(a)\n",
        "\n",
        "def summation(list1):\n",
        "  s=0\n",
        "  for i in list1:\n",
        "    s=s+i\n",
        "  return(s)\n",
        "\n",
        "def fun(list1):\n",
        "  s=summation(list1)\n",
        "  p=product(list1)\n",
        "  return ([s,p])\n",
        "\n",
        "list1=[1,2,3,4]\n",
        "result=myreduce(fun,list1)\n",
        "print(result)"
      ]
    },
    {
      "cell_type": "markdown",
      "metadata": {
        "id": "5f_SiWpa1nRO"
      },
      "source": [
        "### 11. Implement a function longestWord() that takes a list of words and returns the longest one."
      ]
    },
    {
      "cell_type": "code",
      "execution_count": 76,
      "metadata": {
        "id": "DR-JF_vl1nRP",
        "colab": {
          "base_uri": "https://localhost:8080/"
        },
        "outputId": "cf94b498-185f-473c-d18d-940bb12ad3ef"
      },
      "outputs": [
        {
          "output_type": "stream",
          "name": "stdout",
          "text": [
            "Enter the words seprated by space ram shyam mahesh\n",
            "mahesh\n"
          ]
        }
      ],
      "source": [
        "list1=input(\"Enter the words seprated by space \")\n",
        "list1=list1.split()\n",
        "def longestword(list1):\n",
        "  result=map(len,list1)\n",
        "  result=list(result)\n",
        "  i=result.index(max(result))\n",
        "  return(list1[i])\n",
        "\n",
        "long_word=longestword(list1)\n",
        "print(long_word)"
      ]
    },
    {
      "cell_type": "markdown",
      "metadata": {
        "id": "a59GeLkD1nRQ"
      },
      "source": [
        "### 12. Write a Python Program(with class concepts) to find the area of the triangle using the below formula. \n",
        " \n",
        "area = (s*(s-a)*(s-b)*(s-c)) ** 0.5 \n",
        " \n",
        "Function to take the length of the sides of triangle from user should be defined in the parent class and function to calculate the area should be defined in subclass. "
      ]
    },
    {
      "cell_type": "code",
      "execution_count": 77,
      "metadata": {
        "id": "_SDOq6Fa1nRQ",
        "colab": {
          "base_uri": "https://localhost:8080/"
        },
        "outputId": "735e58b8-1554-422d-b150-a7d0bb341428"
      },
      "outputs": [
        {
          "output_type": "stream",
          "name": "stdout",
          "text": [
            "3024.0\n"
          ]
        }
      ],
      "source": [
        "class Triangle:\n",
        "  def __init__(self,a,b,c):\n",
        "    self.a=a\n",
        "    self.b=b\n",
        "    self.c=c\n",
        "\n",
        "  def Area(self):\n",
        "    super().__init__()\n",
        "    s=self.a+self.b+self.c\n",
        "    area=0.5*(s*(s-self.a)*(s-self.b)*(s-self.c))\n",
        "    return area\n",
        "\n",
        "triangle=Triangle(a=3,b=4,c=5)\n",
        "area=triangle.Area()\n",
        "print(area)"
      ]
    },
    {
      "cell_type": "markdown",
      "metadata": {
        "id": "IlkXMdQz1nRR"
      },
      "source": [
        "### 13. Write a Python program using function concept that maps  list of words into a list of integers representing the lengths of the corresponding words​. \n",
        " Hint: ​If a list [ ab,cde,erty] is passed on to the python function output should come as [2,3,4] \n",
        " \n",
        " Here 2,3 and 4 are the lengths of the words in the list. "
      ]
    },
    {
      "cell_type": "code",
      "execution_count": 78,
      "metadata": {
        "id": "axFyFutC1nRR",
        "colab": {
          "base_uri": "https://localhost:8080/"
        },
        "outputId": "fbb94ed8-b016-4852-e134-fe5917a6ab1d"
      },
      "outputs": [
        {
          "output_type": "stream",
          "name": "stdout",
          "text": [
            "[2, 3, 4]\n"
          ]
        }
      ],
      "source": [
        "def length(x):\n",
        "  return(len(x))\n",
        "\n",
        "def calculate_length(lsit1):\n",
        "    result=map(length,list1)\n",
        "    result=list(result)\n",
        "    print(result)\n",
        "\n",
        "list1=['ab','cde','erty']\n",
        "calculate_length(list1)"
      ]
    },
    {
      "cell_type": "code",
      "execution_count": null,
      "metadata": {
        "id": "bvx7oV3F1nRS"
      },
      "outputs": [],
      "source": [
        ""
      ]
    }
  ],
  "metadata": {
    "kernelspec": {
      "display_name": "Python 3",
      "language": "python",
      "name": "python3"
    },
    "language_info": {
      "codemirror_mode": {
        "name": "ipython",
        "version": 3
      },
      "file_extension": ".py",
      "mimetype": "text/x-python",
      "name": "python",
      "nbconvert_exporter": "python",
      "pygments_lexer": "ipython3",
      "version": "3.8.5"
    },
    "colab": {
      "name": "Python_assignment_1.ipynb",
      "provenance": [],
      "collapsed_sections": [],
      "include_colab_link": true
    }
  },
  "nbformat": 4,
  "nbformat_minor": 0
}