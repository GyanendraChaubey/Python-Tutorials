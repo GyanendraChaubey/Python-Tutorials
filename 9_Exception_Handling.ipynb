{
  "cells": [
    {
      "cell_type": "markdown",
      "metadata": {
        "id": "view-in-github",
        "colab_type": "text"
      },
      "source": [
        "<a href=\"https://colab.research.google.com/github/GyanendraChaubey/Python-Tutorials/blob/main/9_Exception_Handling.ipynb\" target=\"_parent\"><img src=\"https://colab.research.google.com/assets/colab-badge.svg\" alt=\"Open In Colab\"/></a>"
      ]
    },
    {
      "cell_type": "markdown",
      "metadata": {
        "id": "HZBKP3X-HtoK"
      },
      "source": [
        ">Exception is an abnormal condition in a program.\n",
        "\n",
        ">It is a run time error.\n",
        "\n",
        ">If we raise an exception, we can prevent the program from crashing."
      ]
    },
    {
      "cell_type": "markdown",
      "metadata": {
        "id": "dle9OwNdHtoP"
      },
      "source": [
        "Built-in Exceptions for Python\n",
        "--\n",
        "\n",
        "Exception - Base class for all exceptions\n",
        "\n",
        "ArithmeticError - numeric caluclations\n",
        "\n",
        "OverflowError - maximum limit for numeric type\n",
        "\n",
        "ZeroDivisionError - divide by zero\n",
        "\n",
        "ImportError - when import fails\n",
        "\n",
        "KeyboardInterrupt - usually when the user interrupts the program execution by pressing Ctrl+c\n",
        "\n",
        "IndexError - index not found in the sequence\n",
        "\n",
        "KeyError - key not found in the sequence\n",
        "\n",
        "OSError - OS related errors\n",
        "\n",
        "ValueError, TypeError and so on."
      ]
    },
    {
      "cell_type": "code",
      "execution_count": null,
      "metadata": {
        "id": "WPj0ryJ9HtoR",
        "outputId": "45fc3315-35df-4209-e5f1-5dc45122a5d3"
      },
      "outputs": [
        {
          "name": "stdout",
          "output_type": "stream",
          "text": [
            "Enter 1st number:a\n"
          ]
        },
        {
          "ename": "ValueError",
          "evalue": "could not convert string to float: 'a'",
          "output_type": "error",
          "traceback": [
            "\u001b[1;31m---------------------------------------------------------------------------\u001b[0m",
            "\u001b[1;31mValueError\u001b[0m                                Traceback (most recent call last)",
            "\u001b[1;32m<ipython-input-6-44f6ab526804>\u001b[0m in \u001b[0;36m<module>\u001b[1;34m\u001b[0m\n\u001b[1;32m----> 1\u001b[1;33m \u001b[0ma\u001b[0m\u001b[1;33m=\u001b[0m\u001b[0mfloat\u001b[0m\u001b[1;33m(\u001b[0m\u001b[0minput\u001b[0m\u001b[1;33m(\u001b[0m\u001b[1;34m\"Enter 1st number:\"\u001b[0m\u001b[1;33m)\u001b[0m\u001b[1;33m)\u001b[0m\u001b[1;33m\u001b[0m\u001b[1;33m\u001b[0m\u001b[0m\n\u001b[0m\u001b[0;32m      2\u001b[0m \u001b[0mb\u001b[0m\u001b[1;33m=\u001b[0m\u001b[0mfloat\u001b[0m\u001b[1;33m(\u001b[0m\u001b[0minput\u001b[0m\u001b[1;33m(\u001b[0m\u001b[1;34m\"Enter 2nd number:\"\u001b[0m\u001b[1;33m)\u001b[0m\u001b[1;33m)\u001b[0m\u001b[1;33m\u001b[0m\u001b[1;33m\u001b[0m\u001b[0m\n\u001b[0;32m      3\u001b[0m \u001b[0mc\u001b[0m\u001b[1;33m=\u001b[0m\u001b[0ma\u001b[0m\u001b[1;33m/\u001b[0m\u001b[0mb\u001b[0m\u001b[1;33m\u001b[0m\u001b[1;33m\u001b[0m\u001b[0m\n\u001b[0;32m      4\u001b[0m \u001b[0mprint\u001b[0m\u001b[1;33m(\u001b[0m\u001b[1;34m\"Division of a=\"\u001b[0m\u001b[1;33m,\u001b[0m\u001b[0ma\u001b[0m\u001b[1;33m,\u001b[0m\u001b[1;34m\"and b=\"\u001b[0m\u001b[1;33m,\u001b[0m\u001b[0mb\u001b[0m\u001b[1;33m,\u001b[0m\u001b[1;34m\"is c=\"\u001b[0m\u001b[1;33m,\u001b[0m\u001b[0mround\u001b[0m\u001b[1;33m(\u001b[0m\u001b[0mc\u001b[0m\u001b[1;33m,\u001b[0m\u001b[1;36m2\u001b[0m\u001b[1;33m)\u001b[0m\u001b[1;33m)\u001b[0m\u001b[1;33m\u001b[0m\u001b[1;33m\u001b[0m\u001b[0m\n",
            "\u001b[1;31mValueError\u001b[0m: could not convert string to float: 'a'"
          ]
        }
      ],
      "source": [
        "a=float(input(\"Enter 1st number:\"))\n",
        "b=float(input(\"Enter 2nd number:\"))\n",
        "c=a/b\n",
        "print(\"Division of a=\",a,\"and b=\",b,\"is c=\",round(c,2))"
      ]
    },
    {
      "cell_type": "code",
      "execution_count": null,
      "metadata": {
        "id": "js0hwtZfHtoV",
        "outputId": "92b55a36-1a38-441e-9fba-6d2cf5f58558"
      },
      "outputs": [
        {
          "name": "stdout",
          "output_type": "stream",
          "text": [
            "Enter 1st number:6\n",
            "Enter 2nd number:a\n",
            "Something is wrong. Please try again.\n",
            "Enter 1st number:8\n",
            "Enter 2nd number:0\n",
            "Something is wrong. Please try again.\n",
            "Enter 1st number:8\n",
            "Enter 2nd number:2\n",
            "Division of a= 8.0 and b= 2.0 is c= 4.0\n"
          ]
        }
      ],
      "source": [
        "while True:\n",
        "    try:\n",
        "        a=float(input(\"Enter 1st number:\"))\n",
        "        b=float(input(\"Enter 2nd number:\"))\n",
        "        c=a/b\n",
        "        print(\"Division of a=\",a,\"and b=\",b,\"is c=\",round(c,2))\n",
        "        break\n",
        "    except Exception:\n",
        "        print(\"Something is wrong. Please try again.\")"
      ]
    },
    {
      "cell_type": "code",
      "execution_count": null,
      "metadata": {
        "id": "mSzguQnxHtoX",
        "outputId": "779e8fac-4d93-4925-9ab7-eeecce91a770"
      },
      "outputs": [
        {
          "name": "stdout",
          "output_type": "stream",
          "text": [
            "Enter 1st number:5\n",
            "Enter 2nd number:0\n",
            "2nd input cannot be zero. Please try again.\n",
            "Enter 1st number:pp\n",
            "Input must be a number. Please try again.\n",
            "Enter 1st number:9\n",
            "Enter 2nd number:kghj\n",
            "Input must be a number. Please try again.\n",
            "Enter 1st number:*-*-\n",
            "Input must be a number. Please try again.\n",
            "Enter 1st number:8\n",
            "Enter 2nd number:9\n",
            "Division of a= 8.0 and b= 9.0 is c= 0.89\n"
          ]
        }
      ],
      "source": [
        "while True:\n",
        "    try:\n",
        "        a=float(input(\"Enter 1st number:\"))\n",
        "        b=float(input(\"Enter 2nd number:\"))\n",
        "        c=a/b\n",
        "        print(\"Division of a=\",a,\"and b=\",b,\"is c=\",round(c,2))\n",
        "        break\n",
        "    except ZeroDivisionError:\n",
        "        print(\"2nd input cannot be zero. Please try again.\")\n",
        "    except ValueError:\n",
        "        print(\"Input must be a number. Please try again.\")"
      ]
    },
    {
      "cell_type": "markdown",
      "metadata": {
        "id": "vGpMHExmHtoY"
      },
      "source": [
        "try - except\n",
        "--"
      ]
    },
    {
      "cell_type": "code",
      "execution_count": null,
      "metadata": {
        "scrolled": true,
        "id": "-OG_5aF9HtoZ"
      },
      "outputs": [],
      "source": [
        "\n",
        "\n",
        "\n"
      ]
    },
    {
      "cell_type": "code",
      "execution_count": null,
      "metadata": {
        "id": "qDLbvE6kHtoa"
      },
      "outputs": [],
      "source": [
        "\n",
        "\n",
        "\n"
      ]
    },
    {
      "cell_type": "markdown",
      "metadata": {
        "id": "M2XPqxRYHtoc"
      },
      "source": [
        "try - except - else\n",
        "--"
      ]
    },
    {
      "cell_type": "code",
      "execution_count": null,
      "metadata": {
        "id": "_uO-8eO6Htoe",
        "outputId": "b46f90b7-ebe8-4928-c9a3-2bf8df22b5e4"
      },
      "outputs": [
        {
          "name": "stdout",
          "output_type": "stream",
          "text": [
            "Enter 1st number:8\n",
            "Enter 2nd number:2\n",
            "Division of a= 8.0 and b= 2.0 is c= 4.0\n"
          ]
        }
      ],
      "source": [
        "    try:\n",
        "        a=float(input(\"Enter 1st number:\"))\n",
        "        b=float(input(\"Enter 2nd number:\"))\n",
        "        c=a/b\n",
        "    except ZeroDivisionError:\n",
        "        print(\"2nd input cannot be zero. Please try again.\")\n",
        "    except ValueError:\n",
        "        print(\"Input must be a number. Please try again.\")\n",
        "    else:\n",
        "        print(\"Division of a=\",a,\"and b=\",b,\"is c=\",round(c,2))"
      ]
    },
    {
      "cell_type": "code",
      "execution_count": null,
      "metadata": {
        "id": "vee7ejNNHtof",
        "outputId": "95cf9cb8-4ca4-40b2-cc81-4d709087d58b"
      },
      "outputs": [
        {
          "name": "stdout",
          "output_type": "stream",
          "text": [
            "Enter 1st number:r\n",
            "Input must be a number. Please try again.\n",
            "Enter 1st number:6\n",
            "Enter 2nd number:u\n",
            "Input must be a number. Please try again.\n",
            "Enter 1st number:24\n",
            "Enter 2nd number:0\n",
            "2nd input cannot be zero. Please try again.\n",
            "Enter 1st number:7\n",
            "Enter 2nd number:4\n",
            "Division of a= 7.0 and b= 4.0 is c= 1.75\n"
          ]
        }
      ],
      "source": [
        "while True:\n",
        "    try:\n",
        "        a=float(input(\"Enter 1st number:\"))\n",
        "        b=float(input(\"Enter 2nd number:\"))\n",
        "        c=a/b\n",
        "    except ZeroDivisionError:\n",
        "        print(\"2nd input cannot be zero. Please try again.\")\n",
        "    except ValueError:\n",
        "        print(\"Input must be a number. Please try again.\")\n",
        "    except Exception:\n",
        "        print(\"Something is wrong. Please try again.\")\n",
        "    else:\n",
        "        print(\"Division of a=\",a,\"and b=\",b,\"is c=\",round(c,2))\n",
        "        break"
      ]
    },
    {
      "cell_type": "code",
      "execution_count": null,
      "metadata": {
        "id": "t7wBe0bNHtog",
        "outputId": "5f1426ca-200f-4164-e45f-4c97ff12bf9c"
      },
      "outputs": [
        {
          "name": "stdout",
          "output_type": "stream",
          "text": [
            "Enter a no: 6\n",
            "Answer is:  16.666666666666668\n"
          ]
        }
      ],
      "source": [
        "try:\n",
        "    x=int(input(\"Enter a no: \"))\n",
        "    ans=100/x\n",
        "except ValueError:\n",
        "    print(\"Value is not int type\")\n",
        "except ZeroDivisionError:\n",
        "    print(\"Dont use a zero.\")\n",
        "else:\n",
        "    print(\"Answer is: \",ans)"
      ]
    },
    {
      "cell_type": "markdown",
      "metadata": {
        "id": "vzeVXJYSHtoh"
      },
      "source": [
        "except with multiple attributes\n",
        "--"
      ]
    },
    {
      "cell_type": "code",
      "execution_count": null,
      "metadata": {
        "id": "Z8glmfLTHtoh",
        "outputId": "d9f9d0a1-c475-4e96-eb72-81f2bcb8ac2c"
      },
      "outputs": [
        {
          "name": "stdout",
          "output_type": "stream",
          "text": [
            "Enter a no: darshan\n",
            "Something is wrong. Please try again\n"
          ]
        }
      ],
      "source": [
        "try:\n",
        "    x=int(input(\"Enter a no: \"))\n",
        "    ans=100/x\n",
        "except (ValueError,ZeroDivisionError):\n",
        "    print(\"Something is wrong. Please try again\")\n",
        "else:\n",
        "    print(\"Answer is: \",ans)"
      ]
    },
    {
      "cell_type": "markdown",
      "metadata": {
        "id": "rOQ5I3bbHtoi"
      },
      "source": [
        "try - finally\n",
        "--"
      ]
    },
    {
      "cell_type": "code",
      "execution_count": null,
      "metadata": {
        "id": "v_qnNx1tHtoj",
        "outputId": "3adcfacc-b0e6-407f-e110-9e3fe5aa46ad"
      },
      "outputs": [
        {
          "name": "stdout",
          "output_type": "stream",
          "text": [
            "Enter a no: darshan\n",
            "Value is not int type\n",
            "End of Program.\n",
            "By hook or crook, I will be executed for sure.\n"
          ]
        }
      ],
      "source": [
        "try:\n",
        "    x=int(input(\"Enter a no: \"))\n",
        "    ans=100/x\n",
        "except ValueError:\n",
        "    print(\"Value is not int type\")\n",
        "except ZeroDivisionError:\n",
        "    print(\"Dont use a zero.\")\n",
        "else:\n",
        "    print(\"Answer is: \",ans)\n",
        "finally:\n",
        "    print(\"End of Program.\")\n",
        "    print(\"By hook or crook, I will be executed for sure.\")"
      ]
    },
    {
      "cell_type": "markdown",
      "metadata": {
        "id": "psx40PIrHtok"
      },
      "source": [
        "finally with multiple except\n",
        "--"
      ]
    },
    {
      "cell_type": "code",
      "execution_count": null,
      "metadata": {
        "id": "drFDxQETHtok"
      },
      "outputs": [],
      "source": [
        "try:\n",
        "    x=int(input(\"Enter a no: \"))\n",
        "    ans=100/x\n",
        "except (ValueError,ZeroDivisionError):\n",
        "    print(\"Something is wrong. Please try again\")\n",
        "else:\n",
        "    print(\"Answer is: \",ans)\n",
        "finally:\n",
        "    print(\"End of Program.\")\n",
        "    print(\"By hook or crook, I will be executed for sure.\")"
      ]
    },
    {
      "cell_type": "markdown",
      "metadata": {
        "id": "xHJT0e7WHtol"
      },
      "source": [
        "raising exceptions\n",
        "--"
      ]
    },
    {
      "cell_type": "code",
      "execution_count": null,
      "metadata": {
        "id": "1kdxYUOjHtol",
        "outputId": "50552a57-3574-4cc7-fcbc-bfdc4f2d21c1"
      },
      "outputs": [
        {
          "name": "stdout",
          "output_type": "stream",
          "text": [
            "Enter a number:2\n",
            "An IO Exception is raised\n"
          ]
        }
      ],
      "source": [
        "val = int(input(\"Enter a number:\"))\n",
        "try:\n",
        "    if val==2:\n",
        "        raise IOError\n",
        "    else:\n",
        "        print(\"Value is not 2\")\n",
        "except IOError:\n",
        "    print(\"An IO Exception is raised\")"
      ]
    },
    {
      "cell_type": "markdown",
      "metadata": {
        "id": "tg-s2GoFHtom"
      },
      "source": [
        "exception with arguments\n",
        "--"
      ]
    },
    {
      "cell_type": "code",
      "execution_count": null,
      "metadata": {
        "id": "AjuS6-1DHtom",
        "outputId": "7e234f89-26b0-4d61-991a-d4714d0d8541"
      },
      "outputs": [
        {
          "name": "stdout",
          "output_type": "stream",
          "text": [
            "Enter a no: darshan\n",
            "Exception caught is: invalid literal for int() with base 10: 'darshan'\n",
            "Type of the exception which is caught is: <class 'ValueError'>\n"
          ]
        }
      ],
      "source": [
        "try:\n",
        "    x=int(input(\"Enter a no: \"))\n",
        "    ans=100/x\n",
        "except Exception as e:\n",
        "    print(\"Exception caught is:\",e)\n",
        "    print(\"Type of the exception which is caught is:\",type(e))\n",
        "else:\n",
        "    print(\"Answer is: \",ans)"
      ]
    }
  ],
  "metadata": {
    "kernelspec": {
      "display_name": "Python 3",
      "language": "python",
      "name": "python3"
    },
    "language_info": {
      "codemirror_mode": {
        "name": "ipython",
        "version": 3
      },
      "file_extension": ".py",
      "mimetype": "text/x-python",
      "name": "python",
      "nbconvert_exporter": "python",
      "pygments_lexer": "ipython3",
      "version": "3.8.3"
    },
    "toc": {
      "base_numbering": 1,
      "nav_menu": {},
      "number_sections": true,
      "sideBar": true,
      "skip_h1_title": false,
      "title_cell": "Table of Contents",
      "title_sidebar": "Contents",
      "toc_cell": false,
      "toc_position": {},
      "toc_section_display": true,
      "toc_window_display": false
    },
    "colab": {
      "name": "9 Exception Handling.ipynb",
      "provenance": [],
      "include_colab_link": true
    }
  },
  "nbformat": 4,
  "nbformat_minor": 0
}