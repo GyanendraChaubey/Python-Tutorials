{
  "cells": [
    {
      "cell_type": "markdown",
      "metadata": {
        "id": "view-in-github",
        "colab_type": "text"
      },
      "source": [
        "<a href=\"https://colab.research.google.com/github/GyanendraChaubey/Python-Tutorials/blob/main/7_Sets_and_Arrays_in_Python.ipynb\" target=\"_parent\"><img src=\"https://colab.research.google.com/assets/colab-badge.svg\" alt=\"Open In Colab\"/></a>"
      ]
    },
    {
      "cell_type": "markdown",
      "metadata": {
        "id": "hjUez-s3Fc6j"
      },
      "source": [
        "A set is a collection which is unordered and unindexed. \n",
        "--\n",
        "\n",
        "In Python sets are written with curly brackets.\n",
        "--"
      ]
    },
    {
      "cell_type": "code",
      "execution_count": null,
      "metadata": {
        "id": "fpGlCX0mFc6w",
        "outputId": "8548fd48-d08b-49ff-cbb0-8a6b48b48552"
      },
      "outputs": [
        {
          "name": "stdout",
          "output_type": "stream",
          "text": [
            "{1, 2, 3, 'Ingle', 'Darshan'}\n"
          ]
        }
      ],
      "source": [
        "s = {1,2,\"Ingle\",3,\"Darshan\"}\n",
        "print(s)"
      ]
    },
    {
      "cell_type": "code",
      "execution_count": null,
      "metadata": {
        "scrolled": true,
        "id": "ClgR3aUNFc6z",
        "outputId": "5bceb434-9534-4dd6-a8d1-f01831914b16"
      },
      "outputs": [
        {
          "data": {
            "text/plain": [
              "{'apple', 'banana', 'cherry'}"
            ]
          },
          "execution_count": 9,
          "metadata": {},
          "output_type": "execute_result"
        }
      ],
      "source": [
        "s={\"apple\", \"banana\", \"cherry\"}\n",
        "s\n",
        "# print(s[0]) This will give error"
      ]
    },
    {
      "cell_type": "raw",
      "metadata": {
        "id": "wKNhPep7Fc60"
      },
      "source": [
        "You cannot access items in a set by referring to an index, since sets are unordered the items has no index.\n",
        "\n",
        "But you can loop through the set items using a for loop, or ask if a specified value is present in a set, by using the in keyword."
      ]
    },
    {
      "cell_type": "code",
      "execution_count": null,
      "metadata": {
        "id": "S17COiHQFc60",
        "outputId": "35e2378d-4a94-4271-eb4c-9308666681a0"
      },
      "outputs": [
        {
          "name": "stdout",
          "output_type": "stream",
          "text": [
            "apple\n",
            "banana\n",
            "cherry\n"
          ]
        }
      ],
      "source": [
        "thisset = {\"apple\", \"banana\", \"cherry\"}\n",
        "\n",
        "for x in thisset:\n",
        "  print(x)"
      ]
    },
    {
      "cell_type": "code",
      "execution_count": null,
      "metadata": {
        "id": "8guXYO_nFc61",
        "outputId": "3ddb7afb-1afd-427b-e5c5-bb5cbcbeed13"
      },
      "outputs": [
        {
          "name": "stdout",
          "output_type": "stream",
          "text": [
            "True\n",
            "False\n"
          ]
        }
      ],
      "source": [
        "# Check if \"banana\" is present in the set\n",
        "thisset = {\"apple\", \"banana\", \"cherry\"}\n",
        "\n",
        "print(\"banana\" in thisset)\n",
        "print(\"orange\" in thisset)"
      ]
    },
    {
      "cell_type": "code",
      "execution_count": null,
      "metadata": {
        "id": "za5K-BL5Fc61",
        "outputId": "59acc784-5e43-4f96-d2b7-fa573f9c9bf3"
      },
      "outputs": [
        {
          "name": "stdout",
          "output_type": "stream",
          "text": [
            "{'orange', 'apple', 'banana', 'cherry'}\n"
          ]
        }
      ],
      "source": [
        "# Once a set is created, you cannot change its items, but you can add new items.\n",
        "\n",
        "# Add Items\n",
        "# To add one item to a set use the add() method.\n",
        "\n",
        "# To add more than one item to a set use the update() method.\n",
        "\n",
        "thisset = {\"apple\", \"banana\", \"cherry\"}\n",
        "\n",
        "thisset.add(\"orange\")\n",
        "\n",
        "print(thisset)"
      ]
    },
    {
      "cell_type": "code",
      "execution_count": null,
      "metadata": {
        "id": "_UXNiqojFc62",
        "outputId": "da0baf4c-d0fc-40e6-c970-d57ca76fc222"
      },
      "outputs": [
        {
          "name": "stdout",
          "output_type": "stream",
          "text": [
            "{'cherry', 'apple', 'banana', 'grapes', 'mango', 'orange'}\n"
          ]
        }
      ],
      "source": [
        "# Add multiple items to a set, using the update() method:\n",
        "thisset = {\"apple\", \"banana\", \"cherry\"}\n",
        "\n",
        "thisset.update([\"orange\", \"mango\", \"grapes\"])\n",
        "\n",
        "print(thisset)"
      ]
    },
    {
      "cell_type": "code",
      "execution_count": null,
      "metadata": {
        "id": "Vn54gfgCFc63",
        "outputId": "2752ecfe-5204-45d8-a2ff-30353aa68836"
      },
      "outputs": [
        {
          "name": "stdout",
          "output_type": "stream",
          "text": [
            "3\n"
          ]
        }
      ],
      "source": [
        "# Get the number of items in a set:\n",
        "thisset = {\"apple\", \"banana\", \"cherry\"}\n",
        "\n",
        "print(len(thisset))"
      ]
    },
    {
      "cell_type": "code",
      "execution_count": null,
      "metadata": {
        "id": "_2RgHw_2Fc64",
        "outputId": "a0016bf3-2f40-46e7-cb2b-79ffe04e004a"
      },
      "outputs": [
        {
          "name": "stdout",
          "output_type": "stream",
          "text": [
            "{'apple', 'cherry'}\n"
          ]
        }
      ],
      "source": [
        "# Remove \"banana\" by using the remove() method:\n",
        "thisset = {\"apple\", \"banana\", \"cherry\"}\n",
        "\n",
        "thisset.remove(\"banana\")\n",
        "\n",
        "print(thisset)"
      ]
    },
    {
      "cell_type": "markdown",
      "metadata": {
        "id": "ao1dNMsyFc64"
      },
      "source": [
        "Join Two Sets\n",
        "--\n",
        "There are several ways to join two or more sets in Python.\n",
        "\n",
        "You can use the union() method that returns a new set containing all items from both sets, or the update() method that inserts all the items from one set into another:"
      ]
    },
    {
      "cell_type": "code",
      "execution_count": null,
      "metadata": {
        "id": "aSX81T9ZFc65",
        "outputId": "4667e67b-49bf-4ccd-ba4b-3451b1d70ca7"
      },
      "outputs": [
        {
          "name": "stdout",
          "output_type": "stream",
          "text": [
            "{1, 2, 'c', 3, 'b', 'a'}\n"
          ]
        }
      ],
      "source": [
        "# The union() method returns a new set with all items from both sets:\n",
        "set1 = {\"a\", \"b\" , \"c\",2}\n",
        "set2 = {1, 2, 3}\n",
        "\n",
        "set3 = set1.union(set2)\n",
        "print(set3)"
      ]
    },
    {
      "cell_type": "code",
      "execution_count": null,
      "metadata": {
        "id": "cbimJgOZFc66",
        "outputId": "3a1bb39b-5372-45f4-92ae-1ca16906c776"
      },
      "outputs": [
        {
          "name": "stdout",
          "output_type": "stream",
          "text": [
            "{1, 2, 'c', 3, 'b', 'a'}\n"
          ]
        }
      ],
      "source": [
        "# The update() method inserts the items in set2 into set1:\n",
        "set1 = {\"a\", \"b\" , \"c\"}\n",
        "set2 = {1, 2, 3}\n",
        "\n",
        "set1.update(set2)\n",
        "print(set1)\n",
        "\n",
        "# Note: Both union() and update() will exclude any duplicate items."
      ]
    },
    {
      "cell_type": "code",
      "execution_count": null,
      "metadata": {
        "id": "P2Zhq-cpFc68",
        "outputId": "7defd06b-22cc-48ff-ff2c-2b84c5756c91"
      },
      "outputs": [
        {
          "data": {
            "text/plain": [
              "{1, 2, 3, 'a', 'b', 'c'}"
            ]
          },
          "execution_count": 19,
          "metadata": {},
          "output_type": "execute_result"
        }
      ],
      "source": [
        "set1 = {\"a\", \"b\" , \"c\"}\n",
        "set2 = {1, 2, 3}\n",
        "set1|set2 # union"
      ]
    },
    {
      "cell_type": "code",
      "execution_count": null,
      "metadata": {
        "id": "jKmisIyJFc6-",
        "outputId": "2912411e-d710-419a-ea3f-f5843f0905ff"
      },
      "outputs": [
        {
          "data": {
            "text/plain": [
              "{'a'}"
            ]
          },
          "execution_count": 20,
          "metadata": {},
          "output_type": "execute_result"
        }
      ],
      "source": [
        "set1 = {\"a\", \"b\" , \"c\"}\n",
        "set2 = {\"a\", 2, 3}\n",
        "set1&set2 # intersection"
      ]
    },
    {
      "cell_type": "code",
      "execution_count": null,
      "metadata": {
        "id": "LWW1CIInFc7A",
        "outputId": "44e8d515-7733-45e2-c30a-8881b8688cda"
      },
      "outputs": [
        {
          "name": "stdout",
          "output_type": "stream",
          "text": [
            "{'google', 'microsoft'}\n"
          ]
        }
      ],
      "source": [
        "x = {\"apple\", \"banana\", \"cherry\"}\n",
        "y = {\"google\", \"microsoft\", \"apple\"}\n",
        "\n",
        "z = y.difference(x)\n",
        "\n",
        "print(z)"
      ]
    },
    {
      "cell_type": "code",
      "execution_count": null,
      "metadata": {
        "id": "5JKLn9t7Fc7B",
        "outputId": "a90eec87-180f-4e41-dd72-3475f9f4200a"
      },
      "outputs": [
        {
          "name": "stdout",
          "output_type": "stream",
          "text": [
            "{'google', 'microsoft'}\n"
          ]
        }
      ],
      "source": [
        "x = {\"apple\", \"banana\", \"cherry\"}\n",
        "y = {\"google\", \"microsoft\", \"apple\"}\n",
        "\n",
        "z = y-x\n",
        "\n",
        "print(z)"
      ]
    },
    {
      "cell_type": "code",
      "execution_count": null,
      "metadata": {
        "id": "QXeijF3iFc7C",
        "outputId": "b41d01ce-eddd-412f-eebb-ec430f9779f3"
      },
      "outputs": [
        {
          "ename": "TypeError",
          "evalue": "unsupported operand type(s) for +: 'set' and 'set'",
          "output_type": "error",
          "traceback": [
            "\u001b[1;31m---------------------------------------------------------------------------\u001b[0m",
            "\u001b[1;31mTypeError\u001b[0m                                 Traceback (most recent call last)",
            "\u001b[1;32m<ipython-input-23-f650c1c4f3d2>\u001b[0m in \u001b[0;36m<module>\u001b[1;34m\u001b[0m\n\u001b[0;32m      2\u001b[0m \u001b[0my\u001b[0m \u001b[1;33m=\u001b[0m \u001b[1;33m{\u001b[0m\u001b[1;34m\"google\"\u001b[0m\u001b[1;33m,\u001b[0m \u001b[1;34m\"microsoft\"\u001b[0m\u001b[1;33m,\u001b[0m \u001b[1;34m\"apple\"\u001b[0m\u001b[1;33m}\u001b[0m\u001b[1;33m\u001b[0m\u001b[1;33m\u001b[0m\u001b[0m\n\u001b[0;32m      3\u001b[0m \u001b[1;33m\u001b[0m\u001b[0m\n\u001b[1;32m----> 4\u001b[1;33m \u001b[0mz\u001b[0m \u001b[1;33m=\u001b[0m \u001b[0my\u001b[0m\u001b[1;33m+\u001b[0m\u001b[0mx\u001b[0m\u001b[1;33m\u001b[0m\u001b[1;33m\u001b[0m\u001b[0m\n\u001b[0m\u001b[0;32m      5\u001b[0m \u001b[1;33m\u001b[0m\u001b[0m\n\u001b[0;32m      6\u001b[0m \u001b[0mprint\u001b[0m\u001b[1;33m(\u001b[0m\u001b[0mz\u001b[0m\u001b[1;33m)\u001b[0m\u001b[1;33m\u001b[0m\u001b[1;33m\u001b[0m\u001b[0m\n",
            "\u001b[1;31mTypeError\u001b[0m: unsupported operand type(s) for +: 'set' and 'set'"
          ]
        }
      ],
      "source": [
        "x = {\"apple\", \"banana\", \"cherry\"}\n",
        "y = {\"google\", \"microsoft\", \"apple\"}\n",
        "\n",
        "z = y+x\n",
        "\n",
        "print(z)"
      ]
    },
    {
      "cell_type": "markdown",
      "metadata": {
        "id": "yjjpC__pFc7C"
      },
      "source": [
        "Arrays in Python\n",
        "--\n",
        "\n",
        ">Arrays are one of the data structures that help you write a number of values into a single variable, thereby reducing the burden of memorizing an enormous number of variables. \n",
        "\n",
        ">Array in Python can be created by importing array module. \n",
        "\n",
        ">array(data_type, value_list) is used to create an array with data type and value list specified in its arguments."
      ]
    },
    {
      "cell_type": "code",
      "execution_count": null,
      "metadata": {
        "id": "LpmFtPCLFc7D",
        "outputId": "112687b0-6be7-4829-ff5c-1ed8fdd7915c"
      },
      "outputs": [
        {
          "data": {
            "text/plain": [
              "array('i', [1, 2, 3])"
            ]
          },
          "execution_count": 24,
          "metadata": {},
          "output_type": "execute_result"
        }
      ],
      "source": [
        "import array as arr \n",
        "  \n",
        "# creating an array with integer type \n",
        "a = arr.array('i', [1, 2, 3]) \n",
        "a"
      ]
    },
    {
      "cell_type": "code",
      "execution_count": null,
      "metadata": {
        "id": "CVW5LXYMFc7E",
        "outputId": "6235e4cc-81cf-4c3d-c579-bd0760d882d8"
      },
      "outputs": [
        {
          "name": "stdout",
          "output_type": "stream",
          "text": [
            "1\n",
            "2\n",
            "3\n"
          ]
        }
      ],
      "source": [
        "import array as arr \n",
        "  \n",
        "# creating an array with integer type \n",
        "a = arr.array('i', [1, 2, 3]) \n",
        "for i in a:\n",
        "    print(i)"
      ]
    },
    {
      "cell_type": "code",
      "execution_count": null,
      "metadata": {
        "id": "I5Uw7ypbFc7E",
        "outputId": "e81852d7-9f76-4819-89de-140fae29e2cc"
      },
      "outputs": [
        {
          "name": "stdout",
          "output_type": "stream",
          "text": [
            "The new created array is :  1 2 3 \n"
          ]
        }
      ],
      "source": [
        "# printing original array \n",
        "print (\"The new created array is : \", end =\" \") \n",
        "for i in range (0, 3): \n",
        "    print (a[i], end =\" \") \n",
        "print() "
      ]
    },
    {
      "cell_type": "code",
      "execution_count": null,
      "metadata": {
        "id": "-gK3x61RFc7F",
        "outputId": "cd86173a-4b5b-4629-aa5a-687632f6769d"
      },
      "outputs": [
        {
          "name": "stdout",
          "output_type": "stream",
          "text": [
            "The new created array is :  2.5 3.2 3.3 "
          ]
        }
      ],
      "source": [
        "# creating an array with float type \n",
        "b = arr.array('d', [2.5, 3.2, 3.3]) \n",
        "  \n",
        "# printing original array \n",
        "print (\"The new created array is : \", end =\" \") \n",
        "for i in range (0, 3): \n",
        "    print (b[i], end =\" \") "
      ]
    },
    {
      "cell_type": "raw",
      "metadata": {
        "id": "0TWq6647Fc7G"
      },
      "source": [
        "Type code --\tPython Data Type --\tByte size\n",
        "i               \tint\t               2\n",
        "I\t                int\t               2\n",
        "u\t            unicode character\t   2\n",
        "h\t                int\t               2\n",
        "H\t                int\t               2\n",
        "l\t                int\t               4\n",
        "L\t                int\t               4\n",
        "f\t                float\t           4\n",
        "d\t                float\t           8"
      ]
    },
    {
      "cell_type": "markdown",
      "metadata": {
        "id": "1NuZU1TSFc7G"
      },
      "source": [
        "Is Python list same as an Array?\n",
        "--\n",
        "\n",
        "The ‘array’ data structure in core python is not very efficient or reliable. Therefore, when we talk about python arrays, we usually mean python lists.\n",
        "\n",
        "However, python does provide Numpy Arrays which are a grid of values used in Data Science. You can look into Numpy Arrays vs Lists to know more."
      ]
    },
    {
      "cell_type": "code",
      "execution_count": null,
      "metadata": {
        "id": "5jO-EnQ3Fc7T",
        "outputId": "56cdd80e-041b-44de-d017-9756f066307b"
      },
      "outputs": [
        {
          "name": "stdout",
          "output_type": "stream",
          "text": [
            "Array before insertion :  1 2 3 \n",
            "Array after insertion :  1 4 2 3 \n"
          ]
        }
      ],
      "source": [
        "# Python program to demonstrate  \n",
        "# Adding Elements to a Array \n",
        "  \n",
        "# importing \"array\" for array creations \n",
        "import array as arr \n",
        "  \n",
        "# array with int type \n",
        "a = arr.array('i', [1, 2, 3]) \n",
        "  \n",
        "  \n",
        "print (\"Array before insertion : \", end =\" \") \n",
        "for i in range (0, 3): \n",
        "    print (a[i], end =\" \") \n",
        "print() \n",
        "  \n",
        "# inserting array using  \n",
        "# insert() function \n",
        "a.insert(1, 4) \n",
        "  \n",
        "print (\"Array after insertion : \", end =\" \") \n",
        "for i in (a): \n",
        "    print (i, end =\" \") \n",
        "print()  "
      ]
    },
    {
      "cell_type": "code",
      "execution_count": null,
      "metadata": {
        "id": "SdF-03IBFc7U",
        "outputId": "fab6be9f-b66a-4451-c932-45b1f18109cf"
      },
      "outputs": [
        {
          "name": "stdout",
          "output_type": "stream",
          "text": [
            "Array before insertion :  2.5 3.2 3.3 \n",
            "Array after insertion :  2.5 3.2 3.3 4.4 \n"
          ]
        }
      ],
      "source": [
        "# array with float type \n",
        "b = arr.array('d', [2.5, 3.2, 3.3]) \n",
        "  \n",
        "print (\"Array before insertion : \", end =\" \") \n",
        "for i in range (0, 3): \n",
        "    print (b[i], end =\" \") \n",
        "print() \n",
        "  \n",
        "# adding an element using append() \n",
        "b.append(4.4) \n",
        "  \n",
        "print (\"Array after insertion : \", end =\" \") \n",
        "for i in (b): \n",
        "    print (i, end =\" \") \n",
        "print()  "
      ]
    },
    {
      "cell_type": "markdown",
      "metadata": {
        "id": "bDoplCe6Fc7V"
      },
      "source": [
        "Accessing elements from the Array\n",
        "--\n",
        "\n",
        ">In order to access the array items refer to the index number. \n",
        "\n",
        ">Use the index operator [ ] to access an item in a array. The index must be an integer."
      ]
    },
    {
      "cell_type": "code",
      "execution_count": null,
      "metadata": {
        "id": "K87hYNRlFc7V",
        "outputId": "1c2f3b09-f56a-43a2-d1ae-8975bce246a5"
      },
      "outputs": [
        {
          "name": "stdout",
          "output_type": "stream",
          "text": [
            "Access element is:  1\n",
            "Access element is:  4\n",
            "Access element is:  3.2\n",
            "Access element is:  3.3\n"
          ]
        }
      ],
      "source": [
        "# importing array module \n",
        "import array as arr \n",
        "  \n",
        "# array with int type \n",
        "a = arr.array('i', [1, 2, 3, 4, 5, 6]) \n",
        "  \n",
        "# accessing element of array \n",
        "print(\"Access element is: \", a[0]) \n",
        "  \n",
        "# accessing element of array \n",
        "print(\"Access element is: \", a[3]) \n",
        "  \n",
        "# array with float type \n",
        "b = arr.array('d', [2.5, 3.2, 3.3]) \n",
        "  \n",
        "# accessing element of array \n",
        "print(\"Access element is: \", b[1]) \n",
        "  \n",
        "# accessing element of array \n",
        "print(\"Access element is: \", b[2]) "
      ]
    },
    {
      "cell_type": "markdown",
      "metadata": {
        "id": "7fTed_KkFc7W"
      },
      "source": [
        "Removing Elements from the Array\n",
        "--\n",
        "\n",
        "Elements can be removed from the array by using built-in remove() function but an Error arises if element doesn’t exist in the set. \n",
        "\n",
        "Remove() method only removes one element at a time, to remove range of elements, iterator is used. \n",
        "\n",
        "pop() function can also be used to remove and return an element from the array, but by default it removes only the last element of the array, to remove element from a specific position of the array, index of the element is passed as an argument to the pop() method.\n",
        "\n",
        "__Note – Remove method in List will only remove the first occurrence of the searched element.__"
      ]
    },
    {
      "cell_type": "code",
      "execution_count": null,
      "metadata": {
        "id": "FMdzB6xPFc7X",
        "outputId": "a966b2e8-ef0f-4891-fe05-9dbebac5e999"
      },
      "outputs": [
        {
          "name": "stdout",
          "output_type": "stream",
          "text": [
            "The new created array is : 1 2 3 1 5 \r\n",
            "The popped element is : 3\n",
            "The array after popping is : 1 2 1 5 \r\n",
            "The array after removing is : 2 1 5 "
          ]
        }
      ],
      "source": [
        "import array \n",
        "   \n",
        "# initializing array with array values \n",
        "# initializes array with signed integers \n",
        "arr = array.array('i', [1, 2, 3, 1, 5])  \n",
        "  \n",
        "# printing original array \n",
        "print (\"The new created array is : \", end =\"\") \n",
        "for i in range (0, 5): \n",
        "    print (arr[i], end =\" \") \n",
        "  \n",
        "print (\"\\r\") \n",
        "  \n",
        "# using pop() to remove element at 2nd position \n",
        "print (\"The popped element is : \", end =\"\") \n",
        "print (arr.pop(2)) \n",
        "  \n",
        "# printing array after popping \n",
        "print (\"The array after popping is : \", end =\"\") \n",
        "for i in range (0, 4): \n",
        "    print (arr[i], end =\" \") \n",
        "  \n",
        "print(\"\\r\") \n",
        "  \n",
        "# using remove() to remove 1st occurrence of 1 \n",
        "arr.remove(1) \n",
        "  \n",
        "# printing array after removing \n",
        "print (\"The array after removing is : \", end =\"\") \n",
        "for i in range (0, 3): \n",
        "    print (arr[i], end =\" \") "
      ]
    },
    {
      "cell_type": "code",
      "execution_count": null,
      "metadata": {
        "id": "Dg2tRsxbFc7Y",
        "outputId": "44a03ddb-d108-438f-850d-7d614af88a36"
      },
      "outputs": [
        {
          "name": "stdout",
          "output_type": "stream",
          "text": [
            "Intial Array: \n",
            "1 2 3 4 5 6 7 8 9 10 \n",
            "array('i', [4, 5, 6, 7, 8])\n",
            "array('i', [6, 7, 8, 9, 10])\n",
            "array('i', [1, 2, 3, 4, 5, 6, 7, 8, 9, 10])\n"
          ]
        }
      ],
      "source": [
        "# Slicing of a Array\n",
        "import array as arr \n",
        "  \n",
        "# creating a list  \n",
        "l = [1, 2, 3, 4, 5, 6, 7, 8, 9, 10] \n",
        "  \n",
        "a = arr.array('i', l) \n",
        "print(\"Intial Array: \") \n",
        "for i in (a): \n",
        "    print(i, end =\" \") \n",
        "print()\n",
        "print(a[3:8])\n",
        "print(a[5:])\n",
        "print(a[:]) "
      ]
    },
    {
      "cell_type": "markdown",
      "metadata": {
        "id": "Hci6phk5Fc7Y"
      },
      "source": [
        "Searching element in a Array\n",
        "--\n",
        "In order to search an element in the array we use a python in-built index() method. \n",
        "\n",
        "This function returns the index of the first occurrence of value mentioned in arguments."
      ]
    },
    {
      "cell_type": "code",
      "execution_count": null,
      "metadata": {
        "id": "CqEBXrsWFc7Z",
        "outputId": "1a71e592-8570-4322-cd97-ae20d9b198bc"
      },
      "outputs": [
        {
          "name": "stdout",
          "output_type": "stream",
          "text": [
            "The new created array is : 1 2 3 1 2 5 \n",
            "1\n",
            "0\n"
          ]
        }
      ],
      "source": [
        "arr = array.array('i', [1, 2, 3, 1, 2, 5])  \n",
        "  \n",
        "# printing original array \n",
        "print (\"The new created array is : \", end =\"\") \n",
        "for i in range (0, 6): \n",
        "    print (arr[i], end =\" \") \n",
        "\n",
        "print()\n",
        "print (arr.index(2)) # gives index of number 2\n",
        "  \n",
        "print (arr.index(1)) "
      ]
    },
    {
      "cell_type": "markdown",
      "metadata": {
        "id": "XahEl91CFc7Z"
      },
      "source": [
        "Updating Elements in a Array\n",
        "--"
      ]
    },
    {
      "cell_type": "code",
      "execution_count": null,
      "metadata": {
        "id": "xNsUyP21Fc7a",
        "outputId": "1bc07bfd-971b-4cd2-dc5b-47804fdc84fd"
      },
      "outputs": [
        {
          "name": "stdout",
          "output_type": "stream",
          "text": [
            "Array before updation : 1 2 3 1 2 5 \n",
            "\n",
            "Array after updation : 1 2 6 1 2 5 \n",
            "Array after updation : 1 2 6 1 8 5 "
          ]
        }
      ],
      "source": [
        "arr = array.array('i', [1, 2, 3, 1, 2, 5])  \n",
        "  \n",
        "# printing original array \n",
        "print (\"Array before updation : \", end =\"\") \n",
        "for i in range (0, 6): \n",
        "    print (arr[i], end =\" \") \n",
        "  \n",
        "print (\"\\n\") \n",
        "  \n",
        "# updating a element in a array \n",
        "arr[2] = 6\n",
        "print(\"Array after updation : \", end =\"\") \n",
        "for i in range (0, 6): \n",
        "    print (arr[i], end =\" \") \n",
        "print() \n",
        "  \n",
        "# updating a element in a array \n",
        "arr[4] = 8\n",
        "print(\"Array after updation : \", end =\"\") \n",
        "for i in range (0, 6): \n",
        "    print (arr[i], end =\" \") "
      ]
    }
  ],
  "metadata": {
    "kernelspec": {
      "display_name": "Python 3",
      "language": "python",
      "name": "python3"
    },
    "language_info": {
      "codemirror_mode": {
        "name": "ipython",
        "version": 3
      },
      "file_extension": ".py",
      "mimetype": "text/x-python",
      "name": "python",
      "nbconvert_exporter": "python",
      "pygments_lexer": "ipython3",
      "version": "3.8.3"
    },
    "toc": {
      "base_numbering": 1,
      "nav_menu": {},
      "number_sections": true,
      "sideBar": true,
      "skip_h1_title": false,
      "title_cell": "Table of Contents",
      "title_sidebar": "Contents",
      "toc_cell": false,
      "toc_position": {},
      "toc_section_display": true,
      "toc_window_display": false
    },
    "colab": {
      "name": "7 Sets and Arrays in Python.ipynb",
      "provenance": [],
      "include_colab_link": true
    }
  },
  "nbformat": 4,
  "nbformat_minor": 0
}