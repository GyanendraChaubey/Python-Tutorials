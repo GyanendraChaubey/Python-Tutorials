{
  "cells": [
    {
      "cell_type": "markdown",
      "metadata": {
        "id": "view-in-github",
        "colab_type": "text"
      },
      "source": [
        "<a href=\"https://colab.research.google.com/github/GyanendraChaubey/Python-Tutorials/blob/main/Numpy_Aug03.ipynb\" target=\"_parent\"><img src=\"https://colab.research.google.com/assets/colab-badge.svg\" alt=\"Open In Colab\"/></a>"
      ]
    },
    {
      "cell_type": "raw",
      "metadata": {
        "id": "7Mo-92qiHz3T"
      },
      "source": [
        "!pip install numpy"
      ]
    },
    {
      "cell_type": "code",
      "execution_count": null,
      "metadata": {
        "id": "v233kOr4Hz3V"
      },
      "outputs": [],
      "source": [
        "import numpy as np"
      ]
    },
    {
      "cell_type": "code",
      "execution_count": null,
      "metadata": {
        "id": "_gRB3cCkHz3X",
        "outputId": "cf45fefd-c73b-4328-ded8-a1c59dbcf3b5"
      },
      "outputs": [
        {
          "data": {
            "text/plain": [
              "'1.18.5'"
            ]
          },
          "execution_count": 2,
          "metadata": {},
          "output_type": "execute_result"
        }
      ],
      "source": [
        "np.__version__"
      ]
    },
    {
      "cell_type": "code",
      "execution_count": null,
      "metadata": {
        "id": "6q77g3vQHz3a",
        "outputId": "341dc93d-9e41-40a2-d709-40f1de1bf562"
      },
      "outputs": [
        {
          "data": {
            "text/plain": [
              "array([1, 3, 4, 5])"
            ]
          },
          "execution_count": 4,
          "metadata": {},
          "output_type": "execute_result"
        }
      ],
      "source": [
        "np.array( [1,3,4,5] )"
      ]
    },
    {
      "cell_type": "code",
      "execution_count": null,
      "metadata": {
        "id": "OJkqOo33Hz3a",
        "outputId": "8ceb8e7b-7f61-455d-c552-838055381f4c"
      },
      "outputs": [
        {
          "data": {
            "text/plain": [
              "array([1, 3, 4, 5])"
            ]
          },
          "execution_count": 5,
          "metadata": {},
          "output_type": "execute_result"
        }
      ],
      "source": [
        "arr = np.array( [1,3,4,5] )\n",
        "arr"
      ]
    },
    {
      "cell_type": "code",
      "execution_count": null,
      "metadata": {
        "id": "NQKgXFnJHz3b",
        "outputId": "f5f0b4ed-2c68-4f9c-9e35-67cc60469e6a"
      },
      "outputs": [
        {
          "data": {
            "text/plain": [
              "numpy.ndarray"
            ]
          },
          "execution_count": 6,
          "metadata": {},
          "output_type": "execute_result"
        }
      ],
      "source": [
        "type(arr)"
      ]
    },
    {
      "cell_type": "code",
      "execution_count": null,
      "metadata": {
        "id": "xUg0LsyhHz3c",
        "outputId": "025b9f58-a937-4629-c40f-da8e487c6336"
      },
      "outputs": [
        {
          "data": {
            "text/plain": [
              "dtype('int32')"
            ]
          },
          "execution_count": 7,
          "metadata": {},
          "output_type": "execute_result"
        }
      ],
      "source": [
        "arr.dtype"
      ]
    },
    {
      "cell_type": "code",
      "execution_count": null,
      "metadata": {
        "id": "kdS9naBVHz3d",
        "outputId": "09d44dcc-f63c-4c65-c1b4-c98cbb7510eb"
      },
      "outputs": [
        {
          "data": {
            "text/plain": [
              "array([1. , 3. , 4. , 5.5])"
            ]
          },
          "execution_count": 8,
          "metadata": {},
          "output_type": "execute_result"
        }
      ],
      "source": [
        "arr = np.array( [1,3,4,5.5] )\n",
        "arr"
      ]
    },
    {
      "cell_type": "code",
      "execution_count": null,
      "metadata": {
        "id": "PGXcwcWOHz3e",
        "outputId": "f2243185-87ad-4d13-b1e2-76552221311c"
      },
      "outputs": [
        {
          "data": {
            "text/plain": [
              "dtype('float64')"
            ]
          },
          "execution_count": 9,
          "metadata": {},
          "output_type": "execute_result"
        }
      ],
      "source": [
        "arr.dtype"
      ]
    },
    {
      "cell_type": "code",
      "execution_count": null,
      "metadata": {
        "id": "R2L4ly5lHz3e",
        "outputId": "a2e5c472-e38f-457a-80d3-3ae3953db7f5"
      },
      "outputs": [
        {
          "data": {
            "text/plain": [
              "3.0"
            ]
          },
          "execution_count": 10,
          "metadata": {},
          "output_type": "execute_result"
        }
      ],
      "source": [
        "arr[1]"
      ]
    },
    {
      "cell_type": "code",
      "execution_count": null,
      "metadata": {
        "id": "QvDbbH-dHz3f",
        "outputId": "729be5d5-a72a-43f8-ee7d-33db9c541b3c"
      },
      "outputs": [
        {
          "data": {
            "text/plain": [
              "5.5"
            ]
          },
          "execution_count": 11,
          "metadata": {},
          "output_type": "execute_result"
        }
      ],
      "source": [
        "arr[-1]"
      ]
    },
    {
      "cell_type": "code",
      "execution_count": null,
      "metadata": {
        "id": "caHaXZKaHz3g",
        "outputId": "18e3156a-4993-48ad-f78e-4c3dd05a68e6"
      },
      "outputs": [
        {
          "data": {
            "text/plain": [
              "(4,)"
            ]
          },
          "execution_count": 12,
          "metadata": {},
          "output_type": "execute_result"
        }
      ],
      "source": [
        "arr.shape"
      ]
    },
    {
      "cell_type": "code",
      "execution_count": null,
      "metadata": {
        "id": "gblrzmKkHz3h",
        "outputId": "2c757192-6f34-4d4e-e013-24c41f5e715d"
      },
      "outputs": [
        {
          "data": {
            "text/plain": [
              "array([1, 3, 4, 5])"
            ]
          },
          "execution_count": 13,
          "metadata": {},
          "output_type": "execute_result"
        }
      ],
      "source": [
        "arr = np.array( [1,3,4,5] )\n",
        "arr"
      ]
    },
    {
      "cell_type": "code",
      "execution_count": null,
      "metadata": {
        "id": "T4hp9G0yHz3i",
        "outputId": "602effe1-4bc5-4960-f1de-dc1e1d818c74"
      },
      "outputs": [
        {
          "name": "stdout",
          "output_type": "stream",
          "text": [
            "[1.+0.j 3.+0.j 4.+0.j 5.+0.j 2.+3.j]\n",
            "(5,)\n",
            "complex128\n"
          ]
        }
      ],
      "source": [
        "arr = np.array( [1,3,4,5, 2+3j] )\n",
        "print(arr)\n",
        "print(arr.shape)\n",
        "print(arr.dtype)"
      ]
    },
    {
      "cell_type": "code",
      "execution_count": null,
      "metadata": {
        "id": "DF9tB9AkHz3i",
        "outputId": "6cc29b82-b268-4a85-f88d-21ab6f6fd58e"
      },
      "outputs": [
        {
          "name": "stdout",
          "output_type": "stream",
          "text": [
            "[1. +0.j 3.5+0.j 4. +0.j 5. +0.j 2. +3.j]\n",
            "(5,)\n",
            "complex128\n"
          ]
        }
      ],
      "source": [
        "arr = np.array( [1,3.5,4,5, 2+3j] )\n",
        "print(arr)\n",
        "print(arr.shape)\n",
        "print(arr.dtype)"
      ]
    },
    {
      "cell_type": "code",
      "execution_count": null,
      "metadata": {
        "id": "f13rMvKoHz3j",
        "outputId": "40c731cf-b84c-4429-9882-af2585d06697"
      },
      "outputs": [
        {
          "name": "stdout",
          "output_type": "stream",
          "text": [
            "[1. +0.j 3. +0.j 4.5+0.j 5. +0.j 2. +3.j 1. +0.j]\n",
            "(6,)\n",
            "complex128\n"
          ]
        }
      ],
      "source": [
        "arr = np.array( [1,3,4.5,5, 2+3j, True] )\n",
        "print(arr)\n",
        "print(arr.shape)\n",
        "print(arr.dtype)"
      ]
    },
    {
      "cell_type": "code",
      "execution_count": null,
      "metadata": {
        "id": "29uRe1uNHz3j",
        "outputId": "e27d3dbe-47f9-4442-a026-085d586324e0"
      },
      "outputs": [
        {
          "name": "stdout",
          "output_type": "stream",
          "text": [
            "[1. +0.j 3. +0.j 4.5+0.j 5. +0.j 2. +3.j 0. +0.j]\n",
            "(6,)\n",
            "complex128\n"
          ]
        }
      ],
      "source": [
        "arr = np.array( [1,3,4.5,5, 2+3j, False] )\n",
        "print(arr)\n",
        "print(arr.shape)\n",
        "print(arr.dtype)"
      ]
    },
    {
      "cell_type": "code",
      "execution_count": null,
      "metadata": {
        "id": "L0rQZhkkHz3k",
        "outputId": "30c02792-5c84-4d14-97bb-5fbc95dceb83"
      },
      "outputs": [
        {
          "name": "stdout",
          "output_type": "stream",
          "text": [
            "['1' '3' '4.5' '5' '(2+3j)' 'True' 'Darshan']\n",
            "(7,)\n",
            "<U64\n"
          ]
        }
      ],
      "source": [
        "arr = np.array( [1,3,4.5,5, 2+3j, True, \"Darshan\"] )\n",
        "print(arr)\n",
        "print(arr.shape)\n",
        "print(arr.dtype)"
      ]
    },
    {
      "cell_type": "code",
      "execution_count": null,
      "metadata": {
        "id": "aLkGXBmqHz3l",
        "outputId": "6f2048c8-bf6c-40ee-9dd7-04da07d0bdeb"
      },
      "outputs": [
        {
          "name": "stdout",
          "output_type": "stream",
          "text": [
            "[1 3 4 5]\n"
          ]
        }
      ],
      "source": [
        "arr = np.array( [1,3,4,5] )\n",
        "print(arr)"
      ]
    },
    {
      "cell_type": "code",
      "execution_count": null,
      "metadata": {
        "id": "i2rLhf-aHz3l",
        "outputId": "331068e1-95a9-4063-cba6-a56e9423f55c"
      },
      "outputs": [
        {
          "data": {
            "text/plain": [
              "13"
            ]
          },
          "execution_count": 20,
          "metadata": {},
          "output_type": "execute_result"
        }
      ],
      "source": [
        "np.sum(arr)"
      ]
    },
    {
      "cell_type": "code",
      "execution_count": null,
      "metadata": {
        "id": "PHTU7yorHz3m",
        "outputId": "df42ffbe-65f3-4bea-b548-09f5257d9a4a"
      },
      "outputs": [
        {
          "data": {
            "text/plain": [
              "5"
            ]
          },
          "execution_count": 21,
          "metadata": {},
          "output_type": "execute_result"
        }
      ],
      "source": [
        "np.max(arr)"
      ]
    },
    {
      "cell_type": "code",
      "execution_count": null,
      "metadata": {
        "id": "EAgwoEi1Hz3m",
        "outputId": "decffe88-60ac-4cc6-ffae-2832a160ff6e"
      },
      "outputs": [
        {
          "data": {
            "text/plain": [
              "3.25"
            ]
          },
          "execution_count": 22,
          "metadata": {},
          "output_type": "execute_result"
        }
      ],
      "source": [
        "np.mean(arr)"
      ]
    },
    {
      "cell_type": "code",
      "execution_count": null,
      "metadata": {
        "id": "vH3BihCoHz3n",
        "outputId": "b8d15ea5-d1d0-49b9-b17d-134fa45438cf"
      },
      "outputs": [
        {
          "data": {
            "text/plain": [
              "1.479019945774904"
            ]
          },
          "execution_count": 23,
          "metadata": {},
          "output_type": "execute_result"
        }
      ],
      "source": [
        "np.std(arr)"
      ]
    },
    {
      "cell_type": "code",
      "execution_count": null,
      "metadata": {
        "id": "3MyUZQd4Hz3n",
        "outputId": "edb1c863-6d09-4604-9e88-f3754f4bf0fa"
      },
      "outputs": [
        {
          "name": "stdout",
          "output_type": "stream",
          "text": [
            "['1' '3' '4.5' '5' '(2+3j)' 'True' 'Darshan']\n",
            "(7,)\n",
            "<U64\n"
          ]
        }
      ],
      "source": [
        "arr = np.array( [1,3,4.5,5, 2+3j, True, \"Darshan\"] )\n",
        "print(arr)\n",
        "print(arr.shape)\n",
        "print(arr.dtype)"
      ]
    },
    {
      "cell_type": "code",
      "execution_count": null,
      "metadata": {
        "id": "fCi2wjXbHz3o",
        "outputId": "6cb233b9-1590-43b5-e95a-551a1d8df0d3"
      },
      "outputs": [
        {
          "ename": "TypeError",
          "evalue": "cannot perform reduce with flexible type",
          "output_type": "error",
          "traceback": [
            "\u001b[1;31m---------------------------------------------------------------------------\u001b[0m",
            "\u001b[1;31mTypeError\u001b[0m                                 Traceback (most recent call last)",
            "\u001b[1;32m<ipython-input-25-426352288656>\u001b[0m in \u001b[0;36m<module>\u001b[1;34m\u001b[0m\n\u001b[1;32m----> 1\u001b[1;33m \u001b[0mnp\u001b[0m\u001b[1;33m.\u001b[0m\u001b[0msum\u001b[0m\u001b[1;33m(\u001b[0m\u001b[0marr\u001b[0m\u001b[1;33m)\u001b[0m\u001b[1;33m\u001b[0m\u001b[1;33m\u001b[0m\u001b[0m\n\u001b[0m",
            "\u001b[1;32m<__array_function__ internals>\u001b[0m in \u001b[0;36msum\u001b[1;34m(*args, **kwargs)\u001b[0m\n",
            "\u001b[1;32m~\\anaconda3\\lib\\site-packages\\numpy\\core\\fromnumeric.py\u001b[0m in \u001b[0;36msum\u001b[1;34m(a, axis, dtype, out, keepdims, initial, where)\u001b[0m\n\u001b[0;32m   2226\u001b[0m         \u001b[1;32mreturn\u001b[0m \u001b[0mres\u001b[0m\u001b[1;33m\u001b[0m\u001b[1;33m\u001b[0m\u001b[0m\n\u001b[0;32m   2227\u001b[0m \u001b[1;33m\u001b[0m\u001b[0m\n\u001b[1;32m-> 2228\u001b[1;33m     return _wrapreduction(a, np.add, 'sum', axis, dtype, out, keepdims=keepdims,\n\u001b[0m\u001b[0;32m   2229\u001b[0m                           initial=initial, where=where)\n\u001b[0;32m   2230\u001b[0m \u001b[1;33m\u001b[0m\u001b[0m\n",
            "\u001b[1;32m~\\anaconda3\\lib\\site-packages\\numpy\\core\\fromnumeric.py\u001b[0m in \u001b[0;36m_wrapreduction\u001b[1;34m(obj, ufunc, method, axis, dtype, out, **kwargs)\u001b[0m\n\u001b[0;32m     88\u001b[0m                 \u001b[1;32mreturn\u001b[0m \u001b[0mreduction\u001b[0m\u001b[1;33m(\u001b[0m\u001b[0maxis\u001b[0m\u001b[1;33m=\u001b[0m\u001b[0maxis\u001b[0m\u001b[1;33m,\u001b[0m \u001b[0mout\u001b[0m\u001b[1;33m=\u001b[0m\u001b[0mout\u001b[0m\u001b[1;33m,\u001b[0m \u001b[1;33m**\u001b[0m\u001b[0mpasskwargs\u001b[0m\u001b[1;33m)\u001b[0m\u001b[1;33m\u001b[0m\u001b[1;33m\u001b[0m\u001b[0m\n\u001b[0;32m     89\u001b[0m \u001b[1;33m\u001b[0m\u001b[0m\n\u001b[1;32m---> 90\u001b[1;33m     \u001b[1;32mreturn\u001b[0m \u001b[0mufunc\u001b[0m\u001b[1;33m.\u001b[0m\u001b[0mreduce\u001b[0m\u001b[1;33m(\u001b[0m\u001b[0mobj\u001b[0m\u001b[1;33m,\u001b[0m \u001b[0maxis\u001b[0m\u001b[1;33m,\u001b[0m \u001b[0mdtype\u001b[0m\u001b[1;33m,\u001b[0m \u001b[0mout\u001b[0m\u001b[1;33m,\u001b[0m \u001b[1;33m**\u001b[0m\u001b[0mpasskwargs\u001b[0m\u001b[1;33m)\u001b[0m\u001b[1;33m\u001b[0m\u001b[1;33m\u001b[0m\u001b[0m\n\u001b[0m\u001b[0;32m     91\u001b[0m \u001b[1;33m\u001b[0m\u001b[0m\n\u001b[0;32m     92\u001b[0m \u001b[1;33m\u001b[0m\u001b[0m\n",
            "\u001b[1;31mTypeError\u001b[0m: cannot perform reduce with flexible type"
          ]
        }
      ],
      "source": [
        "np.sum(arr)"
      ]
    },
    {
      "cell_type": "code",
      "execution_count": null,
      "metadata": {
        "id": "rDeV3Dy1Hz3o",
        "outputId": "df7c4726-4726-4980-f495-85ea227dda6d"
      },
      "outputs": [
        {
          "data": {
            "text/plain": [
              "array([[1, 2, 3],\n",
              "       [4, 5, 6],\n",
              "       [8, 9, 7]])"
            ]
          },
          "execution_count": 27,
          "metadata": {},
          "output_type": "execute_result"
        }
      ],
      "source": [
        "# 2D\n",
        "arr = np.array( [ [1,2,3] , [4,5,6] , [8,9,7] ] )\n",
        "arr"
      ]
    },
    {
      "cell_type": "code",
      "execution_count": null,
      "metadata": {
        "id": "9-_j4GzbHz3p",
        "outputId": "f7981021-ea10-4658-d05d-9af99cd97662"
      },
      "outputs": [
        {
          "data": {
            "text/plain": [
              "array([1, 2, 3])"
            ]
          },
          "execution_count": 28,
          "metadata": {},
          "output_type": "execute_result"
        }
      ],
      "source": [
        "arr[0]"
      ]
    },
    {
      "cell_type": "code",
      "execution_count": null,
      "metadata": {
        "id": "BoqraNvzHz3q",
        "outputId": "2c5b2830-ae8b-4b0d-aa43-6c06946637d7"
      },
      "outputs": [
        {
          "data": {
            "text/plain": [
              "9"
            ]
          },
          "execution_count": 29,
          "metadata": {},
          "output_type": "execute_result"
        }
      ],
      "source": [
        "arr[2][1]"
      ]
    },
    {
      "cell_type": "code",
      "execution_count": null,
      "metadata": {
        "id": "UAFxapKEHz3q",
        "outputId": "38181e95-3321-4c72-f449-bf592a7e3a0a"
      },
      "outputs": [
        {
          "data": {
            "text/plain": [
              "(3, 3)"
            ]
          },
          "execution_count": 30,
          "metadata": {},
          "output_type": "execute_result"
        }
      ],
      "source": [
        "arr.shape"
      ]
    },
    {
      "cell_type": "code",
      "execution_count": null,
      "metadata": {
        "id": "CVdX_PBcHz3r",
        "outputId": "803dad6e-91d3-4ace-f472-a40fd9dc921e"
      },
      "outputs": [
        {
          "data": {
            "text/plain": [
              "array([list([1, 2, 3]), list([4, 5, 6]), list([8])], dtype=object)"
            ]
          },
          "execution_count": 31,
          "metadata": {},
          "output_type": "execute_result"
        }
      ],
      "source": [
        "# 2D\n",
        "arr = np.array( [ [1,2,3] , [4,5,6] , [8] ] )\n",
        "arr"
      ]
    },
    {
      "cell_type": "code",
      "execution_count": null,
      "metadata": {
        "id": "WLeM2rP0Hz3r",
        "outputId": "1e5955b2-a243-47df-ab6f-883452586ec2"
      },
      "outputs": [
        {
          "data": {
            "text/plain": [
              "(3,)"
            ]
          },
          "execution_count": 32,
          "metadata": {},
          "output_type": "execute_result"
        }
      ],
      "source": [
        "arr.shape"
      ]
    },
    {
      "cell_type": "code",
      "execution_count": null,
      "metadata": {
        "id": "QvloCf8SHz3s",
        "outputId": "8a676478-7d1e-48fe-8bd0-719b047a6c51"
      },
      "outputs": [
        {
          "data": {
            "text/plain": [
              "array([[1, 2, 3],\n",
              "       [4, 5, 6],\n",
              "       [8, None, None]], dtype=object)"
            ]
          },
          "execution_count": 33,
          "metadata": {},
          "output_type": "execute_result"
        }
      ],
      "source": [
        "# 2D\n",
        "arr = np.array( [ [1,2,3] , [4,5,6] , [8,None, None] ] )\n",
        "arr"
      ]
    },
    {
      "cell_type": "code",
      "execution_count": null,
      "metadata": {
        "id": "HUiMNijoHz3s",
        "outputId": "e4d64b91-7028-46eb-c963-2f4ba494650a"
      },
      "outputs": [
        {
          "data": {
            "text/plain": [
              "(3, 3)"
            ]
          },
          "execution_count": 34,
          "metadata": {},
          "output_type": "execute_result"
        }
      ],
      "source": [
        "arr.shape"
      ]
    },
    {
      "cell_type": "code",
      "execution_count": null,
      "metadata": {
        "id": "2ro1Gn_0Hz3t",
        "outputId": "e30579c5-6358-4d14-9a76-6a0ec7bb64ae"
      },
      "outputs": [
        {
          "data": {
            "text/plain": [
              "array([[0., 0., 0., 0.],\n",
              "       [0., 0., 0., 0.]])"
            ]
          },
          "execution_count": 35,
          "metadata": {},
          "output_type": "execute_result"
        }
      ],
      "source": [
        "np.zeros( (2,4) )"
      ]
    },
    {
      "cell_type": "code",
      "execution_count": null,
      "metadata": {
        "id": "x9EjDB2MHz3t",
        "outputId": "d26a7531-9177-4747-a260-910432b7e084"
      },
      "outputs": [
        {
          "data": {
            "text/plain": [
              "array([[0., 0., 0., 0., 0.],\n",
              "       [0., 0., 0., 0., 0.],\n",
              "       [0., 0., 0., 0., 0.],\n",
              "       [0., 0., 0., 0., 0.]])"
            ]
          },
          "execution_count": 36,
          "metadata": {},
          "output_type": "execute_result"
        }
      ],
      "source": [
        "np.zeros( (4,5) )"
      ]
    },
    {
      "cell_type": "code",
      "execution_count": null,
      "metadata": {
        "id": "CrWjclAUHz3u",
        "outputId": "186dff48-a994-4e15-858d-3741f1b235a5"
      },
      "outputs": [
        {
          "data": {
            "text/plain": [
              "dtype('float64')"
            ]
          },
          "execution_count": 37,
          "metadata": {},
          "output_type": "execute_result"
        }
      ],
      "source": [
        "np.zeros( (2,4) ).dtype"
      ]
    },
    {
      "cell_type": "code",
      "execution_count": null,
      "metadata": {
        "id": "Y5OHekynHz3u",
        "outputId": "d4bb6012-99ac-4091-b6a6-918def351980"
      },
      "outputs": [
        {
          "data": {
            "text/plain": [
              "array([[1., 1., 1., 1.],\n",
              "       [1., 1., 1., 1.]])"
            ]
          },
          "execution_count": 38,
          "metadata": {},
          "output_type": "execute_result"
        }
      ],
      "source": [
        "np.ones( (2,4) )"
      ]
    },
    {
      "cell_type": "code",
      "execution_count": null,
      "metadata": {
        "id": "oQ9CjF7wHz3v",
        "outputId": "1d464998-f2b1-4d99-a6f2-4ee8a39840fd"
      },
      "outputs": [
        {
          "data": {
            "text/plain": [
              "array([[1., 1., 1., 1.],\n",
              "       [1., 1., 1., 1.],\n",
              "       [1., 1., 1., 1.],\n",
              "       [1., 1., 1., 1.],\n",
              "       [1., 1., 1., 1.]])"
            ]
          },
          "execution_count": 39,
          "metadata": {},
          "output_type": "execute_result"
        }
      ],
      "source": [
        "np.ones( (5,4) )"
      ]
    },
    {
      "cell_type": "code",
      "execution_count": null,
      "metadata": {
        "id": "qWrveNNPHz3v",
        "outputId": "d16d6896-cb6e-404d-b9a7-735c532018a1"
      },
      "outputs": [
        {
          "ename": "AttributeError",
          "evalue": "module 'numpy' has no attribute 'twos'",
          "output_type": "error",
          "traceback": [
            "\u001b[1;31m---------------------------------------------------------------------------\u001b[0m",
            "\u001b[1;31mAttributeError\u001b[0m                            Traceback (most recent call last)",
            "\u001b[1;32m<ipython-input-40-5b37547f5342>\u001b[0m in \u001b[0;36m<module>\u001b[1;34m\u001b[0m\n\u001b[1;32m----> 1\u001b[1;33m \u001b[0mnp\u001b[0m\u001b[1;33m.\u001b[0m\u001b[0mtwos\u001b[0m\u001b[1;33m(\u001b[0m \u001b[1;33m(\u001b[0m\u001b[1;36m2\u001b[0m\u001b[1;33m,\u001b[0m\u001b[1;36m4\u001b[0m\u001b[1;33m)\u001b[0m \u001b[1;33m)\u001b[0m\u001b[1;33m\u001b[0m\u001b[1;33m\u001b[0m\u001b[0m\n\u001b[0m",
            "\u001b[1;32m~\\anaconda3\\lib\\site-packages\\numpy\\__init__.py\u001b[0m in \u001b[0;36m__getattr__\u001b[1;34m(attr)\u001b[0m\n\u001b[0;32m    217\u001b[0m                 \u001b[1;32mreturn\u001b[0m \u001b[0mTester\u001b[0m\u001b[1;33m\u001b[0m\u001b[1;33m\u001b[0m\u001b[0m\n\u001b[0;32m    218\u001b[0m             \u001b[1;32melse\u001b[0m\u001b[1;33m:\u001b[0m\u001b[1;33m\u001b[0m\u001b[1;33m\u001b[0m\u001b[0m\n\u001b[1;32m--> 219\u001b[1;33m                 raise AttributeError(\"module {!r} has no attribute \"\n\u001b[0m\u001b[0;32m    220\u001b[0m                                      \"{!r}\".format(__name__, attr))\n\u001b[0;32m    221\u001b[0m \u001b[1;33m\u001b[0m\u001b[0m\n",
            "\u001b[1;31mAttributeError\u001b[0m: module 'numpy' has no attribute 'twos'"
          ]
        }
      ],
      "source": [
        "np.twos( (2,4) )"
      ]
    },
    {
      "cell_type": "code",
      "execution_count": null,
      "metadata": {
        "id": "VoF_H0Z4Hz3v",
        "outputId": "a411514a-5f6c-4c55-b421-daff052c8368"
      },
      "outputs": [
        {
          "data": {
            "text/plain": [
              "array([[1., 0., 0., 0.],\n",
              "       [0., 1., 0., 0.],\n",
              "       [0., 0., 1., 0.],\n",
              "       [0., 0., 0., 1.]])"
            ]
          },
          "execution_count": 42,
          "metadata": {},
          "output_type": "execute_result"
        }
      ],
      "source": [
        "np.identity( 4 )"
      ]
    },
    {
      "cell_type": "code",
      "execution_count": null,
      "metadata": {
        "id": "DbHZlgGwHz3w",
        "outputId": "b01a5e62-dd9b-444d-db07-ec745fd008ad"
      },
      "outputs": [
        {
          "data": {
            "text/plain": [
              "array([[ 0.75337241,  0.66302584,  0.69497637,  0.08891782],\n",
              "       [ 1.97396119,  0.45878827,  0.33514554,  1.67386505],\n",
              "       [ 1.87100274,  0.79356136, -0.3914078 ,  0.70938823]])"
            ]
          },
          "execution_count": 43,
          "metadata": {},
          "output_type": "execute_result"
        }
      ],
      "source": [
        "arr = np.random.randn(3,4)\n",
        "arr"
      ]
    },
    {
      "cell_type": "code",
      "execution_count": null,
      "metadata": {
        "id": "J1raxD4ZHz3w",
        "outputId": "1de341de-81d4-4232-a139-0069f6f0e2d8"
      },
      "outputs": [
        {
          "data": {
            "text/plain": [
              "array([[ 0.1892905 , -0.72416032, -0.08232886,  0.77402832, -0.81211618],\n",
              "       [-0.70829365, -1.03798351,  0.69268848,  0.46765448, -0.0191708 ],\n",
              "       [-0.64689929,  1.00840592,  1.25293984,  0.22073938,  0.32306292],\n",
              "       [ 0.77342437,  0.27581516,  1.01884499, -1.33315589,  0.12703242],\n",
              "       [-0.07919051, -0.33751613,  0.70944826, -1.94486358,  0.18463987],\n",
              "       [ 0.0135557 , -0.28249967,  0.47498621,  0.56923916, -0.39620547],\n",
              "       [-0.84405495,  1.48799478, -0.82395183, -0.21044163,  0.17447627],\n",
              "       [ 0.58337582, -0.47413071, -0.27374891, -1.3603268 , -0.51295911],\n",
              "       [-0.68760637, -0.19773909,  0.19386063,  0.12043141, -0.37090699],\n",
              "       [ 1.43844213, -0.7951711 ,  0.09296674,  2.04233869, -0.66695442]])"
            ]
          },
          "execution_count": 45,
          "metadata": {},
          "output_type": "execute_result"
        }
      ],
      "source": [
        "arr = np.random.randn(10,5)\n",
        "arr"
      ]
    },
    {
      "cell_type": "code",
      "execution_count": null,
      "metadata": {
        "id": "qFaVEyMQHz3x",
        "outputId": "483aba4c-fcb5-4040-d24c-20690e5933ea"
      },
      "outputs": [
        {
          "name": "stdout",
          "output_type": "stream",
          "text": [
            "2.042338687927478 -1.9448635823167364\n"
          ]
        }
      ],
      "source": [
        "print(np.max(arr),np.min(arr))"
      ]
    },
    {
      "cell_type": "code",
      "execution_count": null,
      "metadata": {
        "id": "GSB64PWCHz3x",
        "outputId": "6467c051-8ebf-4099-e713-94ebeae2bb52"
      },
      "outputs": [
        {
          "name": "stdout",
          "output_type": "stream",
          "text": [
            "[1 2 3 4 5]\n",
            "<class 'numpy.ndarray'>\n"
          ]
        }
      ],
      "source": [
        "from numpy import array\n",
        "data = array([1,2,3,4,5])\n",
        "print(data)\n",
        "print(type(data))"
      ]
    },
    {
      "cell_type": "code",
      "execution_count": null,
      "metadata": {
        "id": "vN8TO0cjHz3y",
        "outputId": "02543af3-6daf-4cb9-9efc-272cfb9a1162"
      },
      "outputs": [
        {
          "name": "stdout",
          "output_type": "stream",
          "text": [
            "[[1 2]\n",
            " [3 4]]\n",
            "<class 'numpy.ndarray'>\n"
          ]
        }
      ],
      "source": [
        "from numpy import array\n",
        "data = array([ [1,2],[3,4] ])\n",
        "print(data)\n",
        "print(type(data))"
      ]
    },
    {
      "cell_type": "markdown",
      "metadata": {
        "id": "a8qxxyB4Hz3y"
      },
      "source": [
        "Indexing and Slicing"
      ]
    },
    {
      "cell_type": "code",
      "execution_count": null,
      "metadata": {
        "id": "wNYPp3shHz39",
        "outputId": "952c9626-a8c2-4da9-b343-e17417427979"
      },
      "outputs": [
        {
          "data": {
            "text/plain": [
              "array([[1, 2, 3],\n",
              "       [4, 5, 6],\n",
              "       [8, 9, 7]])"
            ]
          },
          "execution_count": 49,
          "metadata": {},
          "output_type": "execute_result"
        }
      ],
      "source": [
        "# 2D\n",
        "arr = np.array( [ [1,2,3] , [4,5,6] , [8,9,7] ] )\n",
        "arr"
      ]
    },
    {
      "cell_type": "code",
      "execution_count": null,
      "metadata": {
        "id": "zjFNo-LBHz39",
        "outputId": "35074a47-a3cd-4101-b980-165aeb82171e"
      },
      "outputs": [
        {
          "data": {
            "text/plain": [
              "(3, 3)"
            ]
          },
          "execution_count": 50,
          "metadata": {},
          "output_type": "execute_result"
        }
      ],
      "source": [
        "arr.shape"
      ]
    },
    {
      "cell_type": "code",
      "execution_count": null,
      "metadata": {
        "id": "PLhz22FeHz3-",
        "outputId": "70f1a6f9-caf8-4608-966f-ad4e19e0e722"
      },
      "outputs": [
        {
          "data": {
            "text/plain": [
              "array([4, 5, 6])"
            ]
          },
          "execution_count": 51,
          "metadata": {},
          "output_type": "execute_result"
        }
      ],
      "source": [
        "arr[1]"
      ]
    },
    {
      "cell_type": "code",
      "execution_count": null,
      "metadata": {
        "id": "8mR8uK9mHz3_",
        "outputId": "f63cb3d0-c6d3-46cb-f2a4-e16cbaee6bba"
      },
      "outputs": [
        {
          "data": {
            "text/plain": [
              "4"
            ]
          },
          "execution_count": 52,
          "metadata": {},
          "output_type": "execute_result"
        }
      ],
      "source": [
        "arr[1][0]"
      ]
    },
    {
      "cell_type": "code",
      "execution_count": null,
      "metadata": {
        "id": "NZujEQZCHz4A",
        "outputId": "77a87e6f-5ac5-4c58-c8fe-e30ca3160794"
      },
      "outputs": [
        {
          "data": {
            "text/plain": [
              "5"
            ]
          },
          "execution_count": 53,
          "metadata": {},
          "output_type": "execute_result"
        }
      ],
      "source": [
        "arr[1][1]"
      ]
    },
    {
      "cell_type": "code",
      "execution_count": null,
      "metadata": {
        "id": "fQsjhIKXHz4A",
        "outputId": "e2a009c2-2544-417f-c608-748eb9b35560"
      },
      "outputs": [
        {
          "data": {
            "text/plain": [
              "array([[1, 2, 3],\n",
              "       [4, 5, 6],\n",
              "       [8, 9, 7]])"
            ]
          },
          "execution_count": 54,
          "metadata": {},
          "output_type": "execute_result"
        }
      ],
      "source": [
        "arr"
      ]
    },
    {
      "cell_type": "code",
      "execution_count": null,
      "metadata": {
        "id": "b8zeqNgzHz4B",
        "outputId": "698ea4b9-c9b1-487f-aa9f-823c1fc6b3ff"
      },
      "outputs": [
        {
          "data": {
            "text/plain": [
              "array([[1, 2, 3],\n",
              "       [4, 5, 6],\n",
              "       [8, 9, 7]])"
            ]
          },
          "execution_count": 55,
          "metadata": {},
          "output_type": "execute_result"
        }
      ],
      "source": [
        "arr[0:3]"
      ]
    },
    {
      "cell_type": "code",
      "execution_count": null,
      "metadata": {
        "id": "AXEmJRU_Hz4B",
        "outputId": "86324600-d108-4e53-9eb0-c3ab86fffde2"
      },
      "outputs": [
        {
          "data": {
            "text/plain": [
              "array([[1, 2, 3]])"
            ]
          },
          "execution_count": 56,
          "metadata": {},
          "output_type": "execute_result"
        }
      ],
      "source": [
        "arr[0:1]"
      ]
    },
    {
      "cell_type": "code",
      "execution_count": null,
      "metadata": {
        "id": "IuRA8gGtHz4C",
        "outputId": "677cfe22-f1f1-475c-cd31-de1b0b7cb3d4"
      },
      "outputs": [
        {
          "data": {
            "text/plain": [
              "array([3, 6, 7])"
            ]
          },
          "execution_count": 57,
          "metadata": {},
          "output_type": "execute_result"
        }
      ],
      "source": [
        "arr[ : , 2 ]"
      ]
    },
    {
      "cell_type": "code",
      "execution_count": null,
      "metadata": {
        "id": "v7NpwYCqHz4C",
        "outputId": "346f09a3-c6b2-4a72-e832-febb652480fc"
      },
      "outputs": [
        {
          "data": {
            "text/plain": [
              "array([4, 5, 6])"
            ]
          },
          "execution_count": 59,
          "metadata": {},
          "output_type": "execute_result"
        }
      ],
      "source": [
        "arr[ 1 , : ]"
      ]
    },
    {
      "cell_type": "code",
      "execution_count": null,
      "metadata": {
        "id": "bIwHNTaXHz4D",
        "outputId": "2deee0c9-8855-47c2-e25a-b17eeb108194"
      },
      "outputs": [
        {
          "data": {
            "text/plain": [
              "array([4, 5, 6])"
            ]
          },
          "execution_count": 60,
          "metadata": {},
          "output_type": "execute_result"
        }
      ],
      "source": [
        "arr[ 1 ]"
      ]
    },
    {
      "cell_type": "code",
      "execution_count": null,
      "metadata": {
        "id": "pfSRqeq_Hz4D",
        "outputId": "5edbce4f-a0cf-45e3-ae49-be8c51dd259e"
      },
      "outputs": [
        {
          "data": {
            "text/plain": [
              "range(0, 5)"
            ]
          },
          "execution_count": 61,
          "metadata": {},
          "output_type": "execute_result"
        }
      ],
      "source": [
        "range(5)"
      ]
    },
    {
      "cell_type": "code",
      "execution_count": null,
      "metadata": {
        "id": "1E73bNmUHz4D",
        "outputId": "235a0e2d-9824-419d-bf80-3adfb6fff8fe"
      },
      "outputs": [
        {
          "data": {
            "text/plain": [
              "array([0, 1, 2, 3, 4])"
            ]
          },
          "execution_count": 62,
          "metadata": {},
          "output_type": "execute_result"
        }
      ],
      "source": [
        "np.arange(5)"
      ]
    },
    {
      "cell_type": "code",
      "execution_count": null,
      "metadata": {
        "id": "kml1jjdaHz4E",
        "outputId": "98547ebd-6d5e-473e-bf68-a0e0d6f67984"
      },
      "outputs": [
        {
          "data": {
            "text/plain": [
              "array([ 0,  1,  2,  3,  4,  5,  6,  7,  8,  9, 10, 11])"
            ]
          },
          "execution_count": 63,
          "metadata": {},
          "output_type": "execute_result"
        }
      ],
      "source": [
        "np.arange(12)"
      ]
    },
    {
      "cell_type": "code",
      "execution_count": null,
      "metadata": {
        "id": "PLTGJ1uIHz4E",
        "outputId": "562cff3a-bc72-41ca-c5e1-06b6e27c4f2b"
      },
      "outputs": [
        {
          "data": {
            "text/plain": [
              "array([[ 0,  1,  2,  3],\n",
              "       [ 4,  5,  6,  7],\n",
              "       [ 8,  9, 10, 11]])"
            ]
          },
          "execution_count": 64,
          "metadata": {},
          "output_type": "execute_result"
        }
      ],
      "source": [
        "np.arange(12).reshape(3,4)"
      ]
    },
    {
      "cell_type": "code",
      "execution_count": null,
      "metadata": {
        "id": "9nub8bElHz4F",
        "outputId": "59391067-6a1f-45f6-f137-5437d6e7b803"
      },
      "outputs": [
        {
          "data": {
            "text/plain": [
              "array([[ 0,  1],\n",
              "       [ 2,  3],\n",
              "       [ 4,  5],\n",
              "       [ 6,  7],\n",
              "       [ 8,  9],\n",
              "       [10, 11]])"
            ]
          },
          "execution_count": 67,
          "metadata": {},
          "output_type": "execute_result"
        }
      ],
      "source": [
        "np.arange(12).reshape(6,2)"
      ]
    },
    {
      "cell_type": "code",
      "execution_count": null,
      "metadata": {
        "id": "ZKDgRHj4Hz4F",
        "outputId": "ea8b4e7a-805b-4912-ac3b-83c979bd8f17"
      },
      "outputs": [
        {
          "data": {
            "text/plain": [
              "array([[ 0],\n",
              "       [ 1],\n",
              "       [ 2],\n",
              "       [ 3],\n",
              "       [ 4],\n",
              "       [ 5],\n",
              "       [ 6],\n",
              "       [ 7],\n",
              "       [ 8],\n",
              "       [ 9],\n",
              "       [10],\n",
              "       [11]])"
            ]
          },
          "execution_count": 68,
          "metadata": {},
          "output_type": "execute_result"
        }
      ],
      "source": [
        "np.arange(12).reshape(12,1)"
      ]
    },
    {
      "cell_type": "code",
      "execution_count": null,
      "metadata": {
        "id": "Id7pA89rHz4F",
        "outputId": "9a09b67c-38f9-4886-a400-9c6d75028b89"
      },
      "outputs": [
        {
          "data": {
            "text/plain": [
              "array([[[ 0,  1,  2],\n",
              "        [ 3,  4,  5]],\n",
              "\n",
              "       [[ 6,  7,  8],\n",
              "        [ 9, 10, 11]]])"
            ]
          },
          "execution_count": 69,
          "metadata": {},
          "output_type": "execute_result"
        }
      ],
      "source": [
        "np.arange(12).reshape(2,2,3)"
      ]
    },
    {
      "cell_type": "code",
      "execution_count": null,
      "metadata": {
        "id": "SJz9A8ULHz4G",
        "outputId": "cf7a3c2a-850a-46d0-8e13-1e5eff380e39"
      },
      "outputs": [
        {
          "data": {
            "text/plain": [
              "array([[[ 0,  1,  2]],\n",
              "\n",
              "       [[ 3,  4,  5]],\n",
              "\n",
              "       [[ 6,  7,  8]],\n",
              "\n",
              "       [[ 9, 10, 11]]])"
            ]
          },
          "execution_count": 71,
          "metadata": {},
          "output_type": "execute_result"
        }
      ],
      "source": [
        "np.arange(12).reshape(4,1,3)"
      ]
    },
    {
      "cell_type": "code",
      "execution_count": null,
      "metadata": {
        "id": "ln2XY8KlHz4G",
        "outputId": "e2f20760-ad8e-48f8-a1ab-7b3c786256d5"
      },
      "outputs": [
        {
          "data": {
            "text/plain": [
              "array([[[ 0,  1,  2,  3,  4,  5,  6,  7,  8,  9, 10, 11]]])"
            ]
          },
          "execution_count": 79,
          "metadata": {},
          "output_type": "execute_result"
        }
      ],
      "source": [
        "np.arange(12).reshape(1,1,12)"
      ]
    },
    {
      "cell_type": "code",
      "execution_count": null,
      "metadata": {
        "id": "Las6--phHz4H",
        "outputId": "ecd643f7-7f7f-43d5-de41-57db92769519"
      },
      "outputs": [
        {
          "data": {
            "text/plain": [
              "dtype('int32')"
            ]
          },
          "execution_count": 80,
          "metadata": {},
          "output_type": "execute_result"
        }
      ],
      "source": [
        "np.arange(12).reshape(1,1,12).dtype"
      ]
    },
    {
      "cell_type": "code",
      "execution_count": null,
      "metadata": {
        "id": "2vkQYox6Hz4H",
        "outputId": "ac2771d8-c566-46c8-bf65-f1895a32509a"
      },
      "outputs": [
        {
          "data": {
            "text/plain": [
              "(1, 1, 12)"
            ]
          },
          "execution_count": 81,
          "metadata": {},
          "output_type": "execute_result"
        }
      ],
      "source": [
        "np.arange(12).reshape(1,1,12).shape"
      ]
    },
    {
      "cell_type": "code",
      "execution_count": null,
      "metadata": {
        "id": "2M0uJEOxHz4I",
        "outputId": "e645806b-0607-4a0c-b659-a7c1c5d96a04"
      },
      "outputs": [
        {
          "data": {
            "text/plain": [
              "array([[[ 0,  1,  2],\n",
              "        [ 3,  4,  5]],\n",
              "\n",
              "       [[ 6,  7,  8],\n",
              "        [ 9, 10, 11]]])"
            ]
          },
          "execution_count": 73,
          "metadata": {},
          "output_type": "execute_result"
        }
      ],
      "source": [
        "arr = np.arange(12).reshape(2,2,3)\n",
        "arr"
      ]
    },
    {
      "cell_type": "code",
      "execution_count": null,
      "metadata": {
        "id": "NTiOuGVKHz4I",
        "outputId": "942aaf75-98d0-4a2d-9f55-f6a2dd6d5d94"
      },
      "outputs": [
        {
          "data": {
            "text/plain": [
              "array([[0, 1, 2],\n",
              "       [3, 4, 5]])"
            ]
          },
          "execution_count": 74,
          "metadata": {},
          "output_type": "execute_result"
        }
      ],
      "source": [
        "arr[0]"
      ]
    },
    {
      "cell_type": "code",
      "execution_count": null,
      "metadata": {
        "id": "JoYE_MT1Hz4I",
        "outputId": "ae1935bb-0fc1-438c-925f-f88e674723db"
      },
      "outputs": [
        {
          "data": {
            "text/plain": [
              "array([[ 6,  7,  8],\n",
              "       [ 9, 10, 11]])"
            ]
          },
          "execution_count": 75,
          "metadata": {},
          "output_type": "execute_result"
        }
      ],
      "source": [
        "arr[1]"
      ]
    },
    {
      "cell_type": "code",
      "execution_count": null,
      "metadata": {
        "id": "HKrkPanEHz4J",
        "outputId": "e294e22e-2a89-4e33-dd9b-47886bf20bc0"
      },
      "outputs": [
        {
          "data": {
            "text/plain": [
              "array([0, 1, 2])"
            ]
          },
          "execution_count": 76,
          "metadata": {},
          "output_type": "execute_result"
        }
      ],
      "source": [
        "arr[0][0]"
      ]
    },
    {
      "cell_type": "code",
      "execution_count": null,
      "metadata": {
        "id": "IGcuGl36Hz4J",
        "outputId": "0d28c1f6-4d04-47d4-860c-2d99bbe93402"
      },
      "outputs": [
        {
          "data": {
            "text/plain": [
              "array([3, 4, 5])"
            ]
          },
          "execution_count": 77,
          "metadata": {},
          "output_type": "execute_result"
        }
      ],
      "source": [
        "arr[0][1]"
      ]
    },
    {
      "cell_type": "code",
      "execution_count": null,
      "metadata": {
        "id": "aAU-6wdmHz4K",
        "outputId": "97b6f3f3-a592-417e-c257-3c125478a429"
      },
      "outputs": [
        {
          "data": {
            "text/plain": [
              "10"
            ]
          },
          "execution_count": 78,
          "metadata": {},
          "output_type": "execute_result"
        }
      ],
      "source": [
        "arr[1][1][1]"
      ]
    },
    {
      "cell_type": "code",
      "execution_count": null,
      "metadata": {
        "id": "SB15iRq2Hz4K",
        "outputId": "a594f025-a289-4d39-83d5-3b9ef1c40363"
      },
      "outputs": [
        {
          "data": {
            "text/plain": [
              "array([0, 1, 2, 3, 4, 5, 6, 7, 8, 9])"
            ]
          },
          "execution_count": 83,
          "metadata": {},
          "output_type": "execute_result"
        }
      ],
      "source": [
        "arr = np.arange(10)\n",
        "arr"
      ]
    },
    {
      "cell_type": "code",
      "execution_count": null,
      "metadata": {
        "id": "sR9AmD9eHz4L",
        "outputId": "ce5b4e43-b842-4d8e-80fa-172448751e7a"
      },
      "outputs": [
        {
          "data": {
            "text/plain": [
              "array([2, 3, 4, 5, 6, 7, 8, 9])"
            ]
          },
          "execution_count": 84,
          "metadata": {},
          "output_type": "execute_result"
        }
      ],
      "source": [
        "arr[2:]"
      ]
    },
    {
      "cell_type": "code",
      "execution_count": null,
      "metadata": {
        "id": "ITfWYY5pHz4L",
        "outputId": "7ab53ba5-fd80-48b6-ad49-9db888f19180"
      },
      "outputs": [
        {
          "data": {
            "text/plain": [
              "array([], dtype=int32)"
            ]
          },
          "execution_count": 85,
          "metadata": {},
          "output_type": "execute_result"
        }
      ],
      "source": [
        "arr[10:]"
      ]
    },
    {
      "cell_type": "code",
      "execution_count": null,
      "metadata": {
        "id": "-ZL_v7TeHz4M",
        "outputId": "ff0a224b-e584-49bb-c061-704bce2ff35d"
      },
      "outputs": [
        {
          "data": {
            "text/plain": [
              "array([5, 6, 7])"
            ]
          },
          "execution_count": 86,
          "metadata": {},
          "output_type": "execute_result"
        }
      ],
      "source": [
        "arr[5:8]"
      ]
    },
    {
      "cell_type": "code",
      "execution_count": null,
      "metadata": {
        "id": "L7xpIKbPHz4M",
        "outputId": "37af44e7-3171-4f0d-d10d-fbe1df50237e"
      },
      "outputs": [
        {
          "data": {
            "text/plain": [
              "array([0, 1, 2, 3, 4])"
            ]
          },
          "execution_count": 87,
          "metadata": {},
          "output_type": "execute_result"
        }
      ],
      "source": [
        "arr[ : -5 ]"
      ]
    },
    {
      "cell_type": "code",
      "execution_count": null,
      "metadata": {
        "id": "mIKP5G3gHz4N",
        "outputId": "c5155f16-d30c-4cbf-b4f9-7add130b9b83"
      },
      "outputs": [
        {
          "data": {
            "text/plain": [
              "array([6, 7, 8, 9])"
            ]
          },
          "execution_count": 88,
          "metadata": {},
          "output_type": "execute_result"
        }
      ],
      "source": [
        "arr[ -4 :  ]"
      ]
    },
    {
      "cell_type": "code",
      "execution_count": null,
      "metadata": {
        "id": "JUuiiOxlHz4N",
        "outputId": "ae4aea41-ec1c-4344-a675-c90be67d15b1"
      },
      "outputs": [
        {
          "data": {
            "text/plain": [
              "array([1, 2, 3, 4, 5])"
            ]
          },
          "execution_count": 89,
          "metadata": {},
          "output_type": "execute_result"
        }
      ],
      "source": [
        "arr[ 1 : -4 ]"
      ]
    },
    {
      "cell_type": "code",
      "execution_count": null,
      "metadata": {
        "id": "rap6qVMvHz4O",
        "outputId": "47ff9eba-a5da-437e-dab1-040cb71e08be"
      },
      "outputs": [
        {
          "name": "stdout",
          "output_type": "stream",
          "text": [
            "[[11 22 33]\n",
            " [44 55 66]\n",
            " [77 88 99]]\n",
            "\n",
            "[[11 22]\n",
            " [44 55]\n",
            " [77 88]]\n",
            "\n",
            "[33 66 99]\n"
          ]
        }
      ],
      "source": [
        "# Very Important for ML\n",
        "\n",
        "arr = np.array([ [11,22,33],[44,55,66],[77,88,99] ])\n",
        "print(arr)\n",
        "print()\n",
        "\n",
        "X = arr[ : , :-1 ]\n",
        "print(X)\n",
        "print()\n",
        "\n",
        "y = arr[ : , -1 ]\n",
        "print(y)"
      ]
    },
    {
      "cell_type": "markdown",
      "metadata": {
        "id": "uIkESjqlHz4O"
      },
      "source": [
        "Boolean Indexing"
      ]
    },
    {
      "cell_type": "code",
      "execution_count": null,
      "metadata": {
        "id": "h2h9QDgKHz4P",
        "outputId": "0ccd0fb2-3e30-450c-a771-847c70ddb3d2"
      },
      "outputs": [
        {
          "data": {
            "text/plain": [
              "array(['delhi', 'bangalore', 'mumbai', 'chennai', 'bhopal'], dtype='<U9')"
            ]
          },
          "execution_count": 95,
          "metadata": {},
          "output_type": "execute_result"
        }
      ],
      "source": [
        "cities = np.array([\"delhi\",\"bangalore\",\"mumbai\",\"chennai\",\"bhopal\"])\n",
        "cities"
      ]
    },
    {
      "cell_type": "code",
      "execution_count": null,
      "metadata": {
        "id": "zvddV1T6Hz4P",
        "outputId": "3c35aa21-c091-490c-cc61-68138224bb6d"
      },
      "outputs": [
        {
          "data": {
            "text/plain": [
              "array([[-1.15625278, -0.28316719,  0.13611797],\n",
              "       [ 0.53559666, -1.13366576, -1.05822537],\n",
              "       [-0.73799442,  0.92533717,  1.54812752],\n",
              "       [-1.7883214 , -1.53803203, -0.63181484],\n",
              "       [-0.01126725,  0.99005564,  0.02134642]])"
            ]
          },
          "execution_count": 96,
          "metadata": {},
          "output_type": "execute_result"
        }
      ],
      "source": [
        "city_data = np.random.randn(5,3)\n",
        "city_data"
      ]
    },
    {
      "cell_type": "code",
      "execution_count": null,
      "metadata": {
        "id": "jHYJV_pUHz4Q",
        "outputId": "9fa717d5-af6c-4ef6-c9c2-5cfc0c78852d"
      },
      "outputs": [
        {
          "data": {
            "text/plain": [
              "array([False, False,  True, False, False])"
            ]
          },
          "execution_count": 97,
          "metadata": {},
          "output_type": "execute_result"
        }
      ],
      "source": [
        "cities == \"mumbai\""
      ]
    },
    {
      "cell_type": "code",
      "execution_count": null,
      "metadata": {
        "id": "s9M1Vj16Hz4Q",
        "outputId": "995889f6-3f16-425e-b441-0a625240dd19"
      },
      "outputs": [
        {
          "data": {
            "text/plain": [
              "array([[-0.73799442,  0.92533717,  1.54812752]])"
            ]
          },
          "execution_count": 98,
          "metadata": {},
          "output_type": "execute_result"
        }
      ],
      "source": [
        "city_data[cities == \"mumbai\"]"
      ]
    },
    {
      "cell_type": "code",
      "execution_count": null,
      "metadata": {
        "id": "cHy339uSHz4R",
        "outputId": "0193ea3d-6b55-48d1-b5be-46b3510ed698"
      },
      "outputs": [
        {
          "data": {
            "text/plain": [
              "array([], shape=(0, 3), dtype=float64)"
            ]
          },
          "execution_count": 99,
          "metadata": {},
          "output_type": "execute_result"
        }
      ],
      "source": [
        "city_data[cities == \"mumbra\"]"
      ]
    },
    {
      "cell_type": "code",
      "execution_count": null,
      "metadata": {
        "id": "NptjMYADHz4R",
        "outputId": "a26212bc-7bd9-4bdc-d57f-cdc7ee796cb5"
      },
      "outputs": [
        {
          "data": {
            "text/plain": [
              "array([[-1.15625278, -0.28316719,  0.13611797],\n",
              "       [ 0.53559666, -1.13366576, -1.05822537],\n",
              "       [-0.73799442,  0.92533717,  1.54812752],\n",
              "       [-1.7883214 , -1.53803203, -0.63181484],\n",
              "       [-0.01126725,  0.99005564,  0.02134642]])"
            ]
          },
          "execution_count": 100,
          "metadata": {},
          "output_type": "execute_result"
        }
      ],
      "source": [
        "city_data"
      ]
    },
    {
      "cell_type": "code",
      "execution_count": null,
      "metadata": {
        "id": "ewMFWzQwHz4S",
        "outputId": "ff3471dd-02f1-4723-838c-c71adb93eb35"
      },
      "outputs": [
        {
          "data": {
            "text/plain": [
              "array([[False, False,  True],\n",
              "       [ True, False, False],\n",
              "       [False,  True,  True],\n",
              "       [False, False, False],\n",
              "       [False,  True,  True]])"
            ]
          },
          "execution_count": 101,
          "metadata": {},
          "output_type": "execute_result"
        }
      ],
      "source": [
        "city_data > 0"
      ]
    },
    {
      "cell_type": "code",
      "execution_count": null,
      "metadata": {
        "id": "-MsD1FoMHz4S",
        "outputId": "4b77f848-9c91-4eeb-cc48-80171e8e5469"
      },
      "outputs": [
        {
          "data": {
            "text/plain": [
              "array([0.13611797, 0.53559666, 0.92533717, 1.54812752, 0.99005564,\n",
              "       0.02134642])"
            ]
          },
          "execution_count": 102,
          "metadata": {},
          "output_type": "execute_result"
        }
      ],
      "source": [
        "city_data[ city_data > 0 ]"
      ]
    },
    {
      "cell_type": "code",
      "execution_count": null,
      "metadata": {
        "id": "bYuI4IASHz4T",
        "outputId": "d0585d87-9152-4e00-8bae-c73d6b1927a3"
      },
      "outputs": [
        {
          "data": {
            "text/plain": [
              "array([[-1.15625278, -0.28316719,  0.13611797],\n",
              "       [ 0.53559666, -1.13366576, -1.05822537],\n",
              "       [-0.73799442,  0.92533717,  1.54812752],\n",
              "       [-1.7883214 , -1.53803203, -0.63181484],\n",
              "       [-0.01126725,  0.99005564,  0.02134642]])"
            ]
          },
          "execution_count": 103,
          "metadata": {},
          "output_type": "execute_result"
        }
      ],
      "source": [
        "city_data"
      ]
    },
    {
      "cell_type": "code",
      "execution_count": null,
      "metadata": {
        "id": "DnN2h7n5Hz4T"
      },
      "outputs": [],
      "source": [
        "city_data[ city_data > 0 ] = 0"
      ]
    },
    {
      "cell_type": "code",
      "execution_count": null,
      "metadata": {
        "id": "2nEktOHdHz4T",
        "outputId": "2a3d400b-7605-424d-db70-e70845bcb84e"
      },
      "outputs": [
        {
          "data": {
            "text/plain": [
              "array([[-1.15625278, -0.28316719,  0.        ],\n",
              "       [ 0.        , -1.13366576, -1.05822537],\n",
              "       [-0.73799442,  0.        ,  0.        ],\n",
              "       [-1.7883214 , -1.53803203, -0.63181484],\n",
              "       [-0.01126725,  0.        ,  0.        ]])"
            ]
          },
          "execution_count": 106,
          "metadata": {},
          "output_type": "execute_result"
        }
      ],
      "source": [
        "city_data"
      ]
    },
    {
      "cell_type": "code",
      "execution_count": null,
      "metadata": {
        "id": "mm-y8NpyHz4U",
        "outputId": "89e98ddf-bd97-45d7-d9a1-07bea84a142f"
      },
      "outputs": [
        {
          "data": {
            "text/plain": [
              "array([[9999., 9999.,    0.],\n",
              "       [   0., 9999., 9999.],\n",
              "       [9999.,    0.,    0.],\n",
              "       [9999., 9999., 9999.],\n",
              "       [9999.,    0.,    0.]])"
            ]
          },
          "execution_count": 107,
          "metadata": {},
          "output_type": "execute_result"
        }
      ],
      "source": [
        "city_data[ city_data < 0 ] = 9999\n",
        "city_data"
      ]
    },
    {
      "cell_type": "markdown",
      "metadata": {
        "id": "-e3FyrC1Hz4U"
      },
      "source": [
        "Ufuns\n",
        "\n",
        "Universal Functions"
      ]
    },
    {
      "cell_type": "code",
      "execution_count": null,
      "metadata": {
        "id": "i22MBYACHz4V",
        "outputId": "a4b07ae0-e84c-4848-a0f9-89b01ddf8a4f"
      },
      "outputs": [
        {
          "data": {
            "text/plain": [
              "array([[ 0,  1,  2,  3,  4],\n",
              "       [ 5,  6,  7,  8,  9],\n",
              "       [10, 11, 12, 13, 14]])"
            ]
          },
          "execution_count": 109,
          "metadata": {},
          "output_type": "execute_result"
        }
      ],
      "source": [
        "arr = np.arange(15).reshape(3,5)\n",
        "arr"
      ]
    },
    {
      "cell_type": "code",
      "execution_count": null,
      "metadata": {
        "id": "ngueHEf4Hz4V",
        "outputId": "6d4e707e-3134-4e17-a9ba-154273379c7a"
      },
      "outputs": [
        {
          "data": {
            "text/plain": [
              "array([[ 5,  6,  7,  8,  9],\n",
              "       [10, 11, 12, 13, 14],\n",
              "       [15, 16, 17, 18, 19]])"
            ]
          },
          "execution_count": 110,
          "metadata": {},
          "output_type": "execute_result"
        }
      ],
      "source": [
        "arr + 5\n",
        "# Broadcasting"
      ]
    },
    {
      "cell_type": "code",
      "execution_count": null,
      "metadata": {
        "id": "T6noBB04Hz4W",
        "outputId": "a4d3d50f-4a07-40ae-831e-40b191dddeb9"
      },
      "outputs": [
        {
          "data": {
            "text/plain": [
              "array([[ 0,  2,  4,  6,  8],\n",
              "       [10, 12, 14, 16, 18],\n",
              "       [20, 22, 24, 26, 28]])"
            ]
          },
          "execution_count": 111,
          "metadata": {},
          "output_type": "execute_result"
        }
      ],
      "source": [
        "arr * 2"
      ]
    },
    {
      "cell_type": "code",
      "execution_count": null,
      "metadata": {
        "id": "OXFib-MRHz4W",
        "outputId": "322d3962-7b05-4eaf-ceba-702cb81439df"
      },
      "outputs": [
        {
          "data": {
            "text/plain": [
              "array([[ 0,  1,  2],\n",
              "       [ 4,  5,  6],\n",
              "       [ 8,  9, 10],\n",
              "       [12, 13, 14],\n",
              "       [16, 17, 18]])"
            ]
          },
          "execution_count": 112,
          "metadata": {},
          "output_type": "execute_result"
        }
      ],
      "source": [
        "arr1 = np.arange(15).reshape(5,3)\n",
        "\n",
        "arr2 = np.arange(5).reshape(5,1)\n",
        "\n",
        "arr2 + arr1"
      ]
    },
    {
      "cell_type": "code",
      "execution_count": null,
      "metadata": {
        "id": "ekxyiSkDHz4X",
        "outputId": "a82ec8ec-fda4-4e56-bf96-357acd93fac3"
      },
      "outputs": [
        {
          "name": "stdout",
          "output_type": "stream",
          "text": [
            "[[1 2 3]\n",
            " [4 5 6]\n",
            " [7 8 9]]\n",
            "\n",
            "[[1 2 3]\n",
            " [4 5 6]\n",
            " [3 6 1]]\n",
            "\n"
          ]
        },
        {
          "data": {
            "text/plain": [
              "array([[ 18,  30,  18],\n",
              "       [ 42,  69,  48],\n",
              "       [ 66, 108,  78]])"
            ]
          },
          "execution_count": 114,
          "metadata": {},
          "output_type": "execute_result"
        }
      ],
      "source": [
        "#  Mat Mult\n",
        "\n",
        "A = np.array([ [1,2,3],[4,5,6],[7,8,9] ])\n",
        "B = np.array([ [1,2,3],[4,5,6],[3,6,1] ])\n",
        "print(A)\n",
        "print()\n",
        "print(B)\n",
        "print()\n",
        "\n",
        "A.dot(B) # simple array multiplication"
      ]
    },
    {
      "cell_type": "code",
      "execution_count": null,
      "metadata": {
        "id": "ysY6LSgeHz4Y",
        "outputId": "8c71ebca-0ccb-4f9a-950b-0e68fcf0c3c2"
      },
      "outputs": [
        {
          "name": "stdout",
          "output_type": "stream",
          "text": [
            "[[ 0  1  2  3  4]\n",
            " [ 5  6  7  8  9]\n",
            " [10 11 12 13 14]]\n",
            "\n"
          ]
        },
        {
          "data": {
            "text/plain": [
              "array([[ 0,  5, 10],\n",
              "       [ 1,  6, 11],\n",
              "       [ 2,  7, 12],\n",
              "       [ 3,  8, 13],\n",
              "       [ 4,  9, 14]])"
            ]
          },
          "execution_count": 115,
          "metadata": {},
          "output_type": "execute_result"
        }
      ],
      "source": [
        "#  Transpose\n",
        "\n",
        "A = np.arange(15).reshape(3,5)\n",
        "print(A)\n",
        "print()\n",
        "\n",
        "A.T"
      ]
    },
    {
      "cell_type": "raw",
      "metadata": {
        "id": "02FQF3d2Hz4Y"
      },
      "source": [
        "Linear Algebra\n",
        "\n",
        "7x + 5y - 3z = 16\n",
        "3x - 5y + 2z = -8\n",
        "5x + 3y - 7z = 0"
      ]
    },
    {
      "cell_type": "code",
      "execution_count": null,
      "metadata": {
        "id": "IioYTjR3Hz4Z",
        "outputId": "cfeb59b0-a706-418a-db35-59028988ad2c"
      },
      "outputs": [
        {
          "data": {
            "text/plain": [
              "array([1., 3., 2.])"
            ]
          },
          "execution_count": 117,
          "metadata": {},
          "output_type": "execute_result"
        }
      ],
      "source": [
        "a = np.array([ [7,5,-3],[3,-5,2],[5,3,-7] ])\n",
        "b = np.array([16,-8,0])\n",
        "\n",
        "np.linalg.solve(a,b)"
      ]
    },
    {
      "cell_type": "code",
      "execution_count": null,
      "metadata": {
        "id": "t9cA15c6Hz4Z",
        "outputId": "19f596be-6da3-4db8-86a3-bea1501e7827"
      },
      "outputs": [
        {
          "name": "stdout",
          "output_type": "stream",
          "text": [
            "[[ 7  5 -3]\n",
            " [ 3 -5  2]\n",
            " [ 5  3 -7]]\n"
          ]
        },
        {
          "data": {
            "text/plain": [
              "array([[ 0.11328125,  0.1015625 , -0.01953125],\n",
              "       [ 0.12109375, -0.1328125 , -0.08984375],\n",
              "       [ 0.1328125 ,  0.015625  , -0.1953125 ]])"
            ]
          },
          "execution_count": 118,
          "metadata": {},
          "output_type": "execute_result"
        }
      ],
      "source": [
        "a = np.array([ [7,5,-3],[3,-5,2],[5,3,-7] ])\n",
        "print(a)\n",
        "\n",
        "np.linalg.inv(a)"
      ]
    },
    {
      "cell_type": "code",
      "execution_count": null,
      "metadata": {
        "id": "7DuZ08FiHz4a",
        "outputId": "353d3833-2cbd-4e79-e6d9-c9315f75e56e"
      },
      "outputs": [
        {
          "name": "stdout",
          "output_type": "stream",
          "text": [
            "[[ 7  5 -3]\n",
            " [ 3 -5  2]\n",
            " [ 5  3 -7]]\n"
          ]
        },
        {
          "data": {
            "text/plain": [
              "255.99999999999994"
            ]
          },
          "execution_count": 119,
          "metadata": {},
          "output_type": "execute_result"
        }
      ],
      "source": [
        "a = np.array([ [7,5,-3],[3,-5,2],[5,3,-7] ])\n",
        "print(a)\n",
        "\n",
        "np.linalg.det(a)"
      ]
    },
    {
      "cell_type": "code",
      "execution_count": null,
      "metadata": {
        "id": "MFRmCMlOHz4b",
        "outputId": "3063107f-d086-49d5-ac95-1b719f7b37ba"
      },
      "outputs": [
        {
          "data": {
            "text/plain": [
              "array([5, 6, 7])"
            ]
          },
          "execution_count": 120,
          "metadata": {},
          "output_type": "execute_result"
        }
      ],
      "source": [
        "# Broadcasting\n",
        "\n",
        "a = np.array([0,1,2])\n",
        "b = np.array([5,5,5])\n",
        "a+b"
      ]
    },
    {
      "cell_type": "code",
      "execution_count": null,
      "metadata": {
        "id": "Rl2uzYDpHz4b",
        "outputId": "894cb7df-e60b-4ae8-b6f5-ef83a34b61c4"
      },
      "outputs": [
        {
          "data": {
            "text/plain": [
              "array([7, 8, 9])"
            ]
          },
          "execution_count": 122,
          "metadata": {},
          "output_type": "execute_result"
        }
      ],
      "source": [
        "a+7"
      ]
    },
    {
      "cell_type": "code",
      "execution_count": null,
      "metadata": {
        "id": "Nk9La1UXHz4c",
        "outputId": "fae766ab-a218-427c-b546-a759a77c272f"
      },
      "outputs": [
        {
          "name": "stdout",
          "output_type": "stream",
          "text": [
            "[0 1 2]\n",
            "(3,)\n",
            "\n",
            "[[0]\n",
            " [1]\n",
            " [2]]\n",
            "(3, 1)\n"
          ]
        }
      ],
      "source": [
        "# IMP for ML\n",
        "a = np.arange(3)\n",
        "b = np.arange(3)[ : , np.newaxis ]\n",
        "\n",
        "print(a)\n",
        "print(a.shape)\n",
        "\n",
        "print()\n",
        "print(b)\n",
        "print(b.shape)"
      ]
    },
    {
      "cell_type": "code",
      "execution_count": null,
      "metadata": {
        "id": "L98J6qVQHz4d",
        "outputId": "8ac69966-2662-4cf0-cda3-3b75053a7510"
      },
      "outputs": [
        {
          "name": "stdout",
          "output_type": "stream",
          "text": [
            "[0 1 2]\n",
            "(3,)\n",
            "\n",
            "[[0]\n",
            " [1]\n",
            " [2]]\n",
            "(3, 1)\n"
          ]
        }
      ],
      "source": [
        "# IMP for ML\n",
        "a = np.arange(3)\n",
        "b = np.arange(3).reshape(-1,1)\n",
        "\n",
        "print(a)\n",
        "print(a.shape)\n",
        "\n",
        "print()\n",
        "print(b)\n",
        "print(b.shape)"
      ]
    },
    {
      "cell_type": "code",
      "execution_count": null,
      "metadata": {
        "id": "w4v76ghIHz4d"
      },
      "outputs": [],
      "source": [
        "# Structured Arrays\n",
        "\n",
        "name = ['Alice','Bob','Cathy','Douglas']\n",
        "age = [25,45,37,19]\n",
        "weight = [55.0,85.5,68.0,61.5]"
      ]
    },
    {
      "cell_type": "code",
      "execution_count": null,
      "metadata": {
        "id": "6RZyt4hhHz4e",
        "outputId": "0edff846-46e4-4789-b33c-b753d86ec4e5"
      },
      "outputs": [
        {
          "name": "stdout",
          "output_type": "stream",
          "text": [
            "[('', 0, 0.) ('', 0, 0.) ('', 0, 0.) ('', 0, 0.)]\n",
            "[('name', '<U10'), ('age', '<i4'), ('weight', '<f8')]\n"
          ]
        }
      ],
      "source": [
        "data = np.zeros(4, dtype={ 'names' : ('name','age','weight'),\n",
        "                            'formats':('U10','i4','f8')})\n",
        "print(data)\n",
        "print(data.dtype)"
      ]
    },
    {
      "cell_type": "code",
      "execution_count": null,
      "metadata": {
        "id": "XhVXe11vHz4e",
        "outputId": "1c69fe65-6ec6-4a1a-c76b-834d4265efd3"
      },
      "outputs": [
        {
          "name": "stdout",
          "output_type": "stream",
          "text": [
            "[('Alice', 25, 55. ) ('Bob', 45, 85.5) ('Cathy', 37, 68. )\n",
            " ('Douglas', 19, 61.5)]\n"
          ]
        }
      ],
      "source": [
        "data['name'] = name\n",
        "data['age'] = age\n",
        "data['weight'] = weight\n",
        "\n",
        "print(data)"
      ]
    },
    {
      "cell_type": "code",
      "execution_count": null,
      "metadata": {
        "id": "xwglZl77Hz4f",
        "outputId": "8b81d2d0-64f6-4a78-c948-68e993c77bc2"
      },
      "outputs": [
        {
          "data": {
            "text/plain": [
              "array(['Alice', 'Bob', 'Cathy', 'Douglas'], dtype='<U10')"
            ]
          },
          "execution_count": 135,
          "metadata": {},
          "output_type": "execute_result"
        }
      ],
      "source": [
        "data['name']"
      ]
    },
    {
      "cell_type": "code",
      "execution_count": null,
      "metadata": {
        "id": "9eKCA_BcHz4g",
        "outputId": "385e0a5f-e220-4307-d714-002d6110bfe7"
      },
      "outputs": [
        {
          "data": {
            "text/plain": [
              "('Alice', 25, 55.)"
            ]
          },
          "execution_count": 136,
          "metadata": {},
          "output_type": "execute_result"
        }
      ],
      "source": [
        "data[0]"
      ]
    },
    {
      "cell_type": "code",
      "execution_count": null,
      "metadata": {
        "id": "ZG2qBALaHz4g",
        "outputId": "e6642865-42af-4cf8-be4d-0b8cdb001584"
      },
      "outputs": [
        {
          "data": {
            "text/plain": [
              "'Douglas'"
            ]
          },
          "execution_count": 138,
          "metadata": {},
          "output_type": "execute_result"
        }
      ],
      "source": [
        "# Get the name from the last row\n",
        "data[-1]['name']"
      ]
    },
    {
      "cell_type": "code",
      "execution_count": null,
      "metadata": {
        "id": "NrgLclVLHz4g",
        "outputId": "b6b283c8-6c40-4d92-fdc5-aa71f56e17ad"
      },
      "outputs": [
        {
          "data": {
            "text/plain": [
              "array(['Alice', 'Douglas'], dtype='<U10')"
            ]
          },
          "execution_count": 143,
          "metadata": {},
          "output_type": "execute_result"
        }
      ],
      "source": [
        "# Get names where the age is under 30\n",
        "data[data['age'] < 30]['name']"
      ]
    },
    {
      "cell_type": "code",
      "execution_count": null,
      "metadata": {
        "id": "0o7ohJn8Hz4h",
        "outputId": "074bb23a-2df2-461b-f6d8-2e0500d95407"
      },
      "outputs": [
        {
          "data": {
            "text/plain": [
              "array([('Bob', 45), ('Cathy', 37)],\n",
              "      dtype={'names':['name','age'], 'formats':['<U10','<i4'], 'offsets':[0,40], 'itemsize':52})"
            ]
          },
          "execution_count": 147,
          "metadata": {},
          "output_type": "execute_result"
        }
      ],
      "source": [
        "# get the names and ages where weight is greater than 65\n",
        "data[data['weight'] > 65][['name','age']]"
      ]
    }
  ],
  "metadata": {
    "kernelspec": {
      "display_name": "Python 3",
      "language": "python",
      "name": "python3"
    },
    "language_info": {
      "codemirror_mode": {
        "name": "ipython",
        "version": 3
      },
      "file_extension": ".py",
      "mimetype": "text/x-python",
      "name": "python",
      "nbconvert_exporter": "python",
      "pygments_lexer": "ipython3",
      "version": "3.8.3"
    },
    "colab": {
      "name": "Numpy Aug03.ipynb",
      "provenance": [],
      "include_colab_link": true
    }
  },
  "nbformat": 4,
  "nbformat_minor": 0
}