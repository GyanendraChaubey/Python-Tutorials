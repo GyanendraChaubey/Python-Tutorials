{
  "nbformat": 4,
  "nbformat_minor": 0,
  "metadata": {
    "colab": {
      "name": "Session 10 HCL.ipynb",
      "provenance": [],
      "authorship_tag": "ABX9TyO6fhNy2lNFwm6wu03joBDt",
      "include_colab_link": true
    },
    "kernelspec": {
      "name": "python3",
      "display_name": "Python 3"
    },
    "language_info": {
      "name": "python"
    }
  },
  "cells": [
    {
      "cell_type": "markdown",
      "metadata": {
        "id": "view-in-github",
        "colab_type": "text"
      },
      "source": [
        "<a href=\"https://colab.research.google.com/github/GyanendraChaubey/Python-Tutorials/blob/main/Session_10_HCL.ipynb\" target=\"_parent\"><img src=\"https://colab.research.google.com/assets/colab-badge.svg\" alt=\"Open In Colab\"/></a>"
      ]
    },
    {
      "cell_type": "markdown",
      "metadata": {
        "id": "QKx3xSw6V7W-"
      },
      "source": [
        "Abstraction"
      ]
    },
    {
      "cell_type": "code",
      "metadata": {
        "id": "e625UNXd0uzu"
      },
      "source": [
        "from abc import ABC\n",
        "class Car(ABC):\n",
        "  def milage(self):\n",
        "    pass\n",
        "class Tesla(Car):\n",
        "  def milage(self):\n",
        "    print(\"Milage is 20km/hr\")"
      ],
      "execution_count": null,
      "outputs": []
    },
    {
      "cell_type": "code",
      "metadata": {
        "id": "l0osqzjNvy3j"
      },
      "source": [
        "t1=Tesla()"
      ],
      "execution_count": null,
      "outputs": []
    },
    {
      "cell_type": "code",
      "metadata": {
        "id": "QPLTtz6AXzRV"
      },
      "source": [
        "c1=Car()"
      ],
      "execution_count": null,
      "outputs": []
    },
    {
      "cell_type": "code",
      "metadata": {
        "id": "a5lU2XWZX43z"
      },
      "source": [
        "c1.milage()"
      ],
      "execution_count": null,
      "outputs": []
    },
    {
      "cell_type": "code",
      "metadata": {
        "id": "vRiG55nD0eSq",
        "colab": {
          "base_uri": "https://localhost:8080/"
        },
        "outputId": "9c694893-2483-43db-f94a-bcfe1f7a0374"
      },
      "source": [
        "t1.milage()"
      ],
      "execution_count": null,
      "outputs": [
        {
          "output_type": "stream",
          "text": [
            "Milage is 20km/hr\n"
          ],
          "name": "stdout"
        }
      ]
    },
    {
      "cell_type": "code",
      "metadata": {
        "id": "FDicaBvw0xNr",
        "colab": {
          "base_uri": "https://localhost:8080/"
        },
        "outputId": "369ca9e0-c7cc-46f9-fa1b-6f62d30a62d7"
      },
      "source": [
        "from abc import ABC, abstractclassmethod\n",
        "class Polygon(ABC):\n",
        "  @abstractclassmethod\n",
        "  def sides(self):\n",
        "    pass\n",
        "class Triangle(Polygon):\n",
        "  def sides(self):\n",
        "    print(\"Three sides\")\n",
        "class Quadrilateral(Polygon):\n",
        "  def sides(self):\n",
        "    print(\"Four sides\")\n",
        "class Pentagon(Polygon):\n",
        "  def sides(self):\n",
        "    print(\"Five sides\")\n",
        "\n",
        "t=Triangle()\n",
        "t.sides()\n",
        "q=Quadrilateral()\n",
        "q.sides()\n",
        "p=Pentagon()\n",
        "p.sides()\n"
      ],
      "execution_count": null,
      "outputs": [
        {
          "output_type": "stream",
          "text": [
            "Three sides\n",
            "Four sides\n",
            "Five sides\n"
          ],
          "name": "stdout"
        }
      ]
    },
    {
      "cell_type": "code",
      "metadata": {
        "colab": {
          "base_uri": "https://localhost:8080/"
        },
        "id": "7DaPw-EkYtVr",
        "outputId": "0616254f-a50b-437b-84f4-61c2103cf9f6"
      },
      "source": [
        "import abc\n",
        "class parent:\n",
        "  name=\"Gyanendra\"\n",
        "  def test(self):\n",
        "    pass\n",
        "class child(parent):\n",
        "  def test(self):\n",
        "    print(\"child Class\")\n",
        "\n",
        "print(issubclass(child,parent))\n",
        "print(isinstance(child(),parent))"
      ],
      "execution_count": null,
      "outputs": [
        {
          "output_type": "stream",
          "text": [
            "True\n",
            "True\n"
          ],
          "name": "stdout"
        }
      ]
    },
    {
      "cell_type": "code",
      "metadata": {
        "colab": {
          "base_uri": "https://localhost:8080/",
          "height": 35
        },
        "id": "dW8sDOPsZWtJ",
        "outputId": "0c8fef95-799d-4407-93c7-e7126e5ef693"
      },
      "source": [
        "child.name"
      ],
      "execution_count": null,
      "outputs": [
        {
          "output_type": "execute_result",
          "data": {
            "application/vnd.google.colaboratory.intrinsic+json": {
              "type": "string"
            },
            "text/plain": [
              "'Gyanendra'"
            ]
          },
          "metadata": {
            "tags": []
          },
          "execution_count": 10
        }
      ]
    },
    {
      "cell_type": "code",
      "metadata": {
        "colab": {
          "base_uri": "https://localhost:8080/"
        },
        "id": "xEXYKpDAZjl9",
        "outputId": "2b1b6646-8ffc-4d68-fa78-204d572ce7a8"
      },
      "source": [
        "class Ram(ABC):\n",
        "  def walk(self):\n",
        "    print(\"Ram Walks\")\n",
        "class Luv(Ram):\n",
        "  def walk(self):\n",
        "    super().walk()\n",
        "    print(\"This child class\")\n",
        "l=Luv()\n",
        "l.walk()"
      ],
      "execution_count": null,
      "outputs": [
        {
          "output_type": "stream",
          "text": [
            "Ram Walks\n",
            "This child class\n"
          ],
          "name": "stdout"
        }
      ]
    },
    {
      "cell_type": "markdown",
      "metadata": {
        "id": "IOdyqpmUcAXe"
      },
      "source": [
        "Encapsulation"
      ]
    },
    {
      "cell_type": "code",
      "metadata": {
        "colab": {
          "base_uri": "https://localhost:8080/"
        },
        "id": "maZi3b2OaR6U",
        "outputId": "74314c6b-19d0-44a2-ded6-4885455a2333"
      },
      "source": [
        "class Base:\n",
        "  name='Gyanendra'\n",
        "  def __init__(self):\n",
        "    #Protected members\n",
        "    self.a=2\n",
        "class Derived(Base):\n",
        "  def __init__(self):\n",
        "    Base.__init__(self)\n",
        "    print(\"Calling a protected member\")\n",
        "    print(self.a)\n",
        "d1=Derived()\n",
        "b1=Base()\n",
        "\n",
        "b1.a\n",
        "Derived().a\n"
      ],
      "execution_count": null,
      "outputs": [
        {
          "output_type": "stream",
          "text": [
            "Calling a protected member\n",
            "2\n"
          ],
          "name": "stdout"
        },
        {
          "output_type": "execute_result",
          "data": {
            "text/plain": [
              "2"
            ]
          },
          "metadata": {
            "tags": []
          },
          "execution_count": 17
        }
      ]
    },
    {
      "cell_type": "markdown",
      "metadata": {
        "id": "fK_gurR1fZ1q"
      },
      "source": [
        "Inheritence"
      ]
    },
    {
      "cell_type": "code",
      "metadata": {
        "colab": {
          "base_uri": "https://localhost:8080/"
        },
        "id": "y3fhXzJydpUl",
        "outputId": "bd36f28f-c7ce-4b04-cc8c-2d0e958fb893"
      },
      "source": [
        "class Person:\n",
        "  def __init__(self,fname,lname):\n",
        "    self.fname=fname\n",
        "    self.lname=lname\n",
        "  def printname(self):\n",
        "    print(self.fname,self.lname)\n",
        "class Student(Person):\n",
        "  pass\n",
        "\n",
        "s1=Student(\"Mrunal\",\"Dwivedi\")\n",
        "s1.printname()"
      ],
      "execution_count": null,
      "outputs": [
        {
          "output_type": "stream",
          "text": [
            "Mrunal Dwivedi\n"
          ],
          "name": "stdout"
        }
      ]
    },
    {
      "cell_type": "code",
      "metadata": {
        "colab": {
          "base_uri": "https://localhost:8080/"
        },
        "id": "EOKApVrBgIM3",
        "outputId": "dc97e1a1-484d-4d78-b172-ab8414b83c2f"
      },
      "source": [
        "class Person:\n",
        "  def __init__(self,fname,lname):\n",
        "    self.fname=fname\n",
        "    self.lname=lname\n",
        "  def printname(self):\n",
        "    print(self.fname,self.lname)\n",
        "class Student(Person):\n",
        "  def __init__(self,fname,lname):\n",
        "    Person.__init__(self,fname,lname)\n",
        "    Person.printname(self)\n",
        "\n",
        "s2=Student(\"Vikash\",\"Singh\")"
      ],
      "execution_count": null,
      "outputs": [
        {
          "output_type": "stream",
          "text": [
            "Vikash Singh\n"
          ],
          "name": "stdout"
        }
      ]
    },
    {
      "cell_type": "markdown",
      "metadata": {
        "id": "-VuYGbAXhbL6"
      },
      "source": [
        "Polymorphism"
      ]
    },
    {
      "cell_type": "code",
      "metadata": {
        "colab": {
          "base_uri": "https://localhost:8080/"
        },
        "id": "rQvMxx5ag5CN",
        "outputId": "b7c869ed-f645-422a-ae21-8dbe4b81b088"
      },
      "source": [
        "a=6\n",
        "b=5\n",
        "print(a+b)"
      ],
      "execution_count": null,
      "outputs": [
        {
          "output_type": "stream",
          "text": [
            "11\n"
          ],
          "name": "stdout"
        }
      ]
    },
    {
      "cell_type": "code",
      "metadata": {
        "colab": {
          "base_uri": "https://localhost:8080/"
        },
        "id": "rSQPJ0_shpkE",
        "outputId": "5a4d7043-4fb1-4dd2-c463-0740ca6f7760"
      },
      "source": [
        "s=\"hello\"\n",
        "t=\"there\"\n",
        "print(s+t)"
      ],
      "execution_count": null,
      "outputs": [
        {
          "output_type": "stream",
          "text": [
            "hellothere\n"
          ],
          "name": "stdout"
        }
      ]
    },
    {
      "cell_type": "code",
      "metadata": {
        "colab": {
          "base_uri": "https://localhost:8080/"
        },
        "id": "ClzFIlTLhu2n",
        "outputId": "55d7d136-f8c3-4beb-dcd2-77e109303dc2"
      },
      "source": [
        "print(len(\"hello\"))\n",
        "print(len(['1,2,3,4']))\n",
        "print(len({\"Name\":\"Gyanendra\",\"Age\":23}))"
      ],
      "execution_count": null,
      "outputs": [
        {
          "output_type": "stream",
          "text": [
            "5\n",
            "1\n",
            "2\n"
          ],
          "name": "stdout"
        }
      ]
    },
    {
      "cell_type": "code",
      "metadata": {
        "colab": {
          "base_uri": "https://localhost:8080/"
        },
        "id": "bF2P1EtqiRtp",
        "outputId": "670b013d-eacb-4078-9435-838d9c03a8bd"
      },
      "source": [
        "class Cat:\n",
        "  def __init__(self,name,age):\n",
        "    self.name=name\n",
        "    self.age=age\n",
        "  def info(self):\n",
        "    print(f\"I am cat. My name is {self.name}. I am {self.age} years old\")\n",
        "  def make_sound(self):\n",
        "    print(\"Meow\")\n",
        "class Dog:\n",
        "  def __init__(self,name,age):\n",
        "    self.name=name\n",
        "    self.age=age\n",
        "  def info(self):\n",
        "    print(f\"I am Dog. My name is {self.name}. I am {self.age} years old\")\n",
        "  def make_sound(self):\n",
        "    print(\"Bhobho\")\n",
        "\n",
        "c1=Cat(\"Kitty\",2.5)\n",
        "d1=Dog(\"Dopler\",4)\n",
        "\n",
        "\n",
        "for animal in (c1,d1):\n",
        "  animal.make_sound()\n",
        "\n",
        "c1.info()"
      ],
      "execution_count": null,
      "outputs": [
        {
          "output_type": "stream",
          "text": [
            "Meow\n",
            "Bhobho\n",
            "I am cat. My name is Kitty. I am 2.5 years old\n"
          ],
          "name": "stdout"
        }
      ]
    },
    {
      "cell_type": "code",
      "metadata": {
        "id": "ieH5fEmikfUP"
      },
      "source": [
        ""
      ],
      "execution_count": null,
      "outputs": []
    }
  ]
}