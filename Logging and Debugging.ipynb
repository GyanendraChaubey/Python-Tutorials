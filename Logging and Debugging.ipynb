{
 "cells": [
  {
   "cell_type": "code",
   "execution_count": 3,
   "id": "5d4dea71",
   "metadata": {},
   "outputs": [],
   "source": [
    "import logging as lg"
   ]
  },
  {
   "cell_type": "code",
   "execution_count": 4,
   "id": "acc1ea71",
   "metadata": {},
   "outputs": [],
   "source": [
    "import os"
   ]
  },
  {
   "cell_type": "code",
   "execution_count": 5,
   "id": "f4f964d8",
   "metadata": {},
   "outputs": [
    {
     "ename": "FileExistsError",
     "evalue": "[WinError 183] Cannot create a file when that file already exists: 'logging'",
     "output_type": "error",
     "traceback": [
      "\u001b[1;31m---------------------------------------------------------------------------\u001b[0m",
      "\u001b[1;31mFileExistsError\u001b[0m                           Traceback (most recent call last)",
      "\u001b[1;32m<ipython-input-5-9cfa7fb3f788>\u001b[0m in \u001b[0;36m<module>\u001b[1;34m\u001b[0m\n\u001b[1;32m----> 1\u001b[1;33m \u001b[0mos\u001b[0m\u001b[1;33m.\u001b[0m\u001b[0mmkdir\u001b[0m\u001b[1;33m(\u001b[0m\u001b[1;34m\"logging\"\u001b[0m\u001b[1;33m)\u001b[0m\u001b[1;33m\u001b[0m\u001b[1;33m\u001b[0m\u001b[0m\n\u001b[0m",
      "\u001b[1;31mFileExistsError\u001b[0m: [WinError 183] Cannot create a file when that file already exists: 'logging'"
     ]
    }
   ],
   "source": [
    "os.mkdir(\"logging\")"
   ]
  },
  {
   "cell_type": "code",
   "execution_count": 6,
   "id": "523c2552",
   "metadata": {},
   "outputs": [],
   "source": [
    "os.chdir(os.getcwd()+\"/\"+\"logging\")"
   ]
  },
  {
   "cell_type": "code",
   "execution_count": 7,
   "id": "bb73a501",
   "metadata": {},
   "outputs": [
    {
     "data": {
      "text/plain": [
       "'D:\\\\Machine Learning\\\\ineuron\\\\logging'"
      ]
     },
     "execution_count": 7,
     "metadata": {},
     "output_type": "execute_result"
    }
   ],
   "source": [
    "pwd()"
   ]
  },
  {
   "cell_type": "code",
   "execution_count": 8,
   "id": "4439057a",
   "metadata": {},
   "outputs": [],
   "source": [
    " lg.basicConfig(filename='test.log', level=lg.INFO, format='%(asctime)s %(message)s')"
   ]
  },
  {
   "cell_type": "code",
   "execution_count": 9,
   "id": "c6422f23",
   "metadata": {},
   "outputs": [],
   "source": [
    "lg.info(\"I am going to start my progress\")"
   ]
  },
  {
   "cell_type": "code",
   "execution_count": 15,
   "id": "cbd96b73",
   "metadata": {},
   "outputs": [],
   "source": [
    "lg.warning(\"This is my first warning of the program\")"
   ]
  },
  {
   "cell_type": "code",
   "execution_count": 14,
   "id": "aae3134f",
   "metadata": {},
   "outputs": [],
   "source": [
    "lg.error(\"this is msg error\")"
   ]
  },
  {
   "cell_type": "code",
   "execution_count": 12,
   "id": "5641ae14",
   "metadata": {},
   "outputs": [],
   "source": [
    " lg.basicConfig(filename='test.log', level=lg.ERROR, format='%(asctime)s %(message)s')"
   ]
  },
  {
   "cell_type": "code",
   "execution_count": 13,
   "id": "570b5437",
   "metadata": {},
   "outputs": [
    {
     "ename": "TypeError",
     "evalue": "can only concatenate str (not \"float\") to str",
     "output_type": "error",
     "traceback": [
      "\u001b[1;31m---------------------------------------------------------------------------\u001b[0m",
      "\u001b[1;31mTypeError\u001b[0m                                 Traceback (most recent call last)",
      "\u001b[1;32m<ipython-input-13-426495908fd4>\u001b[0m in \u001b[0;36m<module>\u001b[1;34m\u001b[0m\n\u001b[1;32m----> 1\u001b[1;33m \u001b[1;34m'ahsvvdhj'\u001b[0m\u001b[1;33m+\u001b[0m\u001b[1;36m75e2367\u001b[0m\u001b[1;33m\u001b[0m\u001b[1;33m\u001b[0m\u001b[0m\n\u001b[0m",
      "\u001b[1;31mTypeError\u001b[0m: can only concatenate str (not \"float\") to str"
     ]
    }
   ],
   "source": [
    "'ahsvvdhj'+75e2367\n"
   ]
  },
  {
   "cell_type": "code",
   "execution_count": 28,
   "id": "a79d6720",
   "metadata": {},
   "outputs": [],
   "source": [
    "def test(a,b):\n",
    "    try:\n",
    "        lg.info(str(a)+' '+str(b))\n",
    "        div=a/b\n",
    "        return div\n",
    "    except Exception as e:\n",
    "        print('You can check your log for more info once code will fail')\n",
    "        lg.error(\"Error has occured\")\n",
    "        lg.exception(str(e))"
   ]
  },
  {
   "cell_type": "code",
   "execution_count": 29,
   "id": "d506b47f",
   "metadata": {},
   "outputs": [
    {
     "name": "stdout",
     "output_type": "stream",
     "text": [
      "You can check your log for more info once code will fail\n"
     ]
    }
   ],
   "source": [
    "test(4,0)"
   ]
  },
  {
   "cell_type": "code",
   "execution_count": 7,
   "id": "a27b158e",
   "metadata": {},
   "outputs": [],
   "source": [
    "import logging\n",
    "logging.basicConfig(filename='D:\\\\Machine Learning\\\\ineuron\\\\logging\\\\test1.log',level=logging.INFO)\n",
    "def test(a,b):\n",
    "    logging.info(\"this is start of function\")\n",
    "    logging.info(str(a)+\" \"+str(b))\n",
    "    logging.info(str(a+b))\n",
    "    return a+b\n",
    "    "
   ]
  },
  {
   "cell_type": "code",
   "execution_count": 8,
   "id": "d6a2fd6a",
   "metadata": {},
   "outputs": [
    {
     "data": {
      "text/plain": [
       "11"
      ]
     },
     "execution_count": 8,
     "metadata": {},
     "output_type": "execute_result"
    }
   ],
   "source": [
    "test(5,6)"
   ]
  },
  {
   "cell_type": "code",
   "execution_count": 9,
   "id": "6e571552",
   "metadata": {},
   "outputs": [
    {
     "data": {
      "text/plain": [
       "9"
      ]
     },
     "execution_count": 9,
     "metadata": {},
     "output_type": "execute_result"
    }
   ],
   "source": [
    "test(4,5)"
   ]
  },
  {
   "cell_type": "code",
   "execution_count": 10,
   "id": "3d41ab51",
   "metadata": {},
   "outputs": [],
   "source": [
    "logging.shutdown()"
   ]
  },
  {
   "cell_type": "code",
   "execution_count": 13,
   "id": "57f3771d",
   "metadata": {},
   "outputs": [],
   "source": [
    "import logging\n",
    "logging.debug(\"This is debugging\")"
   ]
  },
  {
   "cell_type": "code",
   "execution_count": 14,
   "id": "79acdeb6",
   "metadata": {},
   "outputs": [],
   "source": [
    "logging.info(\"This is info\")"
   ]
  },
  {
   "cell_type": "code",
   "execution_count": 15,
   "id": "62cbe36a",
   "metadata": {},
   "outputs": [],
   "source": [
    "logging.warning(\"This is warning\")"
   ]
  },
  {
   "cell_type": "code",
   "execution_count": 16,
   "id": "215d5a81",
   "metadata": {},
   "outputs": [],
   "source": [
    "logging.error(\"This is error\")"
   ]
  },
  {
   "cell_type": "code",
   "execution_count": 17,
   "id": "df402aa4",
   "metadata": {},
   "outputs": [],
   "source": [
    "logging.critical(\"This is critical issue\")"
   ]
  },
  {
   "cell_type": "code",
   "execution_count": 18,
   "id": "b1bcc6b5",
   "metadata": {},
   "outputs": [],
   "source": [
    "logging.exception(\"This is exception\")"
   ]
  },
  {
   "cell_type": "markdown",
   "id": "418dcba7",
   "metadata": {},
   "source": [
    "1. Create a log in your code\n",
    "2. Create one function which can take any number of input as an arugument and it will be able to return sum of it.\n",
    "3. Capture user input in log\n",
    "4. Give user instruction in log\n",
    "5. read a log file from python code and show all the code in python console."
   ]
  },
  {
   "cell_type": "code",
   "execution_count": 19,
   "id": "7df027f3",
   "metadata": {},
   "outputs": [],
   "source": [
    "import logging\n",
    "logging.basicConfig(filename='test2.log',level=logging.info)"
   ]
  },
  {
   "cell_type": "code",
   "execution_count": 26,
   "id": "317b6c18",
   "metadata": {},
   "outputs": [],
   "source": [
    "def test2(a,b):\n",
    "    logging.info('This is test2 function')\n",
    "    logging.info(str(a)+\" \"+str(b))\n",
    "    c=a+b\n",
    "    logging.info(\"sum: \"+str(c))\n",
    "    return c"
   ]
  },
  {
   "cell_type": "code",
   "execution_count": 27,
   "id": "0e49b874",
   "metadata": {},
   "outputs": [
    {
     "data": {
      "text/plain": [
       "9"
      ]
     },
     "execution_count": 27,
     "metadata": {},
     "output_type": "execute_result"
    }
   ],
   "source": [
    "test2(4,5)"
   ]
  },
  {
   "cell_type": "code",
   "execution_count": 34,
   "id": "760b09f3",
   "metadata": {},
   "outputs": [],
   "source": [
    "def add(*args):\n",
    "    logging.info('Give any number of input')\n",
    "    add=0\n",
    "    for arg in args:\n",
    "        logging.info(str(arg))\n",
    "        add=add+arg\n",
    "        logging.info(add)\n",
    "    return add"
   ]
  },
  {
   "cell_type": "code",
   "execution_count": 35,
   "id": "3bd9df6a",
   "metadata": {},
   "outputs": [
    {
     "data": {
      "text/plain": [
       "14"
      ]
     },
     "execution_count": 35,
     "metadata": {},
     "output_type": "execute_result"
    }
   ],
   "source": [
    "add(2,3,4,5)"
   ]
  },
  {
   "cell_type": "code",
   "execution_count": 41,
   "id": "92f87b52",
   "metadata": {},
   "outputs": [],
   "source": [
    "def enter():\n",
    "    logging.info(\"Enter a value\")\n",
    "    a=input()\n",
    "    logging.info(str(a))"
   ]
  },
  {
   "cell_type": "code",
   "execution_count": 42,
   "id": "cfa56a87",
   "metadata": {},
   "outputs": [
    {
     "name": "stdout",
     "output_type": "stream",
     "text": [
      "hdgha\n"
     ]
    }
   ],
   "source": [
    "enter()"
   ]
  },
  {
   "cell_type": "code",
   "execution_count": 44,
   "id": "8610976d",
   "metadata": {},
   "outputs": [
    {
     "name": "stdout",
     "output_type": "stream",
     "text": [
      "INFO:root:this is start of function\n",
      "INFO:root:this is start of function\n",
      "INFO:root:this is start of function\n",
      "INFO:root:5 6\n",
      "INFO:root:this is start of function\n",
      "INFO:root:4 5\n",
      "INFO:root:this is start of function\n",
      "INFO:root:5 6\n",
      "INFO:root:11\n",
      "INFO:root:this is start of function\n",
      "INFO:root:4 5\n",
      "INFO:root:9\n",
      "INFO:root:This is info\n",
      "WARNING:root:This is warning\n",
      "ERROR:root:This is error\n",
      "CRITICAL:root:This is critical issue\n",
      "ERROR:root:This is exception\n",
      "NoneType: None\n",
      "INFO:root:This is test2 function\n",
      "INFO:root:4 5\n",
      "INFO:root:This is test2 function\n",
      "INFO:root:4 5\n",
      "INFO:root:This is test2 function\n",
      "INFO:root:4 5\n",
      "INFO:root:This is test2 function\n",
      "INFO:root:4 5\n",
      "INFO:root:sum: 9\n",
      "INFO:root:Give any number of input\n",
      "INFO:root:2\n",
      "INFO:root:3\n",
      "INFO:root:4\n",
      "INFO:root:5\n",
      "INFO:root:Give any number of input\n",
      "INFO:root:2\n",
      "INFO:root:2\n",
      "INFO:root:Give any number of input\n",
      "INFO:root:2\n",
      "INFO:root:2\n",
      "INFO:root:3\n",
      "INFO:root:5\n",
      "INFO:root:4\n",
      "INFO:root:9\n",
      "INFO:root:5\n",
      "INFO:root:14\n",
      "INFO:root:Enter a value\n",
      "INFO:root:Enter a value\n",
      "INFO:root:hdgha\n",
      "\n"
     ]
    }
   ],
   "source": [
    "f=open('D:\\\\Machine Learning\\\\ineuron\\\\logging\\\\test1.log','r')\n",
    "print(f.read())"
   ]
  },
  {
   "cell_type": "code",
   "execution_count": 1,
   "id": "25f7e03f",
   "metadata": {},
   "outputs": [],
   "source": [
    "import logging"
   ]
  },
  {
   "cell_type": "code",
   "execution_count": 2,
   "id": "30986be1",
   "metadata": {},
   "outputs": [
    {
     "ename": "TypeError",
     "evalue": "Level not an integer or a valid string: <function debug at 0x000002059A0E94C0>",
     "output_type": "error",
     "traceback": [
      "\u001b[1;31m---------------------------------------------------------------------------\u001b[0m",
      "\u001b[1;31mTypeError\u001b[0m                                 Traceback (most recent call last)",
      "\u001b[1;32m<ipython-input-2-ca376766f711>\u001b[0m in \u001b[0;36m<module>\u001b[1;34m\u001b[0m\n\u001b[1;32m----> 1\u001b[1;33m \u001b[0mlogging\u001b[0m\u001b[1;33m.\u001b[0m\u001b[0mbasicConfig\u001b[0m\u001b[1;33m(\u001b[0m\u001b[0mfilename\u001b[0m\u001b[1;33m=\u001b[0m\u001b[1;34m'app3.log'\u001b[0m\u001b[1;33m,\u001b[0m\u001b[0mlevel\u001b[0m\u001b[1;33m=\u001b[0m\u001b[0mlogging\u001b[0m\u001b[1;33m.\u001b[0m\u001b[0mdebug\u001b[0m\u001b[1;33m,\u001b[0m\u001b[0mformat\u001b[0m\u001b[1;33m=\u001b[0m\u001b[1;34m'%(asctime)s %(levelname)s %(message)s'\u001b[0m\u001b[1;33m)\u001b[0m\u001b[1;33m\u001b[0m\u001b[1;33m\u001b[0m\u001b[0m\n\u001b[0m\u001b[0;32m      2\u001b[0m \u001b[0mconsole_log\u001b[0m \u001b[1;33m=\u001b[0m \u001b[0mlogging\u001b[0m\u001b[1;33m.\u001b[0m\u001b[0mStreamHandler\u001b[0m\u001b[1;33m(\u001b[0m\u001b[1;33m)\u001b[0m\u001b[1;33m\u001b[0m\u001b[1;33m\u001b[0m\u001b[0m\n\u001b[0;32m      3\u001b[0m \u001b[0mconsole_log\u001b[0m\u001b[1;33m.\u001b[0m\u001b[0msetLevel\u001b[0m\u001b[1;33m(\u001b[0m\u001b[0mlogging\u001b[0m\u001b[1;33m.\u001b[0m\u001b[0mINFO\u001b[0m\u001b[1;33m)\u001b[0m\u001b[1;33m\u001b[0m\u001b[1;33m\u001b[0m\u001b[0m\n\u001b[0;32m      4\u001b[0m \u001b[0mformat\u001b[0m\u001b[1;33m=\u001b[0m\u001b[1;34m'%(asctime)s %(levelname)s %(message)s'\u001b[0m\u001b[1;33m\u001b[0m\u001b[1;33m\u001b[0m\u001b[0m\n\u001b[0;32m      5\u001b[0m \u001b[0mconsole_log\u001b[0m\u001b[1;33m.\u001b[0m\u001b[0msetFormatter\u001b[0m\u001b[1;33m(\u001b[0m\u001b[0mformat\u001b[0m\u001b[1;33m)\u001b[0m\u001b[1;33m\u001b[0m\u001b[1;33m\u001b[0m\u001b[0m\n",
      "\u001b[1;32mC:\\ProgramData\\Anaconda3\\lib\\logging\\__init__.py\u001b[0m in \u001b[0;36mbasicConfig\u001b[1;34m(**kwargs)\u001b[0m\n\u001b[0;32m   2000\u001b[0m             \u001b[0mlevel\u001b[0m \u001b[1;33m=\u001b[0m \u001b[0mkwargs\u001b[0m\u001b[1;33m.\u001b[0m\u001b[0mpop\u001b[0m\u001b[1;33m(\u001b[0m\u001b[1;34m\"level\"\u001b[0m\u001b[1;33m,\u001b[0m \u001b[1;32mNone\u001b[0m\u001b[1;33m)\u001b[0m\u001b[1;33m\u001b[0m\u001b[1;33m\u001b[0m\u001b[0m\n\u001b[0;32m   2001\u001b[0m             \u001b[1;32mif\u001b[0m \u001b[0mlevel\u001b[0m \u001b[1;32mis\u001b[0m \u001b[1;32mnot\u001b[0m \u001b[1;32mNone\u001b[0m\u001b[1;33m:\u001b[0m\u001b[1;33m\u001b[0m\u001b[1;33m\u001b[0m\u001b[0m\n\u001b[1;32m-> 2002\u001b[1;33m                 \u001b[0mroot\u001b[0m\u001b[1;33m.\u001b[0m\u001b[0msetLevel\u001b[0m\u001b[1;33m(\u001b[0m\u001b[0mlevel\u001b[0m\u001b[1;33m)\u001b[0m\u001b[1;33m\u001b[0m\u001b[1;33m\u001b[0m\u001b[0m\n\u001b[0m\u001b[0;32m   2003\u001b[0m             \u001b[1;32mif\u001b[0m \u001b[0mkwargs\u001b[0m\u001b[1;33m:\u001b[0m\u001b[1;33m\u001b[0m\u001b[1;33m\u001b[0m\u001b[0m\n\u001b[0;32m   2004\u001b[0m                 \u001b[0mkeys\u001b[0m \u001b[1;33m=\u001b[0m \u001b[1;34m', '\u001b[0m\u001b[1;33m.\u001b[0m\u001b[0mjoin\u001b[0m\u001b[1;33m(\u001b[0m\u001b[0mkwargs\u001b[0m\u001b[1;33m.\u001b[0m\u001b[0mkeys\u001b[0m\u001b[1;33m(\u001b[0m\u001b[1;33m)\u001b[0m\u001b[1;33m)\u001b[0m\u001b[1;33m\u001b[0m\u001b[1;33m\u001b[0m\u001b[0m\n",
      "\u001b[1;32mC:\\ProgramData\\Anaconda3\\lib\\logging\\__init__.py\u001b[0m in \u001b[0;36msetLevel\u001b[1;34m(self, level)\u001b[0m\n\u001b[0;32m   1415\u001b[0m         \u001b[0mSet\u001b[0m \u001b[0mthe\u001b[0m \u001b[0mlogging\u001b[0m \u001b[0mlevel\u001b[0m \u001b[0mof\u001b[0m \u001b[0mthis\u001b[0m \u001b[0mlogger\u001b[0m\u001b[1;33m.\u001b[0m  \u001b[0mlevel\u001b[0m \u001b[0mmust\u001b[0m \u001b[0mbe\u001b[0m \u001b[0man\u001b[0m \u001b[0mint\u001b[0m \u001b[1;32mor\u001b[0m \u001b[0ma\u001b[0m \u001b[0mstr\u001b[0m\u001b[1;33m.\u001b[0m\u001b[1;33m\u001b[0m\u001b[1;33m\u001b[0m\u001b[0m\n\u001b[0;32m   1416\u001b[0m         \"\"\"\n\u001b[1;32m-> 1417\u001b[1;33m         \u001b[0mself\u001b[0m\u001b[1;33m.\u001b[0m\u001b[0mlevel\u001b[0m \u001b[1;33m=\u001b[0m \u001b[0m_checkLevel\u001b[0m\u001b[1;33m(\u001b[0m\u001b[0mlevel\u001b[0m\u001b[1;33m)\u001b[0m\u001b[1;33m\u001b[0m\u001b[1;33m\u001b[0m\u001b[0m\n\u001b[0m\u001b[0;32m   1418\u001b[0m         \u001b[0mself\u001b[0m\u001b[1;33m.\u001b[0m\u001b[0mmanager\u001b[0m\u001b[1;33m.\u001b[0m\u001b[0m_clear_cache\u001b[0m\u001b[1;33m(\u001b[0m\u001b[1;33m)\u001b[0m\u001b[1;33m\u001b[0m\u001b[1;33m\u001b[0m\u001b[0m\n\u001b[0;32m   1419\u001b[0m \u001b[1;33m\u001b[0m\u001b[0m\n",
      "\u001b[1;32mC:\\ProgramData\\Anaconda3\\lib\\logging\\__init__.py\u001b[0m in \u001b[0;36m_checkLevel\u001b[1;34m(level)\u001b[0m\n\u001b[0;32m    195\u001b[0m         \u001b[0mrv\u001b[0m \u001b[1;33m=\u001b[0m \u001b[0m_nameToLevel\u001b[0m\u001b[1;33m[\u001b[0m\u001b[0mlevel\u001b[0m\u001b[1;33m]\u001b[0m\u001b[1;33m\u001b[0m\u001b[1;33m\u001b[0m\u001b[0m\n\u001b[0;32m    196\u001b[0m     \u001b[1;32melse\u001b[0m\u001b[1;33m:\u001b[0m\u001b[1;33m\u001b[0m\u001b[1;33m\u001b[0m\u001b[0m\n\u001b[1;32m--> 197\u001b[1;33m         \u001b[1;32mraise\u001b[0m \u001b[0mTypeError\u001b[0m\u001b[1;33m(\u001b[0m\u001b[1;34m\"Level not an integer or a valid string: %r\"\u001b[0m \u001b[1;33m%\u001b[0m \u001b[0mlevel\u001b[0m\u001b[1;33m)\u001b[0m\u001b[1;33m\u001b[0m\u001b[1;33m\u001b[0m\u001b[0m\n\u001b[0m\u001b[0;32m    198\u001b[0m     \u001b[1;32mreturn\u001b[0m \u001b[0mrv\u001b[0m\u001b[1;33m\u001b[0m\u001b[1;33m\u001b[0m\u001b[0m\n\u001b[0;32m    199\u001b[0m \u001b[1;33m\u001b[0m\u001b[0m\n",
      "\u001b[1;31mTypeError\u001b[0m: Level not an integer or a valid string: <function debug at 0x000002059A0E94C0>"
     ]
    }
   ],
   "source": [
    "logging.basicConfig(filename='app3.log',level=logging.debug,format='%(asctime)s %(levelname)s %(message)s')\n",
    "console_log = logging.StreamHandler()\n",
    "console_log.setLevel(logging.INFO)\n",
    "format='%(asctime)s %(levelname)s %(message)s'\n",
    "console_log.setFormatter(format)\n",
    "logging.getLogger('').addHandler(console_log)\n",
    "logging.info(\"this is my first test code for log\")\n",
    "logger1 = logging.getLogger('user1')\n",
    "logger2 = logging.getLogger('user2')\n",
    "logger1.info(\"this is logger 1\")\n",
    "logger2.debug(\"this is a debug for logger 1\")\n",
    "logger2.info(\"this is info for logger 2\")\n"
   ]
  },
  {
   "cell_type": "code",
   "execution_count": null,
   "id": "e08deaae",
   "metadata": {},
   "outputs": [],
   "source": []
  }
 ],
 "metadata": {
  "kernelspec": {
   "display_name": "Python 3",
   "language": "python",
   "name": "python3"
  },
  "language_info": {
   "codemirror_mode": {
    "name": "ipython",
    "version": 3
   },
   "file_extension": ".py",
   "mimetype": "text/x-python",
   "name": "python",
   "nbconvert_exporter": "python",
   "pygments_lexer": "ipython3",
   "version": "3.8.8"
  }
 },
 "nbformat": 4,
 "nbformat_minor": 5
}
