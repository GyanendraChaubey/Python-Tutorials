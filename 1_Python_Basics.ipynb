{
  "cells": [
    {
      "cell_type": "markdown",
      "metadata": {
        "id": "view-in-github",
        "colab_type": "text"
      },
      "source": [
        "<a href=\"https://colab.research.google.com/github/GyanendraChaubey/Python-Tutorials/blob/main/1_Python_Basics.ipynb\" target=\"_parent\"><img src=\"https://colab.research.google.com/assets/colab-badge.svg\" alt=\"Open In Colab\"/></a>"
      ]
    },
    {
      "cell_type": "markdown",
      "metadata": {
        "id": "LB1qZ--RtE0i"
      },
      "source": [
        "Python\n",
        "--\n",
        "Python is a general-purpose interpreted, interactive, object-oriented, and high-level programming language. It was created by Guido van Rossum during 1985- 1990. \n",
        "\n",
        "Language is not named after a snake,\n",
        "but after a comedy show \"Flying Circus\" which Monty Python was a fan of.\n",
        "\n",
        "Why to Learn Python?\n",
        "Python is a high-level, interpreted, interactive and object-oriented scripting language. Python is designed to be highly readable. It uses English keywords frequently where as other languages use punctuation, and it has fewer syntactical constructions than other languages.\n",
        "\n",
        "Following are important characteristics of Python Programming −\n",
        "\n",
        "It supports functional and structured programming methods as well as OOP.\n",
        "\n",
        "It can be used as a scripting language or can be compiled to byte-code for building large applications.\n",
        "\n",
        "It provides very high-level dynamic data types and supports dynamic type checking.\n",
        "\n",
        "It supports automatic garbage collection.\n",
        "\n",
        "It can be easily integrated with C, C++, COM, ActiveX, CORBA, and Java."
      ]
    },
    {
      "cell_type": "markdown",
      "metadata": {
        "id": "--p2e7FetE0q"
      },
      "source": [
        "__Guido van Rossum started coding for Python in Dec 1989.\n",
        "\n",
        "Latest Release is Version 3.8\n",
        "\n",
        "__Features:\n",
        "Simple\n",
        "Powerful\n",
        "General Purpose\n",
        "It is very readable\n",
        "\n",
        "Python is a High level Language\n",
        "\n",
        "__Python is an Interpreter.__"
      ]
    },
    {
      "cell_type": "markdown",
      "metadata": {
        "id": "rfMMt_o0tE0r"
      },
      "source": [
        "Applications of Python\n",
        "--\n",
        "Easy-to-learn − Python has few keywords, simple structure, and a clearly defined syntax. This allows the student to pick up the language quickly.\n",
        "\n",
        "Easy-to-read − Python code is more clearly defined and visible to the eyes.\n",
        "\n",
        "Easy-to-maintain − Python's source code is fairly easy-to-maintain.\n",
        "\n",
        "A broad standard library − Python's bulk of the library is very portable and cross-platform compatible on UNIX, Windows, and Macintosh.\n",
        "\n",
        "Interactive Mode − Python has support for an interactive mode which allows interactive testing and debugging of snippets of code.\n",
        "\n",
        "Portable − Python can run on a wide variety of hardware platforms and has the same interface on all platforms.\n",
        "\n",
        "Extendable − You can add low-level modules to the Python interpreter. These modules enable programmers to add to or customize their tools to be more efficient.\n",
        "\n",
        "Databases − Python provides interfaces to all major commercial databases.\n",
        "\n",
        "GUI Programming − Python supports GUI applications that can be created and ported to many system calls, libraries and windows systems, such as Windows MFC, Macintosh, and the X Window system of Unix.\n",
        "\n",
        "Scalable − Python provides a better structure and support for large programs than shell scripting."
      ]
    },
    {
      "cell_type": "markdown",
      "metadata": {
        "id": "rSsHYQEptE0s"
      },
      "source": [
        "Python Data Types\n",
        "--\n",
        "Variables can hold values of different data types. Python is a dynamically typed language hence we need not define the type of the variable while declaring it. The interpreter implicitly binds the value with its type.\n",
        "\n",
        "Python enables us to check the type of the variable used in the program. Python provides us the type() function which returns the type of the variable passed."
      ]
    },
    {
      "cell_type": "code",
      "execution_count": null,
      "metadata": {
        "id": "BX94rn4-tE0t",
        "outputId": "af747c03-4e6d-4104-93a7-de18a4908f36"
      },
      "outputs": [
        {
          "name": "stdout",
          "output_type": "stream",
          "text": [
            "2\n",
            "<class 'int'>\n",
            "Hi Darshan\n",
            "<class 'str'>\n",
            "23.15\n",
            "<class 'float'>\n"
          ]
        }
      ],
      "source": [
        "# type your code here\n",
        "a = 2\n",
        "print(a)\n",
        "print( type(a) )\n",
        "b = \"Hi Darshan\"\n",
        "print(b)\n",
        "print( type(b) )\n",
        "c = 23.15\n",
        "print(c)\n",
        "print( type(c) )"
      ]
    },
    {
      "cell_type": "code",
      "execution_count": null,
      "metadata": {
        "id": "NMVVA50BtE0w",
        "outputId": "00698927-8beb-4ae9-9a54-1b6b32a96750"
      },
      "outputs": [
        {
          "name": "stdout",
          "output_type": "stream",
          "text": [
            "3\n"
          ]
        }
      ],
      "source": [
        "a=1\n",
        "b=2\n",
        "c=a+b\n",
        "print(c)"
      ]
    },
    {
      "cell_type": "code",
      "execution_count": null,
      "metadata": {
        "id": "ifg96d5OtE0x",
        "outputId": "49bbd44c-6ce5-459c-e7b4-11436f3415ff"
      },
      "outputs": [
        {
          "name": "stdout",
          "output_type": "stream",
          "text": [
            "My name is Darshan Ingle\n",
            "My name is Darshan Ingle\n",
            "c\n",
            "3\n"
          ]
        }
      ],
      "source": [
        "print(\"My name is Darshan Ingle\")\n",
        "print('My name is Darshan Ingle')\n",
        "print(\"c\")\n",
        "print(c)"
      ]
    },
    {
      "cell_type": "raw",
      "metadata": {
        "id": "j0F00tgatE0y"
      },
      "source": [
        "For Python, \" or ' are the same."
      ]
    },
    {
      "cell_type": "code",
      "execution_count": null,
      "metadata": {
        "scrolled": true,
        "id": "6gEuu69RtE0y",
        "outputId": "90eb667a-2017-4a05-a45d-d0070c649391"
      },
      "outputs": [
        {
          "name": "stdout",
          "output_type": "stream",
          "text": [
            "c= 40\n",
            "Addition of a= 10  and b= 30  is c= 40\n"
          ]
        }
      ],
      "source": [
        "a=10\n",
        "b=30\n",
        "c=a+b\n",
        "print(\"c=\",c)\n",
        "print(\"Addition of a=\",a,\" and b=\",b,\" is c=\",c)"
      ]
    },
    {
      "cell_type": "markdown",
      "metadata": {
        "id": "USN4Gm2HtE0z"
      },
      "source": [
        "Standard data types\n",
        "--\n",
        "A variable can hold different types of values. For example, a person's name must be stored as a string whereas its id must be stored as an integer.\n",
        "\n",
        "Python provides various standard data types that define the storage method on each of them. The data types defined in Python are given below.\n",
        "\n",
        "> Numbers\n",
        "\n",
        "> String\n",
        "\n",
        "> List\n",
        "\n",
        "> Tuple\n",
        "\n",
        "> Dictionary"
      ]
    },
    {
      "cell_type": "markdown",
      "metadata": {
        "id": "5q_mavX9tE00"
      },
      "source": [
        "Numbers\n",
        "--\n",
        "Number stores numeric values. Python creates Number objects when a number is assigned to a variable. For example;\n",
        "\n",
        "a = 3 , b = 5  #a and b are number objects  \n",
        "Python supports 4 types of numeric data.\n",
        "\n",
        "int (signed integers like 10, 2, 29, etc.)\n",
        "\n",
        "float (float is used to store floating point numbers like 1.9, 9.902, 15.2, etc.)\n",
        "\n",
        "complex (complex numbers like 2.14j, 2.0 + 2.3j, etc.)\n",
        "\n",
        "Python allows us to use a lower-case L to be used with long integers. However, we must always use an upper-case L to avoid confusion.\n",
        "\n",
        "A complex number contains an ordered pair, i.e., x + iy where x and y denote the real and imaginary parts respectively)."
      ]
    },
    {
      "cell_type": "code",
      "execution_count": null,
      "metadata": {
        "id": "FIRzBvJhtE00",
        "outputId": "6d74417e-cc7c-43a3-859a-c4da7f7e70ed"
      },
      "outputs": [
        {
          "name": "stdout",
          "output_type": "stream",
          "text": [
            "5464151351351658964\n",
            "(-3+9j)\n"
          ]
        }
      ],
      "source": [
        "a = 5464151351351658964\n",
        "print(a)\n",
        "c1 = 2+3j\n",
        "c2 = 5-6j\n",
        "c3 = c1-c2\n",
        "print(c3)"
      ]
    },
    {
      "cell_type": "code",
      "execution_count": null,
      "metadata": {
        "id": "pgWHrNmstE01",
        "outputId": "3afa8877-990b-4914-cd75-00b57fb2fcac"
      },
      "outputs": [
        {
          "data": {
            "text/plain": [
              "str"
            ]
          },
          "execution_count": 6,
          "metadata": {},
          "output_type": "execute_result"
        }
      ],
      "source": [
        "type(\"Hello World\")"
      ]
    },
    {
      "cell_type": "code",
      "execution_count": null,
      "metadata": {
        "id": "ORFPlKSutE01",
        "outputId": "c9f2d6bf-6e26-4d08-b472-e46960331a70"
      },
      "outputs": [
        {
          "data": {
            "text/plain": [
              "int"
            ]
          },
          "execution_count": 7,
          "metadata": {},
          "output_type": "execute_result"
        }
      ],
      "source": [
        "type(17)"
      ]
    },
    {
      "cell_type": "code",
      "execution_count": null,
      "metadata": {
        "id": "llpDz9nytE02",
        "outputId": "0b12f80e-b694-4818-be08-721b17aae7bf"
      },
      "outputs": [
        {
          "data": {
            "text/plain": [
              "float"
            ]
          },
          "execution_count": 8,
          "metadata": {},
          "output_type": "execute_result"
        }
      ],
      "source": [
        "type(3.2)"
      ]
    },
    {
      "cell_type": "code",
      "execution_count": null,
      "metadata": {
        "id": "7YZMDKCytE02",
        "outputId": "ef58e90a-0b7a-4d0a-c085-147fa4dc8c20"
      },
      "outputs": [
        {
          "data": {
            "text/plain": [
              "str"
            ]
          },
          "execution_count": 9,
          "metadata": {},
          "output_type": "execute_result"
        }
      ],
      "source": [
        "type('3.2')"
      ]
    },
    {
      "cell_type": "code",
      "execution_count": null,
      "metadata": {
        "id": "wZoJoF2RtE03",
        "outputId": "68d05bfe-8d47-44a3-e519-ff6d92a7fe83"
      },
      "outputs": [
        {
          "name": "stdout",
          "output_type": "stream",
          "text": [
            "(1, 0, 0)\n"
          ]
        }
      ],
      "source": [
        "# When you type large integers, you might be tempted to use commas.\n",
        "# type your code here\n",
        "a = 1,00,00\n",
        "print(a)\n",
        "#This code wont give any erros, but it doesnt produce the right output too.\n",
        "# This is the 1st example we have seen of a semantic error."
      ]
    },
    {
      "cell_type": "raw",
      "metadata": {
        "id": "HZ_hNdHbtE03"
      },
      "source": [
        "Variable names\n",
        "Give meaningful names.\n",
        "Contain both letters and numbers.\n",
        "Underscore can appear in a name.\n",
        "\n",
        "76abc  Syntax error\n",
        "more@=1000   Syntax error\n",
        "\n",
        "Keywords cannot be variable names"
      ]
    },
    {
      "cell_type": "markdown",
      "metadata": {
        "id": "ndiB2GI1tE04"
      },
      "source": [
        "String\n",
        "--\n",
        "The string can be defined as the sequence of characters represented in the quotation marks. In python, we can use single or double quotes to define a string.\n",
        "\n",
        "The operator * is known as repetition operator as the operation \"Python \" *2 returns \"Python Python \""
      ]
    },
    {
      "cell_type": "code",
      "execution_count": null,
      "metadata": {
        "id": "gDI5Kn0RtE04",
        "outputId": "727d49eb-5eff-4ab3-ada9-bcb07af44b25"
      },
      "outputs": [
        {
          "name": "stdout",
          "output_type": "stream",
          "text": [
            "hello Python how are you\n",
            "hello Pythonhello Pythonhello Python\n"
          ]
        }
      ],
      "source": [
        "str1 = 'hello Python' # string str1  \n",
        "str2 = ' how are you' # string str2  \n",
        "# type your code here\n",
        "z = str1+str2\n",
        "print(z)\n",
        "print(str1*3)"
      ]
    },
    {
      "cell_type": "code",
      "execution_count": null,
      "metadata": {
        "id": "5DZ93u8ctE05",
        "outputId": "c6af4373-fddf-4c38-eebc-181415768f99"
      },
      "outputs": [
        {
          "name": "stdout",
          "output_type": "stream",
          "text": [
            "Darshan\n",
            "D\n",
            "a\n",
            "n\n",
            "D\n",
            "arsh\n",
            "Dar\n",
            "shan\n",
            "Darsha\n",
            "arsh\n",
            "r h\n",
            "Darshan\n",
            "nahsraD\n"
          ]
        }
      ],
      "source": [
        "s = \"Darshan\"\n",
        "print(s)\n",
        "print(s[0])\n",
        "print(s[5])\n",
        "# print(s[7]) # gives error\n",
        "print(s[-1])\n",
        "print(s[-7])\n",
        "print(s[1 : 5]) # start_index to (end_index-1)\n",
        "print(s[0:3]) # 0 to (3-1)\n",
        "print(s[3:])\n",
        "print(s[:6]) # 0 to (6-1)\n",
        "print(s[-6:-2]) # SI=-6 and (EI-1)=(-2-1)\n",
        "print(s[2],s[4])\n",
        "print(s)\n",
        "print(s[::-1]) # Print the string in reverse"
      ]
    },
    {
      "cell_type": "markdown",
      "metadata": {
        "id": "9zHDmnMNtE05"
      },
      "source": [
        "Python Keywords\n",
        "--\n",
        "Python Keywords are special reserved words which convey a special meaning to the compiler/interpreter. Each keyword have a special meaning and a specific operation. These keywords can't be used as variable. \n",
        "\n",
        "Following is the List of Python Keywords.\n",
        "\n",
        "True\n",
        "\n",
        "False\n",
        "\n",
        "None\n",
        "\n",
        "and\n",
        "\n",
        "as\n",
        "\n",
        "asset\n",
        "\n",
        "def\n",
        "\n",
        "class\n",
        "\n",
        "continue\n",
        "\n",
        "break\n",
        "\n",
        "else\n",
        "\n",
        "finally\n",
        "\n",
        "elif\n",
        "\n",
        "del\n",
        "\n",
        "except\n",
        "\n",
        "global\n",
        "\n",
        "for\n",
        "\n",
        "if\n",
        "\n",
        "from\n",
        "\n",
        "import\n",
        "\n",
        "raise\n",
        "\n",
        "try\n",
        "\n",
        "or\n",
        "\n",
        "return\n",
        "\n",
        "pass\n",
        "\n",
        "nonlocal\n",
        "\n",
        "in\n",
        "\n",
        "not\n",
        "\n",
        "is\n",
        "\n",
        "lambda"
      ]
    },
    {
      "cell_type": "markdown",
      "metadata": {
        "id": "OoS5WCIXtE06"
      },
      "source": [
        "Order of Operations:\n",
        "--\n",
        "PEMDAS"
      ]
    },
    {
      "cell_type": "raw",
      "metadata": {
        "id": "k_prcuKMtE07"
      },
      "source": [
        "Comments:\n",
        "\n",
        "\n",
        "# for single line comments\n",
        "\n",
        "\"\"\"This is\n",
        "   for multi-line\n",
        "   comments\"\"\""
      ]
    },
    {
      "cell_type": "raw",
      "metadata": {
        "id": "LUu4Tmt0tE07"
      },
      "source": [
        "2+3-1\n",
        "=(2+3)-1\n",
        "=4\n",
        "\n",
        "1+1**5-2\n",
        "=1+(1**5)-2\n",
        "=1+1-2\n",
        "=0\n",
        "\n",
        "2*3/2\n",
        "=(2*3)/2\n",
        "3"
      ]
    },
    {
      "cell_type": "code",
      "execution_count": null,
      "metadata": {
        "id": "HrhdMLLatE08",
        "outputId": "c1d0da46-14a8-40e4-9fd5-7bba8a53e298"
      },
      "outputs": [
        {
          "name": "stdout",
          "output_type": "stream",
          "text": [
            "4\n",
            "1\n",
            "2\n",
            "3.5\n",
            "3.725290298461914e-09\n"
          ]
        }
      ],
      "source": [
        "print(2+3-1)\n",
        "print(1+1**5-1)\n",
        "print(1+1**(5-2))\n",
        "print(2+3/2)\n",
        "print(2**(3+5-(1+3)*9))"
      ]
    },
    {
      "cell_type": "raw",
      "metadata": {
        "id": "oAJ4m6mPtE08"
      },
      "source": [
        "You cannot perform Mathematical operations on strings.\n",
        "'1'-'2'\n",
        "'eggs'/'hen'\n",
        "'3'*'Tom&Jerry'"
      ]
    },
    {
      "cell_type": "raw",
      "metadata": {
        "id": "SXOMGI9ytE08"
      },
      "source": [
        "With Strings,\n",
        "+ is concatenation\n",
        "* is repetition"
      ]
    },
    {
      "cell_type": "code",
      "execution_count": null,
      "metadata": {
        "id": "bmq_8Nq5tE08",
        "outputId": "b67ffaa5-5f9b-4ab0-c7de-861a1eda2b85"
      },
      "outputs": [
        {
          "data": {
            "text/plain": [
              "'sdsasdsasdsa'"
            ]
          },
          "execution_count": 18,
          "metadata": {},
          "output_type": "execute_result"
        }
      ],
      "source": [
        "\"sdsa\"*3"
      ]
    },
    {
      "cell_type": "markdown",
      "metadata": {
        "id": "zLfhlAITtE09"
      },
      "source": [
        "End of this Module\n",
        "--"
      ]
    }
  ],
  "metadata": {
    "kernelspec": {
      "display_name": "Python 3",
      "language": "python",
      "name": "python3"
    },
    "language_info": {
      "codemirror_mode": {
        "name": "ipython",
        "version": 3
      },
      "file_extension": ".py",
      "mimetype": "text/x-python",
      "name": "python",
      "nbconvert_exporter": "python",
      "pygments_lexer": "ipython3",
      "version": "3.8.3"
    },
    "toc": {
      "base_numbering": 1,
      "nav_menu": {},
      "number_sections": true,
      "sideBar": true,
      "skip_h1_title": false,
      "title_cell": "Table of Contents",
      "title_sidebar": "Contents",
      "toc_cell": false,
      "toc_position": {},
      "toc_section_display": true,
      "toc_window_display": false
    },
    "colab": {
      "name": "1 Python Basics.ipynb",
      "provenance": [],
      "include_colab_link": true
    }
  },
  "nbformat": 4,
  "nbformat_minor": 0
}