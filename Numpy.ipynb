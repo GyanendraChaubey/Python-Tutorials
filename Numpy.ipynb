{
  "nbformat": 4,
  "nbformat_minor": 0,
  "metadata": {
    "colab": {
      "name": "Numpy with Uddhav.ipynb",
      "provenance": [],
      "collapsed_sections": [],
      "mount_file_id": "1G91oPkUuEcKP3VTNxKf9QiNKucJ8HdF2",
      "authorship_tag": "ABX9TyMOrVSBTpXEcQQrc5VWH/L/",
      "include_colab_link": true
    },
    "kernelspec": {
      "name": "python3",
      "display_name": "Python 3"
    },
    "language_info": {
      "name": "python"
    }
  },
  "cells": [
    {
      "cell_type": "markdown",
      "metadata": {
        "id": "view-in-github",
        "colab_type": "text"
      },
      "source": [
        "<a href=\"https://colab.research.google.com/github/GyanendraChaubey/Python-Tutorials/blob/main/Numpy.ipynb\" target=\"_parent\"><img src=\"https://colab.research.google.com/assets/colab-badge.svg\" alt=\"Open In Colab\"/></a>"
      ]
    },
    {
      "cell_type": "code",
      "metadata": {
        "id": "Bjlh4qDTguBB"
      },
      "source": [
        "import numpy"
      ],
      "execution_count": null,
      "outputs": []
    },
    {
      "cell_type": "code",
      "metadata": {
        "colab": {
          "base_uri": "https://localhost:8080/"
        },
        "id": "L5HOHxHpizXQ",
        "outputId": "eeb24615-eb4e-4cff-ca87-7aeba52d37c8"
      },
      "source": [
        "numpy.array([1,2,3,4,5,6])"
      ],
      "execution_count": null,
      "outputs": [
        {
          "output_type": "execute_result",
          "data": {
            "text/plain": [
              "array([1, 2, 3, 4, 5, 6])"
            ]
          },
          "metadata": {},
          "execution_count": 2
        }
      ]
    },
    {
      "cell_type": "code",
      "metadata": {
        "colab": {
          "base_uri": "https://localhost:8080/"
        },
        "id": "Hx-498n5jC3w",
        "outputId": "09495e52-b45b-4ef0-c863-259ef071b872"
      },
      "source": [
        "numpy.array([1,\"Uddhav\"])"
      ],
      "execution_count": null,
      "outputs": [
        {
          "output_type": "execute_result",
          "data": {
            "text/plain": [
              "array(['1', 'Uddhav'], dtype='<U21')"
            ]
          },
          "metadata": {},
          "execution_count": 3
        }
      ]
    },
    {
      "cell_type": "code",
      "metadata": {
        "id": "wyRLVRFojKF_"
      },
      "source": [
        "import numpy as np"
      ],
      "execution_count": null,
      "outputs": []
    },
    {
      "cell_type": "code",
      "metadata": {
        "colab": {
          "base_uri": "https://localhost:8080/"
        },
        "id": "C8tSC-O4jbTc",
        "outputId": "ef907dc7-a2f9-4e4b-fc56-3a746ef696f2"
      },
      "source": [
        "list1=[1,2,3,4,5]\n",
        "np.mean(list1)"
      ],
      "execution_count": null,
      "outputs": [
        {
          "output_type": "execute_result",
          "data": {
            "text/plain": [
              "3.0"
            ]
          },
          "metadata": {},
          "execution_count": 5
        }
      ]
    },
    {
      "cell_type": "code",
      "metadata": {
        "colab": {
          "base_uri": "https://localhost:8080/"
        },
        "id": "EN3Zsob6jhgP",
        "outputId": "263e2613-936d-4188-a9be-27c5ca784acd"
      },
      "source": [
        "np.median(list1)"
      ],
      "execution_count": null,
      "outputs": [
        {
          "output_type": "execute_result",
          "data": {
            "text/plain": [
              "3.0"
            ]
          },
          "metadata": {},
          "execution_count": 6
        }
      ]
    },
    {
      "cell_type": "code",
      "metadata": {
        "colab": {
          "base_uri": "https://localhost:8080/"
        },
        "id": "Xdrwq7n1jk2d",
        "outputId": "617a4e1a-9abb-4886-8641-fef8415155f2"
      },
      "source": [
        "np.var(list1)"
      ],
      "execution_count": null,
      "outputs": [
        {
          "output_type": "execute_result",
          "data": {
            "text/plain": [
              "2.0"
            ]
          },
          "metadata": {},
          "execution_count": 7
        }
      ]
    },
    {
      "cell_type": "code",
      "metadata": {
        "id": "8hMNNNLAjo-p"
      },
      "source": [
        "a=np.arange(1,10)"
      ],
      "execution_count": null,
      "outputs": []
    },
    {
      "cell_type": "code",
      "metadata": {
        "colab": {
          "base_uri": "https://localhost:8080/"
        },
        "id": "pmaEIy7YkNjq",
        "outputId": "24765791-8b8c-4269-a756-ce8903f59f28"
      },
      "source": [
        "a"
      ],
      "execution_count": null,
      "outputs": [
        {
          "output_type": "execute_result",
          "data": {
            "text/plain": [
              "array([1, 2, 3, 4, 5, 6, 7, 8, 9])"
            ]
          },
          "metadata": {},
          "execution_count": 9
        }
      ]
    },
    {
      "cell_type": "code",
      "metadata": {
        "id": "ZMnXU-1ikOj5"
      },
      "source": [
        "a=np.array([[1,2,3,4],[5,6,7,8],[9,8,10,11]])"
      ],
      "execution_count": null,
      "outputs": []
    },
    {
      "cell_type": "code",
      "metadata": {
        "colab": {
          "base_uri": "https://localhost:8080/"
        },
        "id": "HkyFTqepkbu7",
        "outputId": "9102ed6b-214c-40de-88ca-4d841372ffe9"
      },
      "source": [
        "print(a[0])"
      ],
      "execution_count": null,
      "outputs": [
        {
          "output_type": "stream",
          "name": "stdout",
          "text": [
            "[1 2 3 4]\n"
          ]
        }
      ]
    },
    {
      "cell_type": "markdown",
      "metadata": {
        "id": "CTOwOqy5ktrR"
      },
      "source": [
        "1D Array"
      ]
    },
    {
      "cell_type": "code",
      "metadata": {
        "id": "mqHo4mcFkjY6"
      },
      "source": [
        "a=np.array([1,2,3])"
      ],
      "execution_count": null,
      "outputs": []
    },
    {
      "cell_type": "code",
      "metadata": {
        "colab": {
          "base_uri": "https://localhost:8080/"
        },
        "id": "vzS6xqpQk5j7",
        "outputId": "a9757265-5ddb-46ef-e01d-624a6f90bb7c"
      },
      "source": [
        "a"
      ],
      "execution_count": null,
      "outputs": [
        {
          "output_type": "execute_result",
          "data": {
            "text/plain": [
              "array([1, 2, 3])"
            ]
          },
          "metadata": {},
          "execution_count": 14
        }
      ]
    },
    {
      "cell_type": "code",
      "metadata": {
        "colab": {
          "base_uri": "https://localhost:8080/"
        },
        "id": "pxT4vV1Ok7hD",
        "outputId": "420154d0-42ff-493e-b033-cb76c1d65358"
      },
      "source": [
        "np.zeros(3)"
      ],
      "execution_count": null,
      "outputs": [
        {
          "output_type": "execute_result",
          "data": {
            "text/plain": [
              "array([0., 0., 0.])"
            ]
          },
          "metadata": {},
          "execution_count": 15
        }
      ]
    },
    {
      "cell_type": "code",
      "metadata": {
        "colab": {
          "base_uri": "https://localhost:8080/"
        },
        "id": "xQo_5THolAlT",
        "outputId": "20e8c029-8277-4b99-da47-d3a34fac249f"
      },
      "source": [
        "np.ones(3)"
      ],
      "execution_count": null,
      "outputs": [
        {
          "output_type": "execute_result",
          "data": {
            "text/plain": [
              "array([1., 1., 1.])"
            ]
          },
          "metadata": {},
          "execution_count": 16
        }
      ]
    },
    {
      "cell_type": "code",
      "metadata": {
        "colab": {
          "base_uri": "https://localhost:8080/"
        },
        "id": "qdxhTsBflErN",
        "outputId": "453e683b-7ed6-4e47-d821-7604a20b890c"
      },
      "source": [
        "#create an empty array with 2 elements\n",
        "np.empty(2)"
      ],
      "execution_count": null,
      "outputs": [
        {
          "output_type": "execute_result",
          "data": {
            "text/plain": [
              "array([4.65172834e-310, 9.88131292e-324])"
            ]
          },
          "metadata": {},
          "execution_count": 18
        }
      ]
    },
    {
      "cell_type": "code",
      "metadata": {
        "colab": {
          "base_uri": "https://localhost:8080/"
        },
        "id": "MTdlkwq1lOgI",
        "outputId": "587f7b88-5ce7-4d8c-e3d4-0182c28c1c21"
      },
      "source": [
        "np.arange(3)"
      ],
      "execution_count": null,
      "outputs": [
        {
          "output_type": "execute_result",
          "data": {
            "text/plain": [
              "array([0, 1, 2])"
            ]
          },
          "metadata": {},
          "execution_count": 19
        }
      ]
    },
    {
      "cell_type": "code",
      "metadata": {
        "colab": {
          "base_uri": "https://localhost:8080/"
        },
        "id": "m72WhQeAldv7",
        "outputId": "58d51bde-51ce-4d1d-dd42-e3b7220995c2"
      },
      "source": [
        "np.arange(2,10,2)"
      ],
      "execution_count": null,
      "outputs": [
        {
          "output_type": "execute_result",
          "data": {
            "text/plain": [
              "array([2, 4, 6, 8])"
            ]
          },
          "metadata": {},
          "execution_count": 20
        }
      ]
    },
    {
      "cell_type": "code",
      "metadata": {
        "colab": {
          "base_uri": "https://localhost:8080/"
        },
        "id": "Q_4hhB_Allav",
        "outputId": "c414be76-f6a4-48ac-ebf0-6f244ab237aa"
      },
      "source": [
        "np.linspace(0,10,num=5)"
      ],
      "execution_count": null,
      "outputs": [
        {
          "output_type": "execute_result",
          "data": {
            "text/plain": [
              "array([ 0. ,  2.5,  5. ,  7.5, 10. ])"
            ]
          },
          "metadata": {},
          "execution_count": 21
        }
      ]
    },
    {
      "cell_type": "markdown",
      "metadata": {
        "id": "7YhIQWk8l3RY"
      },
      "source": [
        "Adding, removinng, and sorting elements"
      ]
    },
    {
      "cell_type": "code",
      "metadata": {
        "id": "iW4npeW7lxLY"
      },
      "source": [
        "arr=np.array([1,3,2,6,4,7,8])"
      ],
      "execution_count": null,
      "outputs": []
    },
    {
      "cell_type": "code",
      "metadata": {
        "colab": {
          "base_uri": "https://localhost:8080/"
        },
        "id": "K_yDZz09mCl3",
        "outputId": "89a9736b-a226-4e9e-e9c8-d0a497cc7024"
      },
      "source": [
        "np.sort(arr)"
      ],
      "execution_count": null,
      "outputs": [
        {
          "output_type": "execute_result",
          "data": {
            "text/plain": [
              "array([1, 2, 3, 4, 6, 7, 8])"
            ]
          },
          "metadata": {},
          "execution_count": 23
        }
      ]
    },
    {
      "cell_type": "code",
      "metadata": {
        "id": "vQ36v5PqmIFA"
      },
      "source": [
        "a=np.array([1,3,4,5])\n",
        "b=np.array([8,7,6,5])"
      ],
      "execution_count": null,
      "outputs": []
    },
    {
      "cell_type": "code",
      "metadata": {
        "colab": {
          "base_uri": "https://localhost:8080/"
        },
        "id": "4adndvYwmhEY",
        "outputId": "b9f3996b-1001-4966-f5f4-5f45dc425f55"
      },
      "source": [
        "np.concatenate((a,b))"
      ],
      "execution_count": null,
      "outputs": [
        {
          "output_type": "execute_result",
          "data": {
            "text/plain": [
              "array([1, 3, 4, 5, 8, 7, 6, 5])"
            ]
          },
          "metadata": {},
          "execution_count": 25
        }
      ]
    },
    {
      "cell_type": "code",
      "metadata": {
        "id": "w3A9OmaQmlL1"
      },
      "source": [
        "a=np.array([[1,2],[1,3]])\n",
        "b=np.array([[5,6]])"
      ],
      "execution_count": null,
      "outputs": []
    },
    {
      "cell_type": "code",
      "metadata": {
        "colab": {
          "base_uri": "https://localhost:8080/"
        },
        "id": "2SSY6CPWmveb",
        "outputId": "4ddfc75b-ff35-4bf2-87dd-ecc302576151"
      },
      "source": [
        "np.concatenate((a,b),axis=0)"
      ],
      "execution_count": null,
      "outputs": [
        {
          "output_type": "execute_result",
          "data": {
            "text/plain": [
              "array([[1, 2],\n",
              "       [1, 3],\n",
              "       [5, 6]])"
            ]
          },
          "metadata": {},
          "execution_count": 28
        }
      ]
    },
    {
      "cell_type": "markdown",
      "metadata": {
        "id": "59lCJxFanK2h"
      },
      "source": [
        "Shape and Size of Array"
      ]
    },
    {
      "cell_type": "code",
      "metadata": {
        "colab": {
          "base_uri": "https://localhost:8080/"
        },
        "id": "-_U17a5lnBUr",
        "outputId": "9087751f-ce40-492a-c108-245e6669724c"
      },
      "source": [
        "arr=np.array([[[1,2,3],[1,9,8],[9,5,4]],[[1],[2],[3]]])"
      ],
      "execution_count": null,
      "outputs": [
        {
          "output_type": "stream",
          "name": "stderr",
          "text": [
            "/usr/local/lib/python3.7/dist-packages/ipykernel_launcher.py:1: VisibleDeprecationWarning: Creating an ndarray from ragged nested sequences (which is a list-or-tuple of lists-or-tuples-or ndarrays with different lengths or shapes) is deprecated. If you meant to do this, you must specify 'dtype=object' when creating the ndarray\n",
            "  \"\"\"Entry point for launching an IPython kernel.\n"
          ]
        }
      ]
    },
    {
      "cell_type": "code",
      "metadata": {
        "colab": {
          "base_uri": "https://localhost:8080/"
        },
        "id": "LDf9SKhLndil",
        "outputId": "712c9ba1-3ad9-4268-f7bb-8fb3572fbf5b"
      },
      "source": [
        "arr.ndim"
      ],
      "execution_count": null,
      "outputs": [
        {
          "output_type": "execute_result",
          "data": {
            "text/plain": [
              "2"
            ]
          },
          "metadata": {},
          "execution_count": 43
        }
      ]
    },
    {
      "cell_type": "code",
      "metadata": {
        "colab": {
          "base_uri": "https://localhost:8080/"
        },
        "id": "L0wZmTppniE3",
        "outputId": "aefdddb1-3802-4598-c2e5-a306881b0eec"
      },
      "source": [
        "arr.size"
      ],
      "execution_count": null,
      "outputs": [
        {
          "output_type": "execute_result",
          "data": {
            "text/plain": [
              "6"
            ]
          },
          "metadata": {},
          "execution_count": 44
        }
      ]
    },
    {
      "cell_type": "code",
      "metadata": {
        "colab": {
          "base_uri": "https://localhost:8080/"
        },
        "id": "xBxSPEtJnstC",
        "outputId": "8faf087c-a6ae-4b39-d0e4-78a007da0a97"
      },
      "source": [
        "arr.shape"
      ],
      "execution_count": null,
      "outputs": [
        {
          "output_type": "execute_result",
          "data": {
            "text/plain": [
              "(2, 3)"
            ]
          },
          "metadata": {},
          "execution_count": 45
        }
      ]
    },
    {
      "cell_type": "code",
      "metadata": {
        "id": "HYOMsl8EnzwP"
      },
      "source": [
        "arr1=np.arange(6)"
      ],
      "execution_count": null,
      "outputs": []
    },
    {
      "cell_type": "code",
      "metadata": {
        "colab": {
          "base_uri": "https://localhost:8080/"
        },
        "id": "Imm2LWnno9Mr",
        "outputId": "832cb7c5-502c-41f4-b64c-0ab606628b07"
      },
      "source": [
        "arr1"
      ],
      "execution_count": null,
      "outputs": [
        {
          "output_type": "execute_result",
          "data": {
            "text/plain": [
              "array([0, 1, 2, 3, 4, 5])"
            ]
          },
          "metadata": {},
          "execution_count": 47
        }
      ]
    },
    {
      "cell_type": "code",
      "metadata": {
        "colab": {
          "base_uri": "https://localhost:8080/"
        },
        "id": "w--7l1qPpL5T",
        "outputId": "51e099bc-0470-48ac-df46-8a5592e44781"
      },
      "source": [
        "arr1.ndim"
      ],
      "execution_count": null,
      "outputs": [
        {
          "output_type": "execute_result",
          "data": {
            "text/plain": [
              "1"
            ]
          },
          "metadata": {},
          "execution_count": 51
        }
      ]
    },
    {
      "cell_type": "code",
      "metadata": {
        "colab": {
          "base_uri": "https://localhost:8080/"
        },
        "id": "TEcWz4tvpVtj",
        "outputId": "a3fada7c-85a7-40d4-eb06-65227792d127"
      },
      "source": [
        "arr1.size"
      ],
      "execution_count": null,
      "outputs": [
        {
          "output_type": "execute_result",
          "data": {
            "text/plain": [
              "6"
            ]
          },
          "metadata": {},
          "execution_count": 54
        }
      ]
    },
    {
      "cell_type": "code",
      "metadata": {
        "colab": {
          "base_uri": "https://localhost:8080/"
        },
        "id": "w41PChaNpjou",
        "outputId": "21f281df-f7b7-41bc-cb19-4e29433b38ae"
      },
      "source": [
        "arr1.shape"
      ],
      "execution_count": null,
      "outputs": [
        {
          "output_type": "execute_result",
          "data": {
            "text/plain": [
              "(6,)"
            ]
          },
          "metadata": {},
          "execution_count": 56
        }
      ]
    },
    {
      "cell_type": "code",
      "metadata": {
        "id": "4Ja4TVRTo-lG"
      },
      "source": [
        "b=arr1.reshape(3,2)"
      ],
      "execution_count": null,
      "outputs": []
    },
    {
      "cell_type": "code",
      "metadata": {
        "colab": {
          "base_uri": "https://localhost:8080/"
        },
        "id": "yEuhdWm7pD2g",
        "outputId": "b95a9561-eeb9-427b-b182-02161f30deee"
      },
      "source": [
        "b"
      ],
      "execution_count": null,
      "outputs": [
        {
          "output_type": "execute_result",
          "data": {
            "text/plain": [
              "array([[0, 1],\n",
              "       [2, 3],\n",
              "       [4, 5]])"
            ]
          },
          "metadata": {},
          "execution_count": 50
        }
      ]
    },
    {
      "cell_type": "code",
      "metadata": {
        "colab": {
          "base_uri": "https://localhost:8080/"
        },
        "id": "UQ6aKGeipOws",
        "outputId": "6849979a-08d6-4535-a77f-8335829ccf84"
      },
      "source": [
        "b.ndim"
      ],
      "execution_count": null,
      "outputs": [
        {
          "output_type": "execute_result",
          "data": {
            "text/plain": [
              "2"
            ]
          },
          "metadata": {},
          "execution_count": 52
        }
      ]
    },
    {
      "cell_type": "code",
      "metadata": {
        "colab": {
          "base_uri": "https://localhost:8080/"
        },
        "id": "-82oVJAGpJXh",
        "outputId": "b6c366dc-92eb-4ea7-8be1-d293eb687b34"
      },
      "source": [
        "b.size"
      ],
      "execution_count": null,
      "outputs": [
        {
          "output_type": "execute_result",
          "data": {
            "text/plain": [
              "6"
            ]
          },
          "metadata": {},
          "execution_count": 55
        }
      ]
    },
    {
      "cell_type": "code",
      "metadata": {
        "colab": {
          "base_uri": "https://localhost:8080/"
        },
        "id": "QLtMKhqLpiHY",
        "outputId": "1717ca4b-efca-459e-e9f4-ad777e42ee42"
      },
      "source": [
        "b.shape"
      ],
      "execution_count": null,
      "outputs": [
        {
          "output_type": "execute_result",
          "data": {
            "text/plain": [
              "(3, 2)"
            ]
          },
          "metadata": {},
          "execution_count": 57
        }
      ]
    },
    {
      "cell_type": "markdown",
      "metadata": {
        "id": "8z1ZwQ0AptaC"
      },
      "source": [
        "1D array to 2D array"
      ]
    },
    {
      "cell_type": "code",
      "metadata": {
        "id": "pcsbyS9Fpn9w"
      },
      "source": [
        "a=np.array([1,2,3,4,5,6])"
      ],
      "execution_count": null,
      "outputs": []
    },
    {
      "cell_type": "code",
      "metadata": {
        "colab": {
          "base_uri": "https://localhost:8080/"
        },
        "id": "TDyBKovxp2xh",
        "outputId": "ca10ec55-9dfb-4d66-bb5b-057e1e60f8e2"
      },
      "source": [
        "a"
      ],
      "execution_count": null,
      "outputs": [
        {
          "output_type": "execute_result",
          "data": {
            "text/plain": [
              "array([1, 2, 3, 4, 5, 6])"
            ]
          },
          "metadata": {},
          "execution_count": 59
        }
      ]
    },
    {
      "cell_type": "code",
      "metadata": {
        "colab": {
          "base_uri": "https://localhost:8080/"
        },
        "id": "VK43yUVfp3HL",
        "outputId": "354460a7-4850-48c8-a03a-2721a1f95537"
      },
      "source": [
        "a.shape"
      ],
      "execution_count": null,
      "outputs": [
        {
          "output_type": "execute_result",
          "data": {
            "text/plain": [
              "(6,)"
            ]
          },
          "metadata": {},
          "execution_count": 60
        }
      ]
    },
    {
      "cell_type": "code",
      "metadata": {
        "id": "lOcl8sXWp7De"
      },
      "source": [
        "a2=a[np.newaxis,:]"
      ],
      "execution_count": null,
      "outputs": []
    },
    {
      "cell_type": "code",
      "metadata": {
        "colab": {
          "base_uri": "https://localhost:8080/"
        },
        "id": "ubN9v5rSqD37",
        "outputId": "4a61f51b-a3d1-4734-d756-2f502e0007c9"
      },
      "source": [
        "a2"
      ],
      "execution_count": null,
      "outputs": [
        {
          "output_type": "execute_result",
          "data": {
            "text/plain": [
              "array([[1, 2, 3, 4, 5, 6]])"
            ]
          },
          "metadata": {},
          "execution_count": 62
        }
      ]
    },
    {
      "cell_type": "code",
      "metadata": {
        "colab": {
          "base_uri": "https://localhost:8080/"
        },
        "id": "w-vr7pHCqEjl",
        "outputId": "b498b0e1-6ff7-4210-8f44-755b0be301e4"
      },
      "source": [
        "a2.shape"
      ],
      "execution_count": null,
      "outputs": [
        {
          "output_type": "execute_result",
          "data": {
            "text/plain": [
              "(1, 6)"
            ]
          },
          "metadata": {},
          "execution_count": 63
        }
      ]
    },
    {
      "cell_type": "code",
      "metadata": {
        "colab": {
          "base_uri": "https://localhost:8080/"
        },
        "id": "HMB8jhe5qIvS",
        "outputId": "d7b0ce3a-68e3-47a7-cc03-05d7acaa7870"
      },
      "source": [
        "a2.ndim"
      ],
      "execution_count": null,
      "outputs": [
        {
          "output_type": "execute_result",
          "data": {
            "text/plain": [
              "2"
            ]
          },
          "metadata": {},
          "execution_count": 64
        }
      ]
    },
    {
      "cell_type": "code",
      "metadata": {
        "colab": {
          "base_uri": "https://localhost:8080/"
        },
        "id": "553v-l5cqLDr",
        "outputId": "18b1f727-e5ee-4a40-d399-48101a57a5b7"
      },
      "source": [
        "a"
      ],
      "execution_count": null,
      "outputs": [
        {
          "output_type": "execute_result",
          "data": {
            "text/plain": [
              "array([1, 2, 3, 4, 5, 6])"
            ]
          },
          "metadata": {},
          "execution_count": 65
        }
      ]
    },
    {
      "cell_type": "code",
      "metadata": {
        "id": "c-lbmlQMqbEn"
      },
      "source": [
        "b=np.expand_dims(a,axis=1)"
      ],
      "execution_count": null,
      "outputs": []
    },
    {
      "cell_type": "code",
      "metadata": {
        "colab": {
          "base_uri": "https://localhost:8080/"
        },
        "id": "EykgDffNqiZn",
        "outputId": "32973381-a72f-49ce-ddc9-94b0f64951a1"
      },
      "source": [
        "b"
      ],
      "execution_count": null,
      "outputs": [
        {
          "output_type": "execute_result",
          "data": {
            "text/plain": [
              "array([[1],\n",
              "       [2],\n",
              "       [3],\n",
              "       [4],\n",
              "       [5],\n",
              "       [6]])"
            ]
          },
          "metadata": {},
          "execution_count": 67
        }
      ]
    },
    {
      "cell_type": "code",
      "metadata": {
        "colab": {
          "base_uri": "https://localhost:8080/"
        },
        "id": "wVq45MlJqjH5",
        "outputId": "2ec76788-27c2-4a3d-bd8f-ff8bc213a0d2"
      },
      "source": [
        "b.shape"
      ],
      "execution_count": null,
      "outputs": [
        {
          "output_type": "execute_result",
          "data": {
            "text/plain": [
              "(6, 1)"
            ]
          },
          "metadata": {},
          "execution_count": 68
        }
      ]
    },
    {
      "cell_type": "markdown",
      "metadata": {
        "id": "KA-Oxgy_q0P9"
      },
      "source": [
        "Indexing and Slicing"
      ]
    },
    {
      "cell_type": "code",
      "metadata": {
        "id": "07s2OjSdqo8r"
      },
      "source": [
        "data=np.array([1,2,3])"
      ],
      "execution_count": null,
      "outputs": []
    },
    {
      "cell_type": "code",
      "metadata": {
        "colab": {
          "base_uri": "https://localhost:8080/"
        },
        "id": "O-XdzVuYrGBE",
        "outputId": "bf0e8809-5ecf-428c-ff0f-582ee3ea361a"
      },
      "source": [
        "data"
      ],
      "execution_count": null,
      "outputs": [
        {
          "output_type": "execute_result",
          "data": {
            "text/plain": [
              "array([1, 2, 3])"
            ]
          },
          "metadata": {},
          "execution_count": 70
        }
      ]
    },
    {
      "cell_type": "code",
      "metadata": {
        "colab": {
          "base_uri": "https://localhost:8080/"
        },
        "id": "wR8lhxcWrG6F",
        "outputId": "8c4d5ed0-3e2d-4f80-ffbb-562bf97d492f"
      },
      "source": [
        "data[1]"
      ],
      "execution_count": null,
      "outputs": [
        {
          "output_type": "execute_result",
          "data": {
            "text/plain": [
              "2"
            ]
          },
          "metadata": {},
          "execution_count": 71
        }
      ]
    },
    {
      "cell_type": "code",
      "metadata": {
        "colab": {
          "base_uri": "https://localhost:8080/"
        },
        "id": "HALEbC-7rI_w",
        "outputId": "fb2dd33e-4b69-4977-db83-8e5fd99315e3"
      },
      "source": [
        "data[0:2]"
      ],
      "execution_count": null,
      "outputs": [
        {
          "output_type": "execute_result",
          "data": {
            "text/plain": [
              "array([1, 2])"
            ]
          },
          "metadata": {},
          "execution_count": 72
        }
      ]
    },
    {
      "cell_type": "code",
      "metadata": {
        "id": "-iv4Eu34rcWP"
      },
      "source": [
        "a=np.array([[1,2,3,4],[5,6,7,8],[9,10,11,12]])"
      ],
      "execution_count": null,
      "outputs": []
    },
    {
      "cell_type": "code",
      "metadata": {
        "colab": {
          "base_uri": "https://localhost:8080/"
        },
        "id": "4AKifWbrrqF7",
        "outputId": "f7423e06-bf8c-476a-b511-238c196afbe4"
      },
      "source": [
        "print(a[a<5])"
      ],
      "execution_count": null,
      "outputs": [
        {
          "output_type": "stream",
          "name": "stdout",
          "text": [
            "[1 2 3 4]\n"
          ]
        }
      ]
    },
    {
      "cell_type": "code",
      "metadata": {
        "colab": {
          "base_uri": "https://localhost:8080/"
        },
        "id": "20Bpi5Aort52",
        "outputId": "9fea0846-f54b-47dd-c702-cba38319c833"
      },
      "source": [
        "five_up=(a>=5)\n",
        "print(a[five_up])"
      ],
      "execution_count": null,
      "outputs": [
        {
          "output_type": "stream",
          "name": "stdout",
          "text": [
            "[ 5  6  7  8  9 10 11 12]\n"
          ]
        }
      ]
    },
    {
      "cell_type": "code",
      "metadata": {
        "id": "HdBh-f52sCy5"
      },
      "source": [
        "five_up=(a>5)|(a==5)"
      ],
      "execution_count": null,
      "outputs": []
    },
    {
      "cell_type": "code",
      "metadata": {
        "colab": {
          "base_uri": "https://localhost:8080/"
        },
        "id": "h_bDN0_DsLQW",
        "outputId": "6d2c5179-71b1-4a74-a410-ade96f24655a"
      },
      "source": [
        "print(a[five_up])"
      ],
      "execution_count": null,
      "outputs": [
        {
          "output_type": "stream",
          "name": "stdout",
          "text": [
            "[ 5  6  7  8  9 10 11 12]\n"
          ]
        }
      ]
    },
    {
      "cell_type": "code",
      "metadata": {
        "id": "FJYTFrOZsZAu"
      },
      "source": [
        "b=np.nonzero(a<5)"
      ],
      "execution_count": null,
      "outputs": []
    },
    {
      "cell_type": "code",
      "metadata": {
        "colab": {
          "base_uri": "https://localhost:8080/"
        },
        "id": "C0jg2bQnshj4",
        "outputId": "c4102b36-5762-4b72-9194-5d8e81da1ad4"
      },
      "source": [
        "b"
      ],
      "execution_count": null,
      "outputs": [
        {
          "output_type": "execute_result",
          "data": {
            "text/plain": [
              "(array([0, 0, 0, 0]), array([0, 1, 2, 3]))"
            ]
          },
          "metadata": {},
          "execution_count": 80
        }
      ]
    },
    {
      "cell_type": "code",
      "metadata": {
        "id": "j_Xh24dLsiaV"
      },
      "source": [
        "data=np.array([1,2])"
      ],
      "execution_count": null,
      "outputs": []
    },
    {
      "cell_type": "code",
      "metadata": {
        "id": "nSSOMlmAs1i9"
      },
      "source": [
        "ones=np.ones(2,dtype=int)"
      ],
      "execution_count": null,
      "outputs": []
    },
    {
      "cell_type": "code",
      "metadata": {
        "colab": {
          "base_uri": "https://localhost:8080/"
        },
        "id": "PN7vToAps6oz",
        "outputId": "ad40f320-085d-4be0-c898-d312474a82f2"
      },
      "source": [
        "data+ones"
      ],
      "execution_count": null,
      "outputs": [
        {
          "output_type": "execute_result",
          "data": {
            "text/plain": [
              "array([2, 3])"
            ]
          },
          "metadata": {},
          "execution_count": 83
        }
      ]
    },
    {
      "cell_type": "code",
      "metadata": {
        "colab": {
          "base_uri": "https://localhost:8080/"
        },
        "id": "AoDCnOUBs9zF",
        "outputId": "ffcc9e05-46d4-4098-8289-accab6d2e0e5"
      },
      "source": [
        "data*5"
      ],
      "execution_count": null,
      "outputs": [
        {
          "output_type": "execute_result",
          "data": {
            "text/plain": [
              "array([ 5, 10])"
            ]
          },
          "metadata": {},
          "execution_count": 84
        }
      ]
    },
    {
      "cell_type": "code",
      "metadata": {
        "colab": {
          "base_uri": "https://localhost:8080/"
        },
        "id": "Nd5avJFxtEnH",
        "outputId": "0405dc4a-f5a2-41c0-b61e-3a8809bc0289"
      },
      "source": [
        "data.sum()"
      ],
      "execution_count": null,
      "outputs": [
        {
          "output_type": "execute_result",
          "data": {
            "text/plain": [
              "3"
            ]
          },
          "metadata": {},
          "execution_count": 85
        }
      ]
    },
    {
      "cell_type": "code",
      "metadata": {
        "colab": {
          "base_uri": "https://localhost:8080/"
        },
        "id": "vYyd1QIEtJ1d",
        "outputId": "db2a4b0f-6faf-4d0c-eece-29c39d58951d"
      },
      "source": [
        "data.min()"
      ],
      "execution_count": null,
      "outputs": [
        {
          "output_type": "execute_result",
          "data": {
            "text/plain": [
              "1"
            ]
          },
          "metadata": {},
          "execution_count": 86
        }
      ]
    },
    {
      "cell_type": "code",
      "metadata": {
        "colab": {
          "base_uri": "https://localhost:8080/"
        },
        "id": "rp04v2cZtLjC",
        "outputId": "d561c677-57ff-4aef-c539-878f102c9b3f"
      },
      "source": [
        "data.max()"
      ],
      "execution_count": null,
      "outputs": [
        {
          "output_type": "execute_result",
          "data": {
            "text/plain": [
              "2"
            ]
          },
          "metadata": {},
          "execution_count": 87
        }
      ]
    },
    {
      "cell_type": "code",
      "metadata": {
        "colab": {
          "base_uri": "https://localhost:8080/"
        },
        "id": "RfGrYCBBtNeV",
        "outputId": "e4993bc7-39dc-4fa3-d677-87c6490f6152"
      },
      "source": [
        "a"
      ],
      "execution_count": null,
      "outputs": [
        {
          "output_type": "execute_result",
          "data": {
            "text/plain": [
              "array([[ 1,  2,  3,  4],\n",
              "       [ 5,  6,  7,  8],\n",
              "       [ 9, 10, 11, 12]])"
            ]
          },
          "metadata": {},
          "execution_count": 88
        }
      ]
    },
    {
      "cell_type": "code",
      "metadata": {
        "id": "erdjHF6gtYCq"
      },
      "source": [
        "unique_values=np.unique(a)"
      ],
      "execution_count": null,
      "outputs": []
    },
    {
      "cell_type": "code",
      "metadata": {
        "colab": {
          "base_uri": "https://localhost:8080/"
        },
        "id": "gsjvQB_4tg_4",
        "outputId": "ce0a5a96-f58d-4d68-9c27-a0373f3fd0b9"
      },
      "source": [
        "unique_values"
      ],
      "execution_count": null,
      "outputs": [
        {
          "output_type": "execute_result",
          "data": {
            "text/plain": [
              "array([ 1,  2,  3,  4,  5,  6,  7,  8,  9, 10, 11, 12])"
            ]
          },
          "metadata": {},
          "execution_count": 90
        }
      ]
    },
    {
      "cell_type": "code",
      "metadata": {
        "colab": {
          "base_uri": "https://localhost:8080/"
        },
        "id": "024_DgRWtjKM",
        "outputId": "376585cb-76b9-40a5-ac8c-884634164692"
      },
      "source": [
        "a"
      ],
      "execution_count": null,
      "outputs": [
        {
          "output_type": "execute_result",
          "data": {
            "text/plain": [
              "array([[ 1,  2,  3,  4],\n",
              "       [ 5,  6,  7,  8],\n",
              "       [ 9, 10, 11, 12]])"
            ]
          },
          "metadata": {},
          "execution_count": 91
        }
      ]
    },
    {
      "cell_type": "code",
      "metadata": {
        "colab": {
          "base_uri": "https://localhost:8080/"
        },
        "id": "j6e5SHoot4Cz",
        "outputId": "1cfa6622-a9aa-4c1d-8ebf-74e2e6fecc6c"
      },
      "source": [
        "a.shape"
      ],
      "execution_count": null,
      "outputs": [
        {
          "output_type": "execute_result",
          "data": {
            "text/plain": [
              "(3, 4)"
            ]
          },
          "metadata": {},
          "execution_count": 92
        }
      ]
    },
    {
      "cell_type": "code",
      "metadata": {
        "id": "OgLQQ8Pst6JS"
      },
      "source": [
        "a2=a.transpose()"
      ],
      "execution_count": null,
      "outputs": []
    },
    {
      "cell_type": "code",
      "metadata": {
        "colab": {
          "base_uri": "https://localhost:8080/"
        },
        "id": "sxBJ9Q8Zt_xG",
        "outputId": "d4f8e99d-cb10-44ce-af2b-e122d848482f"
      },
      "source": [
        "a2.shape"
      ],
      "execution_count": null,
      "outputs": [
        {
          "output_type": "execute_result",
          "data": {
            "text/plain": [
              "(4, 3)"
            ]
          },
          "metadata": {},
          "execution_count": 96
        }
      ]
    },
    {
      "cell_type": "code",
      "metadata": {
        "colab": {
          "base_uri": "https://localhost:8080/"
        },
        "id": "d7akNXNEuCLo",
        "outputId": "3f528c4d-2731-46b5-d8ed-d56b45391bb4"
      },
      "source": [
        "a"
      ],
      "execution_count": null,
      "outputs": [
        {
          "output_type": "execute_result",
          "data": {
            "text/plain": [
              "array([[ 1,  2,  3,  4],\n",
              "       [ 5,  6,  7,  8],\n",
              "       [ 9, 10, 11, 12]])"
            ]
          },
          "metadata": {},
          "execution_count": 97
        }
      ]
    },
    {
      "cell_type": "code",
      "metadata": {
        "colab": {
          "base_uri": "https://localhost:8080/"
        },
        "id": "cFHrdeeTuKGV",
        "outputId": "7d93bbde-f673-44a7-f246-7d424a78c6e7"
      },
      "source": [
        "a.T"
      ],
      "execution_count": null,
      "outputs": [
        {
          "output_type": "execute_result",
          "data": {
            "text/plain": [
              "array([[ 1,  5,  9],\n",
              "       [ 2,  6, 10],\n",
              "       [ 3,  7, 11],\n",
              "       [ 4,  8, 12]])"
            ]
          },
          "metadata": {},
          "execution_count": 98
        }
      ]
    },
    {
      "cell_type": "code",
      "metadata": {
        "id": "oAPKoDKwuNNu"
      },
      "source": [
        "arr2=np.array([1,2,3,4,5,6,7,8,9])"
      ],
      "execution_count": null,
      "outputs": []
    },
    {
      "cell_type": "code",
      "metadata": {
        "colab": {
          "base_uri": "https://localhost:8080/"
        },
        "id": "_VbMPHpNup9N",
        "outputId": "8a2b95ed-d8b1-4eea-d7f4-a2a403b5ce29"
      },
      "source": [
        "arr2"
      ],
      "execution_count": null,
      "outputs": [
        {
          "output_type": "execute_result",
          "data": {
            "text/plain": [
              "array([1, 2, 3, 4, 5, 6, 7, 8, 9])"
            ]
          },
          "metadata": {},
          "execution_count": 102
        }
      ]
    },
    {
      "cell_type": "code",
      "metadata": {
        "id": "aDZvQ1B4uUIN"
      },
      "source": [
        "reversed_arr2=np.flip(arr2)"
      ],
      "execution_count": null,
      "outputs": []
    },
    {
      "cell_type": "code",
      "metadata": {
        "colab": {
          "base_uri": "https://localhost:8080/"
        },
        "id": "_MnacarUuiY0",
        "outputId": "5f15bf2c-1502-41a9-815b-ebba9bddadb1"
      },
      "source": [
        "reversed_arr2"
      ],
      "execution_count": null,
      "outputs": [
        {
          "output_type": "execute_result",
          "data": {
            "text/plain": [
              "array([9, 8, 7, 6, 5, 4, 3, 2, 1])"
            ]
          },
          "metadata": {},
          "execution_count": 103
        }
      ]
    },
    {
      "cell_type": "code",
      "metadata": {
        "colab": {
          "base_uri": "https://localhost:8080/"
        },
        "id": "ep5Y8pOYuukI",
        "outputId": "2fbe9212-7d4d-4cb7-9b45-6bf75a4b781c"
      },
      "source": [
        "a\n"
      ],
      "execution_count": null,
      "outputs": [
        {
          "output_type": "execute_result",
          "data": {
            "text/plain": [
              "array([[ 1,  2,  3,  4],\n",
              "       [ 5,  6,  7,  8],\n",
              "       [ 9, 10, 11, 12]])"
            ]
          },
          "metadata": {},
          "execution_count": 104
        }
      ]
    },
    {
      "cell_type": "code",
      "metadata": {
        "id": "rm5CybHGuy7y"
      },
      "source": [
        "reversed_a=np.flip(a)"
      ],
      "execution_count": null,
      "outputs": []
    },
    {
      "cell_type": "code",
      "metadata": {
        "colab": {
          "base_uri": "https://localhost:8080/"
        },
        "id": "3sFXDx6Bu5JS",
        "outputId": "5a7b67d4-0cf5-4c18-aa9e-12b0d252ea3c"
      },
      "source": [
        "reversed_a"
      ],
      "execution_count": null,
      "outputs": [
        {
          "output_type": "execute_result",
          "data": {
            "text/plain": [
              "array([[12, 11, 10,  9],\n",
              "       [ 8,  7,  6,  5],\n",
              "       [ 4,  3,  2,  1]])"
            ]
          },
          "metadata": {},
          "execution_count": 106
        }
      ]
    },
    {
      "cell_type": "code",
      "metadata": {
        "id": "pzoJRQ8zu6jS"
      },
      "source": [
        "reversed_a_rows=np.flip(a,axis=0)"
      ],
      "execution_count": null,
      "outputs": []
    },
    {
      "cell_type": "code",
      "metadata": {
        "colab": {
          "base_uri": "https://localhost:8080/"
        },
        "id": "H2m7c7zgvRnx",
        "outputId": "12d3db72-570c-4bd5-c06f-ca59b3a80cd4"
      },
      "source": [
        "reversed_a_rows"
      ],
      "execution_count": null,
      "outputs": [
        {
          "output_type": "execute_result",
          "data": {
            "text/plain": [
              "array([[ 9, 10, 11, 12],\n",
              "       [ 5,  6,  7,  8],\n",
              "       [ 1,  2,  3,  4]])"
            ]
          },
          "metadata": {},
          "execution_count": 108
        }
      ]
    },
    {
      "cell_type": "code",
      "metadata": {
        "id": "9Fk8IcuCvrF6"
      },
      "source": [
        "reversed_a_col=np.flip(a,axis=1)"
      ],
      "execution_count": null,
      "outputs": []
    },
    {
      "cell_type": "code",
      "metadata": {
        "colab": {
          "base_uri": "https://localhost:8080/"
        },
        "id": "3BUaCJMcwGUm",
        "outputId": "3ca1b02e-766f-4ae4-9ed1-5c42bd2135c6"
      },
      "source": [
        "reversed_a_col"
      ],
      "execution_count": null,
      "outputs": [
        {
          "output_type": "execute_result",
          "data": {
            "text/plain": [
              "array([[ 4,  3,  2,  1],\n",
              "       [ 8,  7,  6,  5],\n",
              "       [12, 11, 10,  9]])"
            ]
          },
          "metadata": {},
          "execution_count": 110
        }
      ]
    },
    {
      "cell_type": "markdown",
      "metadata": {
        "id": "yDXhesULwUhz"
      },
      "source": [
        "Flattening and reshaping multidimensional arrays"
      ]
    },
    {
      "cell_type": "code",
      "metadata": {
        "colab": {
          "base_uri": "https://localhost:8080/"
        },
        "id": "ukgQrxJhwK08",
        "outputId": "a047b10d-e804-4b48-8a4e-dbd9b9e96908"
      },
      "source": [
        "a"
      ],
      "execution_count": null,
      "outputs": [
        {
          "output_type": "execute_result",
          "data": {
            "text/plain": [
              "array([[ 1,  2,  3,  4],\n",
              "       [ 5,  6,  7,  8],\n",
              "       [ 9, 10, 11, 12]])"
            ]
          },
          "metadata": {},
          "execution_count": 112
        }
      ]
    },
    {
      "cell_type": "code",
      "metadata": {
        "id": "ol_l6T43wTda"
      },
      "source": [
        "a3=a.flatten()"
      ],
      "execution_count": null,
      "outputs": []
    },
    {
      "cell_type": "code",
      "metadata": {
        "id": "CQhc5wqywgzl"
      },
      "source": [
        "a3[3]=9"
      ],
      "execution_count": null,
      "outputs": []
    },
    {
      "cell_type": "code",
      "metadata": {
        "colab": {
          "base_uri": "https://localhost:8080/"
        },
        "id": "9GQkfLkwwtN2",
        "outputId": "6b99387a-8b26-4d88-eb6d-99eacac14545"
      },
      "source": [
        "a3"
      ],
      "execution_count": null,
      "outputs": [
        {
          "output_type": "execute_result",
          "data": {
            "text/plain": [
              "array([ 1,  2,  3,  9,  5,  6,  7,  8,  9, 10, 11, 12])"
            ]
          },
          "metadata": {},
          "execution_count": 116
        }
      ]
    },
    {
      "cell_type": "code",
      "metadata": {
        "colab": {
          "base_uri": "https://localhost:8080/"
        },
        "id": "wGah1hSLwuMh",
        "outputId": "8cec8456-1cfe-498e-8cb6-d6c60c126001"
      },
      "source": [
        "a.ravel()"
      ],
      "execution_count": null,
      "outputs": [
        {
          "output_type": "execute_result",
          "data": {
            "text/plain": [
              "array([ 1,  2,  3,  4,  5,  6,  7,  8,  9, 10, 11, 12])"
            ]
          },
          "metadata": {},
          "execution_count": 117
        }
      ]
    },
    {
      "cell_type": "code",
      "metadata": {
        "id": "2ouuKMFww4M1"
      },
      "source": [
        "a?"
      ],
      "execution_count": null,
      "outputs": []
    },
    {
      "cell_type": "code",
      "metadata": {
        "id": "d0SGvUbrxF6d"
      },
      "source": [
        "a3??"
      ],
      "execution_count": null,
      "outputs": []
    },
    {
      "cell_type": "markdown",
      "metadata": {
        "id": "BwL6Ooraxjh7"
      },
      "source": [
        "File importing using numpy"
      ]
    },
    {
      "cell_type": "code",
      "metadata": {
        "id": "bmSrHYzDxUye"
      },
      "source": [
        "csv_arr=np.array([1,2,3,4,5,6,7,8,9])"
      ],
      "execution_count": null,
      "outputs": []
    },
    {
      "cell_type": "code",
      "metadata": {
        "id": "8vY9g2FAx7h1"
      },
      "source": [
        "np.savetxt('new_csv_file.csv',csv_arr)"
      ],
      "execution_count": null,
      "outputs": []
    },
    {
      "cell_type": "code",
      "metadata": {
        "colab": {
          "base_uri": "https://localhost:8080/"
        },
        "id": "6s1kZ2HiyI9f",
        "outputId": "96ca2e89-ad3d-4f6e-a712-3a0d54bdbb35"
      },
      "source": [
        "np.loadtxt('new_csv_file.csv')"
      ],
      "execution_count": null,
      "outputs": [
        {
          "output_type": "execute_result",
          "data": {
            "text/plain": [
              "array([1., 2., 3., 4., 5., 6., 7., 8., 9.])"
            ]
          },
          "metadata": {},
          "execution_count": 122
        }
      ]
    },
    {
      "cell_type": "markdown",
      "metadata": {
        "id": "hHOQufRAylN6"
      },
      "source": [
        "Import CSV file using Pandas"
      ]
    },
    {
      "cell_type": "code",
      "metadata": {
        "id": "8Z-ci6_myPgR"
      },
      "source": [
        "import pandas as pd"
      ],
      "execution_count": null,
      "outputs": []
    },
    {
      "cell_type": "code",
      "metadata": {
        "id": "FEcVoveDytZC"
      },
      "source": [
        "data=pd.read_csv('/content/drive/MyDrive/Rec.csv')"
      ],
      "execution_count": null,
      "outputs": []
    },
    {
      "cell_type": "code",
      "metadata": {
        "colab": {
          "base_uri": "https://localhost:8080/",
          "height": 434
        },
        "id": "dnQyv1CAy8xf",
        "outputId": "6d86575b-91de-4b1f-8c7d-c6b0ee2411ef"
      },
      "source": [
        "data"
      ],
      "execution_count": null,
      "outputs": [
        {
          "output_type": "execute_result",
          "data": {
            "text/html": [
              "<div>\n",
              "<style scoped>\n",
              "    .dataframe tbody tr th:only-of-type {\n",
              "        vertical-align: middle;\n",
              "    }\n",
              "\n",
              "    .dataframe tbody tr th {\n",
              "        vertical-align: top;\n",
              "    }\n",
              "\n",
              "    .dataframe thead th {\n",
              "        text-align: right;\n",
              "    }\n",
              "</style>\n",
              "<table border=\"1\" class=\"dataframe\">\n",
              "  <thead>\n",
              "    <tr style=\"text-align: right;\">\n",
              "      <th></th>\n",
              "      <th>pkSeqID</th>\n",
              "      <th>proto</th>\n",
              "      <th>saddr</th>\n",
              "      <th>sport</th>\n",
              "      <th>daddr</th>\n",
              "      <th>dport</th>\n",
              "      <th>seq</th>\n",
              "      <th>stddev</th>\n",
              "      <th>N_IN_Conn_P_SrcIP</th>\n",
              "      <th>min</th>\n",
              "      <th>state_number</th>\n",
              "      <th>mean</th>\n",
              "      <th>N_IN_Conn_P_DstIP</th>\n",
              "      <th>drate</th>\n",
              "      <th>srate</th>\n",
              "      <th>max</th>\n",
              "      <th>attack</th>\n",
              "      <th>category</th>\n",
              "      <th>subcategory</th>\n",
              "    </tr>\n",
              "  </thead>\n",
              "  <tbody>\n",
              "    <tr>\n",
              "      <th>0</th>\n",
              "      <td>3591126</td>\n",
              "      <td>tcp</td>\n",
              "      <td>192.168.100.150</td>\n",
              "      <td>45115</td>\n",
              "      <td>192.168.100.7</td>\n",
              "      <td>3031</td>\n",
              "      <td>13913</td>\n",
              "      <td>0.0</td>\n",
              "      <td>100</td>\n",
              "      <td>0.000423</td>\n",
              "      <td>1</td>\n",
              "      <td>0.000423</td>\n",
              "      <td>100</td>\n",
              "      <td>0.000000</td>\n",
              "      <td>0.000000</td>\n",
              "      <td>0.000423</td>\n",
              "      <td>1</td>\n",
              "      <td>Reconnaissance</td>\n",
              "      <td>OS_Fingerprint</td>\n",
              "    </tr>\n",
              "    <tr>\n",
              "      <th>1</th>\n",
              "      <td>3664695</td>\n",
              "      <td>tcp</td>\n",
              "      <td>192.168.100.150</td>\n",
              "      <td>61890</td>\n",
              "      <td>192.168.100.5</td>\n",
              "      <td>9502</td>\n",
              "      <td>5431</td>\n",
              "      <td>0.0</td>\n",
              "      <td>98</td>\n",
              "      <td>0.000781</td>\n",
              "      <td>1</td>\n",
              "      <td>0.000781</td>\n",
              "      <td>100</td>\n",
              "      <td>0.000000</td>\n",
              "      <td>0.000000</td>\n",
              "      <td>0.000781</td>\n",
              "      <td>1</td>\n",
              "      <td>Reconnaissance</td>\n",
              "      <td>Service_Scan</td>\n",
              "    </tr>\n",
              "    <tr>\n",
              "      <th>2</th>\n",
              "      <td>3626816</td>\n",
              "      <td>tcp</td>\n",
              "      <td>192.168.100.147</td>\n",
              "      <td>1822</td>\n",
              "      <td>192.168.100.3</td>\n",
              "      <td>916</td>\n",
              "      <td>3030</td>\n",
              "      <td>0.0</td>\n",
              "      <td>100</td>\n",
              "      <td>0.004917</td>\n",
              "      <td>1</td>\n",
              "      <td>0.004917</td>\n",
              "      <td>100</td>\n",
              "      <td>406.752075</td>\n",
              "      <td>203.376038</td>\n",
              "      <td>0.004917</td>\n",
              "      <td>1</td>\n",
              "      <td>Reconnaissance</td>\n",
              "      <td>Service_Scan</td>\n",
              "    </tr>\n",
              "    <tr>\n",
              "      <th>3</th>\n",
              "      <td>3664169</td>\n",
              "      <td>tcp</td>\n",
              "      <td>192.168.100.149</td>\n",
              "      <td>33626</td>\n",
              "      <td>192.168.100.5</td>\n",
              "      <td>9000</td>\n",
              "      <td>4900</td>\n",
              "      <td>0.0</td>\n",
              "      <td>100</td>\n",
              "      <td>0.002834</td>\n",
              "      <td>1</td>\n",
              "      <td>0.002834</td>\n",
              "      <td>100</td>\n",
              "      <td>0.000000</td>\n",
              "      <td>0.000000</td>\n",
              "      <td>0.002834</td>\n",
              "      <td>1</td>\n",
              "      <td>Reconnaissance</td>\n",
              "      <td>Service_Scan</td>\n",
              "    </tr>\n",
              "    <tr>\n",
              "      <th>4</th>\n",
              "      <td>3630606</td>\n",
              "      <td>tcp</td>\n",
              "      <td>192.168.100.149</td>\n",
              "      <td>1216</td>\n",
              "      <td>192.168.100.3</td>\n",
              "      <td>400</td>\n",
              "      <td>6924</td>\n",
              "      <td>0.0</td>\n",
              "      <td>100</td>\n",
              "      <td>0.005377</td>\n",
              "      <td>1</td>\n",
              "      <td>0.005377</td>\n",
              "      <td>100</td>\n",
              "      <td>185.977310</td>\n",
              "      <td>185.977310</td>\n",
              "      <td>0.005377</td>\n",
              "      <td>1</td>\n",
              "      <td>Reconnaissance</td>\n",
              "      <td>Service_Scan</td>\n",
              "    </tr>\n",
              "    <tr>\n",
              "      <th>...</th>\n",
              "      <td>...</td>\n",
              "      <td>...</td>\n",
              "      <td>...</td>\n",
              "      <td>...</td>\n",
              "      <td>...</td>\n",
              "      <td>...</td>\n",
              "      <td>...</td>\n",
              "      <td>...</td>\n",
              "      <td>...</td>\n",
              "      <td>...</td>\n",
              "      <td>...</td>\n",
              "      <td>...</td>\n",
              "      <td>...</td>\n",
              "      <td>...</td>\n",
              "      <td>...</td>\n",
              "      <td>...</td>\n",
              "      <td>...</td>\n",
              "      <td>...</td>\n",
              "      <td>...</td>\n",
              "    </tr>\n",
              "    <tr>\n",
              "      <th>23414</th>\n",
              "      <td>3666863</td>\n",
              "      <td>tcp</td>\n",
              "      <td>192.168.100.147</td>\n",
              "      <td>64482</td>\n",
              "      <td>192.168.100.5</td>\n",
              "      <td>3517</td>\n",
              "      <td>7604</td>\n",
              "      <td>0.0</td>\n",
              "      <td>100</td>\n",
              "      <td>0.003319</td>\n",
              "      <td>1</td>\n",
              "      <td>0.003319</td>\n",
              "      <td>100</td>\n",
              "      <td>0.000000</td>\n",
              "      <td>0.000000</td>\n",
              "      <td>0.003319</td>\n",
              "      <td>1</td>\n",
              "      <td>Reconnaissance</td>\n",
              "      <td>Service_Scan</td>\n",
              "    </tr>\n",
              "    <tr>\n",
              "      <th>23415</th>\n",
              "      <td>3650300</td>\n",
              "      <td>tcp</td>\n",
              "      <td>192.168.100.147</td>\n",
              "      <td>38566</td>\n",
              "      <td>192.168.100.5</td>\n",
              "      <td>3801</td>\n",
              "      <td>27021</td>\n",
              "      <td>0.0</td>\n",
              "      <td>100</td>\n",
              "      <td>0.001070</td>\n",
              "      <td>1</td>\n",
              "      <td>0.001070</td>\n",
              "      <td>100</td>\n",
              "      <td>0.000000</td>\n",
              "      <td>0.000000</td>\n",
              "      <td>0.001070</td>\n",
              "      <td>1</td>\n",
              "      <td>Reconnaissance</td>\n",
              "      <td>Service_Scan</td>\n",
              "    </tr>\n",
              "    <tr>\n",
              "      <th>23416</th>\n",
              "      <td>3623887</td>\n",
              "      <td>tcp</td>\n",
              "      <td>192.168.100.150</td>\n",
              "      <td>2969</td>\n",
              "      <td>192.168.100.3</td>\n",
              "      <td>69</td>\n",
              "      <td>94</td>\n",
              "      <td>0.0</td>\n",
              "      <td>75</td>\n",
              "      <td>0.008106</td>\n",
              "      <td>1</td>\n",
              "      <td>0.008106</td>\n",
              "      <td>98</td>\n",
              "      <td>123.365410</td>\n",
              "      <td>123.365410</td>\n",
              "      <td>0.008106</td>\n",
              "      <td>1</td>\n",
              "      <td>Reconnaissance</td>\n",
              "      <td>Service_Scan</td>\n",
              "    </tr>\n",
              "    <tr>\n",
              "      <th>23417</th>\n",
              "      <td>3629647</td>\n",
              "      <td>tcp</td>\n",
              "      <td>192.168.100.150</td>\n",
              "      <td>1589</td>\n",
              "      <td>192.168.100.3</td>\n",
              "      <td>492</td>\n",
              "      <td>5969</td>\n",
              "      <td>0.0</td>\n",
              "      <td>100</td>\n",
              "      <td>0.005168</td>\n",
              "      <td>1</td>\n",
              "      <td>0.005168</td>\n",
              "      <td>100</td>\n",
              "      <td>193.498459</td>\n",
              "      <td>193.498459</td>\n",
              "      <td>0.005168</td>\n",
              "      <td>1</td>\n",
              "      <td>Reconnaissance</td>\n",
              "      <td>Service_Scan</td>\n",
              "    </tr>\n",
              "    <tr>\n",
              "      <th>23418</th>\n",
              "      <td>3590023</td>\n",
              "      <td>tcp</td>\n",
              "      <td>192.168.100.149</td>\n",
              "      <td>55550</td>\n",
              "      <td>192.168.100.6</td>\n",
              "      <td>4550</td>\n",
              "      <td>12790</td>\n",
              "      <td>0.0</td>\n",
              "      <td>35</td>\n",
              "      <td>0.000045</td>\n",
              "      <td>1</td>\n",
              "      <td>0.000045</td>\n",
              "      <td>100</td>\n",
              "      <td>0.000000</td>\n",
              "      <td>0.000000</td>\n",
              "      <td>0.000045</td>\n",
              "      <td>1</td>\n",
              "      <td>Reconnaissance</td>\n",
              "      <td>OS_Fingerprint</td>\n",
              "    </tr>\n",
              "  </tbody>\n",
              "</table>\n",
              "<p>23419 rows × 19 columns</p>\n",
              "</div>"
            ],
            "text/plain": [
              "       pkSeqID proto            saddr  ...  attack        category     subcategory\n",
              "0      3591126   tcp  192.168.100.150  ...       1  Reconnaissance  OS_Fingerprint\n",
              "1      3664695   tcp  192.168.100.150  ...       1  Reconnaissance    Service_Scan\n",
              "2      3626816   tcp  192.168.100.147  ...       1  Reconnaissance    Service_Scan\n",
              "3      3664169   tcp  192.168.100.149  ...       1  Reconnaissance    Service_Scan\n",
              "4      3630606   tcp  192.168.100.149  ...       1  Reconnaissance    Service_Scan\n",
              "...        ...   ...              ...  ...     ...             ...             ...\n",
              "23414  3666863   tcp  192.168.100.147  ...       1  Reconnaissance    Service_Scan\n",
              "23415  3650300   tcp  192.168.100.147  ...       1  Reconnaissance    Service_Scan\n",
              "23416  3623887   tcp  192.168.100.150  ...       1  Reconnaissance    Service_Scan\n",
              "23417  3629647   tcp  192.168.100.150  ...       1  Reconnaissance    Service_Scan\n",
              "23418  3590023   tcp  192.168.100.149  ...       1  Reconnaissance  OS_Fingerprint\n",
              "\n",
              "[23419 rows x 19 columns]"
            ]
          },
          "metadata": {},
          "execution_count": 125
        }
      ]
    },
    {
      "cell_type": "markdown",
      "metadata": {
        "id": "csWSsNHIzOcd"
      },
      "source": [
        "Plotting arrays using Matplotlib"
      ]
    },
    {
      "cell_type": "code",
      "metadata": {
        "colab": {
          "base_uri": "https://localhost:8080/"
        },
        "id": "aXQB-uLPy-28",
        "outputId": "7d50e041-13c8-46d5-d190-c9dda47abe5e"
      },
      "source": [
        "a3"
      ],
      "execution_count": null,
      "outputs": [
        {
          "output_type": "execute_result",
          "data": {
            "text/plain": [
              "array([ 1,  2,  3,  9,  5,  6,  7,  8,  9, 10, 11, 12])"
            ]
          },
          "metadata": {},
          "execution_count": 126
        }
      ]
    },
    {
      "cell_type": "code",
      "metadata": {
        "id": "uAhxgVskzXS3"
      },
      "source": [
        "import matplotlib.pyplot as plt\n"
      ],
      "execution_count": null,
      "outputs": []
    },
    {
      "cell_type": "code",
      "metadata": {
        "colab": {
          "base_uri": "https://localhost:8080/",
          "height": 282
        },
        "id": "hYtkudKrzh7I",
        "outputId": "e50aa2d4-e6e5-4bc1-e313-dba388ac3096"
      },
      "source": [
        "plt.plot(a3)"
      ],
      "execution_count": null,
      "outputs": [
        {
          "output_type": "execute_result",
          "data": {
            "text/plain": [
              "[<matplotlib.lines.Line2D at 0x7f13514fbe50>]"
            ]
          },
          "metadata": {},
          "execution_count": 130
        },
        {
          "output_type": "display_data",
          "data": {
            "image/png": "[encoded data removed]",
            "text/plain": [
              "<Figure size 432x288 with 1 Axes>"
            ]
          },
          "metadata": {
            "needs_background": "light"
          }
        }
      ]
    },
    {
      "cell_type": "markdown",
      "metadata": {
        "id": "Txo912KjfgA6"
      },
      "source": [
        "Converting Python sequemce into numpy arrays"
      ]
    },
    {
      "cell_type": "code",
      "metadata": {
        "id": "pbzo6epyfush"
      },
      "source": [
        "import numpy as np"
      ],
      "execution_count": 2,
      "outputs": []
    },
    {
      "cell_type": "code",
      "metadata": {
        "id": "JJHox-ZQzlWZ",
        "colab": {
          "base_uri": "https://localhost:8080/"
        },
        "outputId": "8e64ad0f-dcad-4df7-d028-87e73fcebac9"
      },
      "source": [
        "a1D = np.array([1,2,3,4])\n",
        "a1D"
      ],
      "execution_count": 4,
      "outputs": [
        {
          "output_type": "execute_result",
          "data": {
            "text/plain": [
              "array([1, 2, 3, 4])"
            ]
          },
          "metadata": {},
          "execution_count": 4
        }
      ]
    },
    {
      "cell_type": "code",
      "metadata": {
        "colab": {
          "base_uri": "https://localhost:8080/"
        },
        "id": "8VaYWNsXfrsB",
        "outputId": "22d80971-9fad-4090-89a6-906ce588c62b"
      },
      "source": [
        "a2D=np.array([[1,2,3],[5,6,7]])\n",
        "a2D"
      ],
      "execution_count": 6,
      "outputs": [
        {
          "output_type": "execute_result",
          "data": {
            "text/plain": [
              "array([[1, 2, 3],\n",
              "       [5, 6, 7]])"
            ]
          },
          "metadata": {},
          "execution_count": 6
        }
      ]
    },
    {
      "cell_type": "code",
      "metadata": {
        "colab": {
          "base_uri": "https://localhost:8080/"
        },
        "id": "OysxO3qqgHS0",
        "outputId": "1047a5c3-ccc8-431a-a327-29018c01ace5"
      },
      "source": [
        "a3D = np.array([[[1,2,3],[5,6,7],[4,4,9]]])\n",
        "a3D"
      ],
      "execution_count": 8,
      "outputs": [
        {
          "output_type": "execute_result",
          "data": {
            "text/plain": [
              "array([[[1, 2, 3],\n",
              "        [5, 6, 7],\n",
              "        [4, 4, 9]]])"
            ]
          },
          "metadata": {},
          "execution_count": 8
        }
      ]
    },
    {
      "cell_type": "code",
      "metadata": {
        "colab": {
          "base_uri": "https://localhost:8080/"
        },
        "id": "C18_xJX1gT8f",
        "outputId": "001ce5d9-8fd4-497f-e561-8d077043a84e"
      },
      "source": [
        "a=np.array([128,127,343,400],dtype=np.int8)\n",
        "a"
      ],
      "execution_count": 11,
      "outputs": [
        {
          "output_type": "execute_result",
          "data": {
            "text/plain": [
              "array([-128,  127,   87, -112], dtype=int8)"
            ]
          },
          "metadata": {},
          "execution_count": 11
        }
      ]
    },
    {
      "cell_type": "code",
      "metadata": {
        "colab": {
          "base_uri": "https://localhost:8080/"
        },
        "id": "4iiUlXeTgrw3",
        "outputId": "56f281df-af6b-4904-d85e-6431559698a9"
      },
      "source": [
        "np.arange(10)"
      ],
      "execution_count": 13,
      "outputs": [
        {
          "output_type": "execute_result",
          "data": {
            "text/plain": [
              "array([0, 1, 2, 3, 4, 5, 6, 7, 8, 9])"
            ]
          },
          "metadata": {},
          "execution_count": 13
        }
      ]
    },
    {
      "cell_type": "code",
      "metadata": {
        "colab": {
          "base_uri": "https://localhost:8080/"
        },
        "id": "9LG4_hUhhqyX",
        "outputId": "e1677a58-3081-45a2-b2e6-cbcf0fc54a1a"
      },
      "source": [
        "np.arange(2,10,dtype=float)"
      ],
      "execution_count": 14,
      "outputs": [
        {
          "output_type": "execute_result",
          "data": {
            "text/plain": [
              "array([2., 3., 4., 5., 6., 7., 8., 9.])"
            ]
          },
          "metadata": {},
          "execution_count": 14
        }
      ]
    },
    {
      "cell_type": "code",
      "metadata": {
        "colab": {
          "base_uri": "https://localhost:8080/"
        },
        "id": "KE3TtBL3hx3u",
        "outputId": "46f9e92d-344f-4704-fcce-9d9ebc887735"
      },
      "source": [
        "np.arange(2,3,0.1)"
      ],
      "execution_count": 15,
      "outputs": [
        {
          "output_type": "execute_result",
          "data": {
            "text/plain": [
              "array([2. , 2.1, 2.2, 2.3, 2.4, 2.5, 2.6, 2.7, 2.8, 2.9])"
            ]
          },
          "metadata": {},
          "execution_count": 15
        }
      ]
    },
    {
      "cell_type": "code",
      "metadata": {
        "colab": {
          "base_uri": "https://localhost:8080/"
        },
        "id": "TJoh95aDh3fK",
        "outputId": "04a92dce-6496-4f02-b6ad-09fdfd387c34"
      },
      "source": [
        "np.eye(3)"
      ],
      "execution_count": 16,
      "outputs": [
        {
          "output_type": "execute_result",
          "data": {
            "text/plain": [
              "array([[1., 0., 0.],\n",
              "       [0., 1., 0.],\n",
              "       [0., 0., 1.]])"
            ]
          },
          "metadata": {},
          "execution_count": 16
        }
      ]
    },
    {
      "cell_type": "code",
      "metadata": {
        "colab": {
          "base_uri": "https://localhost:8080/"
        },
        "id": "Vda_3APUh9wo",
        "outputId": "afd78f3d-0f13-4171-92e0-94203680244e"
      },
      "source": [
        "np.eye(3,5)"
      ],
      "execution_count": 17,
      "outputs": [
        {
          "output_type": "execute_result",
          "data": {
            "text/plain": [
              "array([[1., 0., 0., 0., 0.],\n",
              "       [0., 1., 0., 0., 0.],\n",
              "       [0., 0., 1., 0., 0.]])"
            ]
          },
          "metadata": {},
          "execution_count": 17
        }
      ]
    },
    {
      "cell_type": "code",
      "metadata": {
        "colab": {
          "base_uri": "https://localhost:8080/"
        },
        "id": "Y_Z-9UBDiCXH",
        "outputId": "2281a092-83d0-4821-9aec-3f1e5b0fd366"
      },
      "source": [
        "np.diag([1,2,3])"
      ],
      "execution_count": 18,
      "outputs": [
        {
          "output_type": "execute_result",
          "data": {
            "text/plain": [
              "array([[1, 0, 0],\n",
              "       [0, 2, 0],\n",
              "       [0, 0, 3]])"
            ]
          },
          "metadata": {},
          "execution_count": 18
        }
      ]
    },
    {
      "cell_type": "code",
      "metadata": {
        "id": "9ZRqV1fpiNWN"
      },
      "source": [
        "from numpy.random import randint, rand, default_rng"
      ],
      "execution_count": 19,
      "outputs": []
    },
    {
      "cell_type": "code",
      "metadata": {
        "colab": {
          "base_uri": "https://localhost:8080/"
        },
        "id": "ybbRoZ0AiiQh",
        "outputId": "4e28a511-1287-42d9-ae24-7e9df12c2591"
      },
      "source": [
        "default_rng(1).random((2,3))"
      ],
      "execution_count": 21,
      "outputs": [
        {
          "output_type": "execute_result",
          "data": {
            "text/plain": [
              "array([[0.51182162, 0.9504637 , 0.14415961],\n",
              "       [0.94864945, 0.31183145, 0.42332645]])"
            ]
          },
          "metadata": {},
          "execution_count": 21
        }
      ]
    },
    {
      "cell_type": "code",
      "metadata": {
        "colab": {
          "base_uri": "https://localhost:8080/"
        },
        "id": "MwDtH3QiiqWC",
        "outputId": "93696ebd-6cb3-44a8-b641-74d8da5d2e86"
      },
      "source": [
        "rand(2,3)"
      ],
      "execution_count": 22,
      "outputs": [
        {
          "output_type": "execute_result",
          "data": {
            "text/plain": [
              "array([[0.10304238, 0.55845586, 0.98984047],\n",
              "       [0.83042012, 0.25046119, 0.34640487]])"
            ]
          },
          "metadata": {},
          "execution_count": 22
        }
      ]
    },
    {
      "cell_type": "code",
      "metadata": {
        "colab": {
          "base_uri": "https://localhost:8080/"
        },
        "id": "LW0TAQTOjQWZ",
        "outputId": "d1a9863d-d713-4912-c0b6-c4e73aa7335a"
      },
      "source": [
        "randint(10)"
      ],
      "execution_count": 25,
      "outputs": [
        {
          "output_type": "execute_result",
          "data": {
            "text/plain": [
              "7"
            ]
          },
          "metadata": {},
          "execution_count": 25
        }
      ]
    },
    {
      "cell_type": "markdown",
      "metadata": {
        "id": "zimyD2k4jcbP"
      },
      "source": [
        "Replicating, joining ormutation existing"
      ]
    },
    {
      "cell_type": "code",
      "metadata": {
        "id": "AabPnL3kjVLj"
      },
      "source": [
        "a=np.array([1,2,3,4,5])"
      ],
      "execution_count": 26,
      "outputs": []
    },
    {
      "cell_type": "code",
      "metadata": {
        "id": "tgCAFfnCjtCH"
      },
      "source": [
        "b=a[:2]"
      ],
      "execution_count": 27,
      "outputs": []
    },
    {
      "cell_type": "code",
      "metadata": {
        "colab": {
          "base_uri": "https://localhost:8080/"
        },
        "id": "VtVBMEapju2x",
        "outputId": "9921272c-7f82-4075-c9e6-c0ead77f8cdf"
      },
      "source": [
        "b"
      ],
      "execution_count": 28,
      "outputs": [
        {
          "output_type": "execute_result",
          "data": {
            "text/plain": [
              "array([1, 2])"
            ]
          },
          "metadata": {},
          "execution_count": 28
        }
      ]
    },
    {
      "cell_type": "code",
      "metadata": {
        "id": "okKdHqJgjvp7"
      },
      "source": [
        "b=b+1"
      ],
      "execution_count": 29,
      "outputs": []
    },
    {
      "cell_type": "code",
      "metadata": {
        "colab": {
          "base_uri": "https://localhost:8080/"
        },
        "id": "P02XkZQrj4o2",
        "outputId": "6a1038e8-0b1e-4e13-ab21-87089adad507"
      },
      "source": [
        "b"
      ],
      "execution_count": 30,
      "outputs": [
        {
          "output_type": "execute_result",
          "data": {
            "text/plain": [
              "array([2, 3])"
            ]
          },
          "metadata": {},
          "execution_count": 30
        }
      ]
    },
    {
      "cell_type": "markdown",
      "metadata": {
        "id": "wp9Q8aJakbAf"
      },
      "source": [
        "Splitting the lines into columns"
      ]
    },
    {
      "cell_type": "code",
      "metadata": {
        "colab": {
          "base_uri": "https://localhost:8080/"
        },
        "id": "iWEWKSlCj5YT",
        "outputId": "d1d78622-e054-4076-d7b7-f963fd108bb8"
      },
      "source": [
        "from io import StringIO\n",
        "data = u\"1, 2, 3\\n4, 5, 6\"\n",
        "np.genfromtxt(StringIO(data),delimiter=\",\")"
      ],
      "execution_count": 32,
      "outputs": [
        {
          "output_type": "execute_result",
          "data": {
            "text/plain": [
              "array([[1., 2., 3.],\n",
              "       [4., 5., 6.]])"
            ]
          },
          "metadata": {},
          "execution_count": 32
        }
      ]
    },
    {
      "cell_type": "code",
      "metadata": {
        "colab": {
          "base_uri": "https://localhost:8080/"
        },
        "id": "ZtUsshO9ktaB",
        "outputId": "e57180d2-c132-4c1d-b2f8-a0da4db8db0e"
      },
      "source": [
        "data=u\"1, abc , 2\\n 3, xxx, 4\"\n",
        "np.genfromtxt(StringIO(data),delimiter=\",\",dtype=\"|U5\")"
      ],
      "execution_count": 35,
      "outputs": [
        {
          "output_type": "execute_result",
          "data": {
            "text/plain": [
              "array([['1', ' abc ', ' 2'],\n",
              "       ['3', ' xxx', ' 4']], dtype='<U5')"
            ]
          },
          "metadata": {},
          "execution_count": 35
        }
      ]
    },
    {
      "cell_type": "code",
      "metadata": {
        "colab": {
          "base_uri": "https://localhost:8080/"
        },
        "id": "hy_DcjQ9lRlS",
        "outputId": "ca98f804-bb09-404b-9863-be98d53f162b"
      },
      "source": [
        "np.genfromtxt(StringIO(data),delimiter=\",\",autostrip=True,dtype=\"|U5\")"
      ],
      "execution_count": 36,
      "outputs": [
        {
          "output_type": "execute_result",
          "data": {
            "text/plain": [
              "array([['1', 'abc', '2'],\n",
              "       ['3', 'xxx', '4']], dtype='<U5')"
            ]
          },
          "metadata": {},
          "execution_count": 36
        }
      ]
    },
    {
      "cell_type": "markdown",
      "metadata": {
        "id": "9ryyp6kynjo3"
      },
      "source": [
        "Mean, median, mode, var, std, percentile"
      ]
    },
    {
      "cell_type": "code",
      "metadata": {
        "id": "Vr-NtRrPlYfN"
      },
      "source": [
        "a=np.array([1,4,3,5,6])"
      ],
      "execution_count": 37,
      "outputs": []
    },
    {
      "cell_type": "code",
      "metadata": {
        "colab": {
          "base_uri": "https://localhost:8080/"
        },
        "id": "A8uZ4uzZnr1C",
        "outputId": "93d1c4f8-7981-49dc-d8fa-07c2fccfd018"
      },
      "source": [
        "a.mean()"
      ],
      "execution_count": 38,
      "outputs": [
        {
          "output_type": "execute_result",
          "data": {
            "text/plain": [
              "3.8"
            ]
          },
          "metadata": {},
          "execution_count": 38
        }
      ]
    },
    {
      "cell_type": "code",
      "metadata": {
        "colab": {
          "base_uri": "https://localhost:8080/"
        },
        "id": "5wghiX5antsg",
        "outputId": "2bc7e4da-67af-423f-96ba-df1c1a064c35"
      },
      "source": [
        "np.median(a)"
      ],
      "execution_count": 40,
      "outputs": [
        {
          "output_type": "execute_result",
          "data": {
            "text/plain": [
              "4.0"
            ]
          },
          "metadata": {},
          "execution_count": 40
        }
      ]
    },
    {
      "cell_type": "code",
      "metadata": {
        "id": "eY7UyJlOnyG5"
      },
      "source": [
        "from scipy import stats"
      ],
      "execution_count": 44,
      "outputs": []
    },
    {
      "cell_type": "code",
      "metadata": {
        "colab": {
          "base_uri": "https://localhost:8080/"
        },
        "id": "-eeG0UaKn5rB",
        "outputId": "f0217ace-2fb7-4494-84e4-3635cd583277"
      },
      "source": [
        "stats.mode(a)"
      ],
      "execution_count": 45,
      "outputs": [
        {
          "output_type": "execute_result",
          "data": {
            "text/plain": [
              "ModeResult(mode=array([1]), count=array([1]))"
            ]
          },
          "metadata": {},
          "execution_count": 45
        }
      ]
    },
    {
      "cell_type": "code",
      "metadata": {
        "colab": {
          "base_uri": "https://localhost:8080/"
        },
        "id": "JZLdVTKuoTSY",
        "outputId": "44251d7f-89a5-4a5a-92ab-8a4706633619"
      },
      "source": [
        "np.var(a)"
      ],
      "execution_count": 46,
      "outputs": [
        {
          "output_type": "execute_result",
          "data": {
            "text/plain": [
              "2.96"
            ]
          },
          "metadata": {},
          "execution_count": 46
        }
      ]
    },
    {
      "cell_type": "code",
      "metadata": {
        "colab": {
          "base_uri": "https://localhost:8080/"
        },
        "id": "t6wvQVAaog4Q",
        "outputId": "9836a9c4-52e8-4a62-fefe-a572136bd004"
      },
      "source": [
        "np.std(a)"
      ],
      "execution_count": 47,
      "outputs": [
        {
          "output_type": "execute_result",
          "data": {
            "text/plain": [
              "1.7204650534085253"
            ]
          },
          "metadata": {},
          "execution_count": 47
        }
      ]
    },
    {
      "cell_type": "code",
      "metadata": {
        "colab": {
          "base_uri": "https://localhost:8080/"
        },
        "id": "XpKdM5U9oj4p",
        "outputId": "2170e464-eede-44b1-e4d6-f2ba864ca670"
      },
      "source": [
        "np.percentile(a,75)"
      ],
      "execution_count": 55,
      "outputs": [
        {
          "output_type": "execute_result",
          "data": {
            "text/plain": [
              "5.0"
            ]
          },
          "metadata": {},
          "execution_count": 55
        }
      ]
    },
    {
      "cell_type": "code",
      "metadata": {
        "id": "uk_oDj0Dot5c"
      },
      "source": [
        ""
      ],
      "execution_count": null,
      "outputs": []
    }
  ]
}